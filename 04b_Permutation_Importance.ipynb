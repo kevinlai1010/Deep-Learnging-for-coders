{
  "nbformat": 4,
  "nbformat_minor": 0,
  "metadata": {
    "colab": {
      "name": "k-fold.ipynb",
      "provenance": []
    },
    "kernelspec": {
      "name": "python3",
      "display_name": "Python 3"
    },
    "accelerator": "GPU"
  },
  "cells": [
    {
      "cell_type": "markdown",
      "metadata": {
        "id": "GWl-5XI0kElY",
        "colab_type": "text"
      },
      "source": [
        "# Notebook 4b: Feature Importance\n",
        "\n",
        "This notebook will show how to use Permutation Importance in fastai tabular. In order to do permutation importance, we need 3 (4 if you have your own test set) sets of data:\n",
        "\n",
        "1. Training set\n",
        "2. Validation set\n",
        "3. Test set (optional)\n",
        "4. Feature Importance test set\n",
        "\n",
        "We want a seperate set than that of what we are training with so there is no inherit biases to our data. The code we will use today is based off of Pak's (on the forums) 1.0 implementation. The original post is [here](https://forums.fast.ai/t/football-transfer-case-as-an-example-of-feature-importance-and-partial-dependence-in-tabular-models/56949)"
      ]
    },
    {
      "cell_type": "markdown",
      "metadata": {
        "id": "cJeDVbIuCBK_",
        "colab_type": "text"
      },
      "source": [
        "First let's get our libraries"
      ]
    },
    {
      "cell_type": "code",
      "metadata": {
        "id": "T1x8_8rEczoL",
        "colab_type": "code",
        "colab": {}
      },
      "source": [
        "!pip3 install torch===1.3.0 torchvision===0.4.1 -f https://download.pytorch.org/whl/torch_stable.html\n",
        "!pip install git+https://github.com/fastai/fastai_dev > /dev/null"
      ],
      "execution_count": 0,
      "outputs": []
    },
    {
      "cell_type": "code",
      "metadata": {
        "id": "2nVPQXt0dETU",
        "colab_type": "code",
        "colab": {}
      },
      "source": [
        "from fastai2.torch_basics import *\n",
        "from fastai2.basics import *\n",
        "from fastai2.tabular.core import *"
      ],
      "execution_count": 0,
      "outputs": []
    },
    {
      "cell_type": "code",
      "metadata": {
        "id": "g8vuRa4sdGEL",
        "colab_type": "code",
        "colab": {}
      },
      "source": [
        "path = untar_data(URLs.ADULT_SAMPLE)\n",
        "df = pd.read_csv(path/'adult.csv')"
      ],
      "execution_count": 0,
      "outputs": []
    },
    {
      "cell_type": "markdown",
      "metadata": {
        "id": "z557jToGCc0V",
        "colab_type": "text"
      },
      "source": [
        "From here we'll split into our three datasets (training and validation will be done in one and use RandomSplitting). In terms of pecentage, we want the test and feature importance sets to be 10% of our data, and the other 80% our training data"
      ]
    },
    {
      "cell_type": "code",
      "metadata": {
        "id": "8Q1Rc6s9Chgk",
        "colab_type": "code",
        "colab": {
          "base_uri": "https://localhost:8080/",
          "height": 34
        },
        "outputId": "b3b8a67f-6bf8-4be1-aa82-44be63817858"
      },
      "source": [
        "len(df) * .8"
      ],
      "execution_count": 5,
      "outputs": [
        {
          "output_type": "execute_result",
          "data": {
            "text/plain": [
              "26048.800000000003"
            ]
          },
          "metadata": {
            "tags": []
          },
          "execution_count": 5
        }
      ]
    },
    {
      "cell_type": "code",
      "metadata": {
        "id": "rlxXpFiBDImn",
        "colab_type": "code",
        "colab": {
          "base_uri": "https://localhost:8080/",
          "height": 34
        },
        "outputId": "a292463d-ef67-4770-c75b-73b81e532465"
      },
      "source": [
        "(len(df) * .1) + 26048"
      ],
      "execution_count": 7,
      "outputs": [
        {
          "output_type": "execute_result",
          "data": {
            "text/plain": [
              "29304.1"
            ]
          },
          "metadata": {
            "tags": []
          },
          "execution_count": 7
        }
      ]
    },
    {
      "cell_type": "code",
      "metadata": {
        "id": "d63iUo8zCiW9",
        "colab_type": "code",
        "colab": {}
      },
      "source": [
        "train_df = df.iloc[:26048]\n",
        "test_df = df.iloc[26048:29304]\n",
        "fi = df.iloc[29304:]"
      ],
      "execution_count": 0,
      "outputs": []
    },
    {
      "cell_type": "markdown",
      "metadata": {
        "id": "nJRj8oe1DRlx",
        "colab_type": "text"
      },
      "source": [
        "Now that we have this, let's train a **full** model"
      ]
    },
    {
      "cell_type": "code",
      "metadata": {
        "id": "UcaIvQ0AdHIv",
        "colab_type": "code",
        "colab": {}
      },
      "source": [
        "cat_names = ['workclass', 'education', 'marital-status', 'occupation', 'relationship', 'race']\n",
        "cont_names = ['age', 'fnlwgt', 'education-num']\n",
        "procs = [Categorify, FillMissing, Normalize]"
      ],
      "execution_count": 0,
      "outputs": []
    },
    {
      "cell_type": "markdown",
      "metadata": {
        "id": "18ZWfEfBpDjF",
        "colab_type": "text"
      },
      "source": [
        "The following code is just to get our `TabularLearner` up and running"
      ]
    },
    {
      "cell_type": "code",
      "metadata": {
        "id": "9yQLlMy_gnPX",
        "colab_type": "code",
        "colab": {}
      },
      "source": [
        "def emb_sz_rule(n_cat): \n",
        "    \"Rule of thumb to pick embedding size corresponding to `n_cat`\"\n",
        "    return min(600, round(1.6 * n_cat**0.56))\n",
        "\n",
        "def _one_emb_sz(classes, n, sz_dict=None):\n",
        "    \"Pick an embedding size for `n` depending on `classes` if not given in `sz_dict`.\"\n",
        "    sz_dict = ifnone(sz_dict, {})\n",
        "    n_cat = len(classes[n])\n",
        "    sz = sz_dict.get(n, int(emb_sz_rule(n_cat)))  # rule of thumb\n",
        "    return n_cat,sz\n",
        "\n",
        "def get_emb_sz(to, sz_dict=None):\n",
        "    \"Get default embedding size from `TabularPreprocessor` `proc` or the ones in `sz_dict`\"\n",
        "    return [_one_emb_sz(to.procs.classes, n, sz_dict) for n in to.cat_names]\n",
        "\n",
        "class TabularModel(Module):\n",
        "    \"Basic model for tabular data.\"\n",
        "    def __init__(self, emb_szs, n_cont, out_sz, layers, ps=None, embed_p=0., y_range=None, use_bn=True, bn_final=False):\n",
        "        ps = ifnone(ps, [0]*len(layers))\n",
        "        if not is_listy(ps): ps = [ps]*len(layers)\n",
        "        self.embeds = nn.ModuleList([Embedding(ni, nf) for ni,nf in emb_szs])\n",
        "        self.emb_drop = nn.Dropout(embed_p)\n",
        "        self.bn_cont = nn.BatchNorm1d(n_cont)\n",
        "        n_emb = sum(e.embedding_dim for e in self.embeds)\n",
        "        self.n_emb,self.n_cont,self.y_range = n_emb,n_cont,y_range\n",
        "        sizes = [n_emb + n_cont] + layers + [out_sz]\n",
        "        actns = [nn.ReLU(inplace=True) for _ in range(len(sizes)-2)] + [None]\n",
        "        _layers = [BnDropLin(sizes[i], sizes[i+1], bn=use_bn and i!=0, p=p, act=a)\n",
        "                       for i,(p,a) in enumerate(zip([0.]+ps,actns))]\n",
        "        if bn_final: _layers.append(nn.BatchNorm1d(sizes[-1]))\n",
        "        self.layers = nn.Sequential(*_layers)\n",
        "    \n",
        "    def forward(self, x_cat, x_cont):\n",
        "        if self.n_emb != 0:\n",
        "            x = [e(x_cat[:,i]) for i,e in enumerate(self.embeds)]\n",
        "            x = torch.cat(x, 1)\n",
        "            x = self.emb_drop(x)\n",
        "        if self.n_cont != 0:\n",
        "            x_cont = self.bn_cont(x_cont)\n",
        "            x = torch.cat([x, x_cont], 1) if self.n_emb != 0 else x_cont\n",
        "        x = self.layers(x)\n",
        "        if self.y_range is not None:\n",
        "            x = (self.y_range[1]-self.y_range[0]) * torch.sigmoid(x) + self.y_range[0]\n",
        "        return x"
      ],
      "execution_count": 0,
      "outputs": []
    },
    {
      "cell_type": "code",
      "metadata": {
        "id": "hGklhaB8iZ5K",
        "colab_type": "code",
        "colab": {}
      },
      "source": [
        "# My own mock version of a `tabular_learner`\n",
        "def tabular_learner(data:DataBunch, layers, emb_szs=None, metrics=None,\n",
        "        ps=None, emb_drop:float=0., y_range=None, use_bn:bool=True, **learn_kwargs):\n",
        "    \"Get a `Learner` using `data`, with `metrics`, including a `TabularModel` created using the remaining params.\"\n",
        "    emb_szs = get_emb_sz(data.train)\n",
        "    model = TabularModel(emb_szs, len(data.cont_names), data.train[data.train.y_names].nunique(), layers=layers)\n",
        "    return Learner(data, model, metrics=metrics, **learn_kwargs)"
      ],
      "execution_count": 0,
      "outputs": []
    },
    {
      "cell_type": "code",
      "metadata": {
        "id": "FKYYW9NODgrl",
        "colab_type": "code",
        "colab": {}
      },
      "source": [
        "splits = RandomSplitter()(range_of(train_df))"
      ],
      "execution_count": 0,
      "outputs": []
    },
    {
      "cell_type": "code",
      "metadata": {
        "id": "JPs6ptQ8eXfN",
        "colab_type": "code",
        "colab": {}
      },
      "source": [
        "to = TabularPandas(train_df, procs, cat_names, cont_names, y_names=\"salary\", splits=splits)\n",
        "data = to.databunch()"
      ],
      "execution_count": 0,
      "outputs": []
    },
    {
      "cell_type": "code",
      "metadata": {
        "id": "3MOOMhawDb17",
        "colab_type": "code",
        "colab": {
          "base_uri": "https://localhost:8080/",
          "height": 102
        },
        "outputId": "8c961558-08c6-4252-da09-c95e8777c57a"
      },
      "source": [
        "learn = tabular_learner(data, layers=[200,100], loss_func=CrossEntropyLossFlat(), metrics=accuracy)\n",
        "learn.fit(5)"
      ],
      "execution_count": 17,
      "outputs": [
        {
          "output_type": "stream",
          "text": [
            "(#5) [0,0.40297701954841614,0.3691259026527405,0.8287579417228699,00:32]\n",
            "(#5) [1,0.3910473585128784,0.3549399971961975,0.8358610272407532,00:32]\n",
            "(#5) [2,0.3940655291080475,0.3611099123954773,0.8398925065994263,00:32]\n",
            "(#5) [3,0.3856392800807953,0.35575807094573975,0.8435400128364563,00:32]\n",
            "(#5) [4,0.3582382798194885,0.3530307114124298,0.8395085334777832,00:32]\n"
          ],
          "name": "stdout"
        }
      ]
    },
    {
      "cell_type": "markdown",
      "metadata": {
        "id": "X85F6NK-DsB9",
        "colab_type": "text"
      },
      "source": [
        "Now that the model is trained, let's do permutation importance. But what is it? And how will it work? \n",
        "\n",
        "We train a full model and then shuffle the input columns and measure the change in accuracy afterwards. This will give us a tangeable viewing of how each variable in our tabular model affects the output (and how much it was needed)"
      ]
    },
    {
      "cell_type": "markdown",
      "metadata": {
        "id": "cyszhirJEF9W",
        "colab_type": "text"
      },
      "source": [
        "Here is the code:"
      ]
    },
    {
      "cell_type": "code",
      "metadata": {
        "id": "lDTgShhJEHBR",
        "colab_type": "code",
        "colab": {}
      },
      "source": [
        "class CalcPermutationImportance():\n",
        "  def __init__(self, df:pd.DataFrame, learn:Learner, rounds:int):\n",
        "    self.df, self.learn, self.rounds = df, learn, rounds\n",
        "    dbunch = learn.dbunch\n",
        "    self.procs = dbunch.procs\n",
        "    self.cats, self.conts = dbunch.cat_names, dbunch.cont_names\n",
        "    self.cats = self.cats.filter(lambda x: '_na' not in x)\n",
        "    self.y = dbunch.y_names\n",
        "    self.results = self.calc_feat_importance()\n",
        "    self.plot_importance(self.ord_dic_to_df(self.results))\n",
        "    \n",
        "  def calc_feat_importance(self):\n",
        "    to_test = TabDataLoader(TabularPandas(self.df, self.procs, self.cats.copy(), self.conts, self.y))\n",
        "    base_error = self.learn.validate(dl=to_test)[1]\n",
        "    self.importance = {}\n",
        "    pbar = master_bar(self.cats + self.conts, total=len(self.cats + self.conts))\n",
        "    for col in pbar:\n",
        "      self.importance[col] = self.calc_error(col)\n",
        "      _ = progress_bar(range(1), display=False, parent=pbar)\n",
        "      \n",
        "    for key, value in self.importance.items():\n",
        "        self.importance[key] = (value - base_error)/base_error\n",
        "    return collections.OrderedDict(sorted(self.importance.items(), key=lambda kv: kv[1], reverse=True))\n",
        "  \n",
        "  def calc_error(self, sample_col:Str):\n",
        "    df_temp = pd.concat([self.df]*self.rounds, ignore_index=True).copy()\n",
        "    \n",
        "    df_temp[sample_col] = np.random.permutation(df_temp[sample_col].values)\n",
        "    to_test = TabDataLoader(TabularPandas(df_temp, self.procs, self.cats.copy(), self.conts, self.y))\n",
        "    return self.learn.validate(dl=to_test)[1]\n",
        "  \n",
        "  def ord_dic_to_df(self, ord_dict:OrderedDict)->pd.DataFrame:\n",
        "      return pd.DataFrame([[k, v] for k, v in ord_dict.items()], columns=['feature', 'importance'])\n",
        "    \n",
        "  def plot_importance(self, df:pd.DataFrame, limit=20, asc=False):\n",
        "    df_copy = df.copy()\n",
        "    df_copy['feature'] = df_copy['feature'].str.slice(0,25)\n",
        "    ax = df_copy.sort_values(by='importance', ascending=asc)[:limit].sort_values(by='importance', ascending=not(asc)).plot.barh(x=\"feature\", y=\"importance\", sort_columns=True, figsize=(10, 10))\n",
        "    for p in ax.patches:\n",
        "        ax.annotate(f'{p.get_width():.4f}', ((p.get_width() * 1.005), p.get_y()  * 1.005))"
      ],
      "execution_count": 0,
      "outputs": []
    },
    {
      "cell_type": "markdown",
      "metadata": {
        "id": "k56Gr-pKEIJa",
        "colab_type": "text"
      },
      "source": [
        "In order to use this, we simply call`CalcPermutationImportance` and pass in our `fi` dataframe, our Learner, and how many rounds each variable will go through. For this example we will do five rounds. At the end a graph will be plotted showing the relative change for each variable"
      ]
    },
    {
      "cell_type": "code",
      "metadata": {
        "id": "knrlANWxES8g",
        "colab_type": "code",
        "colab": {
          "base_uri": "https://localhost:8080/",
          "height": 592
        },
        "outputId": "c032a008-d2d3-4b29-bbea-a05435c4a8ec"
      },
      "source": [
        "res = CalcPermutationImportance(fi, learn, 5)"
      ],
      "execution_count": 21,
      "outputs": [
        {
          "output_type": "display_data",
          "data": {
            "text/html": [
              ""
            ],
            "text/plain": [
              "<IPython.core.display.HTML object>"
            ]
          },
          "metadata": {
            "tags": []
          }
        },
        {
          "output_type": "display_data",
          "data": {
            "image/png": "[encoded data removed]",
            "text/plain": [
              "<Figure size 720x720 with 1 Axes>"
            ]
          },
          "metadata": {
            "tags": []
          }
        }
      ]
    },
    {
      "cell_type": "markdown",
      "metadata": {
        "id": "i6ETOIFsEaA4",
        "colab_type": "text"
      },
      "source": [
        "To see the raw results, call `res.results`"
      ]
    },
    {
      "cell_type": "code",
      "metadata": {
        "id": "lmlWOCdyEb_E",
        "colab_type": "code",
        "colab": {
          "base_uri": "https://localhost:8080/",
          "height": 170
        },
        "outputId": "1e27fb7c-a5ba-43ce-a19e-3fce5fa72542"
      },
      "source": [
        "res.results"
      ],
      "execution_count": 22,
      "outputs": [
        {
          "output_type": "execute_result",
          "data": {
            "text/plain": [
              "OrderedDict([('occupation', -7.58559552853447e-05),\n",
              "             ('fnlwgt', -0.0016691992490702307),\n",
              "             ('workclass', -0.002124408627340828),\n",
              "             ('race', -0.0028072595180259896),\n",
              "             ('relationship', -0.005842160548466542),\n",
              "             ('age', -0.020030317342284238),\n",
              "             ('education-num', -0.026479546472709125),\n",
              "             ('education', -0.039757210863427095),\n",
              "             ('marital-status', -0.0450683060783377)])"
            ]
          },
          "metadata": {
            "tags": []
          },
          "execution_count": 22
        }
      ]
    },
    {
      "cell_type": "markdown",
      "metadata": {
        "id": "xItvU9-hEzxt",
        "colab_type": "text"
      },
      "source": [
        "To read this, the first (highest) value in the list is the most influential feature in the dataset, and the last (lowest) being the least.\n",
        "\n",
        "Here, 'occupation' was the most influential and 'marital-status' was the least.\n",
        "\n",
        "Thanks for reading!"
      ]
    }
  ]
}