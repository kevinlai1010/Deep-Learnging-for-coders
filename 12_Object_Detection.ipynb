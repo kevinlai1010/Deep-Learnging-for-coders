{
  "nbformat": 4,
  "nbformat_minor": 0,
  "metadata": {
    "colab": {
      "name": "12_Object_Detection.ipynb",
      "provenance": [],
      "collapsed_sections": []
    },
    "kernelspec": {
      "name": "python3",
      "display_name": "Python 3"
    },
    "accelerator": "GPU"
  },
  "cells": [
    {
      "cell_type": "markdown",
      "metadata": {
        "id": "1KXvZzVKnQSD",
        "colab_type": "text"
      },
      "source": [
        "# Object Detection\n",
        "\n",
        "This notebook will go over how to do object detection in fastai 2.0. We will use the Retina-Net architecture and the `COCO_TINY` dataset. First let's install the library as usual"
      ]
    },
    {
      "cell_type": "code",
      "metadata": {
        "id": "ppvtq81qnqI2",
        "colab_type": "code",
        "colab": {}
      },
      "source": [
        "import os"
      ],
      "execution_count": 0,
      "outputs": []
    },
    {
      "cell_type": "code",
      "metadata": {
        "id": "d6IF3HecnNpd",
        "colab_type": "code",
        "colab": {}
      },
      "source": [
        "!pip install torch torchvision feather-format kornia pyarrow Pillow wandb --upgrade \n",
        "!pip install git+https://github.com/fastai/fastai_dev\n",
        "os._exit(00)"
      ],
      "execution_count": 0,
      "outputs": []
    },
    {
      "cell_type": "markdown",
      "metadata": {
        "id": "GAKo3IqKn216",
        "colab_type": "text"
      },
      "source": [
        "Now let's grab our vision imports. Along with this I have prepared an import for object detection (specifically Single-Shot-Detection with RetinaNet) on my repo. The below code will import what you need"
      ]
    },
    {
      "cell_type": "code",
      "metadata": {
        "id": "igVCaxvZnsNy",
        "colab_type": "code",
        "colab": {}
      },
      "source": [
        "from fastai2.basics import *\n",
        "from fastai2.vision.all import *\n",
        "from fastai2.callback.all import *"
      ],
      "execution_count": 0,
      "outputs": []
    },
    {
      "cell_type": "code",
      "metadata": {
        "id": "OcRdAPIAqAh6",
        "colab_type": "code",
        "colab": {}
      },
      "source": [
        "!git clone https://github.com/muellerzr/Practical-Deep-Learning-for-Coders-2.0.git\n",
        "%cd \"Practical-Deep-Learning-for-Coders-2.0\"\n",
        "from imports.object_detection import *"
      ],
      "execution_count": 0,
      "outputs": []
    },
    {
      "cell_type": "markdown",
      "metadata": {
        "id": "fTh5MLyFoADs",
        "colab_type": "text"
      },
      "source": [
        "And grab our data"
      ]
    },
    {
      "cell_type": "code",
      "metadata": {
        "id": "H4TgjMpSn9ze",
        "colab_type": "code",
        "colab": {}
      },
      "source": [
        "coco_source = untar_data(URLs.COCO_TINY)"
      ],
      "execution_count": 0,
      "outputs": []
    },
    {
      "cell_type": "markdown",
      "metadata": {
        "id": "ZK-mr4rnoNNN",
        "colab_type": "text"
      },
      "source": [
        "If we look, we can find that our labels in a `json` are in `train.json`, and our images in `train`"
      ]
    },
    {
      "cell_type": "code",
      "metadata": {
        "id": "KGRSHWKqoJuk",
        "colab_type": "code",
        "outputId": "c8f523d8-7cf8-407e-9acd-b3186020116f",
        "colab": {
          "base_uri": "https://localhost:8080/",
          "height": 35
        }
      },
      "source": [
        "coco_source.ls()"
      ],
      "execution_count": 5,
      "outputs": [
        {
          "output_type": "execute_result",
          "data": {
            "text/plain": [
              "(#2) [/root/.fastai/data/coco_tiny/train,/root/.fastai/data/coco_tiny/train.json]"
            ]
          },
          "metadata": {
            "tags": []
          },
          "execution_count": 5
        }
      ]
    },
    {
      "cell_type": "markdown",
      "metadata": {
        "id": "G2krdnULocvY",
        "colab_type": "text"
      },
      "source": [
        "The library has a `get_annotations` function, which we can use to grab our images and the corresponding bounding boxes, \"Open a COCO style json in `fname` and returns the lists of filenames (with maybe `prefix`) and labelled bboxes.\""
      ]
    },
    {
      "cell_type": "code",
      "metadata": {
        "id": "8gAfnmCJoR8G",
        "colab_type": "code",
        "colab": {}
      },
      "source": [
        "imgs, lbl_bbox = get_annotations(coco_source/'train.json')"
      ],
      "execution_count": 0,
      "outputs": []
    },
    {
      "cell_type": "code",
      "metadata": {
        "id": "aI4R00eLoi1w",
        "colab_type": "code",
        "outputId": "20a759d1-21d8-4130-e8dd-ad3149553af6",
        "colab": {
          "base_uri": "https://localhost:8080/",
          "height": 35
        }
      },
      "source": [
        "imgs[:1]"
      ],
      "execution_count": 7,
      "outputs": [
        {
          "output_type": "execute_result",
          "data": {
            "text/plain": [
              "['000000542959.jpg']"
            ]
          },
          "metadata": {
            "tags": []
          },
          "execution_count": 7
        }
      ]
    },
    {
      "cell_type": "code",
      "metadata": {
        "id": "qSONAJs5orHE",
        "colab_type": "code",
        "outputId": "f01af178-ba85-4aa6-b8ff-d9e0c398c2a8",
        "colab": {
          "base_uri": "https://localhost:8080/",
          "height": 145
        }
      },
      "source": [
        "lbl_bbox[:1]"
      ],
      "execution_count": 8,
      "outputs": [
        {
          "output_type": "execute_result",
          "data": {
            "text/plain": [
              "[([[32.52, 86.34, 41.050000000000004, 95.75],\n",
              "   [98.12, 110.52, 100.07000000000001, 114.59],\n",
              "   [91.28, 51.62, 95.23, 57.339999999999996],\n",
              "   [110.48, 110.82, 125.03, 126.03999999999999],\n",
              "   [96.63, 50.18, 115.3, 63.64],\n",
              "   [0.69, 111.73, 12.49, 124.79]],\n",
              "  ['chair', 'vase', 'vase', 'chair', 'chair', 'chair'])]"
            ]
          },
          "metadata": {
            "tags": []
          },
          "execution_count": 8
        }
      ]
    },
    {
      "cell_type": "markdown",
      "metadata": {
        "id": "I6kWYkiDoyZT",
        "colab_type": "text"
      },
      "source": [
        "The last thing we need to do is make a dictionary of our images to their corresponding labels"
      ]
    },
    {
      "cell_type": "code",
      "metadata": {
        "id": "348y1anaouFg",
        "colab_type": "code",
        "colab": {}
      },
      "source": [
        "img2bbox = dict(zip(imgs, lbl_bbox))"
      ],
      "execution_count": 0,
      "outputs": []
    },
    {
      "cell_type": "code",
      "metadata": {
        "id": "1HmbuyFIpBAb",
        "colab_type": "code",
        "outputId": "0d1afd48-0014-405a-bb77-6cb6b520b1fe",
        "colab": {
          "base_uri": "https://localhost:8080/",
          "height": 145
        }
      },
      "source": [
        "first = {k: img2bbox[k] for k in list(img2bbox)[:1]}; first"
      ],
      "execution_count": 10,
      "outputs": [
        {
          "output_type": "execute_result",
          "data": {
            "text/plain": [
              "{'000000542959.jpg': ([[32.52, 86.34, 41.050000000000004, 95.75],\n",
              "   [98.12, 110.52, 100.07000000000001, 114.59],\n",
              "   [91.28, 51.62, 95.23, 57.339999999999996],\n",
              "   [110.48, 110.82, 125.03, 126.03999999999999],\n",
              "   [96.63, 50.18, 115.3, 63.64],\n",
              "   [0.69, 111.73, 12.49, 124.79]],\n",
              "  ['chair', 'vase', 'vase', 'chair', 'chair', 'chair'])}"
            ]
          },
          "metadata": {
            "tags": []
          },
          "execution_count": 10
        }
      ]
    },
    {
      "cell_type": "markdown",
      "metadata": {
        "id": "ZFwI_zvYpRaO",
        "colab_type": "text"
      },
      "source": [
        "Next bit is to make our `DataBlock`. As we are doing Bounding Boxes, we will have **three** blocks, an `ImageBlock`, `BBoxBlock`, and a `BBoxLblBlock`. The last two are for our output bounding boxes."
      ]
    },
    {
      "cell_type": "markdown",
      "metadata": {
        "id": "gmmOh94eqsVe",
        "colab_type": "text"
      },
      "source": [
        "We will also need a getter. `noop` is a function that will do nothing. We will also need to grab the first and second part of a particular name and bounding box coordinates from our img2bbox function, and declare our number of inputs (which is 1)\n"
      ]
    },
    {
      "cell_type": "code",
      "metadata": {
        "id": "93THdfTWqvZK",
        "colab_type": "code",
        "colab": {}
      },
      "source": [
        "getters = [noop, lambda o: img2bbox[o.name][0],  lambda o: img2bbox[o.name][1]]"
      ],
      "execution_count": 0,
      "outputs": []
    },
    {
      "cell_type": "code",
      "metadata": {
        "id": "M7dk0P3Vo5pz",
        "colab_type": "code",
        "colab": {}
      },
      "source": [
        "coco = DataBlock(blocks=(ImageBlock, BBoxBlock, BBoxLblBlock),\n",
        "                 get_items = get_image_files,\n",
        "                 splitter=RandomSplitter(),\n",
        "                 getters=getters,\n",
        "                 n_inp=1)"
      ],
      "execution_count": 0,
      "outputs": []
    },
    {
      "cell_type": "code",
      "metadata": {
        "id": "2tJDpUGorgSM",
        "colab_type": "code",
        "colab": {}
      },
      "source": [
        "dbunch = coco.databunch(coco_source, item_tfms=Resize(128),\n",
        "                        batch_tfms=aug_transforms())"
      ],
      "execution_count": 0,
      "outputs": []
    },
    {
      "cell_type": "code",
      "metadata": {
        "id": "yTlhjWZBJc4B",
        "colab_type": "code",
        "outputId": "834b6d8e-bd6b-4fca-b2ac-7908587a37f3",
        "colab": {
          "base_uri": "https://localhost:8080/",
          "height": 35
        }
      },
      "source": [
        "dbunch.bs"
      ],
      "execution_count": 14,
      "outputs": [
        {
          "output_type": "execute_result",
          "data": {
            "text/plain": [
              "16"
            ]
          },
          "metadata": {
            "tags": []
          },
          "execution_count": 14
        }
      ]
    },
    {
      "cell_type": "code",
      "metadata": {
        "id": "7vGp3r84ro0e",
        "colab_type": "code",
        "outputId": "7b1fe33d-486b-4d7f-acde-6789177cf46a",
        "colab": {
          "base_uri": "https://localhost:8080/",
          "height": 357
        }
      },
      "source": [
        "dbunch.show_batch(max_n=2)"
      ],
      "execution_count": 15,
      "outputs": [
        {
          "output_type": "display_data",
          "data": {
            "image/png": "[encoded data removed]",
            "text/plain": [
              "<Figure size 216x432 with 2 Axes>"
            ]
          },
          "metadata": {
            "tags": []
          }
        }
      ]
    },
    {
      "cell_type": "markdown",
      "metadata": {
        "id": "XrLAun4GGMNO",
        "colab_type": "text"
      },
      "source": [
        "# Model"
      ]
    },
    {
      "cell_type": "markdown",
      "metadata": {
        "id": "0C5vh3aJEWd2",
        "colab_type": "text"
      },
      "source": [
        "Now let's get to our architecture. For this we will use a pretrained resnet34 and apply a custom head (through a call to RetinaNet) on top to do our bounding boxes"
      ]
    },
    {
      "cell_type": "code",
      "metadata": {
        "id": "AOT4GeuGInCJ",
        "colab_type": "code",
        "colab": {}
      },
      "source": [
        "arch = resnet34"
      ],
      "execution_count": 0,
      "outputs": []
    },
    {
      "cell_type": "markdown",
      "metadata": {
        "id": "74pEXv3MElfB",
        "colab_type": "text"
      },
      "source": [
        "Let's cut off the head of our model so we can apply our new head"
      ]
    },
    {
      "cell_type": "code",
      "metadata": {
        "colab_type": "code",
        "id": "IFJ2dI4GqsxF",
        "colab": {}
      },
      "source": [
        "encoder = create_body(arch, cut=-2)"
      ],
      "execution_count": 0,
      "outputs": []
    },
    {
      "cell_type": "markdown",
      "metadata": {
        "id": "uLQlRD2DEo3E",
        "colab_type": "text"
      },
      "source": [
        "Lastly we need to call `RetinaNet` to grab our architecture. We need to pass in our encoder, how many classes we have (we can use `get_c` to grab the number of classes) and what we want our bias to be on the last convolutional layer (how we initialize it). Jeremy has a -4 so let's do that!"
      ]
    },
    {
      "cell_type": "code",
      "metadata": {
        "id": "AokXj93USj6t",
        "colab_type": "code",
        "colab": {}
      },
      "source": [
        "model = RetinaNet(encoder, get_c(dbunch), final_bias=-4)"
      ],
      "execution_count": 0,
      "outputs": []
    },
    {
      "cell_type": "markdown",
      "metadata": {
        "id": "05aOnNZaGyMp",
        "colab_type": "text"
      },
      "source": [
        "The main difference between `RetinaNet` and our regular model is (mostly) how the head looks. Instead of our regular head where it is a bunch of Linear layers with Pooling like so:"
      ]
    },
    {
      "cell_type": "code",
      "metadata": {
        "id": "gOKfvb9hG5Fv",
        "colab_type": "code",
        "colab": {
          "base_uri": "https://localhost:8080/",
          "height": 254
        },
        "outputId": "9bb4159d-ad2f-433b-a8b7-67a90704d8c9"
      },
      "source": [
        "create_head(124, 4)"
      ],
      "execution_count": 42,
      "outputs": [
        {
          "output_type": "execute_result",
          "data": {
            "text/plain": [
              "Sequential(\n",
              "  (0): AdaptiveConcatPool2d(\n",
              "    (ap): AdaptiveAvgPool2d(output_size=1)\n",
              "    (mp): AdaptiveMaxPool2d(output_size=1)\n",
              "  )\n",
              "  (1): Flatten()\n",
              "  (2): Dropout(p=0.25, inplace=False)\n",
              "  (3): Linear(in_features=124, out_features=512, bias=False)\n",
              "  (4): ReLU(inplace=True)\n",
              "  (5): BatchNorm1d(512, eps=1e-05, momentum=0.1, affine=True, track_running_stats=True)\n",
              "  (6): Dropout(p=0.5, inplace=False)\n",
              "  (7): Linear(in_features=512, out_features=4, bias=True)\n",
              ")"
            ]
          },
          "metadata": {
            "tags": []
          },
          "execution_count": 42
        }
      ]
    },
    {
      "cell_type": "markdown",
      "metadata": {
        "id": "wXQ2RQt4HJHl",
        "colab_type": "text"
      },
      "source": [
        "We will use a head which consistes a smoother, a classifier, and a box_regressor (to get our box points)"
      ]
    },
    {
      "cell_type": "code",
      "metadata": {
        "id": "Y4aoY9pdHC2r",
        "colab_type": "code",
        "colab": {
          "base_uri": "https://localhost:8080/",
          "height": 108
        },
        "outputId": "275e091b-f217-4755-c408-e6a2aeca46f3"
      },
      "source": [
        "model.smoothers"
      ],
      "execution_count": 45,
      "outputs": [
        {
          "output_type": "execute_result",
          "data": {
            "text/plain": [
              "ModuleList(\n",
              "  (0): Conv2d(256, 256, kernel_size=(3, 3), stride=(1, 1), padding=(1, 1))\n",
              "  (1): Conv2d(256, 256, kernel_size=(3, 3), stride=(1, 1), padding=(1, 1))\n",
              "  (2): Conv2d(256, 256, kernel_size=(3, 3), stride=(1, 1), padding=(1, 1))\n",
              ")"
            ]
          },
          "metadata": {
            "tags": []
          },
          "execution_count": 45
        }
      ]
    },
    {
      "cell_type": "code",
      "metadata": {
        "id": "foPVB5dFHfBT",
        "colab_type": "code",
        "colab": {
          "base_uri": "https://localhost:8080/",
          "height": 363
        },
        "outputId": "562f3d31-0031-4d69-b3b9-648b4d566f26"
      },
      "source": [
        "model.classifier"
      ],
      "execution_count": 46,
      "outputs": [
        {
          "output_type": "execute_result",
          "data": {
            "text/plain": [
              "Sequential(\n",
              "  (0): ConvLayer(\n",
              "    (0): Conv2d(256, 256, kernel_size=(3, 3), stride=(1, 1), padding=(1, 1))\n",
              "    (1): ReLU()\n",
              "  )\n",
              "  (1): ConvLayer(\n",
              "    (0): Conv2d(256, 256, kernel_size=(3, 3), stride=(1, 1), padding=(1, 1))\n",
              "    (1): ReLU()\n",
              "  )\n",
              "  (2): ConvLayer(\n",
              "    (0): Conv2d(256, 256, kernel_size=(3, 3), stride=(1, 1), padding=(1, 1))\n",
              "    (1): ReLU()\n",
              "  )\n",
              "  (3): ConvLayer(\n",
              "    (0): Conv2d(256, 256, kernel_size=(3, 3), stride=(1, 1), padding=(1, 1))\n",
              "    (1): ReLU()\n",
              "  )\n",
              "  (4): Conv2d(256, 63, kernel_size=(3, 3), stride=(1, 1), padding=(1, 1))\n",
              ")"
            ]
          },
          "metadata": {
            "tags": []
          },
          "execution_count": 46
        }
      ]
    },
    {
      "cell_type": "code",
      "metadata": {
        "id": "GHrtCuNWHgdo",
        "colab_type": "code",
        "colab": {
          "base_uri": "https://localhost:8080/",
          "height": 363
        },
        "outputId": "5f93ea27-99e1-4f12-d34f-fc863dde29ce"
      },
      "source": [
        "model.box_regressor"
      ],
      "execution_count": 47,
      "outputs": [
        {
          "output_type": "execute_result",
          "data": {
            "text/plain": [
              "Sequential(\n",
              "  (0): ConvLayer(\n",
              "    (0): Conv2d(256, 256, kernel_size=(3, 3), stride=(1, 1), padding=(1, 1))\n",
              "    (1): ReLU()\n",
              "  )\n",
              "  (1): ConvLayer(\n",
              "    (0): Conv2d(256, 256, kernel_size=(3, 3), stride=(1, 1), padding=(1, 1))\n",
              "    (1): ReLU()\n",
              "  )\n",
              "  (2): ConvLayer(\n",
              "    (0): Conv2d(256, 256, kernel_size=(3, 3), stride=(1, 1), padding=(1, 1))\n",
              "    (1): ReLU()\n",
              "  )\n",
              "  (3): ConvLayer(\n",
              "    (0): Conv2d(256, 256, kernel_size=(3, 3), stride=(1, 1), padding=(1, 1))\n",
              "    (1): ReLU()\n",
              "  )\n",
              "  (4): Conv2d(256, 36, kernel_size=(3, 3), stride=(1, 1), padding=(1, 1))\n",
              ")"
            ]
          },
          "metadata": {
            "tags": []
          },
          "execution_count": 47
        }
      ]
    },
    {
      "cell_type": "markdown",
      "metadata": {
        "id": "VuyC6mwdF4xx",
        "colab_type": "text"
      },
      "source": [
        "Now we can move onto our loss function. For `RetinaNet` to work, we need to define what the aspect ratio's and scales of our image should be. The paper used `[1,2**(1/3), 2**(2/3)]`, but they also used an image size of 600 pixels, so even the largest feature map (box) gave anchors that covered less than the image. But for us it would go over. As such we will use -1/3 and -2/3 instead. We will need these for inference later!"
      ]
    },
    {
      "cell_type": "code",
      "metadata": {
        "id": "nI7OF9OtyTV2",
        "colab_type": "code",
        "colab": {}
      },
      "source": [
        "ratios = [1/2,1,2]\n",
        "scales = [1,2**(-1/3), 2**(-2/3)] "
      ],
      "execution_count": 0,
      "outputs": []
    },
    {
      "cell_type": "markdown",
      "metadata": {
        "id": "PoUGTJISGaeh",
        "colab_type": "text"
      },
      "source": [
        "Let's generate our loss function, which is `RetinaNetFocalLoss`"
      ]
    },
    {
      "cell_type": "code",
      "metadata": {
        "id": "NZQ0E80ZSrzd",
        "colab_type": "code",
        "colab": {}
      },
      "source": [
        "crit = RetinaNetFocalLoss(scales=scales, ratios=ratios)"
      ],
      "execution_count": 0,
      "outputs": []
    },
    {
      "cell_type": "markdown",
      "metadata": {
        "id": "zPmH_KZBGiv4",
        "colab_type": "text"
      },
      "source": [
        "Now let's make our `Learner`! "
      ]
    },
    {
      "cell_type": "code",
      "metadata": {
        "id": "tgqHHB3uSz7m",
        "colab_type": "code",
        "colab": {}
      },
      "source": [
        "learn = Learner(dbunch, model, loss_func=crit)"
      ],
      "execution_count": 0,
      "outputs": []
    },
    {
      "cell_type": "markdown",
      "metadata": {
        "id": "RkdBA16SGryt",
        "colab_type": "text"
      },
      "source": [
        "As we are using a pre-trained backbone (our resnet34) we want to freeze our layers. (`cnn_learner` will do this automatically)"
      ]
    },
    {
      "cell_type": "code",
      "metadata": {
        "id": "iEaAiHgqzGKT",
        "colab_type": "code",
        "colab": {}
      },
      "source": [
        "learn.freeze()"
      ],
      "execution_count": 0,
      "outputs": []
    },
    {
      "cell_type": "markdown",
      "metadata": {
        "id": "RGYw7KsSHlfa",
        "colab_type": "text"
      },
      "source": [
        "Let's find that learning rate and train!"
      ]
    },
    {
      "cell_type": "code",
      "metadata": {
        "id": "6WAuzuxrS6pe",
        "colab_type": "code",
        "outputId": "69544292-c594-43d0-c91c-b7d6cc21bfe3",
        "colab": {
          "base_uri": "https://localhost:8080/",
          "height": 283
        }
      },
      "source": [
        "learn.lr_find()"
      ],
      "execution_count": 63,
      "outputs": [
        {
          "output_type": "display_data",
          "data": {
            "text/html": [
              ""
            ],
            "text/plain": [
              "<IPython.core.display.HTML object>"
            ]
          },
          "metadata": {
            "tags": []
          }
        },
        {
          "output_type": "display_data",
          "data": {
            "image/png": "[encoded data removed]",
            "text/plain": [
              "<Figure size 432x288 with 1 Axes>"
            ]
          },
          "metadata": {
            "tags": []
          }
        }
      ]
    },
    {
      "cell_type": "code",
      "metadata": {
        "id": "aCXE_BtaTBI3",
        "colab_type": "code",
        "outputId": "7682f1cb-3021-4b35-c3b8-3a469da21e65",
        "colab": {
          "base_uri": "https://localhost:8080/",
          "height": 648
        }
      },
      "source": [
        "learn.fit_one_cycle(20, slice(9e-5, 7e-5))"
      ],
      "execution_count": 64,
      "outputs": [
        {
          "output_type": "display_data",
          "data": {
            "text/html": [
              "<table border=\"1\" class=\"dataframe\">\n",
              "  <thead>\n",
              "    <tr style=\"text-align: left;\">\n",
              "      <th>epoch</th>\n",
              "      <th>train_loss</th>\n",
              "      <th>valid_loss</th>\n",
              "      <th>time</th>\n",
              "    </tr>\n",
              "  </thead>\n",
              "  <tbody>\n",
              "    <tr>\n",
              "      <td>0</td>\n",
              "      <td>3.184801</td>\n",
              "      <td>3.163619</td>\n",
              "      <td>00:02</td>\n",
              "    </tr>\n",
              "    <tr>\n",
              "      <td>1</td>\n",
              "      <td>3.039300</td>\n",
              "      <td>2.924439</td>\n",
              "      <td>00:02</td>\n",
              "    </tr>\n",
              "    <tr>\n",
              "      <td>2</td>\n",
              "      <td>2.997916</td>\n",
              "      <td>2.813874</td>\n",
              "      <td>00:02</td>\n",
              "    </tr>\n",
              "    <tr>\n",
              "      <td>3</td>\n",
              "      <td>2.896903</td>\n",
              "      <td>3.916539</td>\n",
              "      <td>00:02</td>\n",
              "    </tr>\n",
              "    <tr>\n",
              "      <td>4</td>\n",
              "      <td>2.800470</td>\n",
              "      <td>3.011235</td>\n",
              "      <td>00:02</td>\n",
              "    </tr>\n",
              "    <tr>\n",
              "      <td>5</td>\n",
              "      <td>2.725802</td>\n",
              "      <td>2.610097</td>\n",
              "      <td>00:02</td>\n",
              "    </tr>\n",
              "    <tr>\n",
              "      <td>6</td>\n",
              "      <td>2.641438</td>\n",
              "      <td>2.646170</td>\n",
              "      <td>00:02</td>\n",
              "    </tr>\n",
              "    <tr>\n",
              "      <td>7</td>\n",
              "      <td>2.560639</td>\n",
              "      <td>2.988424</td>\n",
              "      <td>00:02</td>\n",
              "    </tr>\n",
              "    <tr>\n",
              "      <td>8</td>\n",
              "      <td>2.481499</td>\n",
              "      <td>2.701625</td>\n",
              "      <td>00:02</td>\n",
              "    </tr>\n",
              "    <tr>\n",
              "      <td>9</td>\n",
              "      <td>2.425536</td>\n",
              "      <td>2.533309</td>\n",
              "      <td>00:02</td>\n",
              "    </tr>\n",
              "    <tr>\n",
              "      <td>10</td>\n",
              "      <td>2.357181</td>\n",
              "      <td>2.528368</td>\n",
              "      <td>00:02</td>\n",
              "    </tr>\n",
              "    <tr>\n",
              "      <td>11</td>\n",
              "      <td>2.294427</td>\n",
              "      <td>2.600548</td>\n",
              "      <td>00:02</td>\n",
              "    </tr>\n",
              "    <tr>\n",
              "      <td>12</td>\n",
              "      <td>2.248422</td>\n",
              "      <td>2.559762</td>\n",
              "      <td>00:02</td>\n",
              "    </tr>\n",
              "    <tr>\n",
              "      <td>13</td>\n",
              "      <td>2.187057</td>\n",
              "      <td>2.652507</td>\n",
              "      <td>00:02</td>\n",
              "    </tr>\n",
              "    <tr>\n",
              "      <td>14</td>\n",
              "      <td>2.124974</td>\n",
              "      <td>2.564268</td>\n",
              "      <td>00:02</td>\n",
              "    </tr>\n",
              "    <tr>\n",
              "      <td>15</td>\n",
              "      <td>2.072789</td>\n",
              "      <td>2.602689</td>\n",
              "      <td>00:02</td>\n",
              "    </tr>\n",
              "    <tr>\n",
              "      <td>16</td>\n",
              "      <td>2.038563</td>\n",
              "      <td>2.548966</td>\n",
              "      <td>00:02</td>\n",
              "    </tr>\n",
              "    <tr>\n",
              "      <td>17</td>\n",
              "      <td>1.996829</td>\n",
              "      <td>2.522956</td>\n",
              "      <td>00:02</td>\n",
              "    </tr>\n",
              "    <tr>\n",
              "      <td>18</td>\n",
              "      <td>1.964366</td>\n",
              "      <td>2.542436</td>\n",
              "      <td>00:02</td>\n",
              "    </tr>\n",
              "    <tr>\n",
              "      <td>19</td>\n",
              "      <td>1.921924</td>\n",
              "      <td>2.538657</td>\n",
              "      <td>00:02</td>\n",
              "    </tr>\n",
              "  </tbody>\n",
              "</table>"
            ],
            "text/plain": [
              "<IPython.core.display.HTML object>"
            ]
          },
          "metadata": {
            "tags": []
          }
        }
      ]
    },
    {
      "cell_type": "code",
      "metadata": {
        "id": "NmHz2PTM-gbS",
        "colab_type": "code",
        "colab": {}
      },
      "source": [
        "learn.save('sample')"
      ],
      "execution_count": 0,
      "outputs": []
    },
    {
      "cell_type": "code",
      "metadata": {
        "id": "vA6aSf7G5p95",
        "colab_type": "code",
        "colab": {}
      },
      "source": [
        "learn.load('sample');"
      ],
      "execution_count": 0,
      "outputs": []
    },
    {
      "cell_type": "markdown",
      "metadata": {
        "id": "18zez8ULIghd",
        "colab_type": "text"
      },
      "source": [
        "Now let's unfreeze the rest of our model and train a bit more"
      ]
    },
    {
      "cell_type": "code",
      "metadata": {
        "id": "rgFXjKRs5Mqs",
        "colab_type": "code",
        "colab": {
          "base_uri": "https://localhost:8080/",
          "height": 283
        },
        "outputId": "822d0d67-ea51-485b-d735-01ef33e6d89f"
      },
      "source": [
        "learn.unfreeze()\n",
        "learn.lr_find()"
      ],
      "execution_count": 67,
      "outputs": [
        {
          "output_type": "display_data",
          "data": {
            "text/html": [
              ""
            ],
            "text/plain": [
              "<IPython.core.display.HTML object>"
            ]
          },
          "metadata": {
            "tags": []
          }
        },
        {
          "output_type": "display_data",
          "data": {
            "image/png": "[encoded data removed]",
            "text/plain": [
              "<Figure size 432x288 with 1 Axes>"
            ]
          },
          "metadata": {
            "tags": []
          }
        }
      ]
    },
    {
      "cell_type": "markdown",
      "metadata": {
        "id": "TKobY3IdIr7b",
        "colab_type": "text"
      },
      "source": [
        "Since we unfroze our model, we only pass in one learning rate now"
      ]
    },
    {
      "cell_type": "code",
      "metadata": {
        "id": "tW6qU54_468U",
        "colab_type": "code",
        "colab": {
          "base_uri": "https://localhost:8080/",
          "height": 348
        },
        "outputId": "a5f6f0c8-23db-4305-8074-7660d345226a"
      },
      "source": [
        "learn.fit_one_cycle(10, 3e-5)"
      ],
      "execution_count": 69,
      "outputs": [
        {
          "output_type": "display_data",
          "data": {
            "text/html": [
              "<table border=\"1\" class=\"dataframe\">\n",
              "  <thead>\n",
              "    <tr style=\"text-align: left;\">\n",
              "      <th>epoch</th>\n",
              "      <th>train_loss</th>\n",
              "      <th>valid_loss</th>\n",
              "      <th>time</th>\n",
              "    </tr>\n",
              "  </thead>\n",
              "  <tbody>\n",
              "    <tr>\n",
              "      <td>0</td>\n",
              "      <td>1.816928</td>\n",
              "      <td>2.527726</td>\n",
              "      <td>00:02</td>\n",
              "    </tr>\n",
              "    <tr>\n",
              "      <td>1</td>\n",
              "      <td>1.816838</td>\n",
              "      <td>2.582552</td>\n",
              "      <td>00:02</td>\n",
              "    </tr>\n",
              "    <tr>\n",
              "      <td>2</td>\n",
              "      <td>1.811184</td>\n",
              "      <td>2.614970</td>\n",
              "      <td>00:02</td>\n",
              "    </tr>\n",
              "    <tr>\n",
              "      <td>3</td>\n",
              "      <td>1.795112</td>\n",
              "      <td>2.580782</td>\n",
              "      <td>00:02</td>\n",
              "    </tr>\n",
              "    <tr>\n",
              "      <td>4</td>\n",
              "      <td>1.761387</td>\n",
              "      <td>2.608566</td>\n",
              "      <td>00:02</td>\n",
              "    </tr>\n",
              "    <tr>\n",
              "      <td>5</td>\n",
              "      <td>1.765157</td>\n",
              "      <td>2.675946</td>\n",
              "      <td>00:02</td>\n",
              "    </tr>\n",
              "    <tr>\n",
              "      <td>6</td>\n",
              "      <td>1.770589</td>\n",
              "      <td>2.567394</td>\n",
              "      <td>00:02</td>\n",
              "    </tr>\n",
              "    <tr>\n",
              "      <td>7</td>\n",
              "      <td>1.737667</td>\n",
              "      <td>2.626663</td>\n",
              "      <td>00:02</td>\n",
              "    </tr>\n",
              "    <tr>\n",
              "      <td>8</td>\n",
              "      <td>1.731346</td>\n",
              "      <td>2.621664</td>\n",
              "      <td>00:02</td>\n",
              "    </tr>\n",
              "    <tr>\n",
              "      <td>9</td>\n",
              "      <td>1.720024</td>\n",
              "      <td>2.635611</td>\n",
              "      <td>00:02</td>\n",
              "    </tr>\n",
              "  </tbody>\n",
              "</table>"
            ],
            "text/plain": [
              "<IPython.core.display.HTML object>"
            ]
          },
          "metadata": {
            "tags": []
          }
        }
      ]
    },
    {
      "cell_type": "code",
      "metadata": {
        "id": "oBQc8h5Y-m4o",
        "colab_type": "code",
        "colab": {}
      },
      "source": [
        "learn.save('fine-tuned')"
      ],
      "execution_count": 0,
      "outputs": []
    },
    {
      "cell_type": "markdown",
      "metadata": {
        "id": "wYLK62OC2zXH",
        "colab_type": "text"
      },
      "source": [
        "# Inference\n",
        "\n",
        "Since our output is two different blocks, this is currently not supported yet (but will be soon!) In the meantime let's walk through how you would do this"
      ]
    },
    {
      "cell_type": "code",
      "metadata": {
        "id": "7qruPljn7fKM",
        "colab_type": "code",
        "colab": {}
      },
      "source": [
        "learn.load('fine-tuned');"
      ],
      "execution_count": 0,
      "outputs": []
    },
    {
      "cell_type": "markdown",
      "metadata": {
        "id": "5H909YQBJAmm",
        "colab_type": "text"
      },
      "source": [
        "First we need to grab an image to use that is a tensor (we'll use the first one in our validation dataset)"
      ]
    },
    {
      "cell_type": "code",
      "metadata": {
        "id": "FxGILChn63tY",
        "colab_type": "code",
        "colab": {}
      },
      "source": [
        "img, y1, y2 = next(iter(dbunch.valid_dl))"
      ],
      "execution_count": 0,
      "outputs": []
    },
    {
      "cell_type": "markdown",
      "metadata": {
        "id": "E7HeG9aQJEVf",
        "colab_type": "text"
      },
      "source": [
        "And now to grab our predictions we call `torch.no_grad()` and pass in our tensor"
      ]
    },
    {
      "cell_type": "code",
      "metadata": {
        "id": "f8chkpon24e1",
        "colab_type": "code",
        "colab": {}
      },
      "source": [
        "with torch.no_grad():\n",
        "  output = learn.model(img)"
      ],
      "execution_count": 0,
      "outputs": []
    },
    {
      "cell_type": "markdown",
      "metadata": {
        "id": "n07q84JqJHxJ",
        "colab_type": "text"
      },
      "source": [
        "Since we used the first image in our validation dataset, let's grab the real image"
      ]
    },
    {
      "cell_type": "code",
      "metadata": {
        "id": "uHC2eBuT3rN8",
        "colab_type": "code",
        "colab": {}
      },
      "source": [
        "idx = 0\n",
        "img = dbunch.valid_ds[idx][0]"
      ],
      "execution_count": 0,
      "outputs": []
    },
    {
      "cell_type": "markdown",
      "metadata": {
        "id": "HPI-UILGJLs9",
        "colab_type": "text"
      },
      "source": [
        "We will also need to know the classes we are using. These live in `dbunch.vocab`"
      ]
    },
    {
      "cell_type": "code",
      "metadata": {
        "id": "xOG-MZ2y3vOA",
        "colab_type": "code",
        "colab": {
          "base_uri": "https://localhost:8080/",
          "height": 35
        },
        "outputId": "a5b50ea8-4618-40be-e3eb-4e9b5439c92d"
      },
      "source": [
        "classes = dbunch.vocab; classes"
      ],
      "execution_count": 72,
      "outputs": [
        {
          "output_type": "execute_result",
          "data": {
            "text/plain": [
              "(#7) [#na#,book,chair,couch,remote,tv,vase]"
            ]
          },
          "metadata": {
            "tags": []
          },
          "execution_count": 72
        }
      ]
    },
    {
      "cell_type": "markdown",
      "metadata": {
        "id": "QMubmSzxJRCl",
        "colab_type": "text"
      },
      "source": [
        "Lastly we can make a call to `show_preds`. This lives in the `inference.py` file. We need to pass in our input image, the output of our model, the index it was at, the scales and ratios we determined earlier, a ratio for detection, and our classes we used"
      ]
    },
    {
      "cell_type": "code",
      "metadata": {
        "id": "2fFZAZrQ39ZJ",
        "colab_type": "code",
        "colab": {
          "base_uri": "https://localhost:8080/",
          "height": 248
        },
        "outputId": "333b6e65-3738-4034-f25c-4c9e4e6b9004"
      },
      "source": [
        "show_preds(img, output, idx, scales, ratios, detect_thresh=0.23, classes=classes)"
      ],
      "execution_count": 73,
      "outputs": [
        {
          "output_type": "display_data",
          "data": {
            "image/png": "[encoded data removed]",
            "text/plain": [
              "<Figure size 432x288 with 1 Axes>"
            ]
          },
          "metadata": {
            "tags": []
          }
        }
      ]
    },
    {
      "cell_type": "markdown",
      "metadata": {
        "id": "ycyhKAP5D5LV",
        "colab_type": "text"
      },
      "source": [
        "If you get a warning saying:\n",
        "\n",
        "`RuntimeError: cannot perform reduction function max on tensor with no elements because the operation does not have an identity`\n",
        "\n",
        "This is becuse your threshold is too high, try bringing it down"
      ]
    },
    {
      "cell_type": "markdown",
      "metadata": {
        "id": "5LAnX8qCECa2",
        "colab_type": "text"
      },
      "source": [
        "This model is clearly not the best, but we gave it such a small training set that it makes sense to do so. Hope this tutorial helps!"
      ]
    }
  ]
}