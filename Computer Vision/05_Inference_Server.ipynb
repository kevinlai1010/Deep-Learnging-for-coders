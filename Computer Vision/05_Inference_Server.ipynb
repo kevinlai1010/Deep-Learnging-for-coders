{
  "nbformat": 4,
  "nbformat_minor": 0,
  "metadata": {
    "colab": {
      "name": "05_Inference_Server.ipynb",
      "provenance": [],
      "collapsed_sections": [],
      "toc_visible": true
    },
    "kernelspec": {
      "name": "python3",
      "display_name": "Python 3"
    },
    "accelerator": "GPU"
  },
  "cells": [
    {
      "cell_type": "code",
      "metadata": {
        "id": "JisHBvhVNUzu",
        "colab_type": "code",
        "colab": {}
      },
      "source": [
        "#default_exp deployment"
      ],
      "execution_count": 0,
      "outputs": []
    },
    {
      "cell_type": "markdown",
      "metadata": {
        "id": "CvAHuMB5LXfZ",
        "colab_type": "text"
      },
      "source": [
        "# Server Implementation\n",
        "\n",
        "Let's now take what we had before and run inference based on a list of filenames. We'll make a quick script to get the ball rolling for how we want everything to do using `nbdev` again"
      ]
    },
    {
      "cell_type": "code",
      "metadata": {
        "id": "apSJf-DQA7Qg",
        "colab_type": "code",
        "colab": {}
      },
      "source": [
        "#hide\n",
        "#Run once per session\n",
        "import os\n",
        "!pip install -q feather-format kornia pyarrow wandb nbdev fastprogress fastai2 fastcore --upgrade \n",
        "!pip install torch==1.3.1\n",
        "!pip install torchvision==0.4.2\n",
        "!pip install Pillow==6.2.1 --upgrade\n",
        "os._exit(00)"
      ],
      "execution_count": 0,
      "outputs": []
    },
    {
      "cell_type": "code",
      "metadata": {
        "id": "MApJ2nLzNQW8",
        "colab_type": "code",
        "colab": {}
      },
      "source": [
        "#hide\n",
        "from nbdev.showdoc import *"
      ],
      "execution_count": 0,
      "outputs": []
    },
    {
      "cell_type": "markdown",
      "metadata": {
        "id": "_nOK-lvHNM0q",
        "colab_type": "text"
      },
      "source": [
        "We'll want the libraries we've used"
      ]
    },
    {
      "cell_type": "code",
      "metadata": {
        "id": "U9Dpl8xQHQFp",
        "colab_type": "code",
        "colab": {}
      },
      "source": [
        "#export\n",
        "from fastai2.vision.all import *\n",
        "from fastai2.basics import *"
      ],
      "execution_count": 0,
      "outputs": []
    },
    {
      "cell_type": "markdown",
      "metadata": {
        "id": "GLXtXePwN0l6",
        "colab_type": "text"
      },
      "source": [
        "Including our new `style_transfer.py` file"
      ]
    },
    {
      "cell_type": "code",
      "metadata": {
        "id": "PhSk005RN3vy",
        "colab_type": "code",
        "colab": {}
      },
      "source": [
        "#export\n",
        "from style_transfer import *"
      ],
      "execution_count": 0,
      "outputs": []
    },
    {
      "cell_type": "markdown",
      "metadata": {
        "id": "J420YY-TN6Cy",
        "colab_type": "text"
      },
      "source": [
        "Let's grab our original style image"
      ]
    },
    {
      "cell_type": "code",
      "metadata": {
        "id": "0HnVjAWCN5Sv",
        "colab_type": "code",
        "colab": {}
      },
      "source": [
        "#export\n",
        "url = 'https://static.greatbigcanvas.com/images/singlecanvas_thick_none/megan-aroon-duncanson/little-village-abstract-art-house-painting,1162125.jpg'"
      ],
      "execution_count": 0,
      "outputs": []
    },
    {
      "cell_type": "markdown",
      "metadata": {
        "id": "CTGGzs1bN8cy",
        "colab_type": "text"
      },
      "source": [
        "As well as the features needed to recreate our loss function"
      ]
    },
    {
      "cell_type": "code",
      "metadata": {
        "id": "Af98KboyN_QL",
        "colab_type": "code",
        "colab": {
          "base_uri": "https://localhost:8080/",
          "height": 51
        },
        "outputId": "fcad00ad-81c4-491e-e640-25df178a512d"
      },
      "source": [
        "im = get_style_im(url)\n",
        "feats = get_feats('vgg19')(im)\n",
        "im_grams = [gram(f) for f in feats]"
      ],
      "execution_count": 6,
      "outputs": [
        {
          "output_type": "display_data",
          "data": {
            "text/html": [
              ""
            ],
            "text/plain": [
              "<IPython.core.display.HTML object>"
            ]
          },
          "metadata": {
            "tags": []
          }
        },
        {
          "output_type": "stream",
          "text": [
            "Downloading: \"https://download.pytorch.org/models/vgg19-dcbb9e9d.pth\" to /root/.cache/torch/checkpoints/vgg19-dcbb9e9d.pth\n",
            "100%|██████████| 548M/548M [00:17<00:00, 32.4MB/s]\n"
          ],
          "name": "stderr"
        }
      ]
    },
    {
      "cell_type": "markdown",
      "metadata": {
        "id": "8Ehf6mkgOK0n",
        "colab_type": "text"
      },
      "source": [
        "Now we can recreate our loss function!"
      ]
    },
    {
      "cell_type": "code",
      "metadata": {
        "id": "8FmBakh_J_Qp",
        "colab_type": "code",
        "colab": {}
      },
      "source": [
        "loss_func = FeatureLoss(feats, style_loss, act_loss)"
      ],
      "execution_count": 0,
      "outputs": []
    },
    {
      "cell_type": "code",
      "metadata": {
        "id": "fGgoS0A1Ocfy",
        "colab_type": "code",
        "colab": {}
      },
      "source": [
        "#export \n",
        "def get_loss_func():\n",
        "  \"Create our original loss function remotely\"\n",
        "  im = get_style_im(url)\n",
        "  feats = get_feats('vgg19')(im)\n",
        "  im_grams = [gram(f) for f in feats]\n",
        "  return FeatureLoss(feats, style_loss, act_loss)"
      ],
      "execution_count": 0,
      "outputs": []
    },
    {
      "cell_type": "code",
      "metadata": {
        "id": "LBmRbG1tOrYm",
        "colab_type": "code",
        "colab": {}
      },
      "source": [
        "loss_func = get_loss_func()"
      ],
      "execution_count": 0,
      "outputs": []
    },
    {
      "cell_type": "markdown",
      "metadata": {
        "id": "OABiHvM1ONNb",
        "colab_type": "text"
      },
      "source": [
        "Next, let's recreate our `Learner` and import our custom loss function"
      ]
    },
    {
      "cell_type": "code",
      "metadata": {
        "id": "L1Ty9w17HwAN",
        "colab_type": "code",
        "colab": {}
      },
      "source": [
        "learn = torch.load('myModel')\n",
        "learn.loss_func = loss_func"
      ],
      "execution_count": 0,
      "outputs": []
    },
    {
      "cell_type": "code",
      "metadata": {
        "id": "0gVslE48HzJn",
        "colab_type": "code",
        "colab": {}
      },
      "source": [
        "#export\n",
        "def get_learner(fname):\n",
        "  \"Grab our learner and change the loss function\"\n",
        "  learn = torch.load(fname)\n",
        "  loss_func = get_loss_func()\n",
        "  learn.loss_func = loss_func\n",
        "  return learn"
      ],
      "execution_count": 0,
      "outputs": []
    },
    {
      "cell_type": "markdown",
      "metadata": {
        "id": "DyuynEyTPAY6",
        "colab_type": "text"
      },
      "source": [
        "From here, we'll assume our inference script will grab a list of file names to run off of"
      ]
    },
    {
      "cell_type": "code",
      "metadata": {
        "id": "i1PWMsuoKHEX",
        "colab_type": "code",
        "colab": {}
      },
      "source": [
        "fnames = ['results.png'] * 3"
      ],
      "execution_count": 0,
      "outputs": []
    },
    {
      "cell_type": "markdown",
      "metadata": {
        "id": "pChZtl01PEW5",
        "colab_type": "text"
      },
      "source": [
        "We'll want to create a `DataLoader` from these"
      ]
    },
    {
      "cell_type": "code",
      "metadata": {
        "id": "4sYoEghH4fxa",
        "colab_type": "code",
        "colab": {}
      },
      "source": [
        "pipe = Pipeline([PILImage.create, ToTensor(), Normalize.from_stats(*imagenet_stats, cuda=False)])"
      ],
      "execution_count": 0,
      "outputs": []
    },
    {
      "cell_type": "code",
      "metadata": {
        "id": "JP1yg_oQ4mIt",
        "colab_type": "code",
        "colab": {}
      },
      "source": [
        "t_im = pipe(fnames[0])"
      ],
      "execution_count": 0,
      "outputs": []
    },
    {
      "cell_type": "code",
      "metadata": {
        "id": "qGBX6aesPIC1",
        "colab_type": "code",
        "colab": {}
      },
      "source": [
        "#export\n",
        "def get_dl(fnames:list, bs:int=1):\n",
        "  \"Create a `DataLoader` for inference with a batch size\"\n",
        "  dsrc = Datasets(fnames, tfms=[PILImage.create])\n",
        "  after_batch = [IntToFloatTensor(), Normalize.from_stats(*imagenet_stats)]\n",
        "  return dsrc.dataloaders(after_item=[ToTensor()], after_batch=after_batch, bs=bs)"
      ],
      "execution_count": 0,
      "outputs": []
    },
    {
      "cell_type": "code",
      "metadata": {
        "id": "-GNT1xDFPdpM",
        "colab_type": "code",
        "colab": {}
      },
      "source": [
        "dl = get_dl(fnames, 1)"
      ],
      "execution_count": 0,
      "outputs": []
    },
    {
      "cell_type": "code",
      "metadata": {
        "id": "-jvLKYJg5MPr",
        "colab_type": "code",
        "colab": {
          "base_uri": "https://localhost:8080/",
          "height": 194
        },
        "outputId": "43017dc5-90a3-49f6-98ad-51209c331a88"
      },
      "source": [
        "dl.show_batch()"
      ],
      "execution_count": 28,
      "outputs": [
        {
          "output_type": "display_data",
          "data": {
            "image/png": "[encoded data removed]",
            "text/plain": [
              "<Figure size 216x216 with 1 Axes>"
            ]
          },
          "metadata": {
            "tags": []
          }
        }
      ]
    },
    {
      "cell_type": "markdown",
      "metadata": {
        "id": "nKMbUbdcPkPH",
        "colab_type": "text"
      },
      "source": [
        "Now it's as simple as passing in our `DataLoader` into `learn.get_preds`"
      ]
    },
    {
      "cell_type": "code",
      "metadata": {
        "id": "R_Dlx4TLKZ9c",
        "colab_type": "code",
        "outputId": "f03bd37c-730f-46c7-a6ec-adbfe6c0ab84",
        "colab": {
          "base_uri": "https://localhost:8080/",
          "height": 17
        }
      },
      "source": [
        "preds, _= learn.get_preds(dl=dl)"
      ],
      "execution_count": 0,
      "outputs": [
        {
          "output_type": "display_data",
          "data": {
            "text/html": [
              ""
            ],
            "text/plain": [
              "<IPython.core.display.HTML object>"
            ]
          },
          "metadata": {
            "tags": []
          }
        }
      ]
    },
    {
      "cell_type": "code",
      "metadata": {
        "id": "8mqfbFf5QNpK",
        "colab_type": "code",
        "outputId": "a5e07c23-c8ea-4e29-d72b-6eec2dc1370f",
        "colab": {
          "base_uri": "https://localhost:8080/",
          "height": 34
        }
      },
      "source": [
        "preds.shape"
      ],
      "execution_count": 0,
      "outputs": [
        {
          "output_type": "execute_result",
          "data": {
            "text/plain": [
              "torch.Size([3, 3, 688, 620])"
            ]
          },
          "metadata": {
            "tags": []
          },
          "execution_count": 68
        }
      ]
    },
    {
      "cell_type": "code",
      "metadata": {
        "id": "xTBl8MukQcrj",
        "colab_type": "code",
        "outputId": "2c440e83-5d56-43e7-a790-f1ca52283b4d",
        "colab": {
          "base_uri": "https://localhost:8080/",
          "height": 68
        }
      },
      "source": [
        "for i, im in enumerate(preds):\n",
        "  print(i)"
      ],
      "execution_count": 0,
      "outputs": [
        {
          "output_type": "stream",
          "text": [
            "0\n",
            "1\n",
            "2\n"
          ],
          "name": "stdout"
        }
      ]
    },
    {
      "cell_type": "markdown",
      "metadata": {
        "id": "UjHS-hOaPpOs",
        "colab_type": "text"
      },
      "source": [
        "But we are not done! We also want to save our images away now. Let's borrow from `torchvision.utils`"
      ]
    },
    {
      "cell_type": "code",
      "metadata": {
        "id": "abiGY-2pK7Is",
        "colab_type": "code",
        "colab": {}
      },
      "source": [
        "#export\n",
        "from torchvision.utils import save_image"
      ],
      "execution_count": 0,
      "outputs": []
    },
    {
      "cell_type": "markdown",
      "metadata": {
        "id": "3inkYqDCQv82",
        "colab_type": "text"
      },
      "source": [
        "We can write a quick `save_im` function to save all our outputed tensors to images"
      ]
    },
    {
      "cell_type": "code",
      "metadata": {
        "id": "ODgjWcfHQa6V",
        "colab_type": "code",
        "colab": {}
      },
      "source": [
        "#export\n",
        "def save_im(imgs:Tensor, path):\n",
        "  \"Save a n*c*w*h `Tensor` into seperate images\"\n",
        "  [save_image(im, f'{path}/{i}.png') for i, im in enumerate(imgs)]"
      ],
      "execution_count": 0,
      "outputs": []
    },
    {
      "cell_type": "markdown",
      "metadata": {
        "id": "s6ZQCmGUQ0Zr",
        "colab_type": "text"
      },
      "source": [
        "Now let's put it all together"
      ]
    },
    {
      "cell_type": "code",
      "metadata": {
        "id": "mM-KXOtMPwFE",
        "colab_type": "code",
        "colab": {}
      },
      "source": [
        "#export\n",
        "def inference(pkl_name, fnames:list, path:Path, bs:int=1):\n",
        "  \"Grab inference on a model, filenames, and a path to save it to\"\n",
        "  path = path/'results'\n",
        "  path.mkdir(parents=True, exist_ok=True)\n",
        "  dl = get_dl(fnames, bs)\n",
        "  learn = get_learner(pkl_name)\n",
        "  preds, _ = learn.get_preds(dl=dl)\n",
        "  save_im(preds, path)"
      ],
      "execution_count": 0,
      "outputs": []
    },
    {
      "cell_type": "markdown",
      "metadata": {
        "id": "r8vYeOHRRA48",
        "colab_type": "text"
      },
      "source": [
        "And try it out!"
      ]
    },
    {
      "cell_type": "code",
      "metadata": {
        "id": "dfc3ZdseKjn0",
        "colab_type": "code",
        "outputId": "82b808e5-8712-4b9b-8813-388b30a9c683",
        "colab": {
          "base_uri": "https://localhost:8080/",
          "height": 17
        }
      },
      "source": [
        "inference('myModel', fnames, path=Path(''))"
      ],
      "execution_count": 0,
      "outputs": [
        {
          "output_type": "display_data",
          "data": {
            "text/html": [
              ""
            ],
            "text/plain": [
              "<IPython.core.display.HTML object>"
            ]
          },
          "metadata": {
            "tags": []
          }
        }
      ]
    },
    {
      "cell_type": "markdown",
      "metadata": {
        "id": "9n0kvdR0Sa6h",
        "colab_type": "text"
      },
      "source": [
        "Lastly let's make a `.py` file again to run it off of"
      ]
    },
    {
      "cell_type": "code",
      "metadata": {
        "id": "bsp5kNXcRFSN",
        "colab_type": "code",
        "colab": {}
      },
      "source": [
        "#hide\n",
        "from nbdev.imports import *\n",
        "from nbdev.export import reset_nbdev_module, notebook2script\n",
        "\n",
        "create_config('myLib', user='muellerzr', path='.', cfg_name='settings.ini')\n",
        "cfg = Config(cfg_name='settings.ini')"
      ],
      "execution_count": 0,
      "outputs": []
    },
    {
      "cell_type": "code",
      "metadata": {
        "id": "E2ykuLxiSgsY",
        "colab_type": "code",
        "colab": {}
      },
      "source": [
        "#hide\n",
        "reset_nbdev_module()"
      ],
      "execution_count": 0,
      "outputs": []
    },
    {
      "cell_type": "code",
      "metadata": {
        "id": "rioWZFfBSibJ",
        "colab_type": "code",
        "outputId": "1e44ac22-38a7-4838-9e12-46511a31d177",
        "colab": {
          "base_uri": "https://localhost:8080/",
          "height": 34
        }
      },
      "source": [
        "#hide\n",
        "from nbdev.export import notebook2script\n",
        "notebook2script('05_Inference_Server.ipynb')"
      ],
      "execution_count": 0,
      "outputs": [
        {
          "output_type": "stream",
          "text": [
            "Converted 05_Inference_Server.ipynb.\n"
          ],
          "name": "stdout"
        }
      ]
    },
    {
      "cell_type": "markdown",
      "metadata": {
        "id": "3Mswv2kCSuYz",
        "colab_type": "text"
      },
      "source": [
        "And we're done!"
      ]
    }
  ]
}