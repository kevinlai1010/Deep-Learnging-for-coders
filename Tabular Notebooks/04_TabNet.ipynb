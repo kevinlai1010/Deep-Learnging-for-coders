{
  "nbformat": 4,
  "nbformat_minor": 0,
  "metadata": {
    "colab": {
      "name": "04_TabNet.ipynb",
      "provenance": []
    },
    "kernelspec": {
      "name": "python3",
      "display_name": "Python 3"
    }
  },
  "cells": [
    {
      "cell_type": "code",
      "metadata": {
        "id": "dLq8yiOQZcL3",
        "colab_type": "code",
        "colab": {
          "base_uri": "https://localhost:8080/",
          "height": 34
        },
        "outputId": "408b1c9e-08a9-492d-87e3-ee52d3c085d2"
      },
      "source": [
        "pip install fastai2 fastdot -q"
      ],
      "execution_count": 1,
      "outputs": [
        {
          "output_type": "stream",
          "text": [
            "\u001b[?25l\r\u001b[K     |█▉                              | 10kB 20.4MB/s eta 0:00:01\r\u001b[K     |███▋                            | 20kB 837kB/s eta 0:00:01\r\u001b[K     |█████▍                          | 30kB 1.2MB/s eta 0:00:01\r\u001b[K     |███████▏                        | 40kB 1.4MB/s eta 0:00:01\r\u001b[K     |█████████                       | 51kB 1.0MB/s eta 0:00:01\r\u001b[K     |██████████▊                     | 61kB 1.1MB/s eta 0:00:01\r\u001b[K     |████████████▌                   | 71kB 1.3MB/s eta 0:00:01\r\u001b[K     |██████████████▎                 | 81kB 1.4MB/s eta 0:00:01\r\u001b[K     |████████████████                | 92kB 1.5MB/s eta 0:00:01\r\u001b[K     |█████████████████▉              | 102kB 1.4MB/s eta 0:00:01\r\u001b[K     |███████████████████▋            | 112kB 1.4MB/s eta 0:00:01\r\u001b[K     |█████████████████████▍          | 122kB 1.4MB/s eta 0:00:01\r\u001b[K     |███████████████████████▏        | 133kB 1.4MB/s eta 0:00:01\r\u001b[K     |█████████████████████████       | 143kB 1.4MB/s eta 0:00:01\r\u001b[K     |██████████████████████████▊     | 153kB 1.4MB/s eta 0:00:01\r\u001b[K     |████████████████████████████▌   | 163kB 1.4MB/s eta 0:00:01\r\u001b[K     |██████████████████████████████▎ | 174kB 1.4MB/s eta 0:00:01\r\u001b[K     |████████████████████████████████| 184kB 1.4MB/s \n",
            "\u001b[?25h"
          ],
          "name": "stdout"
        }
      ]
    },
    {
      "cell_type": "markdown",
      "metadata": {
        "id": "zv02m0spZz7o",
        "colab_type": "text"
      },
      "source": [
        "# 03 TabNet\n",
        "\n",
        "In this notebook we'll be looking at comparing the `TabNet` architecture to our regular `fastai` fully connected models. We'll be utilizing Michael Grankin's `fast_tabnet` wrapper to utilize the model."
      ]
    },
    {
      "cell_type": "code",
      "metadata": {
        "id": "9eD-6idQZp6y",
        "colab_type": "code",
        "colab": {}
      },
      "source": [
        "pip install fast_tabnet -q"
      ],
      "execution_count": 0,
      "outputs": []
    },
    {
      "cell_type": "markdown",
      "metadata": {
        "id": "8UOLQg2wacw9",
        "colab_type": "text"
      },
      "source": [
        "TabNet is an attention-based network for tabular data, originating [here](https://arxiv.org/pdf/1908.07442.pdf). Let's first look at our fastai architecture and then compare it with TabNet utilizing the `fastdot` library."
      ]
    },
    {
      "cell_type": "markdown",
      "metadata": {
        "id": "q9K8tdAcuQkO",
        "colab_type": "text"
      },
      "source": [
        "First let's build our data real quick so we know just what we're visualizing. We'll use `ADULTs` again"
      ]
    },
    {
      "cell_type": "code",
      "metadata": {
        "id": "5FKChE98udql",
        "colab_type": "code",
        "colab": {}
      },
      "source": [
        "from fastai2.tabular.all import *"
      ],
      "execution_count": 0,
      "outputs": []
    },
    {
      "cell_type": "code",
      "metadata": {
        "id": "253jfgjouVjd",
        "colab_type": "code",
        "colab": {}
      },
      "source": [
        "path = untar_data(URLs.ADULT_SAMPLE)\n",
        "df = pd.read_csv(path/'adult.csv')"
      ],
      "execution_count": 0,
      "outputs": []
    },
    {
      "cell_type": "markdown",
      "metadata": {
        "id": "5PWfOlIJuZBe",
        "colab_type": "text"
      },
      "source": [
        "We'll build our `TabularPandas` object and the `DataLoaders`"
      ]
    },
    {
      "cell_type": "code",
      "metadata": {
        "id": "veDLJ5-Oub-y",
        "colab_type": "code",
        "colab": {}
      },
      "source": [
        "cat_names = ['workclass', 'education', 'marital-status', 'occupation', 'relationship', 'race']\n",
        "cont_names = ['age', 'fnlwgt', 'education-num']\n",
        "procs = [Categorify, FillMissing, Normalize]\n",
        "splits = RandomSplitter()(range_of(df))"
      ],
      "execution_count": 0,
      "outputs": []
    },
    {
      "cell_type": "code",
      "metadata": {
        "id": "n1l_eRoiuh29",
        "colab_type": "code",
        "colab": {}
      },
      "source": [
        "to = TabularPandas(df, procs, cat_names, cont_names, y_names=\"salary\", splits=splits)\n",
        "dls = to.dataloaders(bs=1)"
      ],
      "execution_count": 0,
      "outputs": []
    },
    {
      "cell_type": "markdown",
      "metadata": {
        "id": "l3EoKTLsunLT",
        "colab_type": "text"
      },
      "source": [
        "And let's look at one batch to understand how the data is coming into the model:"
      ]
    },
    {
      "cell_type": "code",
      "metadata": {
        "id": "ev_51sZRuqGm",
        "colab_type": "code",
        "colab": {
          "base_uri": "https://localhost:8080/",
          "height": 68
        },
        "outputId": "17ba9709-141b-440f-f426-a29b95519fb1"
      },
      "source": [
        "dls.one_batch()"
      ],
      "execution_count": 186,
      "outputs": [
        {
          "output_type": "execute_result",
          "data": {
            "text/plain": [
              "(tensor([[1, 1, 1, 1, 5, 5, 1]]),\n",
              " tensor([[-0.2641, -0.2518, -1.5991]]),\n",
              " tensor([[0]], dtype=torch.int8))"
            ]
          },
          "metadata": {
            "tags": []
          },
          "execution_count": 186
        }
      ]
    },
    {
      "cell_type": "markdown",
      "metadata": {
        "id": "lxgOmo2Zur4M",
        "colab_type": "text"
      },
      "source": [
        "So we can see first is our categoricals, second is our continuous, and the third is our `y`. With this in mind, let's make a `TabularModel` with 200 and 100 layer sizes:"
      ]
    },
    {
      "cell_type": "code",
      "metadata": {
        "id": "Queyi9iFuxsK",
        "colab_type": "code",
        "colab": {}
      },
      "source": [
        "learn = tabular_learner(dls, layers=[200,100], metrics=accuracy)"
      ],
      "execution_count": 0,
      "outputs": []
    },
    {
      "cell_type": "markdown",
      "metadata": {
        "id": "o-eWB5W_u2IG",
        "colab_type": "text"
      },
      "source": [
        "Now a basic visualization of this model can be made with `fastdot` like below:"
      ]
    },
    {
      "cell_type": "code",
      "metadata": {
        "id": "P8RJyHbFacAb",
        "colab_type": "code",
        "colab": {}
      },
      "source": [
        "from fastdot import *"
      ],
      "execution_count": 0,
      "outputs": []
    },
    {
      "cell_type": "markdown",
      "metadata": {
        "id": "dDA6lZJit0pd",
        "colab_type": "text"
      },
      "source": [
        "## Hidden"
      ]
    },
    {
      "cell_type": "code",
      "metadata": {
        "id": "ZAg5pECVbvKq",
        "colab_type": "code",
        "colab": {}
      },
      "source": [
        "layers_cat = ['Embedding Matrix', 'Dropout']\n",
        "inp = ['Input']\n",
        "cont_bn = ['BatchNorm1d']\n",
        "lin_bn_drop = ['BatchNorm1d', 'Dropout', 'Linear', 'ReLU']\n",
        "full_lin = ['LinBnDrop\\n(ni, 200)', 'LinBnDrop\\n(200,100)', 'LinBnDrop\\n(100,2)']"
      ],
      "execution_count": 0,
      "outputs": []
    },
    {
      "cell_type": "code",
      "metadata": {
        "id": "2Rt4hgORdGNJ",
        "colab_type": "code",
        "colab": {}
      },
      "source": [
        "block1, block2, block3, block4, block5 = ['Preprocessed Input', 'Categorical\\nEmbeddings',\n",
        "                                  'Continous\\nBatch Normalization', 'Fully\\nConnected Layers',\n",
        "                                  'LinBnDrop']"
      ],
      "execution_count": 0,
      "outputs": []
    },
    {
      "cell_type": "code",
      "metadata": {
        "id": "VKaM7skJdX3O",
        "colab_type": "code",
        "colab": {}
      },
      "source": [
        "conns = ((block1, block2),\n",
        "         (block1, block3),\n",
        "         (block2, block4),\n",
        "         (block3, block4))"
      ],
      "execution_count": 0,
      "outputs": []
    },
    {
      "cell_type": "code",
      "metadata": {
        "id": "s22--ORZi2QU",
        "colab_type": "code",
        "colab": {}
      },
      "source": [
        "def color(o):\n",
        "  if o == 'Embedding Matrix': return 'white'\n",
        "  if o == 'Input': return 'gray'\n",
        "  if 'Dropout' in o: return 'gold'\n",
        "  if 'BatchNorm' in o: return 'pink'\n",
        "  if 'Lin' in o: return 'lightblue'\n",
        "  if 'ReLU' in o: return 'gray'"
      ],
      "execution_count": 0,
      "outputs": []
    },
    {
      "cell_type": "code",
      "metadata": {
        "id": "n7in_Ps1iqXb",
        "colab_type": "code",
        "colab": {}
      },
      "source": [
        "node_defaults['fillcolor'] = color"
      ],
      "execution_count": 0,
      "outputs": []
    },
    {
      "cell_type": "code",
      "metadata": {
        "id": "C8YOWxKen66O",
        "colab_type": "code",
        "colab": {
          "base_uri": "https://localhost:8080/",
          "height": 34
        },
        "outputId": "7f75a694-93f5-4f5d-ea51-6782cd45b374"
      },
      "source": [
        "model = [\n",
        "                seq_cluster(inp, block1),\n",
        "                seq_cluster(layers_cat, block2),\n",
        "                seq_cluster(cont_bn, block3),\n",
        "                seq_cluster(full_lin, block4)]\n",
        "\n",
        "fcc = seq_cluster(lin_bn_drop, block5)\n",
        "g = graph_items(*model)\n",
        "g.add_items(fcc)\n",
        "g.add_items(*object_connections(conns))"
      ],
      "execution_count": 39,
      "outputs": [
        {
          "output_type": "execute_result",
          "data": {
            "text/plain": [
              "(#4) [<pydot.Edge object at 0x7fca8ecca2b0>,<pydot.Edge object at 0x7fca8ecd3f98>,<pydot.Edge object at 0x7fca8ec796a0>,<pydot.Edge object at 0x7fca8ec92080>]"
            ]
          },
          "metadata": {
            "tags": []
          },
          "execution_count": 39
        }
      ]
    },
    {
      "cell_type": "markdown",
      "metadata": {
        "id": "CqAuYXNUuDCh",
        "colab_type": "text"
      },
      "source": [
        "## Graph"
      ]
    },
    {
      "cell_type": "code",
      "metadata": {
        "id": "OrdZ0NXBs_VY",
        "colab_type": "code",
        "colab": {
          "base_uri": "https://localhost:8080/",
          "height": 434
        },
        "outputId": "7f6ffa61-7d8b-4d9a-fe77-5644af42e48d"
      },
      "source": [
        "g"
      ],
      "execution_count": 40,
      "outputs": [
        {
          "output_type": "execute_result",
          "data": {
            "text/plain": [
              "<pydot.Dot at 0x7fca8edd58d0>"
            ],
            "image/svg+xml": "<?xml version=\"1.0\" encoding=\"UTF-8\" standalone=\"no\"?>\n<!DOCTYPE svg PUBLIC \"-//W3C//DTD SVG 1.1//EN\"\n \"http://www.w3.org/Graphics/SVG/1.1/DTD/svg11.dtd\">\n<!-- Generated by graphviz version 2.40.1 (20161225.0304)\n -->\n<!-- Title: G Pages: 1 -->\n<svg width=\"829pt\" height=\"295pt\"\n viewBox=\"0.00 0.00 829.00 295.00\" xmlns=\"http://www.w3.org/2000/svg\" xmlns:xlink=\"http://www.w3.org/1999/xlink\">\n<g id=\"graph0\" class=\"graph\" transform=\"scale(1 1) rotate(0) translate(4 291)\">\n<title>G</title>\n<polygon fill=\"#ffffff\" stroke=\"transparent\" points=\"-4,4 -4,-291 825,-291 825,4 -4,4\"/>\n<g id=\"clust1\" class=\"cluster\">\n<title>cluster_n80b6434c22cb4d8da0bbace4de11edc7</title>\n<g id=\"a_clust1\"><a xlink:title=\"Preprocessed Input\">\n<path fill=\"#555555\" fill-opacity=\"0.133333\" stroke=\"#000000\" d=\"M15,-57C15,-57 116,-57 116,-57 122,-57 128,-63 128,-69 128,-69 128,-120 128,-120 128,-126 122,-132 116,-132 116,-132 15,-132 15,-132 9,-132 3,-126 3,-120 3,-120 3,-69 3,-69 3,-63 9,-57 15,-57\"/>\n<text text-anchor=\"middle\" x=\"65.5\" y=\"-116.8\" font-family=\"Times,serif\" font-size=\"14.00\" fill=\"#000000\">Preprocessed Input</text>\n</a>\n</g>\n</g>\n<g id=\"clust2\" class=\"cluster\">\n<title>cluster_nbf9d3d1f410e4729bb633b2c8b05c3b0</title>\n<g id=\"a_clust2\"><a xlink:title=\"Categorical&#10;Embeddings\">\n<path fill=\"#555555\" fill-opacity=\"0.133333\" stroke=\"#000000\" d=\"M168,-106C168,-106 413.5,-106 413.5,-106 419.5,-106 425.5,-112 425.5,-118 425.5,-118 425.5,-184 425.5,-184 425.5,-190 419.5,-196 413.5,-196 413.5,-196 168,-196 168,-196 162,-196 156,-190 156,-184 156,-184 156,-118 156,-118 156,-112 162,-106 168,-106\"/>\n<text text-anchor=\"middle\" x=\"290.75\" y=\"-180.8\" font-family=\"Times,serif\" font-size=\"14.00\" fill=\"#000000\">Categorical</text>\n<text text-anchor=\"middle\" x=\"290.75\" y=\"-165.8\" font-family=\"Times,serif\" font-size=\"14.00\" fill=\"#000000\">Embeddings</text>\n</a>\n</g>\n</g>\n<g id=\"clust3\" class=\"cluster\">\n<title>cluster_nf3d12e9abb6141959f639f645330f61e</title>\n<g id=\"a_clust3\"><a xlink:title=\"Continous&#10;Batch Normalization\">\n<path fill=\"#555555\" fill-opacity=\"0.133333\" stroke=\"#000000\" d=\"M330,-8C330,-8 441,-8 441,-8 447,-8 453,-14 453,-20 453,-20 453,-86 453,-86 453,-92 447,-98 441,-98 441,-98 330,-98 330,-98 324,-98 318,-92 318,-86 318,-86 318,-20 318,-20 318,-14 324,-8 330,-8\"/>\n<text text-anchor=\"middle\" x=\"385.5\" y=\"-82.8\" font-family=\"Times,serif\" font-size=\"14.00\" fill=\"#000000\">Continous</text>\n<text text-anchor=\"middle\" x=\"385.5\" y=\"-67.8\" font-family=\"Times,serif\" font-size=\"14.00\" fill=\"#000000\">Batch Normalization</text>\n</a>\n</g>\n</g>\n<g id=\"clust4\" class=\"cluster\">\n<title>cluster_n24949ae5aaa7450a90745cb63b088d3f</title>\n<g id=\"a_clust4\"><a xlink:title=\"Fully&#10;Connected Layers\">\n<path fill=\"#555555\" fill-opacity=\"0.133333\" stroke=\"#000000\" d=\"M485,-56C485,-56 801,-56 801,-56 807,-56 813,-62 813,-68 813,-68 813,-136 813,-136 813,-142 807,-148 801,-148 801,-148 485,-148 485,-148 479,-148 473,-142 473,-136 473,-136 473,-68 473,-68 473,-62 479,-56 485,-56\"/>\n<text text-anchor=\"middle\" x=\"643\" y=\"-132.8\" font-family=\"Times,serif\" font-size=\"14.00\" fill=\"#000000\">Fully</text>\n<text text-anchor=\"middle\" x=\"643\" y=\"-117.8\" font-family=\"Times,serif\" font-size=\"14.00\" fill=\"#000000\">Connected Layers</text>\n</a>\n</g>\n</g>\n<g id=\"clust5\" class=\"cluster\">\n<title>cluster_n9cc233b5e81b45358b7aaf1c30fbb77b</title>\n<g id=\"a_clust5\"><a xlink:title=\"LinBnDrop\">\n<path fill=\"#555555\" fill-opacity=\"0.133333\" stroke=\"#000000\" d=\"M20,-204C20,-204 546,-204 546,-204 552,-204 558,-210 558,-216 558,-216 558,-267 558,-267 558,-273 552,-279 546,-279 546,-279 20,-279 20,-279 14,-279 8,-273 8,-267 8,-267 8,-216 8,-216 8,-210 14,-204 20,-204\"/>\n<text text-anchor=\"middle\" x=\"283\" y=\"-263.8\" font-family=\"Times,serif\" font-size=\"14.00\" fill=\"#000000\">LinBnDrop</text>\n</a>\n</g>\n</g>\n<!-- n45dee0203e324fd8b7c19ed66dd3488c -->\n<g id=\"node1\" class=\"node\">\n<title>n45dee0203e324fd8b7c19ed66dd3488c</title>\n<g id=\"a_node1\"><a xlink:title=\"Input\">\n<path fill=\"#c0c0c0\" stroke=\"#000000\" d=\"M80,-101C80,-101 50,-101 50,-101 44,-101 38,-95 38,-89 38,-89 38,-77 38,-77 38,-71 44,-65 50,-65 50,-65 80,-65 80,-65 86,-65 92,-71 92,-77 92,-77 92,-89 92,-89 92,-95 86,-101 80,-101\"/>\n<text text-anchor=\"middle\" x=\"65\" y=\"-79.3\" font-family=\"Times,serif\" font-size=\"14.00\" fill=\"#000000\">Input</text>\n</a>\n</g>\n</g>\n<!-- n02680aac1cd04b40931a88cbccecf9c8 -->\n<g id=\"node2\" class=\"node\">\n<title>n02680aac1cd04b40931a88cbccecf9c8</title>\n<g id=\"a_node2\"><a xlink:title=\"Embedding Matrix\">\n<path fill=\"#ffffff\" stroke=\"#000000\" d=\"M278,-150C278,-150 176,-150 176,-150 170,-150 164,-144 164,-138 164,-138 164,-126 164,-126 164,-120 170,-114 176,-114 176,-114 278,-114 278,-114 284,-114 290,-120 290,-126 290,-126 290,-138 290,-138 290,-144 284,-150 278,-150\"/>\n<text text-anchor=\"middle\" x=\"227\" y=\"-128.3\" font-family=\"Times,serif\" font-size=\"14.00\" fill=\"#000000\">Embedding Matrix</text>\n</a>\n</g>\n</g>\n<!-- n45dee0203e324fd8b7c19ed66dd3488c&#45;&gt;n02680aac1cd04b40931a88cbccecf9c8 -->\n<g id=\"edge7\" class=\"edge\">\n<title>n45dee0203e324fd8b7c19ed66dd3488c&#45;&gt;n02680aac1cd04b40931a88cbccecf9c8</title>\n<path fill=\"none\" stroke=\"#000000\" d=\"M127.9985,-102.0551C134.0413,-103.8829 140.225,-105.7532 146.4055,-107.6227\"/>\n<polygon fill=\"#000000\" stroke=\"#000000\" points=\"145.4166,-110.9801 156.0017,-110.5252 147.4433,-104.2799 145.4166,-110.9801\"/>\n</g>\n<!-- n6f8061439682402581456b9d2038df95 -->\n<g id=\"node4\" class=\"node\">\n<title>n6f8061439682402581456b9d2038df95</title>\n<g id=\"a_node4\"><a xlink:title=\"BatchNorm1d\">\n<path fill=\"#ffc0cb\" stroke=\"#000000\" d=\"M422,-52C422,-52 348,-52 348,-52 342,-52 336,-46 336,-40 336,-40 336,-28 336,-28 336,-22 342,-16 348,-16 348,-16 422,-16 422,-16 428,-16 434,-22 434,-28 434,-28 434,-40 434,-40 434,-46 428,-52 422,-52\"/>\n<text text-anchor=\"middle\" x=\"385\" y=\"-30.3\" font-family=\"Times,serif\" font-size=\"14.00\" fill=\"#000000\">BatchNorm1d</text>\n</a>\n</g>\n</g>\n<!-- n45dee0203e324fd8b7c19ed66dd3488c&#45;&gt;n6f8061439682402581456b9d2038df95 -->\n<g id=\"edge8\" class=\"edge\">\n<title>n45dee0203e324fd8b7c19ed66dd3488c&#45;&gt;n6f8061439682402581456b9d2038df95</title>\n<path fill=\"none\" stroke=\"#000000\" d=\"M127.9961,-73.3537C179.5984,-65.4521 252.8236,-54.2395 307.9205,-45.8028\"/>\n<polygon fill=\"#000000\" stroke=\"#000000\" points=\"308.6467,-49.2325 318.0017,-44.2591 307.5872,-42.3131 308.6467,-49.2325\"/>\n</g>\n<!-- nc9d2854b9c5843638fe80c616e7b9e96 -->\n<g id=\"node3\" class=\"node\">\n<title>nc9d2854b9c5843638fe80c616e7b9e96</title>\n<g id=\"a_node3\"><a xlink:title=\"Dropout\">\n<path fill=\"#ffd700\" stroke=\"#000000\" d=\"M405.5,-150C405.5,-150 364.5,-150 364.5,-150 358.5,-150 352.5,-144 352.5,-138 352.5,-138 352.5,-126 352.5,-126 352.5,-120 358.5,-114 364.5,-114 364.5,-114 405.5,-114 405.5,-114 411.5,-114 417.5,-120 417.5,-126 417.5,-126 417.5,-138 417.5,-138 417.5,-144 411.5,-150 405.5,-150\"/>\n<text text-anchor=\"middle\" x=\"385\" y=\"-128.3\" font-family=\"Times,serif\" font-size=\"14.00\" fill=\"#000000\">Dropout</text>\n</a>\n</g>\n</g>\n<!-- n02680aac1cd04b40931a88cbccecf9c8&#45;&gt;nc9d2854b9c5843638fe80c616e7b9e96 -->\n<g id=\"edge1\" class=\"edge\">\n<title>n02680aac1cd04b40931a88cbccecf9c8&#45;&gt;nc9d2854b9c5843638fe80c616e7b9e96</title>\n<path fill=\"none\" stroke=\"#000000\" d=\"M290.3543,-132C307.82,-132 326.3486,-132 342.338,-132\"/>\n<polygon fill=\"#000000\" stroke=\"#000000\" points=\"342.4419,-135.5001 352.4419,-132 342.4419,-128.5001 342.4419,-135.5001\"/>\n</g>\n<!-- n4997f871d208435c9663e0389e5d4765 -->\n<g id=\"node5\" class=\"node\">\n<title>n4997f871d208435c9663e0389e5d4765</title>\n<g id=\"a_node5\"><a xlink:title=\"LinBnDrop&#10;(ni, 200)\">\n<path fill=\"#add8e6\" stroke=\"#000000\" d=\"M553,-102C553,-102 493,-102 493,-102 487,-102 481,-96 481,-90 481,-90 481,-76 481,-76 481,-70 487,-64 493,-64 493,-64 553,-64 553,-64 559,-64 565,-70 565,-76 565,-76 565,-90 565,-90 565,-96 559,-102 553,-102\"/>\n<text text-anchor=\"middle\" x=\"523\" y=\"-86.8\" font-family=\"Times,serif\" font-size=\"14.00\" fill=\"#000000\">LinBnDrop</text>\n<text text-anchor=\"middle\" x=\"523\" y=\"-71.8\" font-family=\"Times,serif\" font-size=\"14.00\" fill=\"#000000\">(ni, 200)</text>\n</a>\n</g>\n</g>\n<!-- nc9d2854b9c5843638fe80c616e7b9e96&#45;&gt;n4997f871d208435c9663e0389e5d4765 -->\n<g id=\"edge9\" class=\"edge\">\n<title>nc9d2854b9c5843638fe80c616e7b9e96&#45;&gt;n4997f871d208435c9663e0389e5d4765</title>\n<path fill=\"none\" stroke=\"#000000\" d=\"M425.4972,-117.6205C439.7707,-112.5524 456.0184,-106.7833 471.1024,-101.4274\"/>\n<polygon fill=\"#000000\" stroke=\"#000000\" points=\"467.2118,-108.8405 473,-99.9663 462.9412,-103.294 467.2118,-108.8405\"/>\n</g>\n<!-- n6f8061439682402581456b9d2038df95&#45;&gt;n4997f871d208435c9663e0389e5d4765 -->\n<g id=\"edge10\" class=\"edge\">\n<title>n6f8061439682402581456b9d2038df95&#45;&gt;n4997f871d208435c9663e0389e5d4765</title>\n<path fill=\"none\" stroke=\"#000000\" d=\"M452.9971,-58.1439C459.1762,-60.3379 465.3661,-62.5358 471.3684,-64.667\"/>\n<polygon fill=\"#000000\" stroke=\"#000000\" points=\"463.145,-62.1869 473,-66.0769 467.7219,-56.8902 463.145,-62.1869\"/>\n</g>\n<!-- n25548523949d4d8db3c0e1efe9dfa826 -->\n<g id=\"node6\" class=\"node\">\n<title>n25548523949d4d8db3c0e1efe9dfa826</title>\n<g id=\"a_node6\"><a xlink:title=\"LinBnDrop&#10;(200,100)\">\n<path fill=\"#add8e6\" stroke=\"#000000\" d=\"M673,-102C673,-102 613,-102 613,-102 607,-102 601,-96 601,-90 601,-90 601,-76 601,-76 601,-70 607,-64 613,-64 613,-64 673,-64 673,-64 679,-64 685,-70 685,-76 685,-76 685,-90 685,-90 685,-96 679,-102 673,-102\"/>\n<text text-anchor=\"middle\" x=\"643\" y=\"-86.8\" font-family=\"Times,serif\" font-size=\"14.00\" fill=\"#000000\">LinBnDrop</text>\n<text text-anchor=\"middle\" x=\"643\" y=\"-71.8\" font-family=\"Times,serif\" font-size=\"14.00\" fill=\"#000000\">(200,100)</text>\n</a>\n</g>\n</g>\n<!-- n4997f871d208435c9663e0389e5d4765&#45;&gt;n25548523949d4d8db3c0e1efe9dfa826 -->\n<g id=\"edge2\" class=\"edge\">\n<title>n4997f871d208435c9663e0389e5d4765&#45;&gt;n25548523949d4d8db3c0e1efe9dfa826</title>\n<path fill=\"none\" stroke=\"#000000\" d=\"M565.3075,-83C573.4629,-83 582.0971,-83 590.5298,-83\"/>\n<polygon fill=\"#000000\" stroke=\"#000000\" points=\"590.6701,-86.5001 600.6701,-83 590.67,-79.5001 590.6701,-86.5001\"/>\n</g>\n<!-- n9a6cda4896cd422faf57311520a15c49 -->\n<g id=\"node7\" class=\"node\">\n<title>n9a6cda4896cd422faf57311520a15c49</title>\n<g id=\"a_node7\"><a xlink:title=\"LinBnDrop&#10;(100,2)\">\n<path fill=\"#add8e6\" stroke=\"#000000\" d=\"M793,-102C793,-102 733,-102 733,-102 727,-102 721,-96 721,-90 721,-90 721,-76 721,-76 721,-70 727,-64 733,-64 733,-64 793,-64 793,-64 799,-64 805,-70 805,-76 805,-76 805,-90 805,-90 805,-96 799,-102 793,-102\"/>\n<text text-anchor=\"middle\" x=\"763\" y=\"-86.8\" font-family=\"Times,serif\" font-size=\"14.00\" fill=\"#000000\">LinBnDrop</text>\n<text text-anchor=\"middle\" x=\"763\" y=\"-71.8\" font-family=\"Times,serif\" font-size=\"14.00\" fill=\"#000000\">(100,2)</text>\n</a>\n</g>\n</g>\n<!-- n25548523949d4d8db3c0e1efe9dfa826&#45;&gt;n9a6cda4896cd422faf57311520a15c49 -->\n<g id=\"edge3\" class=\"edge\">\n<title>n25548523949d4d8db3c0e1efe9dfa826&#45;&gt;n9a6cda4896cd422faf57311520a15c49</title>\n<path fill=\"none\" stroke=\"#000000\" d=\"M685.3075,-83C693.4629,-83 702.0971,-83 710.5298,-83\"/>\n<polygon fill=\"#000000\" stroke=\"#000000\" points=\"710.6701,-86.5001 720.6701,-83 710.67,-79.5001 710.6701,-86.5001\"/>\n</g>\n<!-- n12553fd1051e4971bcc0e7b214273f3b -->\n<g id=\"node8\" class=\"node\">\n<title>n12553fd1051e4971bcc0e7b214273f3b</title>\n<g id=\"a_node8\"><a xlink:title=\"BatchNorm1d\">\n<path fill=\"#ffc0cb\" stroke=\"#000000\" d=\"M102,-248C102,-248 28,-248 28,-248 22,-248 16,-242 16,-236 16,-236 16,-224 16,-224 16,-218 22,-212 28,-212 28,-212 102,-212 102,-212 108,-212 114,-218 114,-224 114,-224 114,-236 114,-236 114,-242 108,-248 102,-248\"/>\n<text text-anchor=\"middle\" x=\"65\" y=\"-226.3\" font-family=\"Times,serif\" font-size=\"14.00\" fill=\"#000000\">BatchNorm1d</text>\n</a>\n</g>\n</g>\n<!-- n3f0ba4c43a174e2986a4440d71f9b6b0 -->\n<g id=\"node9\" class=\"node\">\n<title>n3f0ba4c43a174e2986a4440d71f9b6b0</title>\n<g id=\"a_node9\"><a xlink:title=\"Dropout\">\n<path fill=\"#ffd700\" stroke=\"#000000\" d=\"M247.5,-248C247.5,-248 206.5,-248 206.5,-248 200.5,-248 194.5,-242 194.5,-236 194.5,-236 194.5,-224 194.5,-224 194.5,-218 200.5,-212 206.5,-212 206.5,-212 247.5,-212 247.5,-212 253.5,-212 259.5,-218 259.5,-224 259.5,-224 259.5,-236 259.5,-236 259.5,-242 253.5,-248 247.5,-248\"/>\n<text text-anchor=\"middle\" x=\"227\" y=\"-226.3\" font-family=\"Times,serif\" font-size=\"14.00\" fill=\"#000000\">Dropout</text>\n</a>\n</g>\n</g>\n<!-- n12553fd1051e4971bcc0e7b214273f3b&#45;&gt;n3f0ba4c43a174e2986a4440d71f9b6b0 -->\n<g id=\"edge4\" class=\"edge\">\n<title>n12553fd1051e4971bcc0e7b214273f3b&#45;&gt;n3f0ba4c43a174e2986a4440d71f9b6b0</title>\n<path fill=\"none\" stroke=\"#000000\" d=\"M114.045,-230C136.2935,-230 162.3726,-230 183.8633,-230\"/>\n<polygon fill=\"#000000\" stroke=\"#000000\" points=\"184.0079,-233.5001 194.0079,-230 184.0078,-226.5001 184.0079,-233.5001\"/>\n</g>\n<!-- n75e9b07d307d41499e203d6f49ee34f2 -->\n<g id=\"node10\" class=\"node\">\n<title>n75e9b07d307d41499e203d6f49ee34f2</title>\n<g id=\"a_node10\"><a xlink:title=\"Linear\">\n<path fill=\"#add8e6\" stroke=\"#000000\" d=\"M400,-248C400,-248 370,-248 370,-248 364,-248 358,-242 358,-236 358,-236 358,-224 358,-224 358,-218 364,-212 370,-212 370,-212 400,-212 400,-212 406,-212 412,-218 412,-224 412,-224 412,-236 412,-236 412,-242 406,-248 400,-248\"/>\n<text text-anchor=\"middle\" x=\"385\" y=\"-226.3\" font-family=\"Times,serif\" font-size=\"14.00\" fill=\"#000000\">Linear</text>\n</a>\n</g>\n</g>\n<!-- n3f0ba4c43a174e2986a4440d71f9b6b0&#45;&gt;n75e9b07d307d41499e203d6f49ee34f2 -->\n<g id=\"edge5\" class=\"edge\">\n<title>n3f0ba4c43a174e2986a4440d71f9b6b0&#45;&gt;n75e9b07d307d41499e203d6f49ee34f2</title>\n<path fill=\"none\" stroke=\"#000000\" d=\"M259.7377,-230C285.3524,-230 320.9857,-230 347.7005,-230\"/>\n<polygon fill=\"#000000\" stroke=\"#000000\" points=\"347.8234,-233.5001 357.8234,-230 347.8233,-226.5001 347.8234,-233.5001\"/>\n</g>\n<!-- n22116590bb8f4cc3bdbadca821569594 -->\n<g id=\"node11\" class=\"node\">\n<title>n22116590bb8f4cc3bdbadca821569594</title>\n<g id=\"a_node11\"><a xlink:title=\"ReLU\">\n<path fill=\"#c0c0c0\" stroke=\"#000000\" d=\"M538,-248C538,-248 508,-248 508,-248 502,-248 496,-242 496,-236 496,-236 496,-224 496,-224 496,-218 502,-212 508,-212 508,-212 538,-212 538,-212 544,-212 550,-218 550,-224 550,-224 550,-236 550,-236 550,-242 544,-248 538,-248\"/>\n<text text-anchor=\"middle\" x=\"523\" y=\"-226.3\" font-family=\"Times,serif\" font-size=\"14.00\" fill=\"#000000\">ReLU</text>\n</a>\n</g>\n</g>\n<!-- n75e9b07d307d41499e203d6f49ee34f2&#45;&gt;n22116590bb8f4cc3bdbadca821569594 -->\n<g id=\"edge6\" class=\"edge\">\n<title>n75e9b07d307d41499e203d6f49ee34f2&#45;&gt;n22116590bb8f4cc3bdbadca821569594</title>\n<path fill=\"none\" stroke=\"#000000\" d=\"M412.2644,-230C433.2445,-230 462.4706,-230 485.6299,-230\"/>\n<polygon fill=\"#000000\" stroke=\"#000000\" points=\"485.7923,-233.5001 495.7923,-230 485.7922,-226.5001 485.7923,-233.5001\"/>\n</g>\n</g>\n</svg>\n"
          },
          "metadata": {
            "tags": []
          },
          "execution_count": 40
        }
      ]
    },
    {
      "cell_type": "markdown",
      "metadata": {
        "id": "hWI1XykZu5ta",
        "colab_type": "text"
      },
      "source": [
        "How does this compare to TabNet? This is TabNet:"
      ]
    },
    {
      "cell_type": "markdown",
      "metadata": {
        "id": "eBtwPm2BHIaL",
        "colab_type": "text"
      },
      "source": [
        "## Hide"
      ]
    },
    {
      "cell_type": "code",
      "metadata": {
        "id": "dbkBB_61x9-v",
        "colab_type": "code",
        "colab": {}
      },
      "source": [
        "block1, block2, block3, block4, block5 = ['Preprocessed Input', 'Categorical\\nEmbeddings',\n",
        "                                  'Continous\\nBatch Normalization', 'TabNet', 'Output']"
      ],
      "execution_count": 0,
      "outputs": []
    },
    {
      "cell_type": "code",
      "metadata": {
        "id": "FNJIxt_K10Vu",
        "colab_type": "code",
        "colab": {}
      },
      "source": [
        "conns = ((block1, block2),\n",
        "         (block1, block3),\n",
        "         (block2, block4),\n",
        "         (block3, block4),\n",
        "         (block4, block5))"
      ],
      "execution_count": 0,
      "outputs": []
    },
    {
      "cell_type": "code",
      "metadata": {
        "id": "LIz_y8SF2d0J",
        "colab_type": "code",
        "colab": {}
      },
      "source": [
        ""
      ],
      "execution_count": 0,
      "outputs": []
    },
    {
      "cell_type": "code",
      "metadata": {
        "id": "BJnXaAc43GtK",
        "colab_type": "code",
        "colab": {}
      },
      "source": [
        ""
      ],
      "execution_count": 0,
      "outputs": []
    },
    {
      "cell_type": "code",
      "metadata": {
        "id": "Yv8m3LYq2i4S",
        "colab_type": "code",
        "colab": {}
      },
      "source": [
        "feat_tfmer = [*shared, *specifics]"
      ],
      "execution_count": 0,
      "outputs": []
    },
    {
      "cell_type": "code",
      "metadata": {
        "id": "w-D3wmm536F-",
        "colab_type": "code",
        "colab": {}
      },
      "source": [
        "fcc = ['Linear']"
      ],
      "execution_count": 0,
      "outputs": []
    },
    {
      "cell_type": "code",
      "metadata": {
        "id": "GHOk6GRT4eA0",
        "colab_type": "code",
        "colab": {}
      },
      "source": [
        ""
      ],
      "execution_count": 0,
      "outputs": []
    },
    {
      "cell_type": "code",
      "metadata": {
        "id": "Yv69wFRT94n6",
        "colab_type": "code",
        "colab": {}
      },
      "source": [
        "tabnet = ['Attention\\nTransformer', 'Feature\\nTransformer', 'Final\\nMapping (Linear)']"
      ],
      "execution_count": 0,
      "outputs": []
    },
    {
      "cell_type": "code",
      "metadata": {
        "id": "jfqXW9btCmTb",
        "colab_type": "code",
        "colab": {}
      },
      "source": [
        "def color(o):\n",
        "  if o == 'Embedding Matrix': return 'white'\n",
        "  if o == 'Input': return 'gray'\n",
        "  if 'Dropout' in o: return 'white'\n",
        "  if 'BatchNorm' in o: return 'pink'\n",
        "  if 'Att' in o: return 'lightblue'\n",
        "  if 'Feat' in o: return 'darkseagreen2'\n",
        "  if 'Mask' in o: return 'lightgray'\n",
        "  if 'Lin' in o: return 'gold2'\n",
        "  if 'Out' in o: return 'lightgray'\n",
        "  return 'white'\n",
        "\n",
        "node_defaults['fillcolor'] = color"
      ],
      "execution_count": 0,
      "outputs": []
    },
    {
      "cell_type": "code",
      "metadata": {
        "id": "HGmGrm8vEEl-",
        "colab_type": "code",
        "colab": {}
      },
      "source": [
        "def cluster_color(o):\n",
        "  if 'Attention' in o: return 'lightblue'\n",
        "  if 'Feat' in o: return 'darkseagreen2'\n",
        "  return 'lightgray'\n",
        "\n",
        "cluster_defaults['fillcolor'] = cluster_color"
      ],
      "execution_count": 0,
      "outputs": []
    },
    {
      "cell_type": "code",
      "metadata": {
        "id": "130JMXZtHnVK",
        "colab_type": "code",
        "colab": {}
      },
      "source": [
        "block1, block2, block3, block4, block5 = ['Preprocessed Input', 'Categorical\\nEmbeddings',\n",
        "                                  'Continous\\nBatch Normalization', 'TabNet', 'Output']"
      ],
      "execution_count": 0,
      "outputs": []
    },
    {
      "cell_type": "code",
      "metadata": {
        "id": "zwBSKJydHrJl",
        "colab_type": "code",
        "colab": {}
      },
      "source": [
        "out = ['Output', 'Mask_Loss', 'Mask_Explain', 'Masks']"
      ],
      "execution_count": 0,
      "outputs": []
    },
    {
      "cell_type": "code",
      "metadata": {
        "id": "QqMyR27J1_4d",
        "colab_type": "code",
        "colab": {}
      },
      "source": [
        "model = [\n",
        "         seq_cluster(inp, block1),\n",
        "         seq_cluster(layers_cat, block2),\n",
        "         seq_cluster(cont_bn, block3),\n",
        "         seq_cluster(tabnet, block4),\n",
        "         *Cluster(block5).add_items(*out),\n",
        "         ]"
      ],
      "execution_count": 0,
      "outputs": []
    },
    {
      "cell_type": "code",
      "metadata": {
        "id": "Hww_O26wHVjs",
        "colab_type": "code",
        "colab": {}
      },
      "source": [
        "conns = ((block1, block2),\n",
        "         (block1, block3),\n",
        "         (block2, block4),\n",
        "         (block3, block4),\n",
        "         (block4, out[0]),\n",
        "         (block4, out[1]),\n",
        "         (block4, out[2]),\n",
        "         (block4, out[3]))"
      ],
      "execution_count": 0,
      "outputs": []
    },
    {
      "cell_type": "code",
      "metadata": {
        "id": "imdu-ed9HwDK",
        "colab_type": "code",
        "colab": {
          "base_uri": "https://localhost:8080/",
          "height": 54
        },
        "outputId": "c052e25b-cf80-4b29-859a-4a1295ed5e48"
      },
      "source": [
        "g = graph_items(*model)\n",
        "g.add_items(*object_connections(conns))"
      ],
      "execution_count": 175,
      "outputs": [
        {
          "output_type": "execute_result",
          "data": {
            "text/plain": [
              "(#8) [<pydot.Edge object at 0x7fa9d96c8400>,<pydot.Edge object at 0x7fa9d96a16a0>,<pydot.Edge object at 0x7fa9d96b3a20>,<pydot.Edge object at 0x7fa9d96af3c8>,<pydot.Edge object at 0x7fa9d96c0da0>,<pydot.Edge object at 0x7fa9d9646780>,<pydot.Edge object at 0x7fa9d96b77b8>,<pydot.Edge object at 0x7fa9d9816630>]"
            ]
          },
          "metadata": {
            "tags": []
          },
          "execution_count": 175
        }
      ]
    },
    {
      "cell_type": "code",
      "metadata": {
        "id": "iPe4opkEH1n7",
        "colab_type": "code",
        "colab": {}
      },
      "source": [
        "att_tfmer = ['Linear', 'GhostBatchNorm', 'torch.mul(x, prior)', 'Sparsemax']\n",
        "shared = ['Linear\\n(ni, 80)', 'Linear\\n(ni-2, 80)']\n",
        "specifics = ['GLU Block']\n",
        "feat_tfmer = [*shared, *specifics]"
      ],
      "execution_count": 0,
      "outputs": []
    },
    {
      "cell_type": "code",
      "metadata": {
        "id": "QBBs-Rf-IAdb",
        "colab_type": "code",
        "colab": {}
      },
      "source": [
        "att_clus = seq_cluster(att_tfmer, 'Attention Transformer')\n",
        "feat_clus = seq_cluster(feat_tfmer, 'Feature Transformer')"
      ],
      "execution_count": 0,
      "outputs": []
    },
    {
      "cell_type": "markdown",
      "metadata": {
        "id": "YO_oVhktICz0",
        "colab_type": "text"
      },
      "source": [
        "## Graphs"
      ]
    },
    {
      "cell_type": "code",
      "metadata": {
        "id": "REjKBfbzHt7M",
        "colab_type": "code",
        "colab": {
          "base_uri": "https://localhost:8080/",
          "height": 345
        },
        "outputId": "4d2073f8-fa44-4d32-baf4-bc79e89d9437"
      },
      "source": [
        "g"
      ],
      "execution_count": 176,
      "outputs": [
        {
          "output_type": "execute_result",
          "data": {
            "text/plain": [
              "<pydot.Dot at 0x7fa9d968a518>"
            ],
            "image/svg+xml": "<?xml version=\"1.0\" encoding=\"UTF-8\" standalone=\"no\"?>\n<!DOCTYPE svg PUBLIC \"-//W3C//DTD SVG 1.1//EN\"\n \"http://www.w3.org/Graphics/SVG/1.1/DTD/svg11.dtd\">\n<!-- Generated by graphviz version 2.40.1 (20161225.0304)\n -->\n<!-- Title: G Pages: 1 -->\n<svg width=\"978pt\" height=\"228pt\"\n viewBox=\"0.00 0.00 978.00 228.00\" xmlns=\"http://www.w3.org/2000/svg\" xmlns:xlink=\"http://www.w3.org/1999/xlink\">\n<g id=\"graph0\" class=\"graph\" transform=\"scale(1 1) rotate(0) translate(4 224)\">\n<title>G</title>\n<polygon fill=\"#ffffff\" stroke=\"transparent\" points=\"-4,4 -4,-224 974,-224 974,4 -4,4\"/>\n<g id=\"clust1\" class=\"cluster\">\n<title>cluster_n69bba691913145a29ae3ba24a356379b</title>\n<g id=\"a_clust1\"><a xlink:title=\"Preprocessed Input\">\n<path fill=\"#d3d3d3\" stroke=\"#000000\" d=\"M12,-73C12,-73 113,-73 113,-73 119,-73 125,-79 125,-85 125,-85 125,-136 125,-136 125,-142 119,-148 113,-148 113,-148 12,-148 12,-148 6,-148 0,-142 0,-136 0,-136 0,-85 0,-85 0,-79 6,-73 12,-73\"/>\n<text text-anchor=\"middle\" x=\"62.5\" y=\"-132.8\" font-family=\"Times,serif\" font-size=\"14.00\" fill=\"#000000\">Preprocessed Input</text>\n</a>\n</g>\n</g>\n<g id=\"clust2\" class=\"cluster\">\n<title>cluster_n4a0489b5df2e4ea99f3a7e64f3311bee</title>\n<g id=\"a_clust2\"><a xlink:title=\"Categorical&#10;Embeddings\">\n<path fill=\"#d3d3d3\" stroke=\"#000000\" d=\"M157,-122C157,-122 402.5,-122 402.5,-122 408.5,-122 414.5,-128 414.5,-134 414.5,-134 414.5,-200 414.5,-200 414.5,-206 408.5,-212 402.5,-212 402.5,-212 157,-212 157,-212 151,-212 145,-206 145,-200 145,-200 145,-134 145,-134 145,-128 151,-122 157,-122\"/>\n<text text-anchor=\"middle\" x=\"279.75\" y=\"-196.8\" font-family=\"Times,serif\" font-size=\"14.00\" fill=\"#000000\">Categorical</text>\n<text text-anchor=\"middle\" x=\"279.75\" y=\"-181.8\" font-family=\"Times,serif\" font-size=\"14.00\" fill=\"#000000\">Embeddings</text>\n</a>\n</g>\n</g>\n<g id=\"clust3\" class=\"cluster\">\n<title>cluster_n55518dfbcfc946798753482761137097</title>\n<g id=\"a_clust3\"><a xlink:title=\"Continous&#10;Batch Normalization\">\n<path fill=\"#d3d3d3\" stroke=\"#000000\" d=\"M319,-24C319,-24 430,-24 430,-24 436,-24 442,-30 442,-36 442,-36 442,-102 442,-102 442,-108 436,-114 430,-114 430,-114 319,-114 319,-114 313,-114 307,-108 307,-102 307,-102 307,-36 307,-36 307,-30 313,-24 319,-24\"/>\n<text text-anchor=\"middle\" x=\"374.5\" y=\"-98.8\" font-family=\"Times,serif\" font-size=\"14.00\" fill=\"#000000\">Continous</text>\n<text text-anchor=\"middle\" x=\"374.5\" y=\"-83.8\" font-family=\"Times,serif\" font-size=\"14.00\" fill=\"#000000\">Batch Normalization</text>\n</a>\n</g>\n</g>\n<g id=\"clust4\" class=\"cluster\">\n<title>cluster_n5d99cbd28efd4b1fb81063ba30948b13</title>\n<g id=\"a_clust4\"><a xlink:title=\"TabNet\">\n<path fill=\"#d3d3d3\" stroke=\"#000000\" d=\"M474,-72C474,-72 829,-72 829,-72 835,-72 841,-78 841,-84 841,-84 841,-137 841,-137 841,-143 835,-149 829,-149 829,-149 474,-149 474,-149 468,-149 462,-143 462,-137 462,-137 462,-84 462,-84 462,-78 468,-72 474,-72\"/>\n<text text-anchor=\"middle\" x=\"651.5\" y=\"-133.8\" font-family=\"Times,serif\" font-size=\"14.00\" fill=\"#000000\">TabNet</text>\n</a>\n</g>\n</g>\n<!-- n973d0f7e41d14bc099d00a2668f94793 -->\n<g id=\"node1\" class=\"node\">\n<title>n973d0f7e41d14bc099d00a2668f94793</title>\n<g id=\"a_node1\"><a xlink:title=\"Input\">\n<path fill=\"#c0c0c0\" stroke=\"#000000\" d=\"M77,-117C77,-117 47,-117 47,-117 41,-117 35,-111 35,-105 35,-105 35,-93 35,-93 35,-87 41,-81 47,-81 47,-81 77,-81 77,-81 83,-81 89,-87 89,-93 89,-93 89,-105 89,-105 89,-111 83,-117 77,-117\"/>\n<text text-anchor=\"middle\" x=\"62\" y=\"-95.3\" font-family=\"Times,serif\" font-size=\"14.00\" fill=\"#000000\">Input</text>\n</a>\n</g>\n</g>\n<!-- n082baf498bdb4aff8cab21ed0af7b1bc -->\n<g id=\"node2\" class=\"node\">\n<title>n082baf498bdb4aff8cab21ed0af7b1bc</title>\n<g id=\"a_node2\"><a xlink:title=\"Embedding Matrix\">\n<path fill=\"#ffffff\" stroke=\"#000000\" d=\"M267,-166C267,-166 165,-166 165,-166 159,-166 153,-160 153,-154 153,-154 153,-142 153,-142 153,-136 159,-130 165,-130 165,-130 267,-130 267,-130 273,-130 279,-136 279,-142 279,-142 279,-154 279,-154 279,-160 273,-166 267,-166\"/>\n<text text-anchor=\"middle\" x=\"216\" y=\"-144.3\" font-family=\"Times,serif\" font-size=\"14.00\" fill=\"#000000\">Embedding Matrix</text>\n</a>\n</g>\n</g>\n<!-- n973d0f7e41d14bc099d00a2668f94793&#45;&gt;n082baf498bdb4aff8cab21ed0af7b1bc -->\n<g id=\"edge4\" class=\"edge\">\n<title>n973d0f7e41d14bc099d00a2668f94793&#45;&gt;n082baf498bdb4aff8cab21ed0af7b1bc</title>\n<path fill=\"none\" stroke=\"#000000\" d=\"M124.9961,-119.0442C128.375,-120.1193 131.7911,-121.2062 135.2171,-122.2964\"/>\n<polygon fill=\"#000000\" stroke=\"#000000\" points=\"134.4144,-125.7138 145.0049,-125.4106 136.5368,-119.0433 134.4144,-125.7138\"/>\n</g>\n<!-- n15bf013a5d794c269157211616b18dd0 -->\n<g id=\"node4\" class=\"node\">\n<title>n15bf013a5d794c269157211616b18dd0</title>\n<g id=\"a_node4\"><a xlink:title=\"BatchNorm1d\">\n<path fill=\"#ffc0cb\" stroke=\"#000000\" d=\"M411,-68C411,-68 337,-68 337,-68 331,-68 325,-62 325,-56 325,-56 325,-44 325,-44 325,-38 331,-32 337,-32 337,-32 411,-32 411,-32 417,-32 423,-38 423,-44 423,-44 423,-56 423,-56 423,-62 417,-68 411,-68\"/>\n<text text-anchor=\"middle\" x=\"374\" y=\"-46.3\" font-family=\"Times,serif\" font-size=\"14.00\" fill=\"#000000\">BatchNorm1d</text>\n</a>\n</g>\n</g>\n<!-- n973d0f7e41d14bc099d00a2668f94793&#45;&gt;n15bf013a5d794c269157211616b18dd0 -->\n<g id=\"edge5\" class=\"edge\">\n<title>n973d0f7e41d14bc099d00a2668f94793&#45;&gt;n15bf013a5d794c269157211616b18dd0</title>\n<path fill=\"none\" stroke=\"#000000\" d=\"M124.9966,-89.1063C174.5805,-81.3191 243.9076,-70.4312 296.8228,-62.1208\"/>\n<polygon fill=\"#000000\" stroke=\"#000000\" points=\"297.669,-65.5309 307.0049,-60.5217 296.5829,-58.6156 297.669,-65.5309\"/>\n</g>\n<!-- nfee2c6e95bbc4182b14b8a580600eff7 -->\n<g id=\"node3\" class=\"node\">\n<title>nfee2c6e95bbc4182b14b8a580600eff7</title>\n<g id=\"a_node3\"><a xlink:title=\"Dropout\">\n<path fill=\"#ffffff\" stroke=\"#000000\" d=\"M394.5,-166C394.5,-166 353.5,-166 353.5,-166 347.5,-166 341.5,-160 341.5,-154 341.5,-154 341.5,-142 341.5,-142 341.5,-136 347.5,-130 353.5,-130 353.5,-130 394.5,-130 394.5,-130 400.5,-130 406.5,-136 406.5,-142 406.5,-142 406.5,-154 406.5,-154 406.5,-160 400.5,-166 394.5,-166\"/>\n<text text-anchor=\"middle\" x=\"374\" y=\"-144.3\" font-family=\"Times,serif\" font-size=\"14.00\" fill=\"#000000\">Dropout</text>\n</a>\n</g>\n</g>\n<!-- n082baf498bdb4aff8cab21ed0af7b1bc&#45;&gt;nfee2c6e95bbc4182b14b8a580600eff7 -->\n<g id=\"edge1\" class=\"edge\">\n<title>n082baf498bdb4aff8cab21ed0af7b1bc&#45;&gt;nfee2c6e95bbc4182b14b8a580600eff7</title>\n<path fill=\"none\" stroke=\"#000000\" d=\"M279.3543,-148C296.82,-148 315.3486,-148 331.338,-148\"/>\n<polygon fill=\"#000000\" stroke=\"#000000\" points=\"331.4419,-151.5001 341.4419,-148 331.4419,-144.5001 331.4419,-151.5001\"/>\n</g>\n<!-- n9aff5b9db3b341568d65b04d368ce086 -->\n<g id=\"node5\" class=\"node\">\n<title>n9aff5b9db3b341568d65b04d368ce086</title>\n<g id=\"a_node5\"><a xlink:title=\"Attention&#10;Transformer\">\n<path fill=\"#add8e6\" stroke=\"#000000\" d=\"M544,-118C544,-118 482,-118 482,-118 476,-118 470,-112 470,-106 470,-106 470,-92 470,-92 470,-86 476,-80 482,-80 482,-80 544,-80 544,-80 550,-80 556,-86 556,-92 556,-92 556,-106 556,-106 556,-112 550,-118 544,-118\"/>\n<text text-anchor=\"middle\" x=\"513\" y=\"-102.8\" font-family=\"Times,serif\" font-size=\"14.00\" fill=\"#000000\">Attention</text>\n<text text-anchor=\"middle\" x=\"513\" y=\"-87.8\" font-family=\"Times,serif\" font-size=\"14.00\" fill=\"#000000\">Transformer</text>\n</a>\n</g>\n</g>\n<!-- nfee2c6e95bbc4182b14b8a580600eff7&#45;&gt;n9aff5b9db3b341568d65b04d368ce086 -->\n<g id=\"edge6\" class=\"edge\">\n<title>nfee2c6e95bbc4182b14b8a580600eff7&#45;&gt;n9aff5b9db3b341568d65b04d368ce086</title>\n<path fill=\"none\" stroke=\"#000000\" d=\"M414.4985,-133.7236C428.7254,-128.7083 444.9281,-122.9966 460.0262,-117.6742\"/>\n<polygon fill=\"#000000\" stroke=\"#000000\" points=\"456.021,-124.9682 462,-116.2214 451.8715,-119.3305 456.021,-124.9682\"/>\n</g>\n<!-- n15bf013a5d794c269157211616b18dd0&#45;&gt;n9aff5b9db3b341568d65b04d368ce086 -->\n<g id=\"edge7\" class=\"edge\">\n<title>n15bf013a5d794c269157211616b18dd0&#45;&gt;n9aff5b9db3b341568d65b04d368ce086</title>\n<path fill=\"none\" stroke=\"#000000\" d=\"M441.9959,-73.9698C448.161,-76.1431 454.3419,-78.322 460.3444,-80.4379\"/>\n<polygon fill=\"#000000\" stroke=\"#000000\" points=\"452.0998,-78.0613 462,-81.8348 456.6138,-72.711 452.0998,-78.0613\"/>\n</g>\n<!-- n1b1c2177713843b89209afb55442048a -->\n<g id=\"node6\" class=\"node\">\n<title>n1b1c2177713843b89209afb55442048a</title>\n<g id=\"a_node6\"><a xlink:title=\"Feature&#10;Transformer\">\n<path fill=\"#b4eeb4\" stroke=\"#000000\" d=\"M666,-118C666,-118 604,-118 604,-118 598,-118 592,-112 592,-106 592,-106 592,-92 592,-92 592,-86 598,-80 604,-80 604,-80 666,-80 666,-80 672,-80 678,-86 678,-92 678,-92 678,-106 678,-106 678,-112 672,-118 666,-118\"/>\n<text text-anchor=\"middle\" x=\"635\" y=\"-102.8\" font-family=\"Times,serif\" font-size=\"14.00\" fill=\"#000000\">Feature</text>\n<text text-anchor=\"middle\" x=\"635\" y=\"-87.8\" font-family=\"Times,serif\" font-size=\"14.00\" fill=\"#000000\">Transformer</text>\n</a>\n</g>\n</g>\n<!-- n9aff5b9db3b341568d65b04d368ce086&#45;&gt;n1b1c2177713843b89209afb55442048a -->\n<g id=\"edge2\" class=\"edge\">\n<title>n9aff5b9db3b341568d65b04d368ce086&#45;&gt;n1b1c2177713843b89209afb55442048a</title>\n<path fill=\"none\" stroke=\"#000000\" d=\"M556.0126,-99C564.395,-99 573.2751,-99 581.9379,-99\"/>\n<polygon fill=\"#000000\" stroke=\"#000000\" points=\"581.9646,-102.5001 591.9646,-99 581.9645,-95.5001 581.9646,-102.5001\"/>\n</g>\n<!-- n742b31293ee245d29c4b4882d704612d -->\n<g id=\"node7\" class=\"node\">\n<title>n742b31293ee245d29c4b4882d704612d</title>\n<g id=\"a_node7\"><a xlink:title=\"Final&#10;Mapping (Linear)\">\n<path fill=\"#eec900\" stroke=\"#000000\" d=\"M821,-118C821,-118 726,-118 726,-118 720,-118 714,-112 714,-106 714,-106 714,-92 714,-92 714,-86 720,-80 726,-80 726,-80 821,-80 821,-80 827,-80 833,-86 833,-92 833,-92 833,-106 833,-106 833,-112 827,-118 821,-118\"/>\n<text text-anchor=\"middle\" x=\"773.5\" y=\"-102.8\" font-family=\"Times,serif\" font-size=\"14.00\" fill=\"#000000\">Final</text>\n<text text-anchor=\"middle\" x=\"773.5\" y=\"-87.8\" font-family=\"Times,serif\" font-size=\"14.00\" fill=\"#000000\">Mapping (Linear)</text>\n</a>\n</g>\n</g>\n<!-- n1b1c2177713843b89209afb55442048a&#45;&gt;n742b31293ee245d29c4b4882d704612d -->\n<g id=\"edge3\" class=\"edge\">\n<title>n1b1c2177713843b89209afb55442048a&#45;&gt;n742b31293ee245d29c4b4882d704612d</title>\n<path fill=\"none\" stroke=\"#000000\" d=\"M678.0631,-99C686.2247,-99 694.9555,-99 703.6981,-99\"/>\n<polygon fill=\"#000000\" stroke=\"#000000\" points=\"703.9331,-102.5001 713.933,-99 703.933,-95.5001 703.9331,-102.5001\"/>\n</g>\n<!-- n08cae2e4ad514f54a3e98bf2d040784b -->\n<g id=\"node8\" class=\"node\">\n<title>n08cae2e4ad514f54a3e98bf2d040784b</title>\n<g id=\"a_node8\"><a xlink:title=\"Output\">\n<path fill=\"#d3d3d3\" stroke=\"#000000\" d=\"M936,-198C936,-198 903,-198 903,-198 897,-198 891,-192 891,-186 891,-186 891,-174 891,-174 891,-168 897,-162 903,-162 903,-162 936,-162 936,-162 942,-162 948,-168 948,-174 948,-174 948,-186 948,-186 948,-192 942,-198 936,-198\"/>\n<text text-anchor=\"middle\" x=\"919.5\" y=\"-176.3\" font-family=\"Times,serif\" font-size=\"14.00\" fill=\"#000000\">Output</text>\n</a>\n</g>\n</g>\n<!-- n742b31293ee245d29c4b4882d704612d&#45;&gt;n08cae2e4ad514f54a3e98bf2d040784b -->\n<g id=\"edge8\" class=\"edge\">\n<title>n742b31293ee245d29c4b4882d704612d&#45;&gt;n08cae2e4ad514f54a3e98bf2d040784b</title>\n<path fill=\"none\" stroke=\"#000000\" d=\"M840.9956,-137.4268C850.3822,-142.6943 859.9182,-148.0054 869,-153 873.1896,-155.3041 877.5874,-157.6954 881.9672,-160.0598\"/>\n<polygon fill=\"#000000\" stroke=\"#000000\" points=\"880.3944,-163.1879 890.8599,-164.8388 883.7081,-157.0219 880.3944,-163.1879\"/>\n</g>\n<!-- n02545a85b1c1458fbedcfe5f4484b84f -->\n<g id=\"node9\" class=\"node\">\n<title>n02545a85b1c1458fbedcfe5f4484b84f</title>\n<g id=\"a_node9\"><a xlink:title=\"Mask_Loss\">\n<path fill=\"#d3d3d3\" stroke=\"#000000\" d=\"M949,-144C949,-144 890,-144 890,-144 884,-144 878,-138 878,-132 878,-132 878,-120 878,-120 878,-114 884,-108 890,-108 890,-108 949,-108 949,-108 955,-108 961,-114 961,-120 961,-120 961,-132 961,-132 961,-138 955,-144 949,-144\"/>\n<text text-anchor=\"middle\" x=\"919.5\" y=\"-122.3\" font-family=\"Times,serif\" font-size=\"14.00\" fill=\"#000000\">Mask_Loss</text>\n</a>\n</g>\n</g>\n<!-- n742b31293ee245d29c4b4882d704612d&#45;&gt;n02545a85b1c1458fbedcfe5f4484b84f -->\n<g id=\"edge9\" class=\"edge\">\n<title>n742b31293ee245d29c4b4882d704612d&#45;&gt;n02545a85b1c1458fbedcfe5f4484b84f</title>\n<path fill=\"none\" stroke=\"#000000\" d=\"M840.998,-111.4825C850.0169,-113.1504 859.1484,-114.8391 867.8377,-116.446\"/>\n<polygon fill=\"#000000\" stroke=\"#000000\" points=\"867.3894,-119.9224 877.8592,-118.2993 868.6624,-113.0391 867.3894,-119.9224\"/>\n</g>\n<!-- nad73b0e0cccc4dda924fb6b280bf556d -->\n<g id=\"node10\" class=\"node\">\n<title>nad73b0e0cccc4dda924fb6b280bf556d</title>\n<g id=\"a_node10\"><a xlink:title=\"Mask_Explain\">\n<path fill=\"#d3d3d3\" stroke=\"#000000\" d=\"M958,-90C958,-90 881,-90 881,-90 875,-90 869,-84 869,-78 869,-78 869,-66 869,-66 869,-60 875,-54 881,-54 881,-54 958,-54 958,-54 964,-54 970,-60 970,-66 970,-66 970,-78 970,-78 970,-84 964,-90 958,-90\"/>\n<text text-anchor=\"middle\" x=\"919.5\" y=\"-68.3\" font-family=\"Times,serif\" font-size=\"14.00\" fill=\"#000000\">Mask_Explain</text>\n</a>\n</g>\n</g>\n<!-- n742b31293ee245d29c4b4882d704612d&#45;&gt;nad73b0e0cccc4dda924fb6b280bf556d -->\n<g id=\"edge10\" class=\"edge\">\n<title>n742b31293ee245d29c4b4882d704612d&#45;&gt;nad73b0e0cccc4dda924fb6b280bf556d</title>\n<path fill=\"none\" stroke=\"#000000\" d=\"M840.9979,-86.5175C847.0149,-85.4048 853.082,-84.2828 859.0344,-83.182\"/>\n<polygon fill=\"#000000\" stroke=\"#000000\" points=\"859.6828,-86.6215 868.8796,-81.3613 858.4098,-79.7382 859.6828,-86.6215\"/>\n</g>\n<!-- n16824f8a0ea347e5a722ef84d59cc614 -->\n<g id=\"node11\" class=\"node\">\n<title>n16824f8a0ea347e5a722ef84d59cc614</title>\n<g id=\"a_node11\"><a xlink:title=\"Masks\">\n<path fill=\"#d3d3d3\" stroke=\"#000000\" d=\"M934.5,-36C934.5,-36 904.5,-36 904.5,-36 898.5,-36 892.5,-30 892.5,-24 892.5,-24 892.5,-12 892.5,-12 892.5,-6 898.5,0 904.5,0 904.5,0 934.5,0 934.5,0 940.5,0 946.5,-6 946.5,-12 946.5,-12 946.5,-24 946.5,-24 946.5,-30 940.5,-36 934.5,-36\"/>\n<text text-anchor=\"middle\" x=\"919.5\" y=\"-14.3\" font-family=\"Times,serif\" font-size=\"14.00\" fill=\"#000000\">Masks</text>\n</a>\n</g>\n</g>\n<!-- n742b31293ee245d29c4b4882d704612d&#45;&gt;n16824f8a0ea347e5a722ef84d59cc614 -->\n<g id=\"edge11\" class=\"edge\">\n<title>n742b31293ee245d29c4b4882d704612d&#45;&gt;n16824f8a0ea347e5a722ef84d59cc614</title>\n<path fill=\"none\" stroke=\"#000000\" d=\"M820.7304,-72.002C836.0824,-63.3047 853.2261,-53.6748 869,-45 873.6184,-42.4601 878.4897,-39.8143 883.3111,-37.2153\"/>\n<polygon fill=\"#000000\" stroke=\"#000000\" points=\"885.2856,-40.1279 892.4418,-32.3152 881.9754,-33.96 885.2856,-40.1279\"/>\n</g>\n</g>\n</svg>\n"
          },
          "metadata": {
            "tags": []
          },
          "execution_count": 176
        }
      ]
    },
    {
      "cell_type": "code",
      "metadata": {
        "id": "nFNT4eDIGm4W",
        "colab_type": "code",
        "colab": {
          "base_uri": "https://localhost:8080/",
          "height": 156
        },
        "outputId": "01fb912b-1021-435c-f405-5f540f22fe1c"
      },
      "source": [
        "graph_items(feat_clus)"
      ],
      "execution_count": 179,
      "outputs": [
        {
          "output_type": "execute_result",
          "data": {
            "text/plain": [
              "<pydot.Dot at 0x7fa9d966f940>"
            ],
            "image/svg+xml": "<?xml version=\"1.0\" encoding=\"UTF-8\" standalone=\"no\"?>\n<!DOCTYPE svg PUBLIC \"-//W3C//DTD SVG 1.1//EN\"\n \"http://www.w3.org/Graphics/SVG/1.1/DTD/svg11.dtd\">\n<!-- Generated by graphviz version 2.40.1 (20161225.0304)\n -->\n<!-- Title: G Pages: 1 -->\n<svg width=\"327pt\" height=\"101pt\"\n viewBox=\"0.00 0.00 327.00 101.00\" xmlns=\"http://www.w3.org/2000/svg\" xmlns:xlink=\"http://www.w3.org/1999/xlink\">\n<g id=\"graph0\" class=\"graph\" transform=\"scale(1 1) rotate(0) translate(4 97)\">\n<title>G</title>\n<polygon fill=\"#ffffff\" stroke=\"transparent\" points=\"-4,4 -4,-97 323,-97 323,4 -4,4\"/>\n<g id=\"clust1\" class=\"cluster\">\n<title>cluster_n2f150d778aac43468cc10b8800f80b7c</title>\n<g id=\"a_clust1\"><a xlink:title=\"Feature Transformer\">\n<path fill=\"#b4eeb4\" stroke=\"#000000\" d=\"M20,-8C20,-8 299,-8 299,-8 305,-8 311,-14 311,-20 311,-20 311,-73 311,-73 311,-79 305,-85 299,-85 299,-85 20,-85 20,-85 14,-85 8,-79 8,-73 8,-73 8,-20 8,-20 8,-14 14,-8 20,-8\"/>\n<text text-anchor=\"middle\" x=\"159.5\" y=\"-69.8\" font-family=\"Times,serif\" font-size=\"14.00\" fill=\"#000000\">Feature Transformer</text>\n</a>\n</g>\n</g>\n<!-- n29e909cfd081451aba834363a466e0c9 -->\n<g id=\"node1\" class=\"node\">\n<title>n29e909cfd081451aba834363a466e0c9</title>\n<g id=\"a_node1\"><a xlink:title=\"Linear&#10;(ni, 80)\">\n<path fill=\"#eec900\" stroke=\"#000000\" d=\"M63,-54C63,-54 28,-54 28,-54 22,-54 16,-48 16,-42 16,-42 16,-28 16,-28 16,-22 22,-16 28,-16 28,-16 63,-16 63,-16 69,-16 75,-22 75,-28 75,-28 75,-42 75,-42 75,-48 69,-54 63,-54\"/>\n<text text-anchor=\"middle\" x=\"45.5\" y=\"-38.8\" font-family=\"Times,serif\" font-size=\"14.00\" fill=\"#000000\">Linear</text>\n<text text-anchor=\"middle\" x=\"45.5\" y=\"-23.8\" font-family=\"Times,serif\" font-size=\"14.00\" fill=\"#000000\">(ni, 80)</text>\n</a>\n</g>\n</g>\n<!-- n726c77f9b69e4ec989cbf80fafc6c7cf -->\n<g id=\"node2\" class=\"node\">\n<title>n726c77f9b69e4ec989cbf80fafc6c7cf</title>\n<g id=\"a_node2\"><a xlink:title=\"Linear&#10;(ni&#45;2, 80)\">\n<path fill=\"#eec900\" stroke=\"#000000\" d=\"M170,-54C170,-54 123,-54 123,-54 117,-54 111,-48 111,-42 111,-42 111,-28 111,-28 111,-22 117,-16 123,-16 123,-16 170,-16 170,-16 176,-16 182,-22 182,-28 182,-28 182,-42 182,-42 182,-48 176,-54 170,-54\"/>\n<text text-anchor=\"middle\" x=\"146.5\" y=\"-38.8\" font-family=\"Times,serif\" font-size=\"14.00\" fill=\"#000000\">Linear</text>\n<text text-anchor=\"middle\" x=\"146.5\" y=\"-23.8\" font-family=\"Times,serif\" font-size=\"14.00\" fill=\"#000000\">(ni&#45;2, 80)</text>\n</a>\n</g>\n</g>\n<!-- n29e909cfd081451aba834363a466e0c9&#45;&gt;n726c77f9b69e4ec989cbf80fafc6c7cf -->\n<g id=\"edge1\" class=\"edge\">\n<title>n29e909cfd081451aba834363a466e0c9&#45;&gt;n726c77f9b69e4ec989cbf80fafc6c7cf</title>\n<path fill=\"none\" stroke=\"#000000\" d=\"M75.2571,-35C83.2871,-35 92.164,-35 100.8479,-35\"/>\n<polygon fill=\"#000000\" stroke=\"#000000\" points=\"100.8912,-38.5001 110.8912,-35 100.8911,-31.5001 100.8912,-38.5001\"/>\n</g>\n<!-- n54fefc2cc3434f4eb123a97121e6a1e8 -->\n<g id=\"node3\" class=\"node\">\n<title>n54fefc2cc3434f4eb123a97121e6a1e8</title>\n<g id=\"a_node3\"><a xlink:title=\"GLU Block\">\n<path fill=\"#ffffff\" stroke=\"#000000\" d=\"M291,-53C291,-53 230,-53 230,-53 224,-53 218,-47 218,-41 218,-41 218,-29 218,-29 218,-23 224,-17 230,-17 230,-17 291,-17 291,-17 297,-17 303,-23 303,-29 303,-29 303,-41 303,-41 303,-47 297,-53 291,-53\"/>\n<text text-anchor=\"middle\" x=\"260.5\" y=\"-31.3\" font-family=\"Times,serif\" font-size=\"14.00\" fill=\"#000000\">GLU Block</text>\n</a>\n</g>\n</g>\n<!-- n726c77f9b69e4ec989cbf80fafc6c7cf&#45;&gt;n54fefc2cc3434f4eb123a97121e6a1e8 -->\n<g id=\"edge2\" class=\"edge\">\n<title>n726c77f9b69e4ec989cbf80fafc6c7cf&#45;&gt;n54fefc2cc3434f4eb123a97121e6a1e8</title>\n<path fill=\"none\" stroke=\"#000000\" d=\"M182.2575,-35C190.2422,-35 198.8759,-35 207.3931,-35\"/>\n<polygon fill=\"#000000\" stroke=\"#000000\" points=\"207.673,-38.5001 217.673,-35 207.673,-31.5001 207.673,-38.5001\"/>\n</g>\n</g>\n</svg>\n"
          },
          "metadata": {
            "tags": []
          },
          "execution_count": 179
        }
      ]
    },
    {
      "cell_type": "code",
      "metadata": {
        "id": "JpN4MAgkG9TC",
        "colab_type": "code",
        "colab": {
          "base_uri": "https://localhost:8080/",
          "height": 153
        },
        "outputId": "da75d6da-c997-4fc6-ab35-90a2a16f06ba"
      },
      "source": [
        "graph_items(att_clus)"
      ],
      "execution_count": 180,
      "outputs": [
        {
          "output_type": "execute_result",
          "data": {
            "text/plain": [
              "<pydot.Dot at 0x7fa9d98ad630>"
            ],
            "image/svg+xml": "<?xml version=\"1.0\" encoding=\"UTF-8\" standalone=\"no\"?>\n<!DOCTYPE svg PUBLIC \"-//W3C//DTD SVG 1.1//EN\"\n \"http://www.w3.org/Graphics/SVG/1.1/DTD/svg11.dtd\">\n<!-- Generated by graphviz version 2.40.1 (20161225.0304)\n -->\n<!-- Title: G Pages: 1 -->\n<svg width=\"523pt\" height=\"99pt\"\n viewBox=\"0.00 0.00 523.00 99.00\" xmlns=\"http://www.w3.org/2000/svg\" xmlns:xlink=\"http://www.w3.org/1999/xlink\">\n<g id=\"graph0\" class=\"graph\" transform=\"scale(1 1) rotate(0) translate(4 95)\">\n<title>G</title>\n<polygon fill=\"#ffffff\" stroke=\"transparent\" points=\"-4,4 -4,-95 519,-95 519,4 -4,4\"/>\n<g id=\"clust1\" class=\"cluster\">\n<title>cluster_n0b220cff35e64f53a0d5650052bbc4e3</title>\n<g id=\"a_clust1\"><a xlink:title=\"Attention Transformer\">\n<path fill=\"#add8e6\" stroke=\"#000000\" d=\"M20,-8C20,-8 495,-8 495,-8 501,-8 507,-14 507,-20 507,-20 507,-71 507,-71 507,-77 501,-83 495,-83 495,-83 20,-83 20,-83 14,-83 8,-77 8,-71 8,-71 8,-20 8,-20 8,-14 14,-8 20,-8\"/>\n<text text-anchor=\"middle\" x=\"257.5\" y=\"-67.8\" font-family=\"Times,serif\" font-size=\"14.00\" fill=\"#000000\">Attention Transformer</text>\n</a>\n</g>\n</g>\n<!-- ncdac5fa12000419895f3112fd542956b -->\n<g id=\"node1\" class=\"node\">\n<title>ncdac5fa12000419895f3112fd542956b</title>\n<g id=\"a_node1\"><a xlink:title=\"Linear\">\n<path fill=\"#eec900\" stroke=\"#000000\" d=\"M58,-52C58,-52 28,-52 28,-52 22,-52 16,-46 16,-40 16,-40 16,-28 16,-28 16,-22 22,-16 28,-16 28,-16 58,-16 58,-16 64,-16 70,-22 70,-28 70,-28 70,-40 70,-40 70,-46 64,-52 58,-52\"/>\n<text text-anchor=\"middle\" x=\"43\" y=\"-30.3\" font-family=\"Times,serif\" font-size=\"14.00\" fill=\"#000000\">Linear</text>\n</a>\n</g>\n</g>\n<!-- n5fae93e1fe804ead94bfe97cc5efb5c8 -->\n<g id=\"node2\" class=\"node\">\n<title>n5fae93e1fe804ead94bfe97cc5efb5c8</title>\n<g id=\"a_node2\"><a xlink:title=\"GhostBatchNorm\">\n<path fill=\"#ffc0cb\" stroke=\"#000000\" d=\"M212,-52C212,-52 118,-52 118,-52 112,-52 106,-46 106,-40 106,-40 106,-28 106,-28 106,-22 112,-16 118,-16 118,-16 212,-16 212,-16 218,-16 224,-22 224,-28 224,-28 224,-40 224,-40 224,-46 218,-52 212,-52\"/>\n<text text-anchor=\"middle\" x=\"165\" y=\"-30.3\" font-family=\"Times,serif\" font-size=\"14.00\" fill=\"#000000\">GhostBatchNorm</text>\n</a>\n</g>\n</g>\n<!-- ncdac5fa12000419895f3112fd542956b&#45;&gt;n5fae93e1fe804ead94bfe97cc5efb5c8 -->\n<g id=\"edge1\" class=\"edge\">\n<title>ncdac5fa12000419895f3112fd542956b&#45;&gt;n5fae93e1fe804ead94bfe97cc5efb5c8</title>\n<path fill=\"none\" stroke=\"#000000\" d=\"M70.0758,-34C77.7264,-34 86.421,-34 95.3684,-34\"/>\n<polygon fill=\"#000000\" stroke=\"#000000\" points=\"95.5357,-37.5001 105.5357,-34 95.5356,-30.5001 95.5357,-37.5001\"/>\n</g>\n<!-- n7034cf7c75034e57a04bf7e33aab5123 -->\n<g id=\"node3\" class=\"node\">\n<title>n7034cf7c75034e57a04bf7e33aab5123</title>\n<g id=\"a_node3\"><a xlink:title=\"torch.mul(x, prior)\">\n<path fill=\"#ffffff\" stroke=\"#000000\" d=\"M372,-52C372,-52 272,-52 272,-52 266,-52 260,-46 260,-40 260,-40 260,-28 260,-28 260,-22 266,-16 272,-16 272,-16 372,-16 372,-16 378,-16 384,-22 384,-28 384,-28 384,-40 384,-40 384,-46 378,-52 372,-52\"/>\n<text text-anchor=\"middle\" x=\"322\" y=\"-30.3\" font-family=\"Times,serif\" font-size=\"14.00\" fill=\"#000000\">torch.mul(x, prior)</text>\n</a>\n</g>\n</g>\n<!-- n5fae93e1fe804ead94bfe97cc5efb5c8&#45;&gt;n7034cf7c75034e57a04bf7e33aab5123 -->\n<g id=\"edge2\" class=\"edge\">\n<title>n5fae93e1fe804ead94bfe97cc5efb5c8&#45;&gt;n7034cf7c75034e57a04bf7e33aab5123</title>\n<path fill=\"none\" stroke=\"#000000\" d=\"M224.355,-34C232.6274,-34 241.2019,-34 249.6797,-34\"/>\n<polygon fill=\"#000000\" stroke=\"#000000\" points=\"249.946,-37.5001 259.9459,-34 249.9459,-30.5001 249.946,-37.5001\"/>\n</g>\n<!-- n21339f5f2f0d4ed1b4efd68f01239f98 -->\n<g id=\"node4\" class=\"node\">\n<title>n21339f5f2f0d4ed1b4efd68f01239f98</title>\n<g id=\"a_node4\"><a xlink:title=\"Sparsemax\">\n<path fill=\"#ffffff\" stroke=\"#000000\" d=\"M487,-52C487,-52 432,-52 432,-52 426,-52 420,-46 420,-40 420,-40 420,-28 420,-28 420,-22 426,-16 432,-16 432,-16 487,-16 487,-16 493,-16 499,-22 499,-28 499,-28 499,-40 499,-40 499,-46 493,-52 487,-52\"/>\n<text text-anchor=\"middle\" x=\"459.5\" y=\"-30.3\" font-family=\"Times,serif\" font-size=\"14.00\" fill=\"#000000\">Sparsemax</text>\n</a>\n</g>\n</g>\n<!-- n7034cf7c75034e57a04bf7e33aab5123&#45;&gt;n21339f5f2f0d4ed1b4efd68f01239f98 -->\n<g id=\"edge3\" class=\"edge\">\n<title>n7034cf7c75034e57a04bf7e33aab5123&#45;&gt;n21339f5f2f0d4ed1b4efd68f01239f98</title>\n<path fill=\"none\" stroke=\"#000000\" d=\"M384.3131,-34C392.8065,-34 401.4321,-34 409.6653,-34\"/>\n<polygon fill=\"#000000\" stroke=\"#000000\" points=\"409.8447,-37.5001 419.8446,-34 409.8446,-30.5001 409.8447,-37.5001\"/>\n</g>\n</g>\n</svg>\n"
          },
          "metadata": {
            "tags": []
          },
          "execution_count": 180
        }
      ]
    },
    {
      "cell_type": "markdown",
      "metadata": {
        "id": "kIxJD7lPIe40",
        "colab_type": "text"
      },
      "source": [
        "So a few things to note, we now have two transformers, one that keeps an eye on the features and another that keeps an eye on the attention. We could call the Attention transformer the **encoder** and the Feature transformer the **decoder**. What this attention let's us do is see *exactly* how our model is behaving, moreso than just how our feature importance and other techniques \"guess\""
      ]
    },
    {
      "cell_type": "markdown",
      "metadata": {
        "id": "TQpuuq_NIw76",
        "colab_type": "text"
      },
      "source": [
        "Now that we have this done, how do we make a model?"
      ]
    },
    {
      "cell_type": "markdown",
      "metadata": {
        "id": "RVxk_FSkIzIu",
        "colab_type": "text"
      },
      "source": [
        "# Using TabNet\n",
        "\n",
        "I have found in my experiments that TabNet isn't quite as good as fastai's tabular model, but as attention can be important and is a hot topic, we'll use it here. Another con of this model is it takes *many* epochs to get a decent accuracy as we will see:"
      ]
    },
    {
      "cell_type": "code",
      "metadata": {
        "id": "q1Wu9us9Ip-k",
        "colab_type": "code",
        "colab": {}
      },
      "source": [
        "from fast_tabnet.core import *"
      ],
      "execution_count": 0,
      "outputs": []
    },
    {
      "cell_type": "markdown",
      "metadata": {
        "id": "Bwz1iSuFI9qn",
        "colab_type": "text"
      },
      "source": [
        "First we need to grab the embedding matrix sizes:"
      ]
    },
    {
      "cell_type": "code",
      "metadata": {
        "id": "mZG4UF_NI6VX",
        "colab_type": "code",
        "colab": {
          "base_uri": "https://localhost:8080/",
          "height": 34
        },
        "outputId": "1c2926e8-e32c-4a18-dd12-5c223b99c0d7"
      },
      "source": [
        "emb_szs = get_emb_sz(to); emb_szs"
      ],
      "execution_count": 190,
      "outputs": [
        {
          "output_type": "execute_result",
          "data": {
            "text/plain": [
              "[(10, 6), (17, 8), (8, 5), (16, 8), (7, 5), (6, 4), (3, 3)]"
            ]
          },
          "metadata": {
            "tags": []
          },
          "execution_count": 190
        }
      ]
    },
    {
      "cell_type": "markdown",
      "metadata": {
        "id": "XwWMigqOJDQJ",
        "colab_type": "text"
      },
      "source": [
        "And now we can make use of our model! There's many different values we can pass in, here's a brief summary:\n",
        "\n",
        "* `n_d`: Dimensions of the prediction layer (usually between 4 to 64)\n",
        "* `n_a`: Dimensions of the attention layer (similar to `n_d`)\n",
        "* `n_steps`: Number of sucessive steps in our network (usually 3 to 10)\n",
        "* `gamma`: A scalling factor for updating attention (usually between 1.0 to 2.0)\n",
        "* `momentum`: Momentum in all batch normalization\n",
        "* `n_independent`: Number of independant GLU layers in each block (default is 2)\n",
        "* `n_shared`: Number of shared GLU layers in each block (default is 2)\n",
        "* `epsilon`: Should be kept very low (avoid `log(0)`"
      ]
    },
    {
      "cell_type": "markdown",
      "metadata": {
        "id": "bwap4SC6JkdS",
        "colab_type": "text"
      },
      "source": [
        "Let's build one similar to the model we showed in the above. To do so we'll set the dimensions of the prediction layer to 8, the number of attention layer dimensions to 32, and our steps to 4:"
      ]
    },
    {
      "cell_type": "code",
      "metadata": {
        "id": "o7fNqwgGNNs9",
        "colab_type": "code",
        "colab": {}
      },
      "source": [
        "class TabNetModel(Module):\n",
        "    \"Attention model for tabular data.\"\n",
        "    def __init__(self, emb_szs, n_cont, out_sz, embed_p=0., y_range=None,\n",
        "                 n_d=8, n_a=8,\n",
        "                 n_steps=3, gamma=1.3,\n",
        "                 n_independent=2, n_shared=2, epsilon=1e-15,\n",
        "                 virtual_batch_size=128, momentum=0.02):\n",
        "        self.embeds = nn.ModuleList([Embedding(ni, nf) for ni,nf in emb_szs])\n",
        "        self.emb_drop = nn.Dropout(embed_p)\n",
        "        self.bn_cont = nn.BatchNorm1d(n_cont)\n",
        "        n_emb = sum(e.embedding_dim for e in self.embeds)\n",
        "        self.n_emb,self.n_cont,self.y_range = n_emb,n_cont,y_range\n",
        "        self.tab_net = TabNetNoEmbeddings(n_emb + n_cont, out_sz, n_d, n_a, n_steps,\n",
        "                                          gamma, n_independent, n_shared, epsilon, virtual_batch_size, momentum)\n",
        "\n",
        "    def forward(self, x_cat, x_cont, att=False):\n",
        "        if self.n_emb != 0:\n",
        "            x = [e(x_cat[:,i]) for i,e in enumerate(self.embeds)]\n",
        "            x = torch.cat(x, 1)\n",
        "            x = self.emb_drop(x)\n",
        "        if self.n_cont != 0:\n",
        "            x_cont = self.bn_cont(x_cont)\n",
        "            x = torch.cat([x, x_cont], 1) if self.n_emb != 0 else x_cont\n",
        "        if att:\n",
        "          x, m_loss, m_explain, masks = self.tab_net(x)\n",
        "        x, _, _, _ = self.tab_net(x)\n",
        "        if self.y_range is not None:\n",
        "            x = (self.y_range[1]-self.y_range[0]) * torch.sigmoid(x) + self.y_range[0]\n",
        "        if att:\n",
        "          return x, m_loss, m_explain, masks\n",
        "        return x"
      ],
      "execution_count": 0,
      "outputs": []
    },
    {
      "cell_type": "markdown",
      "metadata": {
        "id": "OWnyk-PTLRRa",
        "colab_type": "text"
      },
      "source": [
        "First we need to make new `DataLoaders` because we currently have a batch size of 1"
      ]
    },
    {
      "cell_type": "code",
      "metadata": {
        "id": "1mO7lR3zLJsu",
        "colab_type": "code",
        "colab": {}
      },
      "source": [
        "dls = to.dataloaders(bs=1024)"
      ],
      "execution_count": 0,
      "outputs": []
    },
    {
      "cell_type": "markdown",
      "metadata": {
        "id": "cX97PWNtLVWR",
        "colab_type": "text"
      },
      "source": [
        "Then build the model:"
      ]
    },
    {
      "cell_type": "code",
      "metadata": {
        "id": "tXDlBEU0JCLf",
        "colab_type": "code",
        "colab": {}
      },
      "source": [
        "net = TabNetModel(emb_szs, len(to.cont_names), dls.c, n_d=8, n_a=32, n_steps=1); "
      ],
      "execution_count": 0,
      "outputs": []
    },
    {
      "cell_type": "markdown",
      "metadata": {
        "id": "9XcYO7WxKDdk",
        "colab_type": "text"
      },
      "source": [
        "Finally we'll build our `Learner` and use the `ranger` optimizer:"
      ]
    },
    {
      "cell_type": "code",
      "metadata": {
        "id": "B1cBl1grKDBp",
        "colab_type": "code",
        "colab": {}
      },
      "source": [
        "learn = Learner(dls, net, CrossEntropyLossFlat(), metrics=accuracy, opt_func=ranger)"
      ],
      "execution_count": 0,
      "outputs": []
    },
    {
      "cell_type": "code",
      "metadata": {
        "id": "cHcEee1rKN4c",
        "colab_type": "code",
        "colab": {
          "base_uri": "https://localhost:8080/",
          "height": 300
        },
        "outputId": "3207b9ec-ca6b-4271-d6a6-db2538889979"
      },
      "source": [
        "learn.lr_find()"
      ],
      "execution_count": 243,
      "outputs": [
        {
          "output_type": "display_data",
          "data": {
            "text/html": [
              ""
            ],
            "text/plain": [
              "<IPython.core.display.HTML object>"
            ]
          },
          "metadata": {
            "tags": []
          }
        },
        {
          "output_type": "execute_result",
          "data": {
            "text/plain": [
              "SuggestedLRs(lr_min=0.2754228591918945, lr_steep=0.17378008365631104)"
            ]
          },
          "metadata": {
            "tags": []
          },
          "execution_count": 243
        },
        {
          "output_type": "display_data",
          "data": {
            "image/png": "[encoded data removed]",
            "text/plain": [
              "<Figure size 432x288 with 1 Axes>"
            ]
          },
          "metadata": {
            "tags": []
          }
        }
      ]
    },
    {
      "cell_type": "code",
      "metadata": {
        "id": "_-PWy6afKO6s",
        "colab_type": "code",
        "colab": {
          "base_uri": "https://localhost:8080/",
          "height": 204
        },
        "outputId": "1d1542e9-cd6a-4875-804a-f8480d60e187"
      },
      "source": [
        "learn.fit_flat_cos(5, 1e-1)"
      ],
      "execution_count": 244,
      "outputs": [
        {
          "output_type": "display_data",
          "data": {
            "text/html": [
              "<table border=\"1\" class=\"dataframe\">\n",
              "  <thead>\n",
              "    <tr style=\"text-align: left;\">\n",
              "      <th>epoch</th>\n",
              "      <th>train_loss</th>\n",
              "      <th>valid_loss</th>\n",
              "      <th>accuracy</th>\n",
              "      <th>time</th>\n",
              "    </tr>\n",
              "  </thead>\n",
              "  <tbody>\n",
              "    <tr>\n",
              "      <td>0</td>\n",
              "      <td>0.483154</td>\n",
              "      <td>0.406819</td>\n",
              "      <td>0.814650</td>\n",
              "      <td>00:02</td>\n",
              "    </tr>\n",
              "    <tr>\n",
              "      <td>1</td>\n",
              "      <td>0.416817</td>\n",
              "      <td>0.376350</td>\n",
              "      <td>0.823864</td>\n",
              "      <td>00:02</td>\n",
              "    </tr>\n",
              "    <tr>\n",
              "      <td>2</td>\n",
              "      <td>0.388344</td>\n",
              "      <td>0.369561</td>\n",
              "      <td>0.826474</td>\n",
              "      <td>00:02</td>\n",
              "    </tr>\n",
              "    <tr>\n",
              "      <td>3</td>\n",
              "      <td>0.374160</td>\n",
              "      <td>0.364151</td>\n",
              "      <td>0.831542</td>\n",
              "      <td>00:02</td>\n",
              "    </tr>\n",
              "    <tr>\n",
              "      <td>4</td>\n",
              "      <td>0.364801</td>\n",
              "      <td>0.359283</td>\n",
              "      <td>0.836456</td>\n",
              "      <td>00:02</td>\n",
              "    </tr>\n",
              "  </tbody>\n",
              "</table>"
            ],
            "text/plain": [
              "<IPython.core.display.HTML object>"
            ]
          },
          "metadata": {
            "tags": []
          }
        }
      ]
    },
    {
      "cell_type": "markdown",
      "metadata": {
        "id": "q7bHMt_GL5Yv",
        "colab_type": "text"
      },
      "source": [
        "Now as you can see it actually didn't take that long to get to the 83% fairly quickly. On my other tests I wasn't able to do quite as well but try it out! The code is here for you to use and play with."
      ]
    }
  ]
}