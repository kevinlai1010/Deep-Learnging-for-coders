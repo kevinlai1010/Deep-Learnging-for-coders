{
  "nbformat": 4,
  "nbformat_minor": 0,
  "metadata": {
    "colab": {
      "name": "3a Tabular.ipynb",
      "provenance": []
    },
    "kernelspec": {
      "name": "python3",
      "display_name": "Python 3"
    },
    "accelerator": "GPU"
  },
  "cells": [
    {
      "cell_type": "markdown",
      "metadata": {
        "id": "iDa9ZUtugSSo",
        "colab_type": "text"
      },
      "source": [
        "# Notebook 3a: Tabular Data\n",
        "\n",
        "This notebook will go over how the new API operates on Tabular data with the standard API, and 3b will go over utilizing RAPIDs"
      ]
    },
    {
      "cell_type": "markdown",
      "metadata": {
        "id": "MG_kYmqLgkkC",
        "colab_type": "text"
      },
      "source": [
        "First let's install the library again (if you have not already)"
      ]
    },
    {
      "cell_type": "code",
      "metadata": {
        "id": "AZGnJ1U1gINu",
        "colab_type": "code",
        "outputId": "fd8e19b7-4f1f-47dc-8095-b83b871f6b63",
        "colab": {
          "base_uri": "https://localhost:8080/",
          "height": 340
        }
      },
      "source": [
        "#import os\n",
        "#!pip install -q torch torchvision feather-format kornia pyarrow Pillow wandb nbdev fastprogress --upgrade \n",
        "#!pip install -q git+https://github.com/fastai/fastcore  --upgrade\n",
        "#!pip install -q git+https://github.com/fastai/fastai2 --upgrade\n",
        "#os._exit(00)"
      ],
      "execution_count": 0,
      "outputs": [
        {
          "output_type": "stream",
          "text": [
            "\u001b[K     |████████████████████████████████| 122kB 2.8MB/s \n",
            "\u001b[K     |████████████████████████████████| 59.2MB 131kB/s \n",
            "\u001b[K     |████████████████████████████████| 2.1MB 32.0MB/s \n",
            "\u001b[K     |████████████████████████████████| 1.3MB 57.7MB/s \n",
            "\u001b[K     |████████████████████████████████| 460kB 73.8MB/s \n",
            "\u001b[K     |████████████████████████████████| 92kB 14.4MB/s \n",
            "\u001b[K     |████████████████████████████████| 92kB 13.1MB/s \n",
            "\u001b[K     |████████████████████████████████| 102kB 16.3MB/s \n",
            "\u001b[K     |████████████████████████████████| 256kB 41.6MB/s \n",
            "\u001b[K     |████████████████████████████████| 71kB 11.0MB/s \n",
            "\u001b[K     |████████████████████████████████| 184kB 67.1MB/s \n",
            "\u001b[?25h  Building wheel for watchdog (setup.py) ... \u001b[?25l\u001b[?25hdone\n",
            "  Building wheel for subprocess32 (setup.py) ... \u001b[?25l\u001b[?25hdone\n",
            "  Building wheel for shortuuid (setup.py) ... \u001b[?25l\u001b[?25hdone\n",
            "  Building wheel for gql (setup.py) ... \u001b[?25l\u001b[?25hdone\n",
            "  Building wheel for pathtools (setup.py) ... \u001b[?25l\u001b[?25hdone\n",
            "\u001b[31mERROR: albumentations 0.1.12 has requirement imgaug<0.2.7,>=0.2.5, but you'll have imgaug 0.2.9 which is incompatible.\u001b[0m\n",
            "  Building wheel for fastcore (setup.py) ... \u001b[?25l\u001b[?25hdone\n",
            "  Building wheel for fastai2 (setup.py) ... \u001b[?25l\u001b[?25hdone\n"
          ],
          "name": "stdout"
        }
      ]
    },
    {
      "cell_type": "markdown",
      "metadata": {
        "id": "73bJoxqSg7NN",
        "colab_type": "text"
      },
      "source": [
        "To use the tabular libraries, we need to import the `tabular` modules, and the callbacks (to use `one_cycle`)"
      ]
    },
    {
      "cell_type": "code",
      "metadata": {
        "id": "jh7GKkNWgoLN",
        "colab_type": "code",
        "colab": {}
      },
      "source": [
        "from fastai2.basics import *\n",
        "from fastai2.tabular.all import *\n",
        "from fastai2.callback.all import *"
      ],
      "execution_count": 0,
      "outputs": []
    },
    {
      "cell_type": "markdown",
      "metadata": {
        "id": "7djwxMSdhbwC",
        "colab_type": "text"
      },
      "source": [
        "We'll be using the ADULT's `datafram` as per usual, with our old variable setup"
      ]
    },
    {
      "cell_type": "code",
      "metadata": {
        "id": "deZVo_nWhaRC",
        "colab_type": "code",
        "colab": {
          "base_uri": "https://localhost:8080/",
          "height": 37
        },
        "outputId": "83d13279-ba4d-421f-b39e-17383933034d"
      },
      "source": [
        "path = untar_data(URLs.ADULT_SAMPLE)\n",
        "df = pd.read_csv(path/'adult.csv')"
      ],
      "execution_count": 3,
      "outputs": [
        {
          "output_type": "display_data",
          "data": {
            "text/html": [
              "\n",
              "    <div>\n",
              "        <style>\n",
              "            /* Turns off some styling */\n",
              "            progress {\n",
              "                /* gets rid of default border in Firefox and Opera. */\n",
              "                border: none;\n",
              "                /* Needs to be in here for Safari polyfill so background images work as expected. */\n",
              "                background-size: auto;\n",
              "            }\n",
              "            .progress-bar-interrupted, .progress-bar-interrupted::-webkit-progress-bar {\n",
              "                background: #F44336;\n",
              "            }\n",
              "        </style>\n",
              "      <progress value='968212' class='' max='968212', style='width:300px; height:20px; vertical-align: middle;'></progress>\n",
              "      100.00% [968212/968212 00:01<00:00]\n",
              "    </div>\n",
              "    "
            ],
            "text/plain": [
              "<IPython.core.display.HTML object>"
            ]
          },
          "metadata": {
            "tags": []
          }
        }
      ]
    },
    {
      "cell_type": "markdown",
      "metadata": {
        "id": "ygTJ4B-mSAf6",
        "colab_type": "text"
      },
      "source": [
        "We'll want to declare our categorical variables, continuous variables, as well as our pre-processors for our data (Categorify, Normalize, and FillMissing)"
      ]
    },
    {
      "cell_type": "code",
      "metadata": {
        "id": "YIAqvC_2hnKw",
        "colab_type": "code",
        "colab": {}
      },
      "source": [
        "cat_names = ['workclass', 'education', 'marital-status', 'occupation', 'relationship', 'race']\n",
        "cont_names = ['age', 'fnlwgt', 'education-num']\n",
        "procs = [Categorify, FillMissing, Normalize]"
      ],
      "execution_count": 0,
      "outputs": []
    },
    {
      "cell_type": "markdown",
      "metadata": {
        "id": "RSHjvS_5hu5M",
        "colab_type": "text"
      },
      "source": [
        "Now let's get into the new stuff. So before, we had something like the following to create a `TabularList`"
      ]
    },
    {
      "cell_type": "code",
      "metadata": {
        "id": "3Ui40qH4hq-f",
        "colab_type": "code",
        "colab": {}
      },
      "source": [
        "### DO NOT RUN! JUST FOR SHOW OF HOW THE 1.0 API LOOKED ###\n",
        "data = (TabularList.from_df(df, path=path, cat_names=cat_names, cont_names=cont_names, procs=procs)\n",
        "                           .split_by_idx(list(range(800,1000)))\n",
        "                           .label_from_df(cols=dep_var)\n",
        "                           .dataloaders())"
      ],
      "execution_count": 0,
      "outputs": []
    },
    {
      "cell_type": "markdown",
      "metadata": {
        "id": "wlzwUG-TiM-i",
        "colab_type": "text"
      },
      "source": [
        "Where essentially we build our `TabularList`, then choose how to split, then label, then dataloaders it. Quite a convoluted setup there. Let's see how the new API looks and handles it!\n",
        "\n",
        "We can still use our old procs, but now let's introduce you to the `RandomSplitter`. This function will split our dataframe's indexes randomly into 80/20. We just make a function call to it and then pass in a range we'd like to use. \n",
        "\n",
        "We'll use the `range_of` function that was made to grab the range our `dataframe` has"
      ]
    },
    {
      "cell_type": "code",
      "metadata": {
        "id": "aoUbRwIPiWFU",
        "colab_type": "code",
        "colab": {}
      },
      "source": [
        "splits = RandomSplitter()(range_of(df))"
      ],
      "execution_count": 0,
      "outputs": []
    },
    {
      "cell_type": "markdown",
      "metadata": {
        "id": "SFAQCTFhiwv8",
        "colab_type": "text"
      },
      "source": [
        "But what is `range_of` doing?"
      ]
    },
    {
      "cell_type": "code",
      "metadata": {
        "id": "VImcFP4riu7B",
        "colab_type": "code",
        "outputId": "2aa14273-630f-46aa-d2a3-3446658affca",
        "colab": {
          "base_uri": "https://localhost:8080/",
          "height": 34
        }
      },
      "source": [
        "rang = range_of(df); \n",
        "print(rang[:10], rang[-10:])"
      ],
      "execution_count": 7,
      "outputs": [
        {
          "output_type": "stream",
          "text": [
            "[0, 1, 2, 3, 4, 5, 6, 7, 8, 9] [32551, 32552, 32553, 32554, 32555, 32556, 32557, 32558, 32559, 32560]\n"
          ],
          "name": "stdout"
        }
      ]
    },
    {
      "cell_type": "markdown",
      "metadata": {
        "id": "n7YQ5i44jlhH",
        "colab_type": "text"
      },
      "source": [
        "And we can see that split then randomly split our index's into two lists! (the first value here is the length of the list)"
      ]
    },
    {
      "cell_type": "code",
      "metadata": {
        "id": "cf6-kigzjkKK",
        "colab_type": "code",
        "outputId": "2d7183ea-ba2c-449a-9ce0-931c8947fa43",
        "colab": {
          "base_uri": "https://localhost:8080/",
          "height": 51
        }
      },
      "source": [
        "splits"
      ],
      "execution_count": 8,
      "outputs": [
        {
          "output_type": "execute_result",
          "data": {
            "text/plain": [
              "((#26049) [26310,10505,30679,32520,9169,30975,15283,28455,1688,29727...],\n",
              " (#6512) [1500,8126,3549,18958,4257,26991,3518,8588,26729,23538...])"
            ]
          },
          "metadata": {
            "tags": []
          },
          "execution_count": 8
        }
      ]
    },
    {
      "cell_type": "markdown",
      "metadata": {
        "id": "nsYOxiMPi5Do",
        "colab_type": "text"
      },
      "source": [
        "Well, it's a list of indexes our dataframe has in it!"
      ]
    },
    {
      "cell_type": "markdown",
      "metadata": {
        "id": "GgW1Fl3YjHyM",
        "colab_type": "text"
      },
      "source": [
        "Great! So what's next? \n",
        "\n",
        "Now we can create a `TabularPandas` object! Think of it like our `TabularList` with a bit more parameters. We pass in the `dataframe`, our preprocessor steps (`procs`), our categorical and continuous variables, our `y` variable, and how we want to split our data!"
      ]
    },
    {
      "cell_type": "code",
      "metadata": {
        "id": "0UKInJ73izvO",
        "colab_type": "code",
        "colab": {}
      },
      "source": [
        "to = TabularPandas(df, procs=procs, cat_names=cat_names, cont_names=cont_names, y_names=\"salary\",\n",
        "                   splits=splits)"
      ],
      "execution_count": 0,
      "outputs": []
    },
    {
      "cell_type": "markdown",
      "metadata": {
        "id": "FwieTvivj0eY",
        "colab_type": "text"
      },
      "source": [
        "Along with this there is an optional `is_y_cat`, which will determine if you want a regression problem or not.\n",
        "\n",
        "So what is this `TabularPandas` object? Think of it like a Pandas Dataframe enhanced! We can use it a bit like a regular one, but yet it's already split and prepared to dataloaders!"
      ]
    },
    {
      "cell_type": "code",
      "metadata": {
        "id": "hU9I4jSnSSlL",
        "colab_type": "code",
        "colab": {
          "base_uri": "https://localhost:8080/",
          "height": 238
        },
        "outputId": "8a858537-ff7b-4b4b-cd47-9067edc0ce58"
      },
      "source": [
        "to.iloc[0:10]"
      ],
      "execution_count": 12,
      "outputs": [
        {
          "output_type": "execute_result",
          "data": {
            "text/plain": [
              "            age  workclass    fnlwgt  ...  age_na  fnlwgt_na  education-num_na\n",
              "26310  0.032767          5  1.498836  ...       1          1                 1\n",
              "10505 -0.699518          5 -0.579685  ...       1          1                 1\n",
              "30679 -1.285347          5  0.179223  ...       1          1                 1\n",
              "32520  2.595767          7 -0.764931  ...       1          1                 1\n",
              "9169  -0.113690          5 -1.305196  ...       1          1                 1\n",
              "30975 -1.578261          6 -1.213851  ...       1          1                 1\n",
              "15283 -0.699518          5 -0.205346  ...       1          1                 1\n",
              "28455  0.325681          5 -1.074966  ...       1          1                 1\n",
              "1688  -1.138890          5 -0.265252  ...       1          1                 1\n",
              "29727  0.325681          5 -1.254105  ...       1          1                 1\n",
              "\n",
              "[10 rows x 18 columns]"
            ]
          },
          "metadata": {
            "tags": []
          },
          "execution_count": 12
        }
      ]
    },
    {
      "cell_type": "markdown",
      "metadata": {
        "id": "mr1hO2I9kkiq",
        "colab_type": "text"
      },
      "source": [
        "## DataLoaders\n",
        "\n",
        "We can create our `DataLoaders` object a few different ways. The first I'll show you is very high-level and helps using defaults. Our `tp` object has a list of train and validation in it, so the last step is to simply `.dataloaders()` it!"
      ]
    },
    {
      "cell_type": "markdown",
      "metadata": {
        "id": "BtGscp_HlE6N",
        "colab_type": "text"
      },
      "source": [
        "### Method 1: Straight"
      ]
    },
    {
      "cell_type": "code",
      "metadata": {
        "id": "jZPBknTxlHLj",
        "colab_type": "code",
        "colab": {}
      },
      "source": [
        "dls = to.dataloaders()"
      ],
      "execution_count": 0,
      "outputs": []
    },
    {
      "cell_type": "code",
      "metadata": {
        "id": "s60gkn7KlKKQ",
        "colab_type": "code",
        "outputId": "8ac1fe88-3bc0-42dd-bfaa-5809d8b09ff5",
        "colab": {
          "base_uri": "https://localhost:8080/",
          "height": 359
        }
      },
      "source": [
        "dls.show_batch()"
      ],
      "execution_count": 14,
      "outputs": [
        {
          "output_type": "display_data",
          "data": {
            "text/html": [
              "<table border=\"1\" class=\"dataframe\">\n",
              "  <thead>\n",
              "    <tr style=\"text-align: right;\">\n",
              "      <th></th>\n",
              "      <th>workclass</th>\n",
              "      <th>education</th>\n",
              "      <th>marital-status</th>\n",
              "      <th>occupation</th>\n",
              "      <th>relationship</th>\n",
              "      <th>race</th>\n",
              "      <th>age_na</th>\n",
              "      <th>fnlwgt_na</th>\n",
              "      <th>education-num_na</th>\n",
              "      <th>age</th>\n",
              "      <th>fnlwgt</th>\n",
              "      <th>education-num</th>\n",
              "      <th>salary</th>\n",
              "    </tr>\n",
              "  </thead>\n",
              "  <tbody>\n",
              "    <tr>\n",
              "      <th>0</th>\n",
              "      <td>State-gov</td>\n",
              "      <td>Masters</td>\n",
              "      <td>Married-civ-spouse</td>\n",
              "      <td>Prof-specialty</td>\n",
              "      <td>Husband</td>\n",
              "      <td>White</td>\n",
              "      <td>False</td>\n",
              "      <td>False</td>\n",
              "      <td>False</td>\n",
              "      <td>41.000000</td>\n",
              "      <td>36998.995377</td>\n",
              "      <td>14.0</td>\n",
              "      <td>&gt;=50k</td>\n",
              "    </tr>\n",
              "    <tr>\n",
              "      <th>1</th>\n",
              "      <td>Private</td>\n",
              "      <td>1st-4th</td>\n",
              "      <td>Married-spouse-absent</td>\n",
              "      <td>Farming-fishing</td>\n",
              "      <td>Not-in-family</td>\n",
              "      <td>White</td>\n",
              "      <td>False</td>\n",
              "      <td>False</td>\n",
              "      <td>False</td>\n",
              "      <td>47.000000</td>\n",
              "      <td>343578.993892</td>\n",
              "      <td>2.0</td>\n",
              "      <td>&lt;50k</td>\n",
              "    </tr>\n",
              "    <tr>\n",
              "      <th>2</th>\n",
              "      <td>Private</td>\n",
              "      <td>10th</td>\n",
              "      <td>Never-married</td>\n",
              "      <td>Farming-fishing</td>\n",
              "      <td>Own-child</td>\n",
              "      <td>White</td>\n",
              "      <td>False</td>\n",
              "      <td>False</td>\n",
              "      <td>False</td>\n",
              "      <td>19.000001</td>\n",
              "      <td>304469.005575</td>\n",
              "      <td>6.0</td>\n",
              "      <td>&lt;50k</td>\n",
              "    </tr>\n",
              "    <tr>\n",
              "      <th>3</th>\n",
              "      <td>Self-emp-inc</td>\n",
              "      <td>HS-grad</td>\n",
              "      <td>Separated</td>\n",
              "      <td>Adm-clerical</td>\n",
              "      <td>Not-in-family</td>\n",
              "      <td>White</td>\n",
              "      <td>False</td>\n",
              "      <td>False</td>\n",
              "      <td>False</td>\n",
              "      <td>27.000000</td>\n",
              "      <td>233724.000337</td>\n",
              "      <td>9.0</td>\n",
              "      <td>&lt;50k</td>\n",
              "    </tr>\n",
              "    <tr>\n",
              "      <th>4</th>\n",
              "      <td>Private</td>\n",
              "      <td>Bachelors</td>\n",
              "      <td>Never-married</td>\n",
              "      <td>Prof-specialty</td>\n",
              "      <td>Not-in-family</td>\n",
              "      <td>Black</td>\n",
              "      <td>False</td>\n",
              "      <td>False</td>\n",
              "      <td>False</td>\n",
              "      <td>51.000000</td>\n",
              "      <td>182186.999699</td>\n",
              "      <td>13.0</td>\n",
              "      <td>&lt;50k</td>\n",
              "    </tr>\n",
              "    <tr>\n",
              "      <th>5</th>\n",
              "      <td>Self-emp-inc</td>\n",
              "      <td>Masters</td>\n",
              "      <td>Married-civ-spouse</td>\n",
              "      <td>Exec-managerial</td>\n",
              "      <td>Husband</td>\n",
              "      <td>White</td>\n",
              "      <td>False</td>\n",
              "      <td>False</td>\n",
              "      <td>False</td>\n",
              "      <td>51.000000</td>\n",
              "      <td>304955.000236</td>\n",
              "      <td>14.0</td>\n",
              "      <td>&gt;=50k</td>\n",
              "    </tr>\n",
              "    <tr>\n",
              "      <th>6</th>\n",
              "      <td>Private</td>\n",
              "      <td>11th</td>\n",
              "      <td>Never-married</td>\n",
              "      <td>Other-service</td>\n",
              "      <td>Other-relative</td>\n",
              "      <td>White</td>\n",
              "      <td>False</td>\n",
              "      <td>False</td>\n",
              "      <td>False</td>\n",
              "      <td>26.000000</td>\n",
              "      <td>206599.999843</td>\n",
              "      <td>7.0</td>\n",
              "      <td>&lt;50k</td>\n",
              "    </tr>\n",
              "    <tr>\n",
              "      <th>7</th>\n",
              "      <td>Self-emp-inc</td>\n",
              "      <td>Some-college</td>\n",
              "      <td>Married-civ-spouse</td>\n",
              "      <td>Sales</td>\n",
              "      <td>Husband</td>\n",
              "      <td>White</td>\n",
              "      <td>False</td>\n",
              "      <td>False</td>\n",
              "      <td>False</td>\n",
              "      <td>49.000000</td>\n",
              "      <td>431244.998361</td>\n",
              "      <td>10.0</td>\n",
              "      <td>&gt;=50k</td>\n",
              "    </tr>\n",
              "    <tr>\n",
              "      <th>8</th>\n",
              "      <td>Self-emp-not-inc</td>\n",
              "      <td>Bachelors</td>\n",
              "      <td>Married-civ-spouse</td>\n",
              "      <td>Exec-managerial</td>\n",
              "      <td>Husband</td>\n",
              "      <td>White</td>\n",
              "      <td>False</td>\n",
              "      <td>False</td>\n",
              "      <td>False</td>\n",
              "      <td>60.000000</td>\n",
              "      <td>282065.998362</td>\n",
              "      <td>13.0</td>\n",
              "      <td>&gt;=50k</td>\n",
              "    </tr>\n",
              "    <tr>\n",
              "      <th>9</th>\n",
              "      <td>Private</td>\n",
              "      <td>11th</td>\n",
              "      <td>Never-married</td>\n",
              "      <td>Transport-moving</td>\n",
              "      <td>Not-in-family</td>\n",
              "      <td>White</td>\n",
              "      <td>False</td>\n",
              "      <td>False</td>\n",
              "      <td>False</td>\n",
              "      <td>22.000000</td>\n",
              "      <td>72309.997199</td>\n",
              "      <td>7.0</td>\n",
              "      <td>&lt;50k</td>\n",
              "    </tr>\n",
              "  </tbody>\n",
              "</table>"
            ],
            "text/plain": [
              "<IPython.core.display.HTML object>"
            ]
          },
          "metadata": {
            "tags": []
          }
        }
      ]
    },
    {
      "cell_type": "markdown",
      "metadata": {
        "id": "E2qVVvW4lLxU",
        "colab_type": "text"
      },
      "source": [
        "### Method 2: With Two DataLoaders"
      ]
    },
    {
      "cell_type": "markdown",
      "metadata": {
        "id": "8UiZxrtnkAwx",
        "colab_type": "text"
      },
      "source": [
        "We can create our `DataLoaders` (a train and a valid). One great reason to do this *this* way is we can pass in different batch sizes into each `TabDataLoader`, along with changing options like `shuffle` and `drop_last` (at the bottom I'll show why that's **super** cool)"
      ]
    },
    {
      "cell_type": "markdown",
      "metadata": {
        "id": "5yElrztzkgjg",
        "colab_type": "text"
      },
      "source": [
        "So how do we use it? Our train and validation data live in `tp.train` and `tp.valid` right now, so we specify that along with our options. When you make a training `DataLoader`, you want `shuffle` to be `True` and `drop_last` to be `True`"
      ]
    },
    {
      "cell_type": "code",
      "metadata": {
        "id": "FG76wM4rj82T",
        "colab_type": "code",
        "colab": {}
      },
      "source": [
        "trn_dl = TabDataLoader(to.train, bs=64, shuffle=True, drop_last=True)\n",
        "val_dl = TabDataLoader(to.valid, bs=128)"
      ],
      "execution_count": 0,
      "outputs": []
    },
    {
      "cell_type": "markdown",
      "metadata": {
        "id": "frHNHLvClqEM",
        "colab_type": "text"
      },
      "source": [
        "Since our validation dataset is much smaller, we can have a larger batch size here. Now let's create a `DataLoaders`"
      ]
    },
    {
      "cell_type": "code",
      "metadata": {
        "id": "soC9roE9lpO0",
        "colab_type": "code",
        "colab": {}
      },
      "source": [
        "dls = DataLoaders(trn_dl, val_dl)"
      ],
      "execution_count": 0,
      "outputs": []
    },
    {
      "cell_type": "code",
      "metadata": {
        "id": "oGhQWUW0lwRj",
        "colab_type": "code",
        "outputId": "5332d2fd-6fb7-488f-c734-608883536420",
        "colab": {
          "base_uri": "https://localhost:8080/",
          "height": 359
        }
      },
      "source": [
        "dls.show_batch()"
      ],
      "execution_count": 17,
      "outputs": [
        {
          "output_type": "display_data",
          "data": {
            "text/html": [
              "<table border=\"1\" class=\"dataframe\">\n",
              "  <thead>\n",
              "    <tr style=\"text-align: right;\">\n",
              "      <th></th>\n",
              "      <th>workclass</th>\n",
              "      <th>education</th>\n",
              "      <th>marital-status</th>\n",
              "      <th>occupation</th>\n",
              "      <th>relationship</th>\n",
              "      <th>race</th>\n",
              "      <th>age_na</th>\n",
              "      <th>fnlwgt_na</th>\n",
              "      <th>education-num_na</th>\n",
              "      <th>age</th>\n",
              "      <th>fnlwgt</th>\n",
              "      <th>education-num</th>\n",
              "      <th>salary</th>\n",
              "    </tr>\n",
              "  </thead>\n",
              "  <tbody>\n",
              "    <tr>\n",
              "      <th>0</th>\n",
              "      <td>Private</td>\n",
              "      <td>Bachelors</td>\n",
              "      <td>Never-married</td>\n",
              "      <td>Sales</td>\n",
              "      <td>Own-child</td>\n",
              "      <td>White</td>\n",
              "      <td>False</td>\n",
              "      <td>False</td>\n",
              "      <td>False</td>\n",
              "      <td>34.000000</td>\n",
              "      <td>134736.998545</td>\n",
              "      <td>13.0</td>\n",
              "      <td>&gt;=50k</td>\n",
              "    </tr>\n",
              "    <tr>\n",
              "      <th>1</th>\n",
              "      <td>Private</td>\n",
              "      <td>Assoc-acdm</td>\n",
              "      <td>Divorced</td>\n",
              "      <td>Prof-specialty</td>\n",
              "      <td>Unmarried</td>\n",
              "      <td>White</td>\n",
              "      <td>False</td>\n",
              "      <td>False</td>\n",
              "      <td>False</td>\n",
              "      <td>32.000000</td>\n",
              "      <td>203673.999285</td>\n",
              "      <td>12.0</td>\n",
              "      <td>&lt;50k</td>\n",
              "    </tr>\n",
              "    <tr>\n",
              "      <th>2</th>\n",
              "      <td>Private</td>\n",
              "      <td>Bachelors</td>\n",
              "      <td>Never-married</td>\n",
              "      <td>Exec-managerial</td>\n",
              "      <td>Own-child</td>\n",
              "      <td>Black</td>\n",
              "      <td>False</td>\n",
              "      <td>False</td>\n",
              "      <td>False</td>\n",
              "      <td>24.000000</td>\n",
              "      <td>205844.000652</td>\n",
              "      <td>13.0</td>\n",
              "      <td>&lt;50k</td>\n",
              "    </tr>\n",
              "    <tr>\n",
              "      <th>3</th>\n",
              "      <td>Private</td>\n",
              "      <td>9th</td>\n",
              "      <td>Never-married</td>\n",
              "      <td>Other-service</td>\n",
              "      <td>Own-child</td>\n",
              "      <td>White</td>\n",
              "      <td>False</td>\n",
              "      <td>False</td>\n",
              "      <td>False</td>\n",
              "      <td>22.000000</td>\n",
              "      <td>251072.998172</td>\n",
              "      <td>5.0</td>\n",
              "      <td>&lt;50k</td>\n",
              "    </tr>\n",
              "    <tr>\n",
              "      <th>4</th>\n",
              "      <td>Private</td>\n",
              "      <td>Some-college</td>\n",
              "      <td>Never-married</td>\n",
              "      <td>Adm-clerical</td>\n",
              "      <td>Own-child</td>\n",
              "      <td>Black</td>\n",
              "      <td>False</td>\n",
              "      <td>False</td>\n",
              "      <td>False</td>\n",
              "      <td>22.000000</td>\n",
              "      <td>229456.000066</td>\n",
              "      <td>10.0</td>\n",
              "      <td>&lt;50k</td>\n",
              "    </tr>\n",
              "    <tr>\n",
              "      <th>5</th>\n",
              "      <td>?</td>\n",
              "      <td>Some-college</td>\n",
              "      <td>Widowed</td>\n",
              "      <td>?</td>\n",
              "      <td>Not-in-family</td>\n",
              "      <td>White</td>\n",
              "      <td>False</td>\n",
              "      <td>False</td>\n",
              "      <td>False</td>\n",
              "      <td>68.999999</td>\n",
              "      <td>628796.989950</td>\n",
              "      <td>10.0</td>\n",
              "      <td>&lt;50k</td>\n",
              "    </tr>\n",
              "    <tr>\n",
              "      <th>6</th>\n",
              "      <td>Private</td>\n",
              "      <td>HS-grad</td>\n",
              "      <td>Divorced</td>\n",
              "      <td>Adm-clerical</td>\n",
              "      <td>Not-in-family</td>\n",
              "      <td>White</td>\n",
              "      <td>False</td>\n",
              "      <td>False</td>\n",
              "      <td>False</td>\n",
              "      <td>26.000000</td>\n",
              "      <td>152435.999637</td>\n",
              "      <td>9.0</td>\n",
              "      <td>&lt;50k</td>\n",
              "    </tr>\n",
              "    <tr>\n",
              "      <th>7</th>\n",
              "      <td>Local-gov</td>\n",
              "      <td>Assoc-acdm</td>\n",
              "      <td>Never-married</td>\n",
              "      <td>#na#</td>\n",
              "      <td>Not-in-family</td>\n",
              "      <td>White</td>\n",
              "      <td>False</td>\n",
              "      <td>False</td>\n",
              "      <td>True</td>\n",
              "      <td>29.000000</td>\n",
              "      <td>419721.993780</td>\n",
              "      <td>10.0</td>\n",
              "      <td>&lt;50k</td>\n",
              "    </tr>\n",
              "    <tr>\n",
              "      <th>8</th>\n",
              "      <td>Private</td>\n",
              "      <td>Some-college</td>\n",
              "      <td>Divorced</td>\n",
              "      <td>Exec-managerial</td>\n",
              "      <td>Unmarried</td>\n",
              "      <td>White</td>\n",
              "      <td>False</td>\n",
              "      <td>False</td>\n",
              "      <td>False</td>\n",
              "      <td>33.000000</td>\n",
              "      <td>268451.000311</td>\n",
              "      <td>10.0</td>\n",
              "      <td>&lt;50k</td>\n",
              "    </tr>\n",
              "    <tr>\n",
              "      <th>9</th>\n",
              "      <td>Private</td>\n",
              "      <td>HS-grad</td>\n",
              "      <td>Married-civ-spouse</td>\n",
              "      <td>Adm-clerical</td>\n",
              "      <td>Husband</td>\n",
              "      <td>White</td>\n",
              "      <td>False</td>\n",
              "      <td>False</td>\n",
              "      <td>False</td>\n",
              "      <td>45.000000</td>\n",
              "      <td>153141.001267</td>\n",
              "      <td>9.0</td>\n",
              "      <td>&lt;50k</td>\n",
              "    </tr>\n",
              "  </tbody>\n",
              "</table>"
            ],
            "text/plain": [
              "<IPython.core.display.HTML object>"
            ]
          },
          "metadata": {
            "tags": []
          }
        }
      ]
    },
    {
      "cell_type": "markdown",
      "metadata": {
        "id": "KCv9I3-Xl6h7",
        "colab_type": "text"
      },
      "source": [
        "# Training\n",
        "\n",
        "Great! Let's train a model!"
      ]
    },
    {
      "cell_type": "markdown",
      "metadata": {
        "id": "beJIUnyVmijr",
        "colab_type": "text"
      },
      "source": [
        "We can gather our embedding matrix by doing `get_emb_sz` and passing in a `TabularPandas`"
      ]
    },
    {
      "cell_type": "code",
      "metadata": {
        "id": "50sq0ZmMmQdv",
        "colab_type": "code",
        "colab": {}
      },
      "source": [
        "emb_szs = get_emb_sz(to)"
      ],
      "execution_count": 0,
      "outputs": []
    },
    {
      "cell_type": "code",
      "metadata": {
        "id": "axhtHS4emtDt",
        "colab_type": "code",
        "outputId": "c75f8117-0d26-4720-8cf8-1667fb49b414",
        "colab": {
          "base_uri": "https://localhost:8080/",
          "height": 34
        }
      },
      "source": [
        "emb_szs"
      ],
      "execution_count": 19,
      "outputs": [
        {
          "output_type": "execute_result",
          "data": {
            "text/plain": [
              "[(10, 6), (17, 8), (8, 5), (16, 8), (7, 5), (6, 4), (2, 2), (2, 2), (3, 3)]"
            ]
          },
          "metadata": {
            "tags": []
          },
          "execution_count": 19
        }
      ]
    },
    {
      "cell_type": "markdown",
      "metadata": {
        "id": "4p117GDPm6Nq",
        "colab_type": "text"
      },
      "source": [
        "We can grab our number of continous variables by calling a `cont_names` to our tabular pandas object as well"
      ]
    },
    {
      "cell_type": "code",
      "metadata": {
        "id": "9QkZiZ1rm5OE",
        "colab_type": "code",
        "outputId": "d290e0cb-dc3e-47c1-91cd-01eefae93e32",
        "colab": {
          "base_uri": "https://localhost:8080/",
          "height": 34
        }
      },
      "source": [
        "cont_len = len(to.cont_names); cont_len"
      ],
      "execution_count": 20,
      "outputs": [
        {
          "output_type": "execute_result",
          "data": {
            "text/plain": [
              "3"
            ]
          },
          "metadata": {
            "tags": []
          },
          "execution_count": 20
        }
      ]
    },
    {
      "cell_type": "markdown",
      "metadata": {
        "id": "HSG5DwyvmwHA",
        "colab_type": "text"
      },
      "source": [
        "Now that we have these, let's create our model! We'll use a simple `[200, 100]` layer setup like Jeremy has in his lectures. We'll also want to have our output be `2`, as this is binary classification (Above or below $50k)"
      ]
    },
    {
      "cell_type": "code",
      "metadata": {
        "id": "aV1VouB3mvnD",
        "colab_type": "code",
        "colab": {}
      },
      "source": [
        "net = TabularModel(emb_szs, cont_len, 2, [200,100])"
      ],
      "execution_count": 0,
      "outputs": []
    },
    {
      "cell_type": "code",
      "metadata": {
        "id": "kBVMwyELnM_B",
        "colab_type": "code",
        "outputId": "4bc9e4c5-5b44-42e1-ea1c-cc500c83bea5",
        "colab": {
          "base_uri": "https://localhost:8080/",
          "height": 527
        }
      },
      "source": [
        "net"
      ],
      "execution_count": 22,
      "outputs": [
        {
          "output_type": "execute_result",
          "data": {
            "text/plain": [
              "TabularModel(\n",
              "  (embeds): ModuleList(\n",
              "    (0): Embedding(10, 6)\n",
              "    (1): Embedding(17, 8)\n",
              "    (2): Embedding(8, 5)\n",
              "    (3): Embedding(16, 8)\n",
              "    (4): Embedding(7, 5)\n",
              "    (5): Embedding(6, 4)\n",
              "    (6): Embedding(2, 2)\n",
              "    (7): Embedding(2, 2)\n",
              "    (8): Embedding(3, 3)\n",
              "  )\n",
              "  (emb_drop): Dropout(p=0.0, inplace=False)\n",
              "  (bn_cont): BatchNorm1d(3, eps=1e-05, momentum=0.1, affine=True, track_running_stats=True)\n",
              "  (layers): Sequential(\n",
              "    (0): LinBnDrop(\n",
              "      (0): BatchNorm1d(46, eps=1e-05, momentum=0.1, affine=True, track_running_stats=True)\n",
              "      (1): Linear(in_features=46, out_features=200, bias=False)\n",
              "      (2): ReLU(inplace=True)\n",
              "    )\n",
              "    (1): LinBnDrop(\n",
              "      (0): BatchNorm1d(200, eps=1e-05, momentum=0.1, affine=True, track_running_stats=True)\n",
              "      (1): Linear(in_features=200, out_features=100, bias=False)\n",
              "      (2): ReLU(inplace=True)\n",
              "    )\n",
              "    (2): LinBnDrop(\n",
              "      (0): Linear(in_features=100, out_features=2, bias=True)\n",
              "    )\n",
              "  )\n",
              ")"
            ]
          },
          "metadata": {
            "tags": []
          },
          "execution_count": 22
        }
      ]
    },
    {
      "cell_type": "markdown",
      "metadata": {
        "id": "_-1rzJ4fTlKq",
        "colab_type": "text"
      },
      "source": [
        "Now that we know what's going on in the background, don't we have like a `tabular_learner` or something? Yes, yes we do!"
      ]
    },
    {
      "cell_type": "code",
      "metadata": {
        "id": "F9p0gtCcTq7h",
        "colab_type": "code",
        "colab": {}
      },
      "source": [
        "learn = tabular_learner(dls, [200,100], metrics=accuracy)"
      ],
      "execution_count": 0,
      "outputs": []
    },
    {
      "cell_type": "code",
      "metadata": {
        "id": "xkOe2p56njoo",
        "colab_type": "code",
        "outputId": "0840c9fc-5650-4b87-e30f-62d690c6dbbe",
        "colab": {
          "base_uri": "https://localhost:8080/",
          "height": 80
        }
      },
      "source": [
        "learn.fit(1)"
      ],
      "execution_count": 24,
      "outputs": [
        {
          "output_type": "display_data",
          "data": {
            "text/html": [
              "<table border=\"1\" class=\"dataframe\">\n",
              "  <thead>\n",
              "    <tr style=\"text-align: left;\">\n",
              "      <th>epoch</th>\n",
              "      <th>train_loss</th>\n",
              "      <th>valid_loss</th>\n",
              "      <th>accuracy</th>\n",
              "      <th>time</th>\n",
              "    </tr>\n",
              "  </thead>\n",
              "  <tbody>\n",
              "    <tr>\n",
              "      <td>0</td>\n",
              "      <td>0.362509</td>\n",
              "      <td>0.369712</td>\n",
              "      <td>0.828471</td>\n",
              "      <td>00:06</td>\n",
              "    </tr>\n",
              "  </tbody>\n",
              "</table>"
            ],
            "text/plain": [
              "<IPython.core.display.HTML object>"
            ]
          },
          "metadata": {
            "tags": []
          }
        }
      ]
    },
    {
      "cell_type": "markdown",
      "metadata": {
        "id": "bb9FW1_gn2B7",
        "colab_type": "text"
      },
      "source": [
        "Awesome! We get ~82% accuracy!"
      ]
    },
    {
      "cell_type": "markdown",
      "metadata": {
        "id": "dvLfzG-qrV60",
        "colab_type": "text"
      },
      "source": [
        "# That Cool Bit I Mentioned Earlier\n",
        "\n",
        "One neat thing we can do now is have labeled test sets, and its easy to do! Let's create a labeled test set with our validation dataset from earlier (in practice you'd want a second labeled test set you'd want to use!)"
      ]
    },
    {
      "cell_type": "markdown",
      "metadata": {
        "id": "_FHrFidlrp02",
        "colab_type": "text"
      },
      "source": [
        "We're going to create a `TabularPandas` object like before: (using the whole `DataFrame`) and then we can create a `DataLoader` like before too, specifying `shuffle` to `False` and `drop_last` to `False`"
      ]
    },
    {
      "cell_type": "code",
      "metadata": {
        "id": "mnjOnnUTrF15",
        "colab_type": "code",
        "colab": {}
      },
      "source": [
        "to_test = TabularPandas(df, procs, cat_names, cont_names, y_names=\"salary\")\n",
        "test_dl = TabDataLoader(to_test, shuffle=False, drop_last=False)"
      ],
      "execution_count": 0,
      "outputs": []
    },
    {
      "cell_type": "markdown",
      "metadata": {
        "id": "Hx5RXxu0sAgM",
        "colab_type": "text"
      },
      "source": [
        "And now we can pass in any `DataLoader` right into `learn.get_preds()` **or** `learn.validate()`!"
      ]
    },
    {
      "cell_type": "code",
      "metadata": {
        "id": "F0bd8bFjrtyt",
        "colab_type": "code",
        "outputId": "95b21357-b32a-4c68-e658-bb043b7241e7",
        "colab": {
          "base_uri": "https://localhost:8080/",
          "height": 34
        }
      },
      "source": [
        "learn.validate(dl=test_dl)"
      ],
      "execution_count": 29,
      "outputs": [
        {
          "output_type": "display_data",
          "data": {
            "text/html": [
              ""
            ],
            "text/plain": [
              "<IPython.core.display.HTML object>"
            ]
          },
          "metadata": {
            "tags": []
          }
        },
        {
          "output_type": "execute_result",
          "data": {
            "text/plain": [
              "(#2) [0.3529963791370392,0.8352323174476624]"
            ]
          },
          "metadata": {
            "tags": []
          },
          "execution_count": 29
        }
      ]
    },
    {
      "cell_type": "markdown",
      "metadata": {
        "id": "GhcsVDGzsKXo",
        "colab_type": "text"
      },
      "source": [
        "If you're worried about if it's actually working or not, let's get our predictions and check them ourselves with `get_preds`"
      ]
    },
    {
      "cell_type": "code",
      "metadata": {
        "id": "W2lA99wMsJbq",
        "colab_type": "code",
        "colab": {
          "base_uri": "https://localhost:8080/",
          "height": 17
        },
        "outputId": "abb589cf-db11-4741-86cc-ddd5557e4283"
      },
      "source": [
        "preds = learn.get_preds(dl=test_dl)"
      ],
      "execution_count": 30,
      "outputs": [
        {
          "output_type": "display_data",
          "data": {
            "text/html": [
              ""
            ],
            "text/plain": [
              "<IPython.core.display.HTML object>"
            ]
          },
          "metadata": {
            "tags": []
          }
        }
      ]
    },
    {
      "cell_type": "code",
      "metadata": {
        "id": "AYE7K7XrsSbn",
        "colab_type": "code",
        "outputId": "df0f70a4-cca1-44e7-aa31-b00eac319846",
        "colab": {
          "base_uri": "https://localhost:8080/",
          "height": 34
        }
      },
      "source": [
        "accuracy(preds[0], preds[1])"
      ],
      "execution_count": 31,
      "outputs": [
        {
          "output_type": "execute_result",
          "data": {
            "text/plain": [
              "tensor(0.8352)"
            ]
          },
          "metadata": {
            "tags": []
          },
          "execution_count": 31
        }
      ]
    },
    {
      "cell_type": "markdown",
      "metadata": {
        "id": "ajHVHJdxsU1P",
        "colab_type": "text"
      },
      "source": [
        "You can see that they line up perfectly!\n",
        "\n",
        "Thanks for reading, and I hope you enjoy the v2 library as much as I am :)"
      ]
    }
  ]
}
