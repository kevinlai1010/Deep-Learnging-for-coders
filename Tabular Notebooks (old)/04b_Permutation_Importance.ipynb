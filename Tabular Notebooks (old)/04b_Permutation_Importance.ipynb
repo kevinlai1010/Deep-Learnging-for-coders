{
  "nbformat": 4,
  "nbformat_minor": 0,
  "metadata": {
    "colab": {
      "name": "k-fold.ipynb",
      "provenance": []
    },
    "kernelspec": {
      "name": "python3",
      "display_name": "Python 3"
    },
    "accelerator": "GPU"
  },
  "cells": [
    {
      "cell_type": "markdown",
      "metadata": {
        "id": "GWl-5XI0kElY",
        "colab_type": "text"
      },
      "source": [
        "# Notebook 4b: Feature Importance\n",
        "\n",
        "This notebook will show how to use Permutation Importance in fastai tabular. In order to do permutation importance, we need 3 (4 if you have your own test set) sets of data:\n",
        "\n",
        "1. Training set\n",
        "2. Validation set\n",
        "3. Test set (optional)\n",
        "4. Feature Importance test set\n",
        "\n",
        "We want a seperate set than that of what we are training with so there is no inherit biases to our data. The code we will use today is based off of Pak's (on the forums) 1.0 implementation. The original post is [here](https://forums.fast.ai/t/football-transfer-case-as-an-example-of-feature-importance-and-partial-dependence-in-tabular-models/56949)"
      ]
    },
    {
      "cell_type": "markdown",
      "metadata": {
        "id": "cJeDVbIuCBK_",
        "colab_type": "text"
      },
      "source": [
        "First let's get our libraries"
      ]
    },
    {
      "cell_type": "code",
      "metadata": {
        "id": "T1x8_8rEczoL",
        "colab_type": "code",
        "colab": {}
      },
      "source": [
        "#import os\n",
        "#!pip install -q torch torchvision feather-format kornia pyarrow Pillow wandb nbdev fastprogress --upgrade \n",
        "#!pip install -q git+https://github.com/fastai/fastcore  --upgrade\n",
        "#!pip install -q git+https://github.com/fastai/fastai2 --upgrade\n",
        "#os._exit(00)"
      ],
      "execution_count": 0,
      "outputs": []
    },
    {
      "cell_type": "code",
      "metadata": {
        "id": "2nVPQXt0dETU",
        "colab_type": "code",
        "colab": {}
      },
      "source": [
        "from fastai2.basics import *\n",
        "from fastai2.tabular.all import *\n",
        "from fastai2.callback.all import *"
      ],
      "execution_count": 0,
      "outputs": []
    },
    {
      "cell_type": "code",
      "metadata": {
        "id": "g8vuRa4sdGEL",
        "colab_type": "code",
        "colab": {
          "base_uri": "https://localhost:8080/",
          "height": 37
        },
        "outputId": "eafcd69e-f6b2-400a-c0e8-0c8ce948bd61"
      },
      "source": [
        "path = untar_data(URLs.ADULT_SAMPLE)\n",
        "df = pd.read_csv(path/'adult.csv')"
      ],
      "execution_count": 2,
      "outputs": [
        {
          "output_type": "display_data",
          "data": {
            "text/html": [
              "\n",
              "    <div>\n",
              "        <style>\n",
              "            /* Turns off some styling */\n",
              "            progress {\n",
              "                /* gets rid of default border in Firefox and Opera. */\n",
              "                border: none;\n",
              "                /* Needs to be in here for Safari polyfill so background images work as expected. */\n",
              "                background-size: auto;\n",
              "            }\n",
              "            .progress-bar-interrupted, .progress-bar-interrupted::-webkit-progress-bar {\n",
              "                background: #F44336;\n",
              "            }\n",
              "        </style>\n",
              "      <progress value='968212' class='' max='968212', style='width:300px; height:20px; vertical-align: middle;'></progress>\n",
              "      100.00% [968212/968212 00:00<00:00]\n",
              "    </div>\n",
              "    "
            ],
            "text/plain": [
              "<IPython.core.display.HTML object>"
            ]
          },
          "metadata": {
            "tags": []
          }
        }
      ]
    },
    {
      "cell_type": "markdown",
      "metadata": {
        "id": "z557jToGCc0V",
        "colab_type": "text"
      },
      "source": [
        "From here we'll split into our three datasets (training and validation will be done in one and use RandomSplitting). In terms of pecentage, we want the test and feature importance sets to be 10% of our data, and the other 80% our training data"
      ]
    },
    {
      "cell_type": "code",
      "metadata": {
        "id": "8Q1Rc6s9Chgk",
        "colab_type": "code",
        "outputId": "931bb824-ba61-4050-ab70-bd7d07f52bd6",
        "colab": {
          "base_uri": "https://localhost:8080/",
          "height": 34
        }
      },
      "source": [
        "len(df) * .8"
      ],
      "execution_count": 3,
      "outputs": [
        {
          "output_type": "execute_result",
          "data": {
            "text/plain": [
              "26048.800000000003"
            ]
          },
          "metadata": {
            "tags": []
          },
          "execution_count": 3
        }
      ]
    },
    {
      "cell_type": "code",
      "metadata": {
        "id": "rlxXpFiBDImn",
        "colab_type": "code",
        "outputId": "51d3b31c-7bc6-46f4-ac7d-f97c091f3226",
        "colab": {
          "base_uri": "https://localhost:8080/",
          "height": 34
        }
      },
      "source": [
        "(len(df) * .1) + 26048"
      ],
      "execution_count": 4,
      "outputs": [
        {
          "output_type": "execute_result",
          "data": {
            "text/plain": [
              "29304.1"
            ]
          },
          "metadata": {
            "tags": []
          },
          "execution_count": 4
        }
      ]
    },
    {
      "cell_type": "code",
      "metadata": {
        "id": "d63iUo8zCiW9",
        "colab_type": "code",
        "colab": {}
      },
      "source": [
        "train_df = df.iloc[:26048]\n",
        "test_df = df.iloc[26048:29304]\n",
        "fi = df.iloc[29304:]"
      ],
      "execution_count": 0,
      "outputs": []
    },
    {
      "cell_type": "markdown",
      "metadata": {
        "id": "nJRj8oe1DRlx",
        "colab_type": "text"
      },
      "source": [
        "Now that we have this, let's train a **full** model"
      ]
    },
    {
      "cell_type": "code",
      "metadata": {
        "id": "UcaIvQ0AdHIv",
        "colab_type": "code",
        "colab": {}
      },
      "source": [
        "cat_names = ['workclass', 'education', 'marital-status', 'occupation', 'relationship', 'race']\n",
        "cont_names = ['age', 'fnlwgt', 'education-num']\n",
        "procs = [Categorify, FillMissing, Normalize]"
      ],
      "execution_count": 0,
      "outputs": []
    },
    {
      "cell_type": "code",
      "metadata": {
        "id": "FKYYW9NODgrl",
        "colab_type": "code",
        "colab": {}
      },
      "source": [
        "splits = RandomSplitter()(range_of(train_df))"
      ],
      "execution_count": 0,
      "outputs": []
    },
    {
      "cell_type": "code",
      "metadata": {
        "id": "JPs6ptQ8eXfN",
        "colab_type": "code",
        "colab": {}
      },
      "source": [
        "to = TabularPandas(train_df, procs, cat_names, cont_names, y_names=\"salary\", splits=splits)\n",
        "data = to.dataloaders()"
      ],
      "execution_count": 0,
      "outputs": []
    },
    {
      "cell_type": "code",
      "metadata": {
        "id": "3MOOMhawDb17",
        "colab_type": "code",
        "colab": {}
      },
      "source": [
        "learn = tabular_learner(data, layers=[200,100], loss_func=CrossEntropyLossFlat(), metrics=accuracy)"
      ],
      "execution_count": 0,
      "outputs": []
    },
    {
      "cell_type": "code",
      "metadata": {
        "id": "ggJC3hK2v_rb",
        "colab_type": "code",
        "outputId": "dad9e652-105f-4f5d-d7d7-753985d1523d",
        "colab": {
          "base_uri": "https://localhost:8080/",
          "height": 204
        }
      },
      "source": [
        "learn.fit(5)"
      ],
      "execution_count": 17,
      "outputs": [
        {
          "output_type": "display_data",
          "data": {
            "text/html": [
              "<table border=\"1\" class=\"dataframe\">\n",
              "  <thead>\n",
              "    <tr style=\"text-align: left;\">\n",
              "      <th>epoch</th>\n",
              "      <th>train_loss</th>\n",
              "      <th>valid_loss</th>\n",
              "      <th>accuracy</th>\n",
              "      <th>time</th>\n",
              "    </tr>\n",
              "  </thead>\n",
              "  <tbody>\n",
              "    <tr>\n",
              "      <td>0</td>\n",
              "      <td>0.385251</td>\n",
              "      <td>0.379637</td>\n",
              "      <td>0.825110</td>\n",
              "      <td>00:21</td>\n",
              "    </tr>\n",
              "    <tr>\n",
              "      <td>1</td>\n",
              "      <td>0.375440</td>\n",
              "      <td>0.364290</td>\n",
              "      <td>0.834709</td>\n",
              "      <td>00:20</td>\n",
              "    </tr>\n",
              "    <tr>\n",
              "      <td>2</td>\n",
              "      <td>0.408180</td>\n",
              "      <td>0.361868</td>\n",
              "      <td>0.832021</td>\n",
              "      <td>00:21</td>\n",
              "    </tr>\n",
              "    <tr>\n",
              "      <td>3</td>\n",
              "      <td>0.378932</td>\n",
              "      <td>0.378768</td>\n",
              "      <td>0.834325</td>\n",
              "      <td>00:21</td>\n",
              "    </tr>\n",
              "    <tr>\n",
              "      <td>4</td>\n",
              "      <td>0.369295</td>\n",
              "      <td>0.360523</td>\n",
              "      <td>0.833749</td>\n",
              "      <td>00:21</td>\n",
              "    </tr>\n",
              "  </tbody>\n",
              "</table>"
            ],
            "text/plain": [
              "<IPython.core.display.HTML object>"
            ]
          },
          "metadata": {
            "tags": []
          }
        }
      ]
    },
    {
      "cell_type": "markdown",
      "metadata": {
        "id": "X85F6NK-DsB9",
        "colab_type": "text"
      },
      "source": [
        "Now that the model is trained, let's do permutation importance. But what is it? And how will it work? \n",
        "\n",
        "We train a full model and then shuffle the input columns and measure the change in accuracy afterwards. This will give us a tangeable viewing of how each variable in our tabular model affects the output (and how much it was needed)"
      ]
    },
    {
      "cell_type": "markdown",
      "metadata": {
        "id": "cyszhirJEF9W",
        "colab_type": "text"
      },
      "source": [
        "Here is the code:"
      ]
    },
    {
      "cell_type": "code",
      "metadata": {
        "id": "lDTgShhJEHBR",
        "colab_type": "code",
        "colab": {}
      },
      "source": [
        "class CalcPermutationImportance():\n",
        "  def __init__(self, df:pd.DataFrame, learn:Learner, rounds:int, metric:callable):\n",
        "    self.df, self.learn, self.rounds = df, learn, rounds\n",
        "    self.learn.metrics = L(AvgMetric(metric))\n",
        "    dbunch = learn.dbunch\n",
        "    self.procs = dbunch.procs\n",
        "    self.cats, self.conts = dbunch.cat_names, dbunch.cont_names\n",
        "    self.cats = self.cats.filter(lambda x: '_na' not in x)\n",
        "    self.y = dbunch.y_names\n",
        "    self.results = self.calc_feat_importance()\n",
        "    self.plot_importance(self.ord_dic_to_df(self.results))\n",
        "    \n",
        "  def calc_feat_importance(self):\n",
        "    to_test = TabDataLoader(TabularPandas(self.df, self.procs, self.cats.copy(), self.conts, self.y))\n",
        "    base_error = self.learn.validate(dl=to_test)[1]\n",
        "    self.importance = {}\n",
        "    pbar = master_bar(self.cats + self.conts, total=len(self.cats + self.conts))\n",
        "    for col in pbar:\n",
        "      self.importance[col] = self.calc_error(col)\n",
        "      _ = progress_bar(range(1), display=False, parent=pbar)\n",
        "      \n",
        "    for key, value in self.importance.items():\n",
        "        self.importance[key] = (base_error - value)/base_error\n",
        "    return collections.OrderedDict(sorted(self.importance.items(), key=lambda kv: kv[1], reverse=True))\n",
        "  \n",
        "  def calc_error(self, sample_col:Str):\n",
        "    df_temp = pd.concat([self.df]*self.rounds, ignore_index=True).copy()\n",
        "    \n",
        "    df_temp[sample_col] = np.random.permutation(df_temp[sample_col].values)\n",
        "    to_test = TabDataLoader(TabularPandas(df_temp, self.procs, self.cats.copy(), self.conts, self.y))\n",
        "    return self.learn.validate(dl=to_test)[1]\n",
        "  \n",
        "  def ord_dic_to_df(self, ord_dict:OrderedDict)->pd.DataFrame:\n",
        "      return pd.DataFrame([[k, v] for k, v in ord_dict.items()], columns=['feature', 'importance'])\n",
        "    \n",
        "  def plot_importance(self, df:pd.DataFrame, limit=20, asc=False):\n",
        "    df_copy = df.copy()\n",
        "    df_copy['feature'] = df_copy['feature'].str.slice(0,25)\n",
        "    ax = df_copy.sort_values(by='importance', ascending=asc)[:limit].sort_values(by='importance', ascending=not(asc)).plot.barh(x=\"feature\", y=\"importance\", sort_columns=True, figsize=(10, 10))\n",
        "    for p in ax.patches:\n",
        "        ax.annotate(f'{p.get_width():.4f}', ((p.get_width() * 1.005), p.get_y()  * 1.005))"
      ],
      "execution_count": 0,
      "outputs": []
    },
    {
      "cell_type": "markdown",
      "metadata": {
        "id": "k56Gr-pKEIJa",
        "colab_type": "text"
      },
      "source": [
        "In order to use this, we simply call`CalcPermutationImportance` and pass in our `fi` dataframe, our Learner, how many rounds each variable will go through, and how we want to measure our results. For this example we will do five rounds, and use `accuracy`. At the end a graph will be plotted showing the relative change for each variable"
      ]
    },
    {
      "cell_type": "code",
      "metadata": {
        "id": "knrlANWxES8g",
        "colab_type": "code",
        "outputId": "df31dae8-4b8b-49b6-fe7b-238d88b464e7",
        "colab": {
          "base_uri": "https://localhost:8080/",
          "height": 592
        }
      },
      "source": [
        "res = CalcPermutationImportance(fi, learn, 5, accuracy)"
      ],
      "execution_count": 0,
      "outputs": [
        {
          "output_type": "display_data",
          "data": {
            "text/html": [
              ""
            ],
            "text/plain": [
              "<IPython.core.display.HTML object>"
            ]
          },
          "metadata": {
            "tags": []
          }
        },
        {
          "output_type": "display_data",
          "data": {
            "image/png": "[encoded data removed]",
            "text/plain": [
              "<Figure size 720x720 with 1 Axes>"
            ]
          },
          "metadata": {
            "tags": []
          }
        }
      ]
    },
    {
      "cell_type": "markdown",
      "metadata": {
        "id": "i6ETOIFsEaA4",
        "colab_type": "text"
      },
      "source": [
        "To see the raw results, call `res.results`"
      ]
    },
    {
      "cell_type": "code",
      "metadata": {
        "id": "lmlWOCdyEb_E",
        "colab_type": "code",
        "outputId": "60a2e60b-3b05-486e-fe25-ffdc8d0f96a6",
        "colab": {
          "base_uri": "https://localhost:8080/",
          "height": 170
        }
      },
      "source": [
        "res.results"
      ],
      "execution_count": 0,
      "outputs": [
        {
          "output_type": "execute_result",
          "data": {
            "text/plain": [
              "OrderedDict([('education', 0.03075145818064271),\n",
              "             ('marital-status', 0.030211927415307246),\n",
              "             ('education-num', 0.02019267951311463),\n",
              "             ('age', 0.01317922842462328),\n",
              "             ('workclass', 0.0021579734410519624),\n",
              "             ('relationship', 0.0020809189917597374),\n",
              "             ('fnlwgt', 0.0015414630365692187),\n",
              "             ('race', 0.001233170429255375),\n",
              "             ('occupation', -0.009942193452900393)])"
            ]
          },
          "metadata": {
            "tags": []
          },
          "execution_count": 33
        }
      ]
    },
    {
      "cell_type": "markdown",
      "metadata": {
        "id": "xItvU9-hEzxt",
        "colab_type": "text"
      },
      "source": [
        "To read this, the first (highest) value in the list is the most influential feature in the dataset, and the last (lowest) being the least.\n",
        "\n",
        "Here, 'education' and 'marital-status' were the most influential and 'occupation' was the least.\n",
        "\n",
        "Thanks for reading!"
      ]
    }
  ]
}