{
  "nbformat": 4,
  "nbformat_minor": 0,
  "metadata": {
    "colab": {
      "name": "k-fold.ipynb",
      "provenance": []
    },
    "kernelspec": {
      "name": "python3",
      "display_name": "Python 3"
    },
    "accelerator": "GPU"
  },
  "cells": [
    {
      "cell_type": "markdown",
      "metadata": {
        "id": "GWl-5XI0kElY",
        "colab_type": "text"
      },
      "source": [
        "# Notebook 3b: K-Fold Validation\n",
        "\n",
        "In this notebook I will show you how to implement K-Fold Cross Validation on your data and apply this to a test set. We will use the ADULTs dataset as an example but the steps can be applied across the board"
      ]
    },
    {
      "cell_type": "code",
      "metadata": {
        "id": "T1x8_8rEczoL",
        "colab_type": "code",
        "colab": {
          "base_uri": "https://localhost:8080/",
          "height": 340
        },
        "outputId": "98c3e37e-72fd-4516-e569-ec59ea3b18c9"
      },
      "source": [
        "import os\n",
        "!pip install -q torch torchvision feather-format kornia pyarrow Pillow wandb nbdev fastprogress --upgrade \n",
        "!pip install -q git+https://github.com/fastai/fastcore  --upgrade\n",
        "!pip install -q git+https://github.com/fastai/fastai2 --upgrade\n",
        "os._exit(00)"
      ],
      "execution_count": 0,
      "outputs": [
        {
          "output_type": "stream",
          "text": [
            "\u001b[K     |████████████████████████████████| 122kB 6.9MB/s \n",
            "\u001b[K     |████████████████████████████████| 59.2MB 129kB/s \n",
            "\u001b[K     |████████████████████████████████| 2.1MB 44.6MB/s \n",
            "\u001b[K     |████████████████████████████████| 1.3MB 43.8MB/s \n",
            "\u001b[K     |████████████████████████████████| 92kB 11.1MB/s \n",
            "\u001b[K     |████████████████████████████████| 102kB 11.7MB/s \n",
            "\u001b[K     |████████████████████████████████| 256kB 30.1MB/s \n",
            "\u001b[K     |████████████████████████████████| 460kB 45.6MB/s \n",
            "\u001b[K     |████████████████████████████████| 92kB 10.7MB/s \n",
            "\u001b[K     |████████████████████████████████| 184kB 43.6MB/s \n",
            "\u001b[K     |████████████████████████████████| 71kB 9.6MB/s \n",
            "\u001b[?25h  Building wheel for subprocess32 (setup.py) ... \u001b[?25l\u001b[?25hdone\n",
            "  Building wheel for shortuuid (setup.py) ... \u001b[?25l\u001b[?25hdone\n",
            "  Building wheel for gql (setup.py) ... \u001b[?25l\u001b[?25hdone\n",
            "  Building wheel for watchdog (setup.py) ... \u001b[?25l\u001b[?25hdone\n",
            "  Building wheel for pathtools (setup.py) ... \u001b[?25l\u001b[?25hdone\n",
            "\u001b[31mERROR: albumentations 0.1.12 has requirement imgaug<0.2.7,>=0.2.5, but you'll have imgaug 0.2.9 which is incompatible.\u001b[0m\n",
            "  Building wheel for fastcore (setup.py) ... \u001b[?25l\u001b[?25hdone\n",
            "  Building wheel for fastai2 (setup.py) ... \u001b[?25l\u001b[?25hdone\n"
          ],
          "name": "stdout"
        }
      ]
    },
    {
      "cell_type": "code",
      "metadata": {
        "id": "2nVPQXt0dETU",
        "colab_type": "code",
        "colab": {}
      },
      "source": [
        "from fastai2.basics import *\n",
        "from fastai2.tabular.all import *"
      ],
      "execution_count": 0,
      "outputs": []
    },
    {
      "cell_type": "code",
      "metadata": {
        "id": "g8vuRa4sdGEL",
        "colab_type": "code",
        "colab": {
          "base_uri": "https://localhost:8080/",
          "height": 37
        },
        "outputId": "8c571ef1-5d90-463c-d3dc-cac4123594e1"
      },
      "source": [
        "path = untar_data(URLs.ADULT_SAMPLE)\n",
        "df = pd.read_csv(path/'adult.csv')"
      ],
      "execution_count": 2,
      "outputs": [
        {
          "output_type": "display_data",
          "data": {
            "text/html": [
              "\n",
              "    <div>\n",
              "        <style>\n",
              "            /* Turns off some styling */\n",
              "            progress {\n",
              "                /* gets rid of default border in Firefox and Opera. */\n",
              "                border: none;\n",
              "                /* Needs to be in here for Safari polyfill so background images work as expected. */\n",
              "                background-size: auto;\n",
              "            }\n",
              "            .progress-bar-interrupted, .progress-bar-interrupted::-webkit-progress-bar {\n",
              "                background: #F44336;\n",
              "            }\n",
              "        </style>\n",
              "      <progress value='968212' class='' max='968212', style='width:300px; height:20px; vertical-align: middle;'></progress>\n",
              "      100.00% [968212/968212 00:00<00:00]\n",
              "    </div>\n",
              "    "
            ],
            "text/plain": [
              "<IPython.core.display.HTML object>"
            ]
          },
          "metadata": {
            "tags": []
          }
        }
      ]
    },
    {
      "cell_type": "code",
      "metadata": {
        "id": "UcaIvQ0AdHIv",
        "colab_type": "code",
        "colab": {}
      },
      "source": [
        "cat_names = ['workclass', 'education', 'marital-status', 'occupation', 'relationship', 'race']\n",
        "cont_names = ['age', 'fnlwgt', 'education-num']\n",
        "procs = [Categorify, FillMissing, Normalize]"
      ],
      "execution_count": 0,
      "outputs": []
    },
    {
      "cell_type": "markdown",
      "metadata": {
        "id": "Di5eXG-TkRN5",
        "colab_type": "text"
      },
      "source": [
        "First I want to seperate a test set that is the last 10% of my data (for adults this is fine, but in actuality this is quite an important topic. To read more see [here](https://www.fast.ai/2017/11/13/validation-sets/)"
      ]
    },
    {
      "cell_type": "code",
      "metadata": {
        "id": "E-Nm-OtLdKOj",
        "colab_type": "code",
        "colab": {}
      },
      "source": [
        "end = len(df) - 3256"
      ],
      "execution_count": 0,
      "outputs": []
    },
    {
      "cell_type": "code",
      "metadata": {
        "id": "cxHq9ezedmux",
        "colab_type": "code",
        "colab": {}
      },
      "source": [
        "test = df.iloc[end:]\n",
        "train = df.iloc[:end]"
      ],
      "execution_count": 0,
      "outputs": []
    },
    {
      "cell_type": "markdown",
      "metadata": {
        "id": "FH1xBuTpo-46",
        "colab_type": "text"
      },
      "source": [
        "Now let's grab `StratifiedKFold` from the `sklearn` library"
      ]
    },
    {
      "cell_type": "code",
      "metadata": {
        "id": "5B2mxeUjdpuk",
        "colab_type": "code",
        "colab": {}
      },
      "source": [
        "from sklearn.model_selection import StratifiedKFold"
      ],
      "execution_count": 0,
      "outputs": []
    },
    {
      "cell_type": "markdown",
      "metadata": {
        "id": "ymxSmCwjpIm7",
        "colab_type": "text"
      },
      "source": [
        "Now for the actual running. I'll describe what we're doing below step by step. We declare our `cat` and `cont` vars, our procs, and also generate our test set's data loader (so we can test against it). Along wtih this, to stay in v2 style our validation and test lists will be of type `L`.\n",
        "\n",
        "From here, we will use the `StratifiedKFold` to generate 10 shuffled splits, and split them with the `.split` method. From here, we can go into each of those splits and they will contain our indexs. Convert them to `L`'s and we can directly pass them into our `TabularPandas`. From here, we create our `DataLoaders`, `Learner`, train it, and then evaluate on our test data.\n",
        "\n",
        "Finally, we will print out the validation and test set statistics."
      ]
    },
    {
      "cell_type": "code",
      "metadata": {
        "id": "JPs6ptQ8eXfN",
        "colab_type": "code",
        "outputId": "b2a2f37c-82f5-4671-c1ed-0e1f0e7b8054",
        "colab": {
          "base_uri": "https://localhost:8080/",
          "height": 187
        }
      },
      "source": [
        "val_pct = L()\n",
        "test_pct = L()\n",
        "\n",
        "test_preds = L()\n",
        "\n",
        "cat_names = ['workclass', 'education', 'marital-status', 'occupation', 'relationship', 'race']\n",
        "cont_names = ['age', 'fnlwgt', 'education-num']\n",
        "procs = [Categorify, FillMissing, Normalize]\n",
        "\n",
        "test_dl = TabularPandas(test, procs, cat_names, cont_names, y_names=\"salary\")\n",
        "test_dl = TabDataLoader(test_dl)\n",
        "\n",
        "skf = StratifiedKFold(n_splits=10, shuffle=True)\n",
        "res = skf.split(train.index, train['salary'])\n",
        "for x, y in res:\n",
        "  ix = (L(list(x)), L(list(y)))\n",
        "  to = TabularPandas(train, procs, cat_names, cont_names, y_names=\"salary\", splits=ix)\n",
        "  data = to.databunch()\n",
        "  learn = tabular_learner(data, layers=[200,100], loss_func=CrossEntropyLossFlat(), metrics=accuracy)\n",
        "  learn.fit(1)\n",
        "  val_pct.append(learn.validate()[1])\n",
        "  test_pct.append(learn.validate(dl=test_dl)[1])"
      ],
      "execution_count": 7,
      "outputs": [
        {
          "output_type": "stream",
          "text": [
            "(#5) [0,0.3749929368495941,0.39017242193222046,0.8195155262947083,00:30]\n",
            "(#5) [0,0.3966914415359497,0.38946130871772766,0.8249744176864624,00:30]\n",
            "(#5) [0,0.3748205900192261,0.3508380353450775,0.8311156630516052,00:30]\n",
            "(#5) [0,0.3749563694000244,0.3576997220516205,0.8389627933502197,00:30]\n",
            "(#5) [0,0.3725537955760956,0.37853461503982544,0.8314568400382996,00:30]\n",
            "(#5) [0,0.37171193957328796,0.3733140230178833,0.826279878616333,00:30]\n",
            "(#5) [0,0.37295711040496826,0.3607505261898041,0.8283276557922363,00:30]\n",
            "(#5) [0,0.38796281814575195,0.36992305517196655,0.8351535797119141,00:30]\n",
            "(#5) [0,0.38456496596336365,0.37874263525009155,0.8177474141120911,00:31]\n",
            "(#5) [0,0.3830104470252991,0.3649543225765228,0.8337883949279785,00:31]\n"
          ],
          "name": "stdout"
        }
      ]
    },
    {
      "cell_type": "code",
      "metadata": {
        "id": "Kc5JrtMKm2GI",
        "colab_type": "code",
        "outputId": "b8578881-7cbf-433e-9169-0f2e0989c7d4",
        "colab": {
          "base_uri": "https://localhost:8080/",
          "height": 153
        }
      },
      "source": [
        "print(f'Validation:\\nmean: {np.mean(val_pct)}\\nstd: {np.std(val_pct)}')\n",
        "print(f'\\n\\nTest:\\nmean: {np.mean(test_pct)}\\nstd: {np.std(test_pct)}')"
      ],
      "execution_count": 8,
      "outputs": [
        {
          "output_type": "stream",
          "text": [
            "Validation:\n",
            "mean: 0.8287322163581848\n",
            "std: 0.006406870402931799\n",
            "\n",
            "\n",
            "Test:\n",
            "mean: 0.8078009903430938\n",
            "std: 0.013699860891465427\n"
          ],
          "name": "stdout"
        }
      ]
    },
    {
      "cell_type": "markdown",
      "metadata": {
        "id": "cK32Fc2sswqF",
        "colab_type": "text"
      },
      "source": [
        "## Bonus:\n",
        "\n",
        "If we wanted to do a mash up of our ten models, here is how you would adjust the loop"
      ]
    },
    {
      "cell_type": "code",
      "metadata": {
        "id": "gx4OWi9Es2az",
        "colab_type": "code",
        "outputId": "7df47928-6335-433a-9e5c-11d283151151",
        "colab": {
          "base_uri": "https://localhost:8080/",
          "height": 187
        }
      },
      "source": [
        "test_preds = L() # HERE\n",
        "\n",
        "cat_names = ['workclass', 'education', 'marital-status', 'occupation', 'relationship', 'race']\n",
        "cont_names = ['age', 'fnlwgt', 'education-num']\n",
        "procs = [Categorify, FillMissing, Normalize]\n",
        "\n",
        "test_dl = TabularPandas(test, procs, cat_names, cont_names, y_names=\"salary\")\n",
        "test_dl = TabDataLoader(test_dl)\n",
        "\n",
        "skf = StratifiedKFold(n_splits=10, shuffle=True)\n",
        "res = skf.split(train.index, train['salary'])\n",
        "for x, y in res:\n",
        "  ix = (L(list(x)), L(list(y)))\n",
        "  to = TabularPandas(train, procs, cat_names, cont_names, y_names=\"salary\", splits=ix)\n",
        "  data = to.databunch()\n",
        "  learn = tabular_learner(data, layers=[200,100], loss_func=CrossEntropyLossFlat(), metrics=accuracy)\n",
        "  learn.fit(1)\n",
        "  test_preds.append(learn.get_preds(dl=test_dl)[0]) # HERE"
      ],
      "execution_count": 0,
      "outputs": [
        {
          "output_type": "stream",
          "text": [
            "(#5) [0,0.3765460252761841,0.3636363744735718,0.8358922004699707,00:40]\n",
            "(#5) [0,0.3646171987056732,0.35906463861465454,0.8249744176864624,00:40]\n",
            "(#5) [0,0.3781249523162842,0.35186585783958435,0.8355510234832764,00:40]\n",
            "(#5) [0,0.40145716071128845,0.3564353585243225,0.8311156630516052,00:40]\n",
            "(#5) [0,0.38083574175834656,0.3732168674468994,0.8348686695098877,00:40]\n",
            "(#5) [0,0.4260295331478119,0.39271262288093567,0.8249146938323975,00:40]\n",
            "(#5) [0,0.36830320954322815,0.3626205623149872,0.8273037672042847,00:40]\n",
            "(#5) [0,0.3807460367679596,0.36837369203567505,0.8331058025360107,00:40]\n",
            "(#5) [0,0.40952637791633606,0.35914427042007446,0.8307167291641235,00:40]\n",
            "(#5) [0,0.37534549832344055,0.359743595123291,0.8313993215560913,00:40]\n"
          ],
          "name": "stdout"
        }
      ]
    },
    {
      "cell_type": "code",
      "metadata": {
        "id": "Sc3yGHybu10J",
        "colab_type": "code",
        "colab": {}
      },
      "source": [
        "preds = [pred for pred in test_preds]"
      ],
      "execution_count": 0,
      "outputs": []
    },
    {
      "cell_type": "code",
      "metadata": {
        "id": "_IMMdpJQsK68",
        "colab_type": "code",
        "colab": {}
      },
      "source": [
        "pred = sum(preds)/10"
      ],
      "execution_count": 0,
      "outputs": []
    },
    {
      "cell_type": "code",
      "metadata": {
        "id": "jOEz_qfxvJGW",
        "colab_type": "code",
        "outputId": "62c6631f-2001-4ef7-e049-fc842948b80a",
        "colab": {
          "base_uri": "https://localhost:8080/",
          "height": 34
        }
      },
      "source": [
        "accuracy(pred, test_preds[0][1])"
      ],
      "execution_count": 0,
      "outputs": [
        {
          "output_type": "execute_result",
          "data": {
            "text/plain": [
              "tensor(0.8117)"
            ]
          },
          "metadata": {
            "tags": []
          },
          "execution_count": 122
        }
      ]
    },
    {
      "cell_type": "markdown",
      "metadata": {
        "id": "iJJ1leI3qESS",
        "colab_type": "text"
      },
      "source": [
        "And we're done! 20 lines of code! *Much* easier to do in v2 than v1 thanks to that test `DataLoader` being so simple to set up."
      ]
    }
  ]
}
