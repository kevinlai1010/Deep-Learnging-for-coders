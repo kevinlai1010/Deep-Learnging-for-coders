{
  "nbformat": 4,
  "nbformat_minor": 0,
  "metadata": {
    "kernelspec": {
      "display_name": "Python 3",
      "name": "python3"
    },
    "colab": {
      "name": "Tabular Numpy DL Example.ipynb",
      "provenance": [],
      "include_colab_link": true
    },
    "accelerator": "GPU"
  },
  "cells": [
    {
      "cell_type": "markdown",
      "metadata": {
        "id": "view-in-github",
        "colab_type": "text"
      },
      "source": [
        "<a href=\"https://colab.research.google.com/github/muellerzr/Practical-Deep-Learning-for-Coders-2.0/blob/master/Tabular_Numpy_DL_Example.ipynb\" target=\"_parent\"><img src=\"https://colab.research.google.com/assets/colab-badge.svg\" alt=\"Open In Colab\"/></a>"
      ]
    },
    {
      "cell_type": "code",
      "metadata": {
        "id": "AjBXPIMZYNNH",
        "colab_type": "code",
        "outputId": "7170aa27-290f-4eb8-a94f-e262b9c416a7",
        "colab": {
          "base_uri": "https://localhost:8080/",
          "height": 35
        }
      },
      "source": [
        "!pip install fastai2 --quiet"
      ],
      "execution_count": 0,
      "outputs": [
        {
          "output_type": "stream",
          "text": [
            "\u001b[?25l\r\u001b[K     |█▊                              | 10kB 22.0MB/s eta 0:00:01\r\u001b[K     |███▌                            | 20kB 3.1MB/s eta 0:00:01\r\u001b[K     |█████▏                          | 30kB 4.1MB/s eta 0:00:01\r\u001b[K     |███████                         | 40kB 4.4MB/s eta 0:00:01\r\u001b[K     |████████▋                       | 51kB 3.6MB/s eta 0:00:01\r\u001b[K     |██████████▍                     | 61kB 4.0MB/s eta 0:00:01\r\u001b[K     |████████████                    | 71kB 4.3MB/s eta 0:00:01\r\u001b[K     |█████████████▉                  | 81kB 4.6MB/s eta 0:00:01\r\u001b[K     |███████████████▌                | 92kB 5.0MB/s eta 0:00:01\r\u001b[K     |█████████████████▎              | 102kB 4.8MB/s eta 0:00:01\r\u001b[K     |███████████████████             | 112kB 4.8MB/s eta 0:00:01\r\u001b[K     |████████████████████▊           | 122kB 4.8MB/s eta 0:00:01\r\u001b[K     |██████████████████████▍         | 133kB 4.8MB/s eta 0:00:01\r\u001b[K     |████████████████████████▏       | 143kB 4.8MB/s eta 0:00:01\r\u001b[K     |█████████████████████████▉      | 153kB 4.8MB/s eta 0:00:01\r\u001b[K     |███████████████████████████▋    | 163kB 4.8MB/s eta 0:00:01\r\u001b[K     |█████████████████████████████▎  | 174kB 4.8MB/s eta 0:00:01\r\u001b[K     |███████████████████████████████ | 184kB 4.8MB/s eta 0:00:01\r\u001b[K     |████████████████████████████████| 194kB 4.8MB/s \n",
            "\u001b[?25h"
          ],
          "name": "stdout"
        }
      ]
    },
    {
      "cell_type": "code",
      "metadata": {
        "id": "jMNPPIQ8YOqU",
        "colab_type": "code",
        "outputId": "c7d53957-d17f-4411-9e9e-c9bb9fee6add",
        "colab": {
          "base_uri": "https://localhost:8080/",
          "height": 381
        }
      },
      "source": [
        "!pip show fastai2 fastcore"
      ],
      "execution_count": 0,
      "outputs": [
        {
          "output_type": "stream",
          "text": [
            "Name: fastai2\n",
            "Version: 0.0.17\n",
            "Summary: Version 2 of the fastai library\n",
            "Home-page: https://github.com/fastai/fastai2\n",
            "Author: Jeremy Howard, Sylvain Gugger, and contributors\n",
            "Author-email: info@fast.ai\n",
            "License: Apache Software License 2.0\n",
            "Location: /usr/local/lib/python3.6/dist-packages\n",
            "Requires: pillow, torch, pandas, scipy, spacy, matplotlib, fastprogress, pyyaml, scikit-learn, requests, torchvision, fastcore\n",
            "Required-by: \n",
            "---\n",
            "Name: fastcore\n",
            "Version: 0.1.17\n",
            "Summary: Python supercharged for fastai development\n",
            "Home-page: https://github.com/fastai/fastcore\n",
            "Author: Jeremy Howard and Sylvain Gugger\n",
            "Author-email: infos@fast.ai\n",
            "License: Apache Software License 2.0\n",
            "Location: /usr/local/lib/python3.6/dist-packages\n",
            "Requires: dataclasses, numpy\n",
            "Required-by: fastai2\n"
          ],
          "name": "stdout"
        }
      ]
    },
    {
      "cell_type": "code",
      "metadata": {
        "id": "INvt9HdnYKjl",
        "colab_type": "code",
        "colab": {}
      },
      "source": [
        "from fastai2.tabular.all import *"
      ],
      "execution_count": 0,
      "outputs": []
    },
    {
      "cell_type": "code",
      "metadata": {
        "id": "K3LfplSfYKjp",
        "colab_type": "code",
        "outputId": "0a54a46b-a21c-4b40-f07f-b0244dcede80",
        "colab": {
          "base_uri": "https://localhost:8080/",
          "height": 17
        }
      },
      "source": [
        "path = untar_data(URLs.ADULT_SAMPLE)"
      ],
      "execution_count": 0,
      "outputs": [
        {
          "output_type": "display_data",
          "data": {
            "text/html": [
              ""
            ],
            "text/plain": [
              "<IPython.core.display.HTML object>"
            ]
          },
          "metadata": {
            "tags": []
          }
        }
      ]
    },
    {
      "cell_type": "code",
      "metadata": {
        "id": "tRG10Tz7YKju",
        "colab_type": "code",
        "colab": {}
      },
      "source": [
        "df = pd.read_csv(path/'adult.csv')"
      ],
      "execution_count": 0,
      "outputs": []
    },
    {
      "cell_type": "code",
      "metadata": {
        "id": "eEKSIk3CYKj4",
        "colab_type": "code",
        "colab": {}
      },
      "source": [
        "cat_names = ['workclass', 'education', 'marital-status', 'occupation', 'relationship', 'race']\n",
        "cont_names = ['age', 'fnlwgt', 'education-num']\n",
        "procs = [Categorify, FillMissing, Normalize]\n",
        "y_names = 'salary'"
      ],
      "execution_count": 0,
      "outputs": []
    },
    {
      "cell_type": "code",
      "metadata": {
        "id": "6zyr_PEuYKj7",
        "colab_type": "code",
        "colab": {}
      },
      "source": [
        "splits = RandomSplitter()(range_of(df))"
      ],
      "execution_count": 0,
      "outputs": []
    },
    {
      "cell_type": "code",
      "metadata": {
        "id": "4PSdx0Y1YKkC",
        "colab_type": "code",
        "colab": {}
      },
      "source": [
        "to = TabularPandas(df, procs=procs, cat_names=cat_names, cont_names=cont_names,\n",
        "                   y_names=y_names, splits=splits)"
      ],
      "execution_count": 0,
      "outputs": []
    },
    {
      "cell_type": "code",
      "metadata": {
        "id": "P22SqtgCYKkF",
        "colab_type": "code",
        "outputId": "096887e0-0266-4a7b-d0d6-64fbc839d9e7",
        "colab": {
          "base_uri": "https://localhost:8080/",
          "height": 141
        }
      },
      "source": [
        "to.train.xs.iloc[:3]"
      ],
      "execution_count": 0,
      "outputs": [
        {
          "output_type": "execute_result",
          "data": {
            "text/html": [
              "<div>\n",
              "<style scoped>\n",
              "    .dataframe tbody tr th:only-of-type {\n",
              "        vertical-align: middle;\n",
              "    }\n",
              "\n",
              "    .dataframe tbody tr th {\n",
              "        vertical-align: top;\n",
              "    }\n",
              "\n",
              "    .dataframe thead th {\n",
              "        text-align: right;\n",
              "    }\n",
              "</style>\n",
              "<table border=\"1\" class=\"dataframe\">\n",
              "  <thead>\n",
              "    <tr style=\"text-align: right;\">\n",
              "      <th></th>\n",
              "      <th>workclass</th>\n",
              "      <th>education</th>\n",
              "      <th>marital-status</th>\n",
              "      <th>occupation</th>\n",
              "      <th>relationship</th>\n",
              "      <th>race</th>\n",
              "      <th>education-num_na</th>\n",
              "      <th>age</th>\n",
              "      <th>fnlwgt</th>\n",
              "      <th>education-num</th>\n",
              "    </tr>\n",
              "  </thead>\n",
              "  <tbody>\n",
              "    <tr>\n",
              "      <th>791</th>\n",
              "      <td>8</td>\n",
              "      <td>11</td>\n",
              "      <td>3</td>\n",
              "      <td>11</td>\n",
              "      <td>1</td>\n",
              "      <td>5</td>\n",
              "      <td>1</td>\n",
              "      <td>-0.555681</td>\n",
              "      <td>0.164486</td>\n",
              "      <td>2.317593</td>\n",
              "    </tr>\n",
              "    <tr>\n",
              "      <th>24137</th>\n",
              "      <td>5</td>\n",
              "      <td>12</td>\n",
              "      <td>3</td>\n",
              "      <td>5</td>\n",
              "      <td>1</td>\n",
              "      <td>5</td>\n",
              "      <td>1</td>\n",
              "      <td>-1.214923</td>\n",
              "      <td>-0.858567</td>\n",
              "      <td>-0.424264</td>\n",
              "    </tr>\n",
              "    <tr>\n",
              "      <th>22395</th>\n",
              "      <td>7</td>\n",
              "      <td>12</td>\n",
              "      <td>3</td>\n",
              "      <td>6</td>\n",
              "      <td>1</td>\n",
              "      <td>5</td>\n",
              "      <td>1</td>\n",
              "      <td>0.616307</td>\n",
              "      <td>-0.285481</td>\n",
              "      <td>-0.424264</td>\n",
              "    </tr>\n",
              "  </tbody>\n",
              "</table>\n",
              "</div>"
            ],
            "text/plain": [
              "       workclass  education  marital-status  ...       age    fnlwgt  education-num\n",
              "791            8         11               3  ... -0.555681  0.164486       2.317593\n",
              "24137          5         12               3  ... -1.214923 -0.858567      -0.424264\n",
              "22395          7         12               3  ...  0.616307 -0.285481      -0.424264\n",
              "\n",
              "[3 rows x 10 columns]"
            ]
          },
          "metadata": {
            "tags": []
          },
          "execution_count": 9
        }
      ]
    },
    {
      "cell_type": "code",
      "metadata": {
        "id": "UXEOndS0Zc8h",
        "colab_type": "code",
        "outputId": "a663d590-e054-4bdb-b5e4-99f3e93bcd48",
        "colab": {
          "base_uri": "https://localhost:8080/",
          "height": 141
        }
      },
      "source": [
        "to.train.ys.iloc[:3]"
      ],
      "execution_count": 0,
      "outputs": [
        {
          "output_type": "execute_result",
          "data": {
            "text/html": [
              "<div>\n",
              "<style scoped>\n",
              "    .dataframe tbody tr th:only-of-type {\n",
              "        vertical-align: middle;\n",
              "    }\n",
              "\n",
              "    .dataframe tbody tr th {\n",
              "        vertical-align: top;\n",
              "    }\n",
              "\n",
              "    .dataframe thead th {\n",
              "        text-align: right;\n",
              "    }\n",
              "</style>\n",
              "<table border=\"1\" class=\"dataframe\">\n",
              "  <thead>\n",
              "    <tr style=\"text-align: right;\">\n",
              "      <th></th>\n",
              "      <th>salary</th>\n",
              "    </tr>\n",
              "  </thead>\n",
              "  <tbody>\n",
              "    <tr>\n",
              "      <th>3661</th>\n",
              "      <td>1</td>\n",
              "    </tr>\n",
              "    <tr>\n",
              "      <th>1247</th>\n",
              "      <td>1</td>\n",
              "    </tr>\n",
              "    <tr>\n",
              "      <th>17317</th>\n",
              "      <td>0</td>\n",
              "    </tr>\n",
              "  </tbody>\n",
              "</table>\n",
              "</div>"
            ],
            "text/plain": [
              "       salary\n",
              "3661        1\n",
              "1247        1\n",
              "17317       0"
            ]
          },
          "metadata": {
            "tags": []
          },
          "execution_count": 12
        }
      ]
    },
    {
      "cell_type": "code",
      "metadata": {
        "id": "w579dB2hYKkL",
        "colab_type": "code",
        "colab": {}
      },
      "source": [
        "dls = to.dataloaders(bs=128, device='cpu')"
      ],
      "execution_count": 0,
      "outputs": []
    },
    {
      "cell_type": "code",
      "metadata": {
        "id": "ycIQvk0tYKkP",
        "colab_type": "code",
        "outputId": "f56473cf-9d2d-4e90-da0a-f30b36e7c27f",
        "colab": {
          "base_uri": "https://localhost:8080/",
          "height": 35
        }
      },
      "source": [
        "%%timeit\n",
        "_ = next(iter(dls.train))"
      ],
      "execution_count": 0,
      "outputs": [
        {
          "output_type": "stream",
          "text": [
            "100 loops, best of 3: 19.2 ms per loop\n"
          ],
          "name": "stdout"
        }
      ]
    },
    {
      "cell_type": "code",
      "metadata": {
        "id": "guw0FrvpYKkW",
        "colab_type": "code",
        "outputId": "13d7b1c9-277d-41c7-da46-b4309863ffb1",
        "colab": {
          "base_uri": "https://localhost:8080/",
          "height": 35
        }
      },
      "source": [
        "%%timeit\n",
        "_ = next(iter(dls.valid))"
      ],
      "execution_count": 0,
      "outputs": [
        {
          "output_type": "stream",
          "text": [
            "100 loops, best of 3: 3.47 ms per loop\n"
          ],
          "name": "stdout"
        }
      ]
    },
    {
      "cell_type": "code",
      "metadata": {
        "id": "3g8QB0A5YKka",
        "colab_type": "code",
        "outputId": "ce0621a3-9e91-4503-f31c-d351bc712c8b",
        "colab": {
          "base_uri": "https://localhost:8080/",
          "height": 35
        }
      },
      "source": [
        "%%timeit\n",
        "for _ in dls.train:\n",
        "    _"
      ],
      "execution_count": 0,
      "outputs": [
        {
          "output_type": "stream",
          "text": [
            "1 loop, best of 3: 671 ms per loop\n"
          ],
          "name": "stdout"
        }
      ]
    },
    {
      "cell_type": "code",
      "metadata": {
        "id": "S-5J3URoYKkl",
        "colab_type": "code",
        "outputId": "86e5205f-297b-470e-876a-65379dceaa45",
        "colab": {
          "base_uri": "https://localhost:8080/",
          "height": 35
        }
      },
      "source": [
        "%%timeit\n",
        "for _ in dls.valid:\n",
        "    _"
      ],
      "execution_count": 0,
      "outputs": [
        {
          "output_type": "stream",
          "text": [
            "10 loops, best of 3: 167 ms per loop\n"
          ],
          "name": "stdout"
        }
      ]
    },
    {
      "cell_type": "code",
      "metadata": {
        "id": "oVpZYepHbpTc",
        "colab_type": "code",
        "outputId": "d85fbc61-478c-4684-e47a-158e9b4d071c",
        "colab": {
          "base_uri": "https://localhost:8080/",
          "height": 35
        }
      },
      "source": [
        "671/len(dls.train)"
      ],
      "execution_count": 0,
      "outputs": [
        {
          "output_type": "execute_result",
          "data": {
            "text/plain": [
              "3.3054187192118225"
            ]
          },
          "metadata": {
            "tags": []
          },
          "execution_count": 23
        }
      ]
    },
    {
      "cell_type": "code",
      "metadata": {
        "id": "PLqig-8WbtcU",
        "colab_type": "code",
        "outputId": "bd7a8c66-5dba-46a2-eb58-0577a13cb0bb",
        "colab": {
          "base_uri": "https://localhost:8080/",
          "height": 35
        }
      },
      "source": [
        "167/len(dls.valid)"
      ],
      "execution_count": 0,
      "outputs": [
        {
          "output_type": "execute_result",
          "data": {
            "text/plain": [
              "3.2745098039215685"
            ]
          },
          "metadata": {
            "tags": []
          },
          "execution_count": 24
        }
      ]
    },
    {
      "cell_type": "code",
      "metadata": {
        "id": "jWSa3xJmYKkw",
        "colab_type": "code",
        "colab": {}
      },
      "source": [
        "dls = to.dataloaders(bs=128, device='cuda')"
      ],
      "execution_count": 0,
      "outputs": []
    },
    {
      "cell_type": "code",
      "metadata": {
        "id": "cuxlT5YPYKkz",
        "colab_type": "code",
        "outputId": "118c76fd-37a5-4955-950c-c28a8c3b14bd",
        "colab": {
          "base_uri": "https://localhost:8080/",
          "height": 35
        }
      },
      "source": [
        "%%timeit\n",
        "_ = next(iter(dls.train))"
      ],
      "execution_count": 0,
      "outputs": [
        {
          "output_type": "stream",
          "text": [
            "100 loops, best of 3: 19.2 ms per loop\n"
          ],
          "name": "stdout"
        }
      ]
    },
    {
      "cell_type": "code",
      "metadata": {
        "id": "kQgCpEQWYKk6",
        "colab_type": "code",
        "outputId": "748ca815-d0bb-4310-afee-a53caefa6994",
        "colab": {
          "base_uri": "https://localhost:8080/",
          "height": 35
        }
      },
      "source": [
        "%%timeit\n",
        "_ = next(iter(dls.valid))"
      ],
      "execution_count": 0,
      "outputs": [
        {
          "output_type": "stream",
          "text": [
            "100 loops, best of 3: 3.58 ms per loop\n"
          ],
          "name": "stdout"
        }
      ]
    },
    {
      "cell_type": "code",
      "metadata": {
        "id": "TaxxNaEZYKk9",
        "colab_type": "code",
        "outputId": "09adbc8f-e462-41de-9fee-bffbb382262a",
        "colab": {
          "base_uri": "https://localhost:8080/",
          "height": 35
        }
      },
      "source": [
        "%%timeit\n",
        "for _ in dls.train:\n",
        "    _"
      ],
      "execution_count": 0,
      "outputs": [
        {
          "output_type": "stream",
          "text": [
            "1 loop, best of 3: 697 ms per loop\n"
          ],
          "name": "stdout"
        }
      ]
    },
    {
      "cell_type": "code",
      "metadata": {
        "id": "SFYRi2YqYKlE",
        "colab_type": "code",
        "outputId": "f1100420-8f0a-4953-f161-c1ae6c7ba367",
        "colab": {
          "base_uri": "https://localhost:8080/",
          "height": 35
        }
      },
      "source": [
        "%%timeit\n",
        "for _ in dls.valid:\n",
        "    _"
      ],
      "execution_count": 0,
      "outputs": [
        {
          "output_type": "stream",
          "text": [
            "10 loops, best of 3: 173 ms per loop\n"
          ],
          "name": "stdout"
        }
      ]
    },
    {
      "cell_type": "code",
      "metadata": {
        "id": "suVPBDFTYKlN",
        "colab_type": "code",
        "colab": {}
      },
      "source": [
        "learn = tabular_learner(dls, layers=[200,100], metrics=accuracy)"
      ],
      "execution_count": 0,
      "outputs": []
    },
    {
      "cell_type": "code",
      "metadata": {
        "id": "iBZ8FCuzYKlR",
        "colab_type": "code",
        "outputId": "4657eb52-bd0f-42b3-db27-b239faa5942c",
        "colab": {}
      },
      "source": [
        "%%time\n",
        "learn.fit(10, 1e-2)"
      ],
      "execution_count": 0,
      "outputs": [
        {
          "output_type": "display_data",
          "data": {
            "text/html": [
              "<table border=\"1\" class=\"dataframe\">\n",
              "  <thead>\n",
              "    <tr style=\"text-align: left;\">\n",
              "      <th>epoch</th>\n",
              "      <th>train_loss</th>\n",
              "      <th>valid_loss</th>\n",
              "      <th>accuracy</th>\n",
              "      <th>time</th>\n",
              "    </tr>\n",
              "  </thead>\n",
              "  <tbody>\n",
              "    <tr>\n",
              "      <td>0</td>\n",
              "      <td>0.377574</td>\n",
              "      <td>0.364423</td>\n",
              "      <td>0.833999</td>\n",
              "      <td>00:02</td>\n",
              "    </tr>\n",
              "    <tr>\n",
              "      <td>1</td>\n",
              "      <td>0.356772</td>\n",
              "      <td>0.357792</td>\n",
              "      <td>0.835688</td>\n",
              "      <td>00:02</td>\n",
              "    </tr>\n",
              "    <tr>\n",
              "      <td>2</td>\n",
              "      <td>0.358388</td>\n",
              "      <td>0.358207</td>\n",
              "      <td>0.833692</td>\n",
              "      <td>00:02</td>\n",
              "    </tr>\n",
              "    <tr>\n",
              "      <td>3</td>\n",
              "      <td>0.352414</td>\n",
              "      <td>0.352521</td>\n",
              "      <td>0.840602</td>\n",
              "      <td>00:02</td>\n",
              "    </tr>\n",
              "    <tr>\n",
              "      <td>4</td>\n",
              "      <td>0.349441</td>\n",
              "      <td>0.350070</td>\n",
              "      <td>0.840756</td>\n",
              "      <td>00:02</td>\n",
              "    </tr>\n",
              "    <tr>\n",
              "      <td>5</td>\n",
              "      <td>0.347263</td>\n",
              "      <td>0.358235</td>\n",
              "      <td>0.841370</td>\n",
              "      <td>00:02</td>\n",
              "    </tr>\n",
              "    <tr>\n",
              "      <td>6</td>\n",
              "      <td>0.346777</td>\n",
              "      <td>0.352908</td>\n",
              "      <td>0.838606</td>\n",
              "      <td>00:02</td>\n",
              "    </tr>\n",
              "    <tr>\n",
              "      <td>7</td>\n",
              "      <td>0.352095</td>\n",
              "      <td>0.352776</td>\n",
              "      <td>0.839681</td>\n",
              "      <td>00:02</td>\n",
              "    </tr>\n",
              "    <tr>\n",
              "      <td>8</td>\n",
              "      <td>0.347428</td>\n",
              "      <td>0.348187</td>\n",
              "      <td>0.840909</td>\n",
              "      <td>00:02</td>\n",
              "    </tr>\n",
              "    <tr>\n",
              "      <td>9</td>\n",
              "      <td>0.346684</td>\n",
              "      <td>0.352819</td>\n",
              "      <td>0.835074</td>\n",
              "      <td>00:02</td>\n",
              "    </tr>\n",
              "  </tbody>\n",
              "</table>"
            ],
            "text/plain": [
              "<IPython.core.display.HTML object>"
            ]
          },
          "metadata": {
            "tags": []
          }
        },
        {
          "output_type": "stream",
          "text": [
            "CPU times: user 22.2 s, sys: 263 ms, total: 22.4 s\n",
            "Wall time: 22.9 s\n"
          ],
          "name": "stdout"
        }
      ]
    },
    {
      "cell_type": "code",
      "metadata": {
        "id": "5r5JG6FMYKlZ",
        "colab_type": "code",
        "colab": {}
      },
      "source": [
        "class TabDataset():\n",
        "    \"A `NumPy` dataset from a `TabularPandas` object\"\n",
        "    def __init__(self, to):\n",
        "        self.cats = to.cats.to_numpy().astype(np.long)\n",
        "        self.conts = to.conts.to_numpy().astype(np.float32)\n",
        "        self.ys = to.ys.to_numpy()"
      ],
      "execution_count": 0,
      "outputs": []
    },
    {
      "cell_type": "code",
      "metadata": {
        "id": "RTLYwzIBcTU9",
        "colab_type": "code",
        "colab": {}
      },
      "source": [
        "ds = TabDataset(to.train)"
      ],
      "execution_count": 0,
      "outputs": []
    },
    {
      "cell_type": "code",
      "metadata": {
        "id": "AxrQCk_OcWDK",
        "colab_type": "code",
        "outputId": "09aea749-b8cc-4b55-c06a-7e14490fff83",
        "colab": {
          "base_uri": "https://localhost:8080/",
          "height": 166
        }
      },
      "source": [
        "ds[0]"
      ],
      "execution_count": 0,
      "outputs": [
        {
          "output_type": "error",
          "ename": "TypeError",
          "evalue": "ignored",
          "traceback": [
            "\u001b[0;31m---------------------------------------------------------------------------\u001b[0m",
            "\u001b[0;31mTypeError\u001b[0m                                 Traceback (most recent call last)",
            "\u001b[0;32m<ipython-input-27-d4162fd57828>\u001b[0m in \u001b[0;36m<module>\u001b[0;34m()\u001b[0m\n\u001b[0;32m----> 1\u001b[0;31m \u001b[0mds\u001b[0m\u001b[0;34m[\u001b[0m\u001b[0;36m0\u001b[0m\u001b[0;34m]\u001b[0m\u001b[0;34m\u001b[0m\u001b[0;34m\u001b[0m\u001b[0m\n\u001b[0m",
            "\u001b[0;31mTypeError\u001b[0m: 'TabDataset' object does not support indexing"
          ]
        }
      ]
    },
    {
      "cell_type": "code",
      "metadata": {
        "id": "kR6rephAYKld",
        "colab_type": "code",
        "colab": {}
      },
      "source": [
        "class TabDataset():\n",
        "    \"A `NumPy` dataset from a `TabularPandas` object\"\n",
        "    def __init__(self, to):\n",
        "        self.cats = to.cats.to_numpy().astype(np.long)\n",
        "        self.conts = to.conts.to_numpy().astype(np.float32)\n",
        "        self.ys = to.ys.to_numpy()\n",
        "\n",
        "    def __getitem__(self, idx):\n",
        "        idx = idx[0]\n",
        "        return self.cats[idx:idx+self.bs], self.conts[idx:idx+self.bs], self.ys[idx:idx+self.bs]"
      ],
      "execution_count": 0,
      "outputs": []
    },
    {
      "cell_type": "code",
      "metadata": {
        "id": "8AE9u9bQYKlh",
        "colab_type": "code",
        "colab": {}
      },
      "source": [
        "class TabDataset():\n",
        "    \"A `NumPy` dataset from a `TabularPandas` object\"\n",
        "    def __init__(self, to):\n",
        "        self.cats = to.cats.to_numpy().astype(np.long)\n",
        "        self.conts = to.conts.to_numpy().astype(np.float32)\n",
        "        self.ys = to.ys.to_numpy()\n",
        "\n",
        "    def __getitem__(self, idx):\n",
        "        idx = idx[0]\n",
        "        return self.cats[idx:idx+self.bs], self.conts[idx:idx+self.bs], self.ys[idx:idx+self.bs]\n",
        "\n",
        "    def __len__(self): return len(self.cats)"
      ],
      "execution_count": 0,
      "outputs": []
    },
    {
      "cell_type": "code",
      "metadata": {
        "id": "Hfk_4DuAYKlk",
        "colab_type": "code",
        "colab": {}
      },
      "source": [
        "train_ds = TabDataset(to.train)\n",
        "valid_ds = TabDataset(to.valid)"
      ],
      "execution_count": 0,
      "outputs": []
    },
    {
      "cell_type": "code",
      "metadata": {
        "id": "LEe52yQKYKlo",
        "colab_type": "code",
        "colab": {}
      },
      "source": [
        "train_ds.bs = 3"
      ],
      "execution_count": 0,
      "outputs": []
    },
    {
      "cell_type": "code",
      "metadata": {
        "id": "0M_d1vLCYKlq",
        "colab_type": "code",
        "outputId": "29c3154a-a7ef-41c0-bfe8-67ffdd24c725",
        "colab": {
          "base_uri": "https://localhost:8080/",
          "height": 173
        }
      },
      "source": [
        "train_ds[[3]]"
      ],
      "execution_count": 0,
      "outputs": [
        {
          "output_type": "execute_result",
          "data": {
            "text/plain": [
              "(array([[ 7, 16,  3, 13,  1,  1,  1],\n",
              "        [ 8, 12,  5, 13,  2,  3,  1],\n",
              "        [ 1, 12,  3,  1,  1,  5,  1]]),\n",
              " array([[-0.48341432, -1.5334858 , -0.02760405],\n",
              "        [-1.509832  ,  1.8785704 , -0.41903225],\n",
              "        [ 0.9828966 ,  0.509499  , -0.41903225]], dtype=float32),\n",
              " array([[0],\n",
              "        [0],\n",
              "        [0]], dtype=int8))"
            ]
          },
          "metadata": {
            "tags": []
          },
          "execution_count": 31
        }
      ]
    },
    {
      "cell_type": "markdown",
      "metadata": {
        "id": "nw5jFZZIYKlv",
        "colab_type": "text"
      },
      "source": [
        "Now to build our `DataLoader`, we're going to want to modify 4 particular functions:\n",
        "\n",
        "1. `create_item`\n",
        "2. `create_batch`\n",
        "3. `get_idxs`\n",
        "4. `shuffle_fn`\n",
        "\n",
        "Each of these play a particular role. First let's look at our template:"
      ]
    },
    {
      "cell_type": "code",
      "metadata": {
        "id": "YXuQg5OeYKlv",
        "colab_type": "code",
        "colab": {}
      },
      "source": [
        "class TabDataLoader(DataLoader):\n",
        "    def __init__(self, dataset, bs=1, num_workers=0, device='cuda', shuffle=False, **kwargs):\n",
        "        \"A `DataLoader` based on a `TabDataset`\"\n",
        "        super().__init__(dataset, bs=1, num_workers=num_workers, shuffle=shuffle, \n",
        "                         device=device, drop_last=shuffle, **kwargs)\n",
        "        self.dataset.bs=bs"
      ],
      "execution_count": 0,
      "outputs": []
    },
    {
      "cell_type": "code",
      "metadata": {
        "id": "2pfpj72cYKly",
        "colab_type": "code",
        "colab": {}
      },
      "source": [
        "dl = TabDataLoader(train_ds, bs=3)"
      ],
      "execution_count": 0,
      "outputs": []
    },
    {
      "cell_type": "code",
      "metadata": {
        "id": "VfiL9JKmYKl0",
        "colab_type": "code",
        "outputId": "bd67bba5-a9ed-406f-f4e9-62ec387294d4",
        "colab": {
          "base_uri": "https://localhost:8080/",
          "height": 35
        }
      },
      "source": [
        "dl.dataset.bs"
      ],
      "execution_count": 0,
      "outputs": [
        {
          "output_type": "execute_result",
          "data": {
            "text/plain": [
              "3"
            ]
          },
          "metadata": {
            "tags": []
          },
          "execution_count": 34
        }
      ]
    },
    {
      "cell_type": "code",
      "metadata": {
        "id": "X3OfxzQ2YKl4",
        "colab_type": "code",
        "outputId": "c14a1b13-6651-47ad-ac88-17833bad46fe",
        "colab": {
          "base_uri": "https://localhost:8080/",
          "height": 173
        }
      },
      "source": [
        "dl.dataset[[0]]"
      ],
      "execution_count": 0,
      "outputs": [
        {
          "output_type": "execute_result",
          "data": {
            "text/plain": [
              "(array([[ 5, 10,  3,  5,  1,  5,  1],\n",
              "        [ 5, 12,  3,  4,  1,  5,  1],\n",
              "        [ 5,  8,  5,  2,  4,  5,  1]]),\n",
              " array([[-0.04352104,  1.6801333 ,  1.1466806 ],\n",
              "        [ 0.76295   ,  3.3406117 , -0.41903225],\n",
              "        [-1.0699388 ,  0.3654061 ,  0.75525236]], dtype=float32),\n",
              " array([[1],\n",
              "        [1],\n",
              "        [0]], dtype=int8))"
            ]
          },
          "metadata": {
            "tags": []
          },
          "execution_count": 35
        }
      ]
    },
    {
      "cell_type": "code",
      "metadata": {
        "id": "4wur3no4YKmC",
        "colab_type": "code",
        "colab": {}
      },
      "source": [
        "class TabDataLoader(DataLoader):\n",
        "    def __init__(self, dataset, bs=1, num_workers=0, device='cuda', shuffle=False, **kwargs):\n",
        "        \"A `DataLoader` based on a `TabDataset`\"\n",
        "        self.dataset_bs = bs\n",
        "        super().__init__(dataset, bs=1, num_workers=num_workers, shuffle=shuffle, \n",
        "                         device=device, drop_last=shuffle, **kwargs)\n",
        "        self.dataset.bs=self.dataset_bs\n",
        "    \n",
        "    def create_item(self, s): return s\n",
        "\n",
        "    def create_batch(self, b):\n",
        "        cat, cont, y = self.dataset[b]\n",
        "        return tensor(cat).to(self.device), tensor(cont).to(self.device), tensor(y).to(self.device)"
      ],
      "execution_count": 0,
      "outputs": []
    },
    {
      "cell_type": "code",
      "metadata": {
        "id": "ov3-hfN_d5y_",
        "colab_type": "code",
        "colab": {}
      },
      "source": [
        "dl = TabDataLoader(train_ds, bs=128, shuffle=False)"
      ],
      "execution_count": 0,
      "outputs": []
    },
    {
      "cell_type": "code",
      "metadata": {
        "id": "TWbleZx2eNxa",
        "colab_type": "code",
        "colab": {}
      },
      "source": [
        "b = next(iter(dl))"
      ],
      "execution_count": 0,
      "outputs": []
    },
    {
      "cell_type": "code",
      "metadata": {
        "id": "HwcbnJNLd-Jc",
        "colab_type": "code",
        "colab": {}
      },
      "source": [
        "b"
      ],
      "execution_count": 0,
      "outputs": []
    },
    {
      "cell_type": "code",
      "metadata": {
        "id": "TVa7llV8YKmE",
        "colab_type": "code",
        "colab": {}
      },
      "source": [
        "class TabDataLoader(DataLoader):\n",
        "    def __init__(self, dataset, bs=1, num_workers=0, device='cuda', shuffle=False, **kwargs):\n",
        "        \"A `DataLoader` based on a `TabDataset`\"\n",
        "        super().__init__(dataset, bs=bs, num_workers=num_workers, shuffle=shuffle, \n",
        "                         device=device, drop_last=shuffle, **kwargs)\n",
        "        self.dataset.bs=bs\n",
        "    \n",
        "    def create_item(self, s): return s\n",
        "\n",
        "    def create_batch(self, b):\n",
        "        \"Create a batch of data\"\n",
        "        cat, cont, y = self.dataset[b]\n",
        "        return tensor(cat).to(self.device), tensor(cont).to(self.device), tensor(y).to(self.device)\n",
        "\n",
        "    def get_idxs(self):\n",
        "        \"Get index's to select\"\n",
        "        idxs = Inf.count if self.indexed else Inf.nones\n",
        "        if self.n is not None: idxs = list(range(len(self.dataset)))\n",
        "        return idxs\n",
        "\n",
        "    def shuffle_fn(self):\n",
        "        \"Shuffle the interior dataset\"\n",
        "        rng = np.random.permutation(len(self.dataset))\n",
        "        self.dataset.cats = self.dataset.cats[rng]\n",
        "        self.dataset.conts = self.dataset.conts[rng]\n",
        "        self.dataset.ys = self.dataset.ys[rng]"
      ],
      "execution_count": 0,
      "outputs": []
    },
    {
      "cell_type": "code",
      "metadata": {
        "id": "HmmxjnjJYKmJ",
        "colab_type": "code",
        "colab": {}
      },
      "source": [
        "train_ds = TabDataset(to.train)\n",
        "valid_ds = TabDataset(to.valid)"
      ],
      "execution_count": 0,
      "outputs": []
    },
    {
      "cell_type": "code",
      "metadata": {
        "id": "CXpL1fKCYKmN",
        "colab_type": "code",
        "colab": {}
      },
      "source": [
        "train_dl = TabDataLoader(train_ds, device='cpu', shuffle=True, bs=128)\n",
        "valid_dl = TabDataLoader(valid_ds, device='cpu', bs=128)"
      ],
      "execution_count": 0,
      "outputs": []
    },
    {
      "cell_type": "code",
      "metadata": {
        "id": "HpNBJmRYf94e",
        "colab_type": "code",
        "colab": {}
      },
      "source": [
        "o = next(iter(train_dl))"
      ],
      "execution_count": 0,
      "outputs": []
    },
    {
      "cell_type": "code",
      "metadata": {
        "id": "ggglupMkf_LV",
        "colab_type": "code",
        "outputId": "ea4da5ef-4099-4fc5-f9e6-ddd3a1309691",
        "colab": {
          "base_uri": "https://localhost:8080/",
          "height": 35
        }
      },
      "source": [
        "o[0].shape"
      ],
      "execution_count": 0,
      "outputs": [
        {
          "output_type": "execute_result",
          "data": {
            "text/plain": [
              "torch.Size([128, 7])"
            ]
          },
          "metadata": {
            "tags": []
          },
          "execution_count": 64
        }
      ]
    },
    {
      "cell_type": "code",
      "metadata": {
        "id": "VWSaTzlOgAaz",
        "colab_type": "code",
        "outputId": "89f567d0-ed4b-4992-c008-f1f397e45e5e",
        "colab": {
          "base_uri": "https://localhost:8080/",
          "height": 35
        }
      },
      "source": [
        "len(o)"
      ],
      "execution_count": 0,
      "outputs": [
        {
          "output_type": "execute_result",
          "data": {
            "text/plain": [
              "3"
            ]
          },
          "metadata": {
            "tags": []
          },
          "execution_count": 65
        }
      ]
    },
    {
      "cell_type": "code",
      "metadata": {
        "id": "vabTmcasYKmR",
        "colab_type": "code",
        "outputId": "1789a358-bf40-4fa7-cad5-a167cf05e814",
        "colab": {
          "base_uri": "https://localhost:8080/",
          "height": 52
        }
      },
      "source": [
        "%%timeit\n",
        "_ = next(iter(train_dl))"
      ],
      "execution_count": 0,
      "outputs": [
        {
          "output_type": "stream",
          "text": [
            "The slowest run took 4.93 times longer than the fastest. This could mean that an intermediate result is being cached.\n",
            "1000 loops, best of 3: 678 µs per loop\n"
          ],
          "name": "stdout"
        }
      ]
    },
    {
      "cell_type": "code",
      "metadata": {
        "id": "Jz-Okl19YKmU",
        "colab_type": "code",
        "outputId": "8d825c46-6cc6-402e-a2b3-d45c4743bd6e",
        "colab": {
          "base_uri": "https://localhost:8080/",
          "height": 35
        }
      },
      "source": [
        "%%timeit\n",
        "_ = next(iter(valid_dl))"
      ],
      "execution_count": 0,
      "outputs": [
        {
          "output_type": "stream",
          "text": [
            "1000 loops, best of 3: 221 µs per loop\n"
          ],
          "name": "stdout"
        }
      ]
    },
    {
      "cell_type": "code",
      "metadata": {
        "id": "WRQQGJB3YKmX",
        "colab_type": "code",
        "outputId": "aae68874-3325-428e-a024-fb62ae92c7c0",
        "colab": {
          "base_uri": "https://localhost:8080/",
          "height": 35
        }
      },
      "source": [
        "%%timeit\n",
        "for _ in train_dl:\n",
        "    _"
      ],
      "execution_count": 0,
      "outputs": [
        {
          "output_type": "stream",
          "text": [
            "10 loops, best of 3: 33.1 ms per loop\n"
          ],
          "name": "stdout"
        }
      ]
    },
    {
      "cell_type": "code",
      "metadata": {
        "id": "v8v6KlvMYKmd",
        "colab_type": "code",
        "outputId": "60fda522-0a81-40a8-e508-5deb5817c5c1",
        "colab": {
          "base_uri": "https://localhost:8080/",
          "height": 35
        }
      },
      "source": [
        "%%timeit\n",
        "for _ in valid_dl:\n",
        "    _"
      ],
      "execution_count": 0,
      "outputs": [
        {
          "output_type": "stream",
          "text": [
            "100 loops, best of 3: 8.3 ms per loop\n"
          ],
          "name": "stdout"
        }
      ]
    },
    {
      "cell_type": "code",
      "metadata": {
        "id": "RfmVIfoBYKmh",
        "colab_type": "code",
        "colab": {}
      },
      "source": [
        "train_dl = TabDataLoader(train_ds, device='cuda', shuffle=True, bs=128)\n",
        "valid_dl = TabDataLoader(valid_ds, device='cuda', bs=128)"
      ],
      "execution_count": 0,
      "outputs": []
    },
    {
      "cell_type": "code",
      "metadata": {
        "id": "KnxRn79FYKmk",
        "colab_type": "code",
        "outputId": "7a714278-aa21-470f-8667-076d35a52a4a",
        "colab": {
          "base_uri": "https://localhost:8080/",
          "height": 35
        }
      },
      "source": [
        "%%timeit\n",
        "_ = next(iter(train_dl))"
      ],
      "execution_count": 0,
      "outputs": [
        {
          "output_type": "stream",
          "text": [
            "1000 loops, best of 3: 933 µs per loop\n"
          ],
          "name": "stdout"
        }
      ]
    },
    {
      "cell_type": "code",
      "metadata": {
        "id": "pioiXDO6YKmr",
        "colab_type": "code",
        "outputId": "7fa2f35d-359d-425d-dd9d-1ed3cd234d2c",
        "colab": {
          "base_uri": "https://localhost:8080/",
          "height": 35
        }
      },
      "source": [
        "%%timeit\n",
        "_ = next(iter(valid_dl))"
      ],
      "execution_count": 0,
      "outputs": [
        {
          "output_type": "stream",
          "text": [
            "1000 loops, best of 3: 455 µs per loop\n"
          ],
          "name": "stdout"
        }
      ]
    },
    {
      "cell_type": "code",
      "metadata": {
        "id": "rlnPferrYKmv",
        "colab_type": "code",
        "outputId": "237b05d2-81ba-45c5-d6d4-e037257b2851",
        "colab": {
          "base_uri": "https://localhost:8080/",
          "height": 35
        }
      },
      "source": [
        "%%timeit\n",
        "for _ in train_dl:\n",
        "    _"
      ],
      "execution_count": 0,
      "outputs": [
        {
          "output_type": "stream",
          "text": [
            "10 loops, best of 3: 53.2 ms per loop\n"
          ],
          "name": "stdout"
        }
      ]
    },
    {
      "cell_type": "code",
      "metadata": {
        "id": "HOyjFkTmYKm2",
        "colab_type": "code",
        "outputId": "2d080956-ed9b-4cdd-f6db-bb105abccf60",
        "colab": {
          "base_uri": "https://localhost:8080/",
          "height": 35
        }
      },
      "source": [
        "%%timeit\n",
        "for _ in valid_dl:\n",
        "    _"
      ],
      "execution_count": 0,
      "outputs": [
        {
          "output_type": "stream",
          "text": [
            "100 loops, best of 3: 14 ms per loop\n"
          ],
          "name": "stdout"
        }
      ]
    },
    {
      "cell_type": "code",
      "metadata": {
        "id": "JJRFl1ulYKm9",
        "colab_type": "code",
        "colab": {}
      },
      "source": [
        "class TabDataLoaders(DataLoaders):\n",
        "    def __init__(self, to, bs=64, val_bs=None, shuffle_train=True, device='cpu', **kwargs):\n",
        "        train_ds = TabDataset(to.train)\n",
        "        valid_ds = TabDataset(to.valid)\n",
        "        val_bs = bs if val_bs is None else val_bs\n",
        "        train = TabDataLoader(train_ds, bs=bs, shuffle=shuffle_train, device=device, **kwargs)\n",
        "        valid = TabDataLoader(valid_ds, bs=val_bs, shuffle=False, device=device, **kwargs)\n",
        "        super().__init__(train, valid, device=device, **kwargs)"
      ],
      "execution_count": 0,
      "outputs": []
    },
    {
      "cell_type": "code",
      "metadata": {
        "id": "OgSThgahYKnB",
        "colab_type": "code",
        "colab": {}
      },
      "source": [
        "dls = TabDataLoaders(to, bs=128, device='cuda')"
      ],
      "execution_count": 0,
      "outputs": []
    },
    {
      "cell_type": "code",
      "metadata": {
        "id": "Xud2WYoSYKnE",
        "colab_type": "code",
        "colab": {}
      },
      "source": [
        "emb_szs = get_emb_sz(to)\n",
        "net = TabularModel(emb_szs, n_cont=3, out_sz=2, layers=[200,100]).cuda()\n",
        "learn = Learner(dls, net, metrics=accuracy, loss_func=CrossEntropyLossFlat())"
      ],
      "execution_count": 0,
      "outputs": []
    },
    {
      "cell_type": "code",
      "metadata": {
        "id": "FqY-U08DYKnH",
        "colab_type": "code",
        "outputId": "0ad89d01-345a-4326-8da2-b53e38ab19e6",
        "colab": {
          "base_uri": "https://localhost:8080/",
          "height": 390
        }
      },
      "source": [
        "%%time\n",
        "learn.fit(10, 1e-2)"
      ],
      "execution_count": 0,
      "outputs": [
        {
          "output_type": "display_data",
          "data": {
            "text/html": [
              "<table border=\"1\" class=\"dataframe\">\n",
              "  <thead>\n",
              "    <tr style=\"text-align: left;\">\n",
              "      <th>epoch</th>\n",
              "      <th>train_loss</th>\n",
              "      <th>valid_loss</th>\n",
              "      <th>accuracy</th>\n",
              "      <th>time</th>\n",
              "    </tr>\n",
              "  </thead>\n",
              "  <tbody>\n",
              "    <tr>\n",
              "      <td>0</td>\n",
              "      <td>0.365548</td>\n",
              "      <td>0.365794</td>\n",
              "      <td>0.829392</td>\n",
              "      <td>00:01</td>\n",
              "    </tr>\n",
              "    <tr>\n",
              "      <td>1</td>\n",
              "      <td>0.355480</td>\n",
              "      <td>0.361641</td>\n",
              "      <td>0.833845</td>\n",
              "      <td>00:01</td>\n",
              "    </tr>\n",
              "    <tr>\n",
              "      <td>2</td>\n",
              "      <td>0.351890</td>\n",
              "      <td>0.358395</td>\n",
              "      <td>0.837377</td>\n",
              "      <td>00:01</td>\n",
              "    </tr>\n",
              "    <tr>\n",
              "      <td>3</td>\n",
              "      <td>0.348911</td>\n",
              "      <td>0.358475</td>\n",
              "      <td>0.833385</td>\n",
              "      <td>00:01</td>\n",
              "    </tr>\n",
              "    <tr>\n",
              "      <td>4</td>\n",
              "      <td>0.346887</td>\n",
              "      <td>0.357748</td>\n",
              "      <td>0.835995</td>\n",
              "      <td>00:01</td>\n",
              "    </tr>\n",
              "    <tr>\n",
              "      <td>5</td>\n",
              "      <td>0.345842</td>\n",
              "      <td>0.357555</td>\n",
              "      <td>0.836302</td>\n",
              "      <td>00:01</td>\n",
              "    </tr>\n",
              "    <tr>\n",
              "      <td>6</td>\n",
              "      <td>0.343665</td>\n",
              "      <td>0.357774</td>\n",
              "      <td>0.833385</td>\n",
              "      <td>00:01</td>\n",
              "    </tr>\n",
              "    <tr>\n",
              "      <td>7</td>\n",
              "      <td>0.343034</td>\n",
              "      <td>0.359036</td>\n",
              "      <td>0.835688</td>\n",
              "      <td>00:01</td>\n",
              "    </tr>\n",
              "    <tr>\n",
              "      <td>8</td>\n",
              "      <td>0.341005</td>\n",
              "      <td>0.365253</td>\n",
              "      <td>0.833538</td>\n",
              "      <td>00:01</td>\n",
              "    </tr>\n",
              "    <tr>\n",
              "      <td>9</td>\n",
              "      <td>0.339049</td>\n",
              "      <td>0.363166</td>\n",
              "      <td>0.831695</td>\n",
              "      <td>00:01</td>\n",
              "    </tr>\n",
              "  </tbody>\n",
              "</table>"
            ],
            "text/plain": [
              "<IPython.core.display.HTML object>"
            ]
          },
          "metadata": {
            "tags": []
          }
        },
        {
          "output_type": "stream",
          "text": [
            "CPU times: user 14.5 s, sys: 174 ms, total: 14.7 s\n",
            "Wall time: 15.2 s\n"
          ],
          "name": "stdout"
        }
      ]
    },
    {
      "cell_type": "code",
      "metadata": {
        "id": "7ez_6tgKg-G2",
        "colab_type": "code",
        "outputId": "3b97c6b7-8c9b-4b9a-8959-9533768524bd",
        "colab": {
          "base_uri": "https://localhost:8080/",
          "height": 35
        }
      },
      "source": [
        "(15/23) * 100"
      ],
      "execution_count": 0,
      "outputs": [
        {
          "output_type": "execute_result",
          "data": {
            "text/plain": [
              "65.21739130434783"
            ]
          },
          "metadata": {
            "tags": []
          },
          "execution_count": 82
        }
      ]
    },
    {
      "cell_type": "code",
      "metadata": {
        "id": "W1IimeNNhKnc",
        "colab_type": "code",
        "outputId": "54af6d96-fc20-402c-9db8-61b9c1d5dac6",
        "colab": {
          "base_uri": "https://localhost:8080/",
          "height": 35
        }
      },
      "source": [
        "%%timeit\n",
        "for batch in dls[1]:\n",
        "    with torch.no_grad():\n",
        "        learn.model.eval()\n",
        "        out = learn.model(batch[0], batch[1])"
      ],
      "execution_count": 0,
      "outputs": [
        {
          "output_type": "stream",
          "text": [
            "10 loops, best of 3: 50.9 ms per loop\n"
          ],
          "name": "stdout"
        }
      ]
    },
    {
      "cell_type": "code",
      "metadata": {
        "id": "jxgelJgahfOr",
        "colab_type": "code",
        "colab": {}
      },
      "source": [
        "dls = to.dataloaders(bs=128, device='cuda')"
      ],
      "execution_count": 0,
      "outputs": []
    },
    {
      "cell_type": "code",
      "metadata": {
        "id": "5qgf4wq3hmdD",
        "colab_type": "code",
        "outputId": "74230f71-664e-47b5-d61d-52a97772e131",
        "colab": {
          "base_uri": "https://localhost:8080/",
          "height": 35
        }
      },
      "source": [
        "%%timeit\n",
        "for batch in dls[1]:\n",
        "    with torch.no_grad():\n",
        "        learn.model.eval()\n",
        "        out = learn.model(batch[0], batch[1])"
      ],
      "execution_count": 0,
      "outputs": [
        {
          "output_type": "stream",
          "text": [
            "1 loop, best of 3: 210 ms per loop\n"
          ],
          "name": "stdout"
        }
      ]
    }
  ]
}