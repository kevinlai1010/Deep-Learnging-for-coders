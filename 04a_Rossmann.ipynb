{
  "nbformat": 4,
  "nbformat_minor": 0,
  "metadata": {
    "colab": {
      "name": "Rossmann.ipynb",
      "provenance": [],
      "collapsed_sections": [
        "AELWDeBnulB6",
        "NiTUWZEyq3-a"
      ],
      "machine_shape": "hm"
    },
    "kernelspec": {
      "name": "python3",
      "display_name": "Python 3"
    },
    "accelerator": "GPU"
  },
  "cells": [
    {
      "cell_type": "markdown",
      "metadata": {
        "id": "faiZCNxag-cx",
        "colab_type": "text"
      },
      "source": [
        "# Rossmann Tabular Regression\n"
      ]
    },
    {
      "cell_type": "markdown",
      "metadata": {
        "id": "w-f_OGMIpgC3",
        "colab_type": "text"
      },
      "source": [
        "Rossmann's Kaggle competition was a business sales prediction competition for $35,000 dollars to the winners.\n",
        "\n",
        "The premise is that we're given the sales data and information of their stores for the past few years. We need to make a model that can predict the number of sales that will be made in the future.\n",
        "\n",
        "We can do this through a tabular regression model."
      ]
    },
    {
      "cell_type": "markdown",
      "metadata": {
        "id": "9FXVZ4jvhMoG",
        "colab_type": "text"
      },
      "source": [
        "To download the dataset:<br>\n",
        "- Go to https://www.kaggle.com/init27/fastai-v3-rossman-data-clean<br>\n",
        "- Go to `output`<br>\n",
        "- Right click the download button<br>\n",
        "- Copy link location (both train and test)<br>\n",
        "- !wget `<link>`"
      ]
    },
    {
      "cell_type": "markdown",
      "metadata": {
        "id": "udMAG0cXsJi-",
        "colab_type": "text"
      },
      "source": [
        "The following links might be expired"
      ]
    },
    {
      "cell_type": "code",
      "metadata": {
        "id": "CPK8XkCNtL2i",
        "colab_type": "code",
        "outputId": "030055d1-e2f7-4b75-c49c-bfa39c792e42",
        "colab": {
          "base_uri": "https://localhost:8080/",
          "height": 411
        }
      },
      "source": [
        "!wget https://www.kaggleusercontent.com/kf/10297001/eyJhbGciOiJkaXIiLCJlbmMiOiJBMTI4Q0JDLUhTMjU2In0..Z9DPUqy_7o3hN9iBl-fUzw.wOI0rTH6_gyvR8U-UvMUmoTD9M2lafDXDSEYKY0DmHkgI1gLabCyG4vgnAiFUs1ksHeHaKuid_NXg-RrSV2fldd61Isp0HU-qE5EWhFYiAb9UrofumKeeBfu0RcnMV0WtyVJqNi8yQtwym3Z_UJPSdMNGkavYNacFSrSQbCDQpQ986sbdZdF0ZaAasu-oOjA.8mQMhFGKkxrPLzAvIL6XVA/train_clean\n",
        "!wget https://www.kaggleusercontent.com/kf/10297001/eyJhbGciOiJkaXIiLCJlbmMiOiJBMTI4Q0JDLUhTMjU2In0..PkPJUP4dpHeJA15qLhTNUg.jhtsT6LQCC_SNy6-vBju-HlWEymYS4CxJJVhxGSgLBimmyNirL5Fh1_NB6PGSR13uMX3bsc6x47_eD550vkWTQLfRZjpyc9v5Q3U3J1EmaSOeMb5Tdip_ONpbPwzyKHgBwKJB4yAbV6aZzEcSJdNlFbZx6PtoVjt-tCOlZ0O0fi0o1we9DYpUGJOtbiaTAeL.msgJPMSJo2PW83rmkClroA/test_clean"
      ],
      "execution_count": 1,
      "outputs": [
        {
          "output_type": "stream",
          "text": [
            "--2019-12-05 22:23:32--  https://www.kaggleusercontent.com/kf/10297001/eyJhbGciOiJkaXIiLCJlbmMiOiJBMTI4Q0JDLUhTMjU2In0..Z9DPUqy_7o3hN9iBl-fUzw.wOI0rTH6_gyvR8U-UvMUmoTD9M2lafDXDSEYKY0DmHkgI1gLabCyG4vgnAiFUs1ksHeHaKuid_NXg-RrSV2fldd61Isp0HU-qE5EWhFYiAb9UrofumKeeBfu0RcnMV0WtyVJqNi8yQtwym3Z_UJPSdMNGkavYNacFSrSQbCDQpQ986sbdZdF0ZaAasu-oOjA.8mQMhFGKkxrPLzAvIL6XVA/train_clean\n",
            "Resolving www.kaggleusercontent.com (www.kaggleusercontent.com)... 35.190.26.106\n",
            "Connecting to www.kaggleusercontent.com (www.kaggleusercontent.com)|35.190.26.106|:443... connected.\n",
            "HTTP request sent, awaiting response... 200 OK\n",
            "Length: 497095620 (474M) [application/octet-stream]\n",
            "Saving to: ‘train_clean’\n",
            "\n",
            "train_clean         100%[===================>] 474.07M   143MB/s    in 3.3s    \n",
            "\n",
            "2019-12-05 22:23:35 (143 MB/s) - ‘train_clean’ saved [497095620/497095620]\n",
            "\n",
            "--2019-12-05 22:23:36--  https://www.kaggleusercontent.com/kf/10297001/eyJhbGciOiJkaXIiLCJlbmMiOiJBMTI4Q0JDLUhTMjU2In0..PkPJUP4dpHeJA15qLhTNUg.jhtsT6LQCC_SNy6-vBju-HlWEymYS4CxJJVhxGSgLBimmyNirL5Fh1_NB6PGSR13uMX3bsc6x47_eD550vkWTQLfRZjpyc9v5Q3U3J1EmaSOeMb5Tdip_ONpbPwzyKHgBwKJB4yAbV6aZzEcSJdNlFbZx6PtoVjt-tCOlZ0O0fi0o1we9DYpUGJOtbiaTAeL.msgJPMSJo2PW83rmkClroA/test_clean\n",
            "Resolving www.kaggleusercontent.com (www.kaggleusercontent.com)... 35.190.26.106\n",
            "Connecting to www.kaggleusercontent.com (www.kaggleusercontent.com)|35.190.26.106|:443... connected.\n",
            "HTTP request sent, awaiting response... 200 OK\n",
            "Length: 24195492 (23M) [application/octet-stream]\n",
            "Saving to: ‘test_clean’\n",
            "\n",
            "test_clean          100%[===================>]  23.07M   129MB/s    in 0.2s    \n",
            "\n",
            "2019-12-05 22:23:36 (129 MB/s) - ‘test_clean’ saved [24195492/24195492]\n",
            "\n"
          ],
          "name": "stdout"
        }
      ]
    },
    {
      "cell_type": "markdown",
      "metadata": {
        "id": "tAaEOScxysfl",
        "colab_type": "text"
      },
      "source": [
        "Let's reinstall the library like usual"
      ]
    },
    {
      "cell_type": "code",
      "metadata": {
        "id": "aCKQrsVuLHtO",
        "colab_type": "code",
        "colab": {
          "base_uri": "https://localhost:8080/",
          "height": 360
        },
        "outputId": "12d3b8f6-8b99-4c68-e968-6463e95eb6f7"
      },
      "source": [
        "#import os\n",
        "#!pip install -q torch torchvision feather-format kornia pyarrow Pillow wandb nbdev fastprogress --upgrade \n",
        "#!pip install -q git+https://github.com/fastai/fastcore  --upgrade\n",
        "#!pip install -q git+https://github.com/fastai/fastai2 --upgrade\n",
        "#os._exit(00)"
      ],
      "execution_count": 0,
      "outputs": [
        {
          "output_type": "stream",
          "text": [
            "\u001b[K     |████████████████████████████████| 122kB 2.9MB/s \n",
            "\u001b[K     |████████████████████████████████| 59.2MB 43.8MB/s \n",
            "\u001b[K     |████████████████████████████████| 2.1MB 35.3MB/s \n",
            "\u001b[K     |████████████████████████████████| 1.3MB 42.9MB/s \n",
            "\u001b[K     |████████████████████████████████| 92kB 10.1MB/s \n",
            "\u001b[K     |████████████████████████████████| 102kB 9.8MB/s \n",
            "\u001b[K     |████████████████████████████████| 460kB 44.7MB/s \n",
            "\u001b[K     |████████████████████████████████| 92kB 10.0MB/s \n",
            "\u001b[K     |████████████████████████████████| 256kB 53.6MB/s \n",
            "\u001b[K     |████████████████████████████████| 71kB 7.1MB/s \n",
            "\u001b[K     |████████████████████████████████| 184kB 52.0MB/s \n",
            "\u001b[?25h  Building wheel for watchdog (setup.py) ... \u001b[?25l\u001b[?25hdone\n",
            "  Building wheel for shortuuid (setup.py) ... \u001b[?25l\u001b[?25hdone\n",
            "  Building wheel for subprocess32 (setup.py) ... \u001b[?25l\u001b[?25hdone\n",
            "  Building wheel for gql (setup.py) ... \u001b[?25l\u001b[?25hdone\n",
            "  Building wheel for pathtools (setup.py) ... \u001b[?25l\u001b[?25hdone\n",
            "\u001b[31mERROR: albumentations 0.1.12 has requirement imgaug<0.2.7,>=0.2.5, but you'll have imgaug 0.2.9 which is incompatible.\u001b[0m\n",
            "  Building wheel for fastcore (setup.py) ... \u001b[?25l\u001b[?25hdone\n",
            "  Building wheel for fastai2 (setup.py) ... \u001b[?25l\u001b[?25hdone\n"
          ],
          "name": "stdout"
        }
      ]
    },
    {
      "cell_type": "markdown",
      "metadata": {
        "id": "urs59IhhywWT",
        "colab_type": "text"
      },
      "source": [
        "Now let's grab the libraries we used when we did `03a`"
      ]
    },
    {
      "cell_type": "code",
      "metadata": {
        "id": "ic9A7khdrM8D",
        "colab_type": "code",
        "colab": {}
      },
      "source": [
        "from fastai2.basics import *\n",
        "from fastai2.callback.all import *\n",
        "from fastai2.tabular.all import *"
      ],
      "execution_count": 0,
      "outputs": []
    },
    {
      "cell_type": "markdown",
      "metadata": {
        "id": "hPq3s8eHq6ng",
        "colab_type": "text"
      },
      "source": [
        "# Time-Series Analysis"
      ]
    },
    {
      "cell_type": "code",
      "metadata": {
        "id": "btM17WjOi7z8",
        "colab_type": "code",
        "outputId": "cb951284-e516-429c-94bd-7e6ad10c207d",
        "colab": {
          "base_uri": "https://localhost:8080/",
          "height": 36
        }
      },
      "source": [
        "!ls"
      ],
      "execution_count": 0,
      "outputs": [
        {
          "output_type": "stream",
          "text": [
            "sample_data  test_clean  train_clean\n"
          ],
          "name": "stdout"
        }
      ]
    },
    {
      "cell_type": "code",
      "metadata": {
        "id": "SDtqvKYiuYGb",
        "colab_type": "code",
        "colab": {}
      },
      "source": [
        "train_df = pd.read_pickle('train_clean')"
      ],
      "execution_count": 0,
      "outputs": []
    },
    {
      "cell_type": "code",
      "metadata": {
        "id": "-uM7nMJbuYET",
        "colab_type": "code",
        "outputId": "e7972d91-f08c-434c-86eb-80f28c60b9f5",
        "colab": {
          "base_uri": "https://localhost:8080/",
          "height": 429
        }
      },
      "source": [
        "train_df.head()"
      ],
      "execution_count": 0,
      "outputs": [
        {
          "output_type": "execute_result",
          "data": {
            "text/html": [
              "<div>\n",
              "<style scoped>\n",
              "    .dataframe tbody tr th:only-of-type {\n",
              "        vertical-align: middle;\n",
              "    }\n",
              "\n",
              "    .dataframe tbody tr th {\n",
              "        vertical-align: top;\n",
              "    }\n",
              "\n",
              "    .dataframe thead th {\n",
              "        text-align: right;\n",
              "    }\n",
              "</style>\n",
              "<table border=\"1\" class=\"dataframe\">\n",
              "  <thead>\n",
              "    <tr style=\"text-align: right;\">\n",
              "      <th></th>\n",
              "      <th>index</th>\n",
              "      <th>Store</th>\n",
              "      <th>DayOfWeek</th>\n",
              "      <th>Date</th>\n",
              "      <th>Sales</th>\n",
              "      <th>Customers</th>\n",
              "      <th>Open</th>\n",
              "      <th>Promo</th>\n",
              "      <th>StateHoliday</th>\n",
              "      <th>SchoolHoliday</th>\n",
              "      <th>Year</th>\n",
              "      <th>Month</th>\n",
              "      <th>Week</th>\n",
              "      <th>Day</th>\n",
              "      <th>Dayofweek</th>\n",
              "      <th>Dayofyear</th>\n",
              "      <th>Is_month_end</th>\n",
              "      <th>Is_month_start</th>\n",
              "      <th>Is_quarter_end</th>\n",
              "      <th>Is_quarter_start</th>\n",
              "      <th>Is_year_end</th>\n",
              "      <th>Is_year_start</th>\n",
              "      <th>Elapsed</th>\n",
              "      <th>StoreType</th>\n",
              "      <th>Assortment</th>\n",
              "      <th>CompetitionDistance</th>\n",
              "      <th>CompetitionOpenSinceMonth</th>\n",
              "      <th>CompetitionOpenSinceYear</th>\n",
              "      <th>Promo2</th>\n",
              "      <th>Promo2SinceWeek</th>\n",
              "      <th>Promo2SinceYear</th>\n",
              "      <th>PromoInterval</th>\n",
              "      <th>State</th>\n",
              "      <th>file</th>\n",
              "      <th>week</th>\n",
              "      <th>trend</th>\n",
              "      <th>file_DE</th>\n",
              "      <th>week_DE</th>\n",
              "      <th>trend_DE</th>\n",
              "      <th>Date_DE</th>\n",
              "      <th>...</th>\n",
              "      <th>Mean_TemperatureC</th>\n",
              "      <th>Min_TemperatureC</th>\n",
              "      <th>Dew_PointC</th>\n",
              "      <th>MeanDew_PointC</th>\n",
              "      <th>Min_DewpointC</th>\n",
              "      <th>Max_Humidity</th>\n",
              "      <th>Mean_Humidity</th>\n",
              "      <th>Min_Humidity</th>\n",
              "      <th>Max_Sea_Level_PressurehPa</th>\n",
              "      <th>Mean_Sea_Level_PressurehPa</th>\n",
              "      <th>Min_Sea_Level_PressurehPa</th>\n",
              "      <th>Max_VisibilityKm</th>\n",
              "      <th>Mean_VisibilityKm</th>\n",
              "      <th>Min_VisibilitykM</th>\n",
              "      <th>Max_Wind_SpeedKm_h</th>\n",
              "      <th>Mean_Wind_SpeedKm_h</th>\n",
              "      <th>Max_Gust_SpeedKm_h</th>\n",
              "      <th>Precipitationmm</th>\n",
              "      <th>CloudCover</th>\n",
              "      <th>Events</th>\n",
              "      <th>WindDirDegrees</th>\n",
              "      <th>StateName</th>\n",
              "      <th>CompetitionOpenSince</th>\n",
              "      <th>CompetitionDaysOpen</th>\n",
              "      <th>CompetitionMonthsOpen</th>\n",
              "      <th>Promo2Since</th>\n",
              "      <th>Promo2Days</th>\n",
              "      <th>Promo2Weeks</th>\n",
              "      <th>AfterSchoolHoliday</th>\n",
              "      <th>BeforeSchoolHoliday</th>\n",
              "      <th>AfterStateHoliday</th>\n",
              "      <th>BeforeStateHoliday</th>\n",
              "      <th>AfterPromo</th>\n",
              "      <th>BeforePromo</th>\n",
              "      <th>SchoolHoliday_bw</th>\n",
              "      <th>StateHoliday_bw</th>\n",
              "      <th>Promo_bw</th>\n",
              "      <th>SchoolHoliday_fw</th>\n",
              "      <th>StateHoliday_fw</th>\n",
              "      <th>Promo_fw</th>\n",
              "    </tr>\n",
              "  </thead>\n",
              "  <tbody>\n",
              "    <tr>\n",
              "      <th>0</th>\n",
              "      <td>0</td>\n",
              "      <td>1</td>\n",
              "      <td>5</td>\n",
              "      <td>2015-07-31</td>\n",
              "      <td>5263</td>\n",
              "      <td>555</td>\n",
              "      <td>1</td>\n",
              "      <td>1</td>\n",
              "      <td>False</td>\n",
              "      <td>1</td>\n",
              "      <td>2015</td>\n",
              "      <td>7</td>\n",
              "      <td>31</td>\n",
              "      <td>31</td>\n",
              "      <td>4</td>\n",
              "      <td>212</td>\n",
              "      <td>True</td>\n",
              "      <td>False</td>\n",
              "      <td>False</td>\n",
              "      <td>False</td>\n",
              "      <td>False</td>\n",
              "      <td>False</td>\n",
              "      <td>1438300800</td>\n",
              "      <td>c</td>\n",
              "      <td>a</td>\n",
              "      <td>1270.0</td>\n",
              "      <td>9</td>\n",
              "      <td>2008</td>\n",
              "      <td>0</td>\n",
              "      <td>1</td>\n",
              "      <td>1900</td>\n",
              "      <td>NaN</td>\n",
              "      <td>HE</td>\n",
              "      <td>Rossmann_DE_HE</td>\n",
              "      <td>2015-08-02 - 2015-08-08</td>\n",
              "      <td>85</td>\n",
              "      <td>Rossmann_DE</td>\n",
              "      <td>2015-08-02 - 2015-08-08</td>\n",
              "      <td>83</td>\n",
              "      <td>2015-08-02</td>\n",
              "      <td>...</td>\n",
              "      <td>16</td>\n",
              "      <td>8</td>\n",
              "      <td>9</td>\n",
              "      <td>6</td>\n",
              "      <td>3</td>\n",
              "      <td>98</td>\n",
              "      <td>54</td>\n",
              "      <td>18</td>\n",
              "      <td>1021</td>\n",
              "      <td>1018</td>\n",
              "      <td>1015</td>\n",
              "      <td>31.0</td>\n",
              "      <td>15.0</td>\n",
              "      <td>10.0</td>\n",
              "      <td>24</td>\n",
              "      <td>11</td>\n",
              "      <td>NaN</td>\n",
              "      <td>0.0</td>\n",
              "      <td>1.0</td>\n",
              "      <td>Fog</td>\n",
              "      <td>13</td>\n",
              "      <td>Hessen</td>\n",
              "      <td>2008-09-15</td>\n",
              "      <td>2510</td>\n",
              "      <td>24</td>\n",
              "      <td>1900-01-01</td>\n",
              "      <td>0</td>\n",
              "      <td>0</td>\n",
              "      <td>0</td>\n",
              "      <td>0</td>\n",
              "      <td>57</td>\n",
              "      <td>0</td>\n",
              "      <td>0</td>\n",
              "      <td>0</td>\n",
              "      <td>5.0</td>\n",
              "      <td>0.0</td>\n",
              "      <td>5.0</td>\n",
              "      <td>7.0</td>\n",
              "      <td>0.0</td>\n",
              "      <td>5.0</td>\n",
              "    </tr>\n",
              "    <tr>\n",
              "      <th>1</th>\n",
              "      <td>1</td>\n",
              "      <td>2</td>\n",
              "      <td>5</td>\n",
              "      <td>2015-07-31</td>\n",
              "      <td>6064</td>\n",
              "      <td>625</td>\n",
              "      <td>1</td>\n",
              "      <td>1</td>\n",
              "      <td>False</td>\n",
              "      <td>1</td>\n",
              "      <td>2015</td>\n",
              "      <td>7</td>\n",
              "      <td>31</td>\n",
              "      <td>31</td>\n",
              "      <td>4</td>\n",
              "      <td>212</td>\n",
              "      <td>True</td>\n",
              "      <td>False</td>\n",
              "      <td>False</td>\n",
              "      <td>False</td>\n",
              "      <td>False</td>\n",
              "      <td>False</td>\n",
              "      <td>1438300800</td>\n",
              "      <td>a</td>\n",
              "      <td>a</td>\n",
              "      <td>570.0</td>\n",
              "      <td>11</td>\n",
              "      <td>2007</td>\n",
              "      <td>1</td>\n",
              "      <td>13</td>\n",
              "      <td>2010</td>\n",
              "      <td>Jan,Apr,Jul,Oct</td>\n",
              "      <td>TH</td>\n",
              "      <td>Rossmann_DE_TH</td>\n",
              "      <td>2015-08-02 - 2015-08-08</td>\n",
              "      <td>80</td>\n",
              "      <td>Rossmann_DE</td>\n",
              "      <td>2015-08-02 - 2015-08-08</td>\n",
              "      <td>83</td>\n",
              "      <td>2015-08-02</td>\n",
              "      <td>...</td>\n",
              "      <td>13</td>\n",
              "      <td>7</td>\n",
              "      <td>9</td>\n",
              "      <td>6</td>\n",
              "      <td>3</td>\n",
              "      <td>100</td>\n",
              "      <td>62</td>\n",
              "      <td>25</td>\n",
              "      <td>1021</td>\n",
              "      <td>1019</td>\n",
              "      <td>1017</td>\n",
              "      <td>10.0</td>\n",
              "      <td>10.0</td>\n",
              "      <td>10.0</td>\n",
              "      <td>14</td>\n",
              "      <td>11</td>\n",
              "      <td>NaN</td>\n",
              "      <td>0.0</td>\n",
              "      <td>4.0</td>\n",
              "      <td>Fog</td>\n",
              "      <td>309</td>\n",
              "      <td>Thueringen</td>\n",
              "      <td>2007-11-15</td>\n",
              "      <td>2815</td>\n",
              "      <td>24</td>\n",
              "      <td>2010-03-29</td>\n",
              "      <td>1950</td>\n",
              "      <td>25</td>\n",
              "      <td>0</td>\n",
              "      <td>0</td>\n",
              "      <td>67</td>\n",
              "      <td>0</td>\n",
              "      <td>0</td>\n",
              "      <td>0</td>\n",
              "      <td>5.0</td>\n",
              "      <td>0.0</td>\n",
              "      <td>5.0</td>\n",
              "      <td>1.0</td>\n",
              "      <td>0.0</td>\n",
              "      <td>1.0</td>\n",
              "    </tr>\n",
              "    <tr>\n",
              "      <th>2</th>\n",
              "      <td>2</td>\n",
              "      <td>3</td>\n",
              "      <td>5</td>\n",
              "      <td>2015-07-31</td>\n",
              "      <td>8314</td>\n",
              "      <td>821</td>\n",
              "      <td>1</td>\n",
              "      <td>1</td>\n",
              "      <td>False</td>\n",
              "      <td>1</td>\n",
              "      <td>2015</td>\n",
              "      <td>7</td>\n",
              "      <td>31</td>\n",
              "      <td>31</td>\n",
              "      <td>4</td>\n",
              "      <td>212</td>\n",
              "      <td>True</td>\n",
              "      <td>False</td>\n",
              "      <td>False</td>\n",
              "      <td>False</td>\n",
              "      <td>False</td>\n",
              "      <td>False</td>\n",
              "      <td>1438300800</td>\n",
              "      <td>a</td>\n",
              "      <td>a</td>\n",
              "      <td>14130.0</td>\n",
              "      <td>12</td>\n",
              "      <td>2006</td>\n",
              "      <td>1</td>\n",
              "      <td>14</td>\n",
              "      <td>2011</td>\n",
              "      <td>Jan,Apr,Jul,Oct</td>\n",
              "      <td>NW</td>\n",
              "      <td>Rossmann_DE_NW</td>\n",
              "      <td>2015-08-02 - 2015-08-08</td>\n",
              "      <td>86</td>\n",
              "      <td>Rossmann_DE</td>\n",
              "      <td>2015-08-02 - 2015-08-08</td>\n",
              "      <td>83</td>\n",
              "      <td>2015-08-02</td>\n",
              "      <td>...</td>\n",
              "      <td>13</td>\n",
              "      <td>6</td>\n",
              "      <td>10</td>\n",
              "      <td>7</td>\n",
              "      <td>4</td>\n",
              "      <td>100</td>\n",
              "      <td>61</td>\n",
              "      <td>24</td>\n",
              "      <td>1022</td>\n",
              "      <td>1019</td>\n",
              "      <td>1017</td>\n",
              "      <td>31.0</td>\n",
              "      <td>14.0</td>\n",
              "      <td>10.0</td>\n",
              "      <td>14</td>\n",
              "      <td>5</td>\n",
              "      <td>NaN</td>\n",
              "      <td>0.0</td>\n",
              "      <td>2.0</td>\n",
              "      <td>Fog</td>\n",
              "      <td>354</td>\n",
              "      <td>NordrheinWestfalen</td>\n",
              "      <td>2006-12-15</td>\n",
              "      <td>3150</td>\n",
              "      <td>24</td>\n",
              "      <td>2011-04-04</td>\n",
              "      <td>1579</td>\n",
              "      <td>25</td>\n",
              "      <td>0</td>\n",
              "      <td>0</td>\n",
              "      <td>57</td>\n",
              "      <td>0</td>\n",
              "      <td>0</td>\n",
              "      <td>0</td>\n",
              "      <td>5.0</td>\n",
              "      <td>0.0</td>\n",
              "      <td>5.0</td>\n",
              "      <td>5.0</td>\n",
              "      <td>0.0</td>\n",
              "      <td>5.0</td>\n",
              "    </tr>\n",
              "    <tr>\n",
              "      <th>3</th>\n",
              "      <td>3</td>\n",
              "      <td>4</td>\n",
              "      <td>5</td>\n",
              "      <td>2015-07-31</td>\n",
              "      <td>13995</td>\n",
              "      <td>1498</td>\n",
              "      <td>1</td>\n",
              "      <td>1</td>\n",
              "      <td>False</td>\n",
              "      <td>1</td>\n",
              "      <td>2015</td>\n",
              "      <td>7</td>\n",
              "      <td>31</td>\n",
              "      <td>31</td>\n",
              "      <td>4</td>\n",
              "      <td>212</td>\n",
              "      <td>True</td>\n",
              "      <td>False</td>\n",
              "      <td>False</td>\n",
              "      <td>False</td>\n",
              "      <td>False</td>\n",
              "      <td>False</td>\n",
              "      <td>1438300800</td>\n",
              "      <td>c</td>\n",
              "      <td>c</td>\n",
              "      <td>620.0</td>\n",
              "      <td>9</td>\n",
              "      <td>2009</td>\n",
              "      <td>0</td>\n",
              "      <td>1</td>\n",
              "      <td>1900</td>\n",
              "      <td>NaN</td>\n",
              "      <td>BE</td>\n",
              "      <td>Rossmann_DE_BE</td>\n",
              "      <td>2015-08-02 - 2015-08-08</td>\n",
              "      <td>74</td>\n",
              "      <td>Rossmann_DE</td>\n",
              "      <td>2015-08-02 - 2015-08-08</td>\n",
              "      <td>83</td>\n",
              "      <td>2015-08-02</td>\n",
              "      <td>...</td>\n",
              "      <td>14</td>\n",
              "      <td>9</td>\n",
              "      <td>9</td>\n",
              "      <td>7</td>\n",
              "      <td>4</td>\n",
              "      <td>94</td>\n",
              "      <td>61</td>\n",
              "      <td>30</td>\n",
              "      <td>1019</td>\n",
              "      <td>1017</td>\n",
              "      <td>1014</td>\n",
              "      <td>10.0</td>\n",
              "      <td>10.0</td>\n",
              "      <td>10.0</td>\n",
              "      <td>23</td>\n",
              "      <td>16</td>\n",
              "      <td>NaN</td>\n",
              "      <td>0.0</td>\n",
              "      <td>6.0</td>\n",
              "      <td>NaN</td>\n",
              "      <td>282</td>\n",
              "      <td>Berlin</td>\n",
              "      <td>2009-09-15</td>\n",
              "      <td>2145</td>\n",
              "      <td>24</td>\n",
              "      <td>1900-01-01</td>\n",
              "      <td>0</td>\n",
              "      <td>0</td>\n",
              "      <td>0</td>\n",
              "      <td>0</td>\n",
              "      <td>67</td>\n",
              "      <td>0</td>\n",
              "      <td>0</td>\n",
              "      <td>0</td>\n",
              "      <td>5.0</td>\n",
              "      <td>0.0</td>\n",
              "      <td>5.0</td>\n",
              "      <td>1.0</td>\n",
              "      <td>0.0</td>\n",
              "      <td>1.0</td>\n",
              "    </tr>\n",
              "    <tr>\n",
              "      <th>4</th>\n",
              "      <td>4</td>\n",
              "      <td>5</td>\n",
              "      <td>5</td>\n",
              "      <td>2015-07-31</td>\n",
              "      <td>4822</td>\n",
              "      <td>559</td>\n",
              "      <td>1</td>\n",
              "      <td>1</td>\n",
              "      <td>False</td>\n",
              "      <td>1</td>\n",
              "      <td>2015</td>\n",
              "      <td>7</td>\n",
              "      <td>31</td>\n",
              "      <td>31</td>\n",
              "      <td>4</td>\n",
              "      <td>212</td>\n",
              "      <td>True</td>\n",
              "      <td>False</td>\n",
              "      <td>False</td>\n",
              "      <td>False</td>\n",
              "      <td>False</td>\n",
              "      <td>False</td>\n",
              "      <td>1438300800</td>\n",
              "      <td>a</td>\n",
              "      <td>a</td>\n",
              "      <td>29910.0</td>\n",
              "      <td>4</td>\n",
              "      <td>2015</td>\n",
              "      <td>0</td>\n",
              "      <td>1</td>\n",
              "      <td>1900</td>\n",
              "      <td>NaN</td>\n",
              "      <td>SN</td>\n",
              "      <td>Rossmann_DE_SN</td>\n",
              "      <td>2015-08-02 - 2015-08-08</td>\n",
              "      <td>82</td>\n",
              "      <td>Rossmann_DE</td>\n",
              "      <td>2015-08-02 - 2015-08-08</td>\n",
              "      <td>83</td>\n",
              "      <td>2015-08-02</td>\n",
              "      <td>...</td>\n",
              "      <td>15</td>\n",
              "      <td>10</td>\n",
              "      <td>8</td>\n",
              "      <td>6</td>\n",
              "      <td>5</td>\n",
              "      <td>82</td>\n",
              "      <td>55</td>\n",
              "      <td>26</td>\n",
              "      <td>1020</td>\n",
              "      <td>1018</td>\n",
              "      <td>1016</td>\n",
              "      <td>10.0</td>\n",
              "      <td>10.0</td>\n",
              "      <td>10.0</td>\n",
              "      <td>14</td>\n",
              "      <td>11</td>\n",
              "      <td>NaN</td>\n",
              "      <td>0.0</td>\n",
              "      <td>4.0</td>\n",
              "      <td>NaN</td>\n",
              "      <td>290</td>\n",
              "      <td>Sachsen</td>\n",
              "      <td>2015-04-15</td>\n",
              "      <td>107</td>\n",
              "      <td>3</td>\n",
              "      <td>1900-01-01</td>\n",
              "      <td>0</td>\n",
              "      <td>0</td>\n",
              "      <td>0</td>\n",
              "      <td>0</td>\n",
              "      <td>57</td>\n",
              "      <td>0</td>\n",
              "      <td>0</td>\n",
              "      <td>0</td>\n",
              "      <td>5.0</td>\n",
              "      <td>0.0</td>\n",
              "      <td>5.0</td>\n",
              "      <td>1.0</td>\n",
              "      <td>0.0</td>\n",
              "      <td>1.0</td>\n",
              "    </tr>\n",
              "  </tbody>\n",
              "</table>\n",
              "<p>5 rows × 93 columns</p>\n",
              "</div>"
            ],
            "text/plain": [
              "   index  Store  DayOfWeek  ... SchoolHoliday_fw  StateHoliday_fw  Promo_fw\n",
              "0      0      1          5  ...              7.0              0.0       5.0\n",
              "1      1      2          5  ...              1.0              0.0       1.0\n",
              "2      2      3          5  ...              5.0              0.0       5.0\n",
              "3      3      4          5  ...              1.0              0.0       1.0\n",
              "4      4      5          5  ...              1.0              0.0       1.0\n",
              "\n",
              "[5 rows x 93 columns]"
            ]
          },
          "metadata": {
            "tags": []
          },
          "execution_count": 75
        }
      ]
    },
    {
      "cell_type": "code",
      "metadata": {
        "id": "_wT2hNFduYBx",
        "colab_type": "code",
        "outputId": "03dc97bd-a37f-4a70-bf36-e879d2055260",
        "colab": {
          "base_uri": "https://localhost:8080/",
          "height": 36
        }
      },
      "source": [
        "n = len(train_df); n"
      ],
      "execution_count": 0,
      "outputs": [
        {
          "output_type": "execute_result",
          "data": {
            "text/plain": [
              "844338"
            ]
          },
          "metadata": {
            "tags": []
          },
          "execution_count": 20
        }
      ]
    },
    {
      "cell_type": "markdown",
      "metadata": {
        "id": "s6b5kGMTui5p",
        "colab_type": "text"
      },
      "source": [
        "That's a lot! Let's start with a sample"
      ]
    },
    {
      "cell_type": "markdown",
      "metadata": {
        "id": "AELWDeBnulB6",
        "colab_type": "text"
      },
      "source": [
        "## Subset Experimentation"
      ]
    },
    {
      "cell_type": "markdown",
      "metadata": {
        "id": "Fry4OLlnuwAp",
        "colab_type": "text"
      },
      "source": [
        "Generate some random numbers to make our subset of 2000"
      ]
    },
    {
      "cell_type": "code",
      "metadata": {
        "id": "LLr3vpdouX_L",
        "colab_type": "code",
        "colab": {}
      },
      "source": [
        "idx = np.random.permutation(range(n))[:2000]\n",
        "idx.sort()"
      ],
      "execution_count": 0,
      "outputs": []
    },
    {
      "cell_type": "code",
      "metadata": {
        "id": "dJWYl2M5u0Qh",
        "colab_type": "code",
        "colab": {}
      },
      "source": [
        "small_train_df = train_df.iloc[idx[:1000]]\n",
        "small_test_df = train_df.iloc[idx[1000:]]"
      ],
      "execution_count": 0,
      "outputs": []
    },
    {
      "cell_type": "code",
      "metadata": {
        "id": "RRniuycNvUBC",
        "colab_type": "code",
        "outputId": "8ae1a394-24e0-4ca4-a1f8-f47471b542e0",
        "colab": {
          "base_uri": "https://localhost:8080/",
          "height": 36
        }
      },
      "source": [
        "len(small_test_df.columns)"
      ],
      "execution_count": 0,
      "outputs": [
        {
          "output_type": "execute_result",
          "data": {
            "text/plain": [
              "93"
            ]
          },
          "metadata": {
            "tags": []
          },
          "execution_count": 222
        }
      ]
    },
    {
      "cell_type": "code",
      "metadata": {
        "id": "zN8I5VP4u0OJ",
        "colab_type": "code",
        "colab": {}
      },
      "source": [
        "small_cont_vars = ['CompetitionDistance', 'Mean_Humidity']\n",
        "small_cat_vars = ['Store', 'DayOfWeek', 'PromoInterval']"
      ],
      "execution_count": 0,
      "outputs": []
    },
    {
      "cell_type": "code",
      "metadata": {
        "id": "WKn1QIn-u0Lv",
        "colab_type": "code",
        "colab": {}
      },
      "source": [
        "small_train_df = small_train_df[small_cat_vars + small_cont_vars + ['Sales']]\n",
        "small_test_df = small_test_df[small_cat_vars + small_cont_vars + ['Sales']]"
      ],
      "execution_count": 0,
      "outputs": []
    },
    {
      "cell_type": "code",
      "metadata": {
        "id": "yOQKVs2Du0JI",
        "colab_type": "code",
        "outputId": "8b230545-0948-4c3a-9323-2e0ad7ce2410",
        "colab": {
          "base_uri": "https://localhost:8080/",
          "height": 36
        }
      },
      "source": [
        "len(small_train_df.columns)"
      ],
      "execution_count": 0,
      "outputs": [
        {
          "output_type": "execute_result",
          "data": {
            "text/plain": [
              "6"
            ]
          },
          "metadata": {
            "tags": []
          },
          "execution_count": 225
        }
      ]
    },
    {
      "cell_type": "markdown",
      "metadata": {
        "id": "INsQpgWTjDK4",
        "colab_type": "text"
      },
      "source": [
        "Now let's look at how the processes we set are used"
      ]
    },
    {
      "cell_type": "code",
      "metadata": {
        "id": "86IYw57qu0Gn",
        "colab_type": "code",
        "outputId": "e7ca778d-21df-48e1-fe74-49ea72dad6a0",
        "colab": {
          "base_uri": "https://localhost:8080/",
          "height": 206
        }
      },
      "source": [
        "small_train_df.head()"
      ],
      "execution_count": 0,
      "outputs": [
        {
          "output_type": "execute_result",
          "data": {
            "text/html": [
              "<div>\n",
              "<style scoped>\n",
              "    .dataframe tbody tr th:only-of-type {\n",
              "        vertical-align: middle;\n",
              "    }\n",
              "\n",
              "    .dataframe tbody tr th {\n",
              "        vertical-align: top;\n",
              "    }\n",
              "\n",
              "    .dataframe thead th {\n",
              "        text-align: right;\n",
              "    }\n",
              "</style>\n",
              "<table border=\"1\" class=\"dataframe\">\n",
              "  <thead>\n",
              "    <tr style=\"text-align: right;\">\n",
              "      <th></th>\n",
              "      <th>Store</th>\n",
              "      <th>DayOfWeek</th>\n",
              "      <th>PromoInterval</th>\n",
              "      <th>CompetitionDistance</th>\n",
              "      <th>Mean_Humidity</th>\n",
              "      <th>Sales</th>\n",
              "    </tr>\n",
              "  </thead>\n",
              "  <tbody>\n",
              "    <tr>\n",
              "      <th>2038</th>\n",
              "      <td>928</td>\n",
              "      <td>4</td>\n",
              "      <td>Feb,May,Aug,Nov</td>\n",
              "      <td>1090.0</td>\n",
              "      <td>73</td>\n",
              "      <td>9686</td>\n",
              "    </tr>\n",
              "    <tr>\n",
              "      <th>2934</th>\n",
              "      <td>710</td>\n",
              "      <td>3</td>\n",
              "      <td>Jan,Apr,Jul,Oct</td>\n",
              "      <td>1500.0</td>\n",
              "      <td>77</td>\n",
              "      <td>5390</td>\n",
              "    </tr>\n",
              "    <tr>\n",
              "      <th>3389</th>\n",
              "      <td>51</td>\n",
              "      <td>2</td>\n",
              "      <td>Jan,Apr,Jul,Oct</td>\n",
              "      <td>10570.0</td>\n",
              "      <td>55</td>\n",
              "      <td>7847</td>\n",
              "    </tr>\n",
              "    <tr>\n",
              "      <th>3983</th>\n",
              "      <td>646</td>\n",
              "      <td>2</td>\n",
              "      <td>NaN</td>\n",
              "      <td>620.0</td>\n",
              "      <td>55</td>\n",
              "      <td>6018</td>\n",
              "    </tr>\n",
              "    <tr>\n",
              "      <th>3987</th>\n",
              "      <td>650</td>\n",
              "      <td>2</td>\n",
              "      <td>Jan,Apr,Jul,Oct</td>\n",
              "      <td>1420.0</td>\n",
              "      <td>55</td>\n",
              "      <td>7432</td>\n",
              "    </tr>\n",
              "  </tbody>\n",
              "</table>\n",
              "</div>"
            ],
            "text/plain": [
              "      Store  DayOfWeek  ... Mean_Humidity  Sales\n",
              "2038    928          4  ...            73   9686\n",
              "2934    710          3  ...            77   5390\n",
              "3389     51          2  ...            55   7847\n",
              "3983    646          2  ...            55   6018\n",
              "3987    650          2  ...            55   7432\n",
              "\n",
              "[5 rows x 6 columns]"
            ]
          },
          "metadata": {
            "tags": []
          },
          "execution_count": 226
        }
      ]
    },
    {
      "cell_type": "code",
      "metadata": {
        "id": "PDHMIzfEvi8p",
        "colab_type": "code",
        "colab": {}
      },
      "source": [
        "categorify = Categorify(small_cat_vars, small_cont_vars)\n",
        "categorify(small_train_df)\n",
        "categorify(small_test_df, test=True)"
      ],
      "execution_count": 0,
      "outputs": []
    },
    {
      "cell_type": "code",
      "metadata": {
        "id": "txVPSY49vlcS",
        "colab_type": "code",
        "outputId": "bee06180-9ad8-43cd-a9c7-bbcd910156e8",
        "colab": {
          "base_uri": "https://localhost:8080/",
          "height": 206
        }
      },
      "source": [
        "small_train_df.head()"
      ],
      "execution_count": 0,
      "outputs": [
        {
          "output_type": "execute_result",
          "data": {
            "text/html": [
              "<div>\n",
              "<style scoped>\n",
              "    .dataframe tbody tr th:only-of-type {\n",
              "        vertical-align: middle;\n",
              "    }\n",
              "\n",
              "    .dataframe tbody tr th {\n",
              "        vertical-align: top;\n",
              "    }\n",
              "\n",
              "    .dataframe thead th {\n",
              "        text-align: right;\n",
              "    }\n",
              "</style>\n",
              "<table border=\"1\" class=\"dataframe\">\n",
              "  <thead>\n",
              "    <tr style=\"text-align: right;\">\n",
              "      <th></th>\n",
              "      <th>Store</th>\n",
              "      <th>DayOfWeek</th>\n",
              "      <th>PromoInterval</th>\n",
              "      <th>CompetitionDistance</th>\n",
              "      <th>Mean_Humidity</th>\n",
              "      <th>Sales</th>\n",
              "    </tr>\n",
              "  </thead>\n",
              "  <tbody>\n",
              "    <tr>\n",
              "      <th>2038</th>\n",
              "      <td>928</td>\n",
              "      <td>4</td>\n",
              "      <td>Feb,May,Aug,Nov</td>\n",
              "      <td>1090.0</td>\n",
              "      <td>73</td>\n",
              "      <td>9686</td>\n",
              "    </tr>\n",
              "    <tr>\n",
              "      <th>2934</th>\n",
              "      <td>710</td>\n",
              "      <td>3</td>\n",
              "      <td>Jan,Apr,Jul,Oct</td>\n",
              "      <td>1500.0</td>\n",
              "      <td>77</td>\n",
              "      <td>5390</td>\n",
              "    </tr>\n",
              "    <tr>\n",
              "      <th>3389</th>\n",
              "      <td>51</td>\n",
              "      <td>2</td>\n",
              "      <td>Jan,Apr,Jul,Oct</td>\n",
              "      <td>10570.0</td>\n",
              "      <td>55</td>\n",
              "      <td>7847</td>\n",
              "    </tr>\n",
              "    <tr>\n",
              "      <th>3983</th>\n",
              "      <td>646</td>\n",
              "      <td>2</td>\n",
              "      <td>NaN</td>\n",
              "      <td>620.0</td>\n",
              "      <td>55</td>\n",
              "      <td>6018</td>\n",
              "    </tr>\n",
              "    <tr>\n",
              "      <th>3987</th>\n",
              "      <td>650</td>\n",
              "      <td>2</td>\n",
              "      <td>Jan,Apr,Jul,Oct</td>\n",
              "      <td>1420.0</td>\n",
              "      <td>55</td>\n",
              "      <td>7432</td>\n",
              "    </tr>\n",
              "  </tbody>\n",
              "</table>\n",
              "</div>"
            ],
            "text/plain": [
              "     Store DayOfWeek  ... Mean_Humidity  Sales\n",
              "2038   928         4  ...            73   9686\n",
              "2934   710         3  ...            77   5390\n",
              "3389    51         2  ...            55   7847\n",
              "3983   646         2  ...            55   6018\n",
              "3987   650         2  ...            55   7432\n",
              "\n",
              "[5 rows x 6 columns]"
            ]
          },
          "metadata": {
            "tags": []
          },
          "execution_count": 228
        }
      ]
    },
    {
      "cell_type": "code",
      "metadata": {
        "id": "0QZnUFAtvpv1",
        "colab_type": "code",
        "outputId": "2a69d8c0-c16c-4255-a208-b8d6da2ae7f8",
        "colab": {
          "base_uri": "https://localhost:8080/",
          "height": 36
        }
      },
      "source": [
        "small_train_df.PromoInterval.cat.categories"
      ],
      "execution_count": 0,
      "outputs": [
        {
          "output_type": "execute_result",
          "data": {
            "text/plain": [
              "Index(['Feb,May,Aug,Nov', 'Jan,Apr,Jul,Oct', 'Mar,Jun,Sept,Dec'], dtype='object')"
            ]
          },
          "metadata": {
            "tags": []
          },
          "execution_count": 229
        }
      ]
    },
    {
      "cell_type": "code",
      "metadata": {
        "id": "bJXvB6jWvsqp",
        "colab_type": "code",
        "colab": {}
      },
      "source": [
        "fill_missing = FillMissing(small_cat_vars, small_cont_vars)\n",
        "fill_missing(small_train_df)\n",
        "fill_missing(small_test_df, test=True)"
      ],
      "execution_count": 0,
      "outputs": []
    },
    {
      "cell_type": "code",
      "metadata": {
        "id": "XnH13-T9vwWB",
        "colab_type": "code",
        "outputId": "7f505be5-50de-41c1-d951-60256145d4e0",
        "colab": {
          "base_uri": "https://localhost:8080/",
          "height": 206
        }
      },
      "source": [
        "small_train_df.head()"
      ],
      "execution_count": 0,
      "outputs": [
        {
          "output_type": "execute_result",
          "data": {
            "text/html": [
              "<div>\n",
              "<style scoped>\n",
              "    .dataframe tbody tr th:only-of-type {\n",
              "        vertical-align: middle;\n",
              "    }\n",
              "\n",
              "    .dataframe tbody tr th {\n",
              "        vertical-align: top;\n",
              "    }\n",
              "\n",
              "    .dataframe thead th {\n",
              "        text-align: right;\n",
              "    }\n",
              "</style>\n",
              "<table border=\"1\" class=\"dataframe\">\n",
              "  <thead>\n",
              "    <tr style=\"text-align: right;\">\n",
              "      <th></th>\n",
              "      <th>Store</th>\n",
              "      <th>DayOfWeek</th>\n",
              "      <th>PromoInterval</th>\n",
              "      <th>CompetitionDistance</th>\n",
              "      <th>Mean_Humidity</th>\n",
              "      <th>Sales</th>\n",
              "      <th>CompetitionDistance_na</th>\n",
              "    </tr>\n",
              "  </thead>\n",
              "  <tbody>\n",
              "    <tr>\n",
              "      <th>2038</th>\n",
              "      <td>928</td>\n",
              "      <td>4</td>\n",
              "      <td>Feb,May,Aug,Nov</td>\n",
              "      <td>1090.0</td>\n",
              "      <td>73</td>\n",
              "      <td>9686</td>\n",
              "      <td>False</td>\n",
              "    </tr>\n",
              "    <tr>\n",
              "      <th>2934</th>\n",
              "      <td>710</td>\n",
              "      <td>3</td>\n",
              "      <td>Jan,Apr,Jul,Oct</td>\n",
              "      <td>1500.0</td>\n",
              "      <td>77</td>\n",
              "      <td>5390</td>\n",
              "      <td>False</td>\n",
              "    </tr>\n",
              "    <tr>\n",
              "      <th>3389</th>\n",
              "      <td>51</td>\n",
              "      <td>2</td>\n",
              "      <td>Jan,Apr,Jul,Oct</td>\n",
              "      <td>10570.0</td>\n",
              "      <td>55</td>\n",
              "      <td>7847</td>\n",
              "      <td>False</td>\n",
              "    </tr>\n",
              "    <tr>\n",
              "      <th>3983</th>\n",
              "      <td>646</td>\n",
              "      <td>2</td>\n",
              "      <td>NaN</td>\n",
              "      <td>620.0</td>\n",
              "      <td>55</td>\n",
              "      <td>6018</td>\n",
              "      <td>False</td>\n",
              "    </tr>\n",
              "    <tr>\n",
              "      <th>3987</th>\n",
              "      <td>650</td>\n",
              "      <td>2</td>\n",
              "      <td>Jan,Apr,Jul,Oct</td>\n",
              "      <td>1420.0</td>\n",
              "      <td>55</td>\n",
              "      <td>7432</td>\n",
              "      <td>False</td>\n",
              "    </tr>\n",
              "  </tbody>\n",
              "</table>\n",
              "</div>"
            ],
            "text/plain": [
              "     Store DayOfWeek  ... Sales  CompetitionDistance_na\n",
              "2038   928         4  ...  9686                   False\n",
              "2934   710         3  ...  5390                   False\n",
              "3389    51         2  ...  7847                   False\n",
              "3983   646         2  ...  6018                   False\n",
              "3987   650         2  ...  7432                   False\n",
              "\n",
              "[5 rows x 7 columns]"
            ]
          },
          "metadata": {
            "tags": []
          },
          "execution_count": 237
        }
      ]
    },
    {
      "cell_type": "markdown",
      "metadata": {
        "id": "o4UGNWDQv51x",
        "colab_type": "text"
      },
      "source": [
        "## Let's use the full dataset"
      ]
    },
    {
      "cell_type": "code",
      "metadata": {
        "id": "r0GCSthJv7ZK",
        "colab_type": "code",
        "colab": {}
      },
      "source": [
        "train_df = pd.read_pickle('train_clean')\n",
        "test_df = pd.read_pickle('test_clean')"
      ],
      "execution_count": 0,
      "outputs": []
    },
    {
      "cell_type": "code",
      "metadata": {
        "id": "g5TtVfQ_v-Ur",
        "colab_type": "code",
        "colab": {
          "base_uri": "https://localhost:8080/",
          "height": 34
        },
        "outputId": "c8193bd3-0170-48a0-c064-a288a671f8d2"
      },
      "source": [
        "len(train_df),len(test_df)"
      ],
      "execution_count": 3,
      "outputs": [
        {
          "output_type": "execute_result",
          "data": {
            "text/plain": [
              "(844338, 41088)"
            ]
          },
          "metadata": {
            "tags": []
          },
          "execution_count": 3
        }
      ]
    },
    {
      "cell_type": "code",
      "metadata": {
        "id": "zedtSl6Jv_VD",
        "colab_type": "code",
        "colab": {}
      },
      "source": [
        "procs=[FillMissing, Categorify, Normalize]"
      ],
      "execution_count": 0,
      "outputs": []
    },
    {
      "cell_type": "code",
      "metadata": {
        "id": "IYO6vNypwA8j",
        "colab_type": "code",
        "colab": {}
      },
      "source": [
        "cat_vars = ['Store', 'DayOfWeek', 'Year', 'Month', 'Day', 'StateHoliday', 'CompetitionMonthsOpen',\n",
        "    'Promo2Weeks', 'StoreType', 'Assortment', 'PromoInterval', 'CompetitionOpenSinceYear', 'Promo2SinceYear',\n",
        "    'State', 'Week', 'Events', 'Promo_fw', 'Promo_bw', 'StateHoliday_fw', 'StateHoliday_bw',\n",
        "    'SchoolHoliday_fw', 'SchoolHoliday_bw', 'Promo', 'SchoolHoliday']\n",
        "\n",
        "cont_vars = ['CompetitionDistance', 'Max_TemperatureC', 'Mean_TemperatureC', 'Min_TemperatureC',\n",
        "   'Max_Humidity', 'Mean_Humidity', 'Min_Humidity', 'Max_Wind_SpeedKm_h', \n",
        "   'Mean_Wind_SpeedKm_h', 'CloudCover', 'trend', 'trend_DE',\n",
        "   'AfterStateHoliday', 'BeforeStateHoliday']\n",
        "dep_var = 'Sales'"
      ],
      "execution_count": 0,
      "outputs": []
    },
    {
      "cell_type": "code",
      "metadata": {
        "id": "C9xLkj7VwFHN",
        "colab_type": "code",
        "colab": {}
      },
      "source": [
        "df = train_df[cat_vars + cont_vars + [dep_var,'Date']].copy()"
      ],
      "execution_count": 0,
      "outputs": []
    },
    {
      "cell_type": "code",
      "metadata": {
        "id": "RqjyYdPt1Dyc",
        "colab_type": "code",
        "outputId": "7abde1db-f8dc-4f49-ee29-6bee9001cdde",
        "colab": {
          "base_uri": "https://localhost:8080/",
          "height": 309
        }
      },
      "source": [
        "df.head()"
      ],
      "execution_count": 0,
      "outputs": [
        {
          "output_type": "execute_result",
          "data": {
            "text/html": [
              "<div>\n",
              "<style scoped>\n",
              "    .dataframe tbody tr th:only-of-type {\n",
              "        vertical-align: middle;\n",
              "    }\n",
              "\n",
              "    .dataframe tbody tr th {\n",
              "        vertical-align: top;\n",
              "    }\n",
              "\n",
              "    .dataframe thead th {\n",
              "        text-align: right;\n",
              "    }\n",
              "</style>\n",
              "<table border=\"1\" class=\"dataframe\">\n",
              "  <thead>\n",
              "    <tr style=\"text-align: right;\">\n",
              "      <th></th>\n",
              "      <th>Store</th>\n",
              "      <th>DayOfWeek</th>\n",
              "      <th>Year</th>\n",
              "      <th>Month</th>\n",
              "      <th>Day</th>\n",
              "      <th>StateHoliday</th>\n",
              "      <th>CompetitionMonthsOpen</th>\n",
              "      <th>Promo2Weeks</th>\n",
              "      <th>StoreType</th>\n",
              "      <th>Assortment</th>\n",
              "      <th>PromoInterval</th>\n",
              "      <th>CompetitionOpenSinceYear</th>\n",
              "      <th>Promo2SinceYear</th>\n",
              "      <th>State</th>\n",
              "      <th>Week</th>\n",
              "      <th>Events</th>\n",
              "      <th>Promo_fw</th>\n",
              "      <th>Promo_bw</th>\n",
              "      <th>StateHoliday_fw</th>\n",
              "      <th>StateHoliday_bw</th>\n",
              "      <th>SchoolHoliday_fw</th>\n",
              "      <th>SchoolHoliday_bw</th>\n",
              "      <th>Promo</th>\n",
              "      <th>SchoolHoliday</th>\n",
              "      <th>CompetitionDistance</th>\n",
              "      <th>Max_TemperatureC</th>\n",
              "      <th>Mean_TemperatureC</th>\n",
              "      <th>Min_TemperatureC</th>\n",
              "      <th>Max_Humidity</th>\n",
              "      <th>Mean_Humidity</th>\n",
              "      <th>Min_Humidity</th>\n",
              "      <th>Max_Wind_SpeedKm_h</th>\n",
              "      <th>Mean_Wind_SpeedKm_h</th>\n",
              "      <th>CloudCover</th>\n",
              "      <th>trend</th>\n",
              "      <th>trend_DE</th>\n",
              "      <th>AfterStateHoliday</th>\n",
              "      <th>BeforeStateHoliday</th>\n",
              "      <th>Sales</th>\n",
              "      <th>Date</th>\n",
              "    </tr>\n",
              "  </thead>\n",
              "  <tbody>\n",
              "    <tr>\n",
              "      <th>0</th>\n",
              "      <td>1</td>\n",
              "      <td>5</td>\n",
              "      <td>2015</td>\n",
              "      <td>7</td>\n",
              "      <td>31</td>\n",
              "      <td>False</td>\n",
              "      <td>24</td>\n",
              "      <td>0</td>\n",
              "      <td>c</td>\n",
              "      <td>a</td>\n",
              "      <td>NaN</td>\n",
              "      <td>2008</td>\n",
              "      <td>1900</td>\n",
              "      <td>HE</td>\n",
              "      <td>31</td>\n",
              "      <td>Fog</td>\n",
              "      <td>5.0</td>\n",
              "      <td>5.0</td>\n",
              "      <td>0.0</td>\n",
              "      <td>0.0</td>\n",
              "      <td>7.0</td>\n",
              "      <td>5.0</td>\n",
              "      <td>1</td>\n",
              "      <td>1</td>\n",
              "      <td>1270.0</td>\n",
              "      <td>23</td>\n",
              "      <td>16</td>\n",
              "      <td>8</td>\n",
              "      <td>98</td>\n",
              "      <td>54</td>\n",
              "      <td>18</td>\n",
              "      <td>24</td>\n",
              "      <td>11</td>\n",
              "      <td>1.0</td>\n",
              "      <td>85</td>\n",
              "      <td>83</td>\n",
              "      <td>57</td>\n",
              "      <td>0</td>\n",
              "      <td>5263</td>\n",
              "      <td>2015-07-31</td>\n",
              "    </tr>\n",
              "    <tr>\n",
              "      <th>1</th>\n",
              "      <td>2</td>\n",
              "      <td>5</td>\n",
              "      <td>2015</td>\n",
              "      <td>7</td>\n",
              "      <td>31</td>\n",
              "      <td>False</td>\n",
              "      <td>24</td>\n",
              "      <td>25</td>\n",
              "      <td>a</td>\n",
              "      <td>a</td>\n",
              "      <td>Jan,Apr,Jul,Oct</td>\n",
              "      <td>2007</td>\n",
              "      <td>2010</td>\n",
              "      <td>TH</td>\n",
              "      <td>31</td>\n",
              "      <td>Fog</td>\n",
              "      <td>1.0</td>\n",
              "      <td>5.0</td>\n",
              "      <td>0.0</td>\n",
              "      <td>0.0</td>\n",
              "      <td>1.0</td>\n",
              "      <td>5.0</td>\n",
              "      <td>1</td>\n",
              "      <td>1</td>\n",
              "      <td>570.0</td>\n",
              "      <td>19</td>\n",
              "      <td>13</td>\n",
              "      <td>7</td>\n",
              "      <td>100</td>\n",
              "      <td>62</td>\n",
              "      <td>25</td>\n",
              "      <td>14</td>\n",
              "      <td>11</td>\n",
              "      <td>4.0</td>\n",
              "      <td>80</td>\n",
              "      <td>83</td>\n",
              "      <td>67</td>\n",
              "      <td>0</td>\n",
              "      <td>6064</td>\n",
              "      <td>2015-07-31</td>\n",
              "    </tr>\n",
              "    <tr>\n",
              "      <th>2</th>\n",
              "      <td>3</td>\n",
              "      <td>5</td>\n",
              "      <td>2015</td>\n",
              "      <td>7</td>\n",
              "      <td>31</td>\n",
              "      <td>False</td>\n",
              "      <td>24</td>\n",
              "      <td>25</td>\n",
              "      <td>a</td>\n",
              "      <td>a</td>\n",
              "      <td>Jan,Apr,Jul,Oct</td>\n",
              "      <td>2006</td>\n",
              "      <td>2011</td>\n",
              "      <td>NW</td>\n",
              "      <td>31</td>\n",
              "      <td>Fog</td>\n",
              "      <td>5.0</td>\n",
              "      <td>5.0</td>\n",
              "      <td>0.0</td>\n",
              "      <td>0.0</td>\n",
              "      <td>5.0</td>\n",
              "      <td>5.0</td>\n",
              "      <td>1</td>\n",
              "      <td>1</td>\n",
              "      <td>14130.0</td>\n",
              "      <td>21</td>\n",
              "      <td>13</td>\n",
              "      <td>6</td>\n",
              "      <td>100</td>\n",
              "      <td>61</td>\n",
              "      <td>24</td>\n",
              "      <td>14</td>\n",
              "      <td>5</td>\n",
              "      <td>2.0</td>\n",
              "      <td>86</td>\n",
              "      <td>83</td>\n",
              "      <td>57</td>\n",
              "      <td>0</td>\n",
              "      <td>8314</td>\n",
              "      <td>2015-07-31</td>\n",
              "    </tr>\n",
              "    <tr>\n",
              "      <th>3</th>\n",
              "      <td>4</td>\n",
              "      <td>5</td>\n",
              "      <td>2015</td>\n",
              "      <td>7</td>\n",
              "      <td>31</td>\n",
              "      <td>False</td>\n",
              "      <td>24</td>\n",
              "      <td>0</td>\n",
              "      <td>c</td>\n",
              "      <td>c</td>\n",
              "      <td>NaN</td>\n",
              "      <td>2009</td>\n",
              "      <td>1900</td>\n",
              "      <td>BE</td>\n",
              "      <td>31</td>\n",
              "      <td>NaN</td>\n",
              "      <td>1.0</td>\n",
              "      <td>5.0</td>\n",
              "      <td>0.0</td>\n",
              "      <td>0.0</td>\n",
              "      <td>1.0</td>\n",
              "      <td>5.0</td>\n",
              "      <td>1</td>\n",
              "      <td>1</td>\n",
              "      <td>620.0</td>\n",
              "      <td>19</td>\n",
              "      <td>14</td>\n",
              "      <td>9</td>\n",
              "      <td>94</td>\n",
              "      <td>61</td>\n",
              "      <td>30</td>\n",
              "      <td>23</td>\n",
              "      <td>16</td>\n",
              "      <td>6.0</td>\n",
              "      <td>74</td>\n",
              "      <td>83</td>\n",
              "      <td>67</td>\n",
              "      <td>0</td>\n",
              "      <td>13995</td>\n",
              "      <td>2015-07-31</td>\n",
              "    </tr>\n",
              "    <tr>\n",
              "      <th>4</th>\n",
              "      <td>5</td>\n",
              "      <td>5</td>\n",
              "      <td>2015</td>\n",
              "      <td>7</td>\n",
              "      <td>31</td>\n",
              "      <td>False</td>\n",
              "      <td>3</td>\n",
              "      <td>0</td>\n",
              "      <td>a</td>\n",
              "      <td>a</td>\n",
              "      <td>NaN</td>\n",
              "      <td>2015</td>\n",
              "      <td>1900</td>\n",
              "      <td>SN</td>\n",
              "      <td>31</td>\n",
              "      <td>NaN</td>\n",
              "      <td>1.0</td>\n",
              "      <td>5.0</td>\n",
              "      <td>0.0</td>\n",
              "      <td>0.0</td>\n",
              "      <td>1.0</td>\n",
              "      <td>5.0</td>\n",
              "      <td>1</td>\n",
              "      <td>1</td>\n",
              "      <td>29910.0</td>\n",
              "      <td>20</td>\n",
              "      <td>15</td>\n",
              "      <td>10</td>\n",
              "      <td>82</td>\n",
              "      <td>55</td>\n",
              "      <td>26</td>\n",
              "      <td>14</td>\n",
              "      <td>11</td>\n",
              "      <td>4.0</td>\n",
              "      <td>82</td>\n",
              "      <td>83</td>\n",
              "      <td>57</td>\n",
              "      <td>0</td>\n",
              "      <td>4822</td>\n",
              "      <td>2015-07-31</td>\n",
              "    </tr>\n",
              "  </tbody>\n",
              "</table>\n",
              "</div>"
            ],
            "text/plain": [
              "   Store  DayOfWeek  Year  ...  BeforeStateHoliday  Sales       Date\n",
              "0      1          5  2015  ...                   0   5263 2015-07-31\n",
              "1      2          5  2015  ...                   0   6064 2015-07-31\n",
              "2      3          5  2015  ...                   0   8314 2015-07-31\n",
              "3      4          5  2015  ...                   0  13995 2015-07-31\n",
              "4      5          5  2015  ...                   0   4822 2015-07-31\n",
              "\n",
              "[5 rows x 40 columns]"
            ]
          },
          "metadata": {
            "tags": []
          },
          "execution_count": 7
        }
      ]
    },
    {
      "cell_type": "code",
      "metadata": {
        "id": "CA3jIBvKwJjI",
        "colab_type": "code",
        "outputId": "db608e01-0caa-48bc-9ce1-cffe18d1257e",
        "colab": {
          "base_uri": "https://localhost:8080/",
          "height": 34
        }
      },
      "source": [
        "len(train_df.columns), len(df.columns)"
      ],
      "execution_count": 7,
      "outputs": [
        {
          "output_type": "execute_result",
          "data": {
            "text/plain": [
              "(93, 40)"
            ]
          },
          "metadata": {
            "tags": []
          },
          "execution_count": 7
        }
      ]
    },
    {
      "cell_type": "markdown",
      "metadata": {
        "id": "4YaiUuDYwTKq",
        "colab_type": "text"
      },
      "source": [
        "Ensure we have the same date ranges"
      ]
    },
    {
      "cell_type": "code",
      "metadata": {
        "id": "VqZ4_ls5wNyY",
        "colab_type": "code",
        "outputId": "fe1feb36-d155-4a6e-a389-07897a5fd021",
        "colab": {
          "base_uri": "https://localhost:8080/",
          "height": 34
        }
      },
      "source": [
        "test_df['Date'].min(), test_df['Date'].max()"
      ],
      "execution_count": 8,
      "outputs": [
        {
          "output_type": "execute_result",
          "data": {
            "text/plain": [
              "(Timestamp('2015-08-01 00:00:00'), Timestamp('2015-09-17 00:00:00'))"
            ]
          },
          "metadata": {
            "tags": []
          },
          "execution_count": 8
        }
      ]
    },
    {
      "cell_type": "code",
      "metadata": {
        "id": "7PUHvUNClis6",
        "colab_type": "code",
        "outputId": "ee251600-aaa4-41bf-f683-8729d03856d0",
        "colab": {
          "base_uri": "https://localhost:8080/",
          "height": 34
        }
      },
      "source": [
        "train_df['Date'].min(), train_df['Date'].max()"
      ],
      "execution_count": 9,
      "outputs": [
        {
          "output_type": "execute_result",
          "data": {
            "text/plain": [
              "(Timestamp('2013-01-01 00:00:00'), Timestamp('2015-07-31 00:00:00'))"
            ]
          },
          "metadata": {
            "tags": []
          },
          "execution_count": 9
        }
      ]
    },
    {
      "cell_type": "markdown",
      "metadata": {
        "id": "cC7vNLjjtN1B",
        "colab_type": "text"
      },
      "source": [
        "When we create the dataset, we want to split the validation set evenly at the line between two dates while having a validation set at least the size of the test set.\n",
        "\n",
        "To do this, we want to get the length of the test set,<br>\n",
        "find the date in the train set at that index,<br>\n",
        "and finally pull the index of the last occurance of that date."
      ]
    },
    {
      "cell_type": "code",
      "metadata": {
        "id": "YDzZmn2JwRLq",
        "colab_type": "code",
        "outputId": "fa1d70cb-abce-4931-d777-832a9319ea32",
        "colab": {
          "base_uri": "https://localhost:8080/",
          "height": 119
        }
      },
      "source": [
        "cut = train_df['Date'][(train_df['Date'] == train_df['Date'][len(test_df)])].index\n",
        "cut"
      ],
      "execution_count": 10,
      "outputs": [
        {
          "output_type": "execute_result",
          "data": {
            "text/plain": [
              "Int64Index([40282, 40283, 40284, 40285, 40286, 40287, 40288, 40289, 40290,\n",
              "            40291,\n",
              "            ...\n",
              "            41386, 41387, 41388, 41389, 41390, 41391, 41392, 41393, 41394,\n",
              "            41395],\n",
              "           dtype='int64', length=1114)"
            ]
          },
          "metadata": {
            "tags": []
          },
          "execution_count": 10
        }
      ]
    },
    {
      "cell_type": "code",
      "metadata": {
        "id": "0hdRe3nB6Gto",
        "colab_type": "code",
        "colab": {}
      },
      "source": [
        "valid_idx = cut.values"
      ],
      "execution_count": 0,
      "outputs": []
    },
    {
      "cell_type": "markdown",
      "metadata": {
        "id": "fFUBeEJcKhp9",
        "colab_type": "text"
      },
      "source": [
        "Lastly let's pre-process our y values to their log"
      ]
    },
    {
      "cell_type": "code",
      "metadata": {
        "id": "HKw4_vF0KkiM",
        "colab_type": "code",
        "colab": {}
      },
      "source": [
        "train_df[dep_var] = np.log(train_df[dep_var])"
      ],
      "execution_count": 0,
      "outputs": []
    },
    {
      "cell_type": "markdown",
      "metadata": {
        "id": "PHA7_BOkwZBA",
        "colab_type": "text"
      },
      "source": [
        "<h3>Create our DataBunch!</h3>\n",
        "\n",
        "Let's look at how we would create our `PipeLine`. As before, I've included the 1.0 code for a direct comparison"
      ]
    },
    {
      "cell_type": "code",
      "metadata": {
        "id": "fBMeNeBiwbIR",
        "colab_type": "code",
        "colab": {}
      },
      "source": [
        "### DO NOT RUN! JUST FOR SHOW OF HOW THE 1.0 API LOOKED ###\n",
        "data = (TabularList.from_df(df, path=path, cat_names=cat_vars, cont_names = cont_vars, procs=procs)\n",
        "       .split_by_idx(valid_idx)\n",
        "       .label_from_df(cols=dep_var, label_cls=FloatList, log=True) # Ensures regression task\n",
        "       .add_test(TabularList.from_df(test_df, path=path, cat_names=cat_vars, cont_names=cont_vars))\n",
        "       .databunch())"
      ],
      "execution_count": 0,
      "outputs": []
    },
    {
      "cell_type": "markdown",
      "metadata": {
        "id": "4sr5-pvz0BKW",
        "colab_type": "text"
      },
      "source": [
        "We'll split using an `IndexSplitter`, passing in our `val_idx` like before"
      ]
    },
    {
      "cell_type": "code",
      "metadata": {
        "id": "Vya13bLOzg3P",
        "colab_type": "code",
        "colab": {}
      },
      "source": [
        "splits = IndexSplitter(valid_idx)(range_of(train_df))"
      ],
      "execution_count": 0,
      "outputs": []
    },
    {
      "cell_type": "markdown",
      "metadata": {
        "id": "gQRAka2E1C_d",
        "colab_type": "text"
      },
      "source": [
        "Now let's create our `TabularPandas` object! All we have to do is pass in a blank `TransformBlock()` to `block_y` and we're good to go!"
      ]
    },
    {
      "cell_type": "code",
      "metadata": {
        "id": "mOpztJpF1G1Z",
        "colab_type": "code",
        "colab": {}
      },
      "source": [
        "to = TabularPandas(train_df, procs=procs, cat_names=cat_vars, cont_names=cont_vars,\n",
        "                   y_names=dep_var, block_y=TransformBlock(), splits=splits)"
      ],
      "execution_count": 0,
      "outputs": []
    },
    {
      "cell_type": "markdown",
      "metadata": {
        "id": "6Bo7_pa1Kwz2",
        "colab_type": "text"
      },
      "source": [
        "Lastly we just need to make our `DataBunch`, and declare how many classes we have (one because it is regression)"
      ]
    },
    {
      "cell_type": "code",
      "metadata": {
        "id": "4eKsaiSlKzns",
        "colab_type": "code",
        "colab": {}
      },
      "source": [
        "dbunch = to.databunch(bs=512)"
      ],
      "execution_count": 0,
      "outputs": []
    },
    {
      "cell_type": "code",
      "metadata": {
        "id": "5xZVJObGMUpN",
        "colab_type": "code",
        "colab": {}
      },
      "source": [
        "dbunch.c = 1"
      ],
      "execution_count": 0,
      "outputs": []
    },
    {
      "cell_type": "markdown",
      "metadata": {
        "id": "Qllk-tnqw2X3",
        "colab_type": "text"
      },
      "source": [
        "<h3> Now let's make our model </h3>"
      ]
    },
    {
      "cell_type": "markdown",
      "metadata": {
        "id": "_kofNs3Nw7H-",
        "colab_type": "text"
      },
      "source": [
        "Since we want the log, we need to dictate what our max_log of the y value actually is"
      ]
    },
    {
      "cell_type": "code",
      "metadata": {
        "id": "ta9MrKXgw6Q_",
        "colab_type": "code",
        "outputId": "0e41fec9-fbbd-414e-ba7c-5af91a03e736",
        "colab": {
          "base_uri": "https://localhost:8080/",
          "height": 34
        }
      },
      "source": [
        "max_log_y = np.log(1.2) + np.max(train_df['Sales']); max_log_y"
      ],
      "execution_count": 20,
      "outputs": [
        {
          "output_type": "execute_result",
          "data": {
            "text/plain": [
              "10.816998424176623"
            ]
          },
          "metadata": {
            "tags": []
          },
          "execution_count": 20
        }
      ]
    },
    {
      "cell_type": "code",
      "metadata": {
        "id": "RxJOJlq9xC3H",
        "colab_type": "code",
        "outputId": "54a9f055-aa69-46c4-9395-06cff6588308",
        "colab": {
          "base_uri": "https://localhost:8080/",
          "height": 34
        }
      },
      "source": [
        "y_range = (0, max_log_y); y_range"
      ],
      "execution_count": 21,
      "outputs": [
        {
          "output_type": "execute_result",
          "data": {
            "text/plain": [
              "(0, 10.816998424176623)"
            ]
          },
          "metadata": {
            "tags": []
          },
          "execution_count": 21
        }
      ]
    },
    {
      "cell_type": "markdown",
      "metadata": {
        "id": "mLgvzzHOLDlZ",
        "colab_type": "text"
      },
      "source": [
        "Now here is something else that is new. Our `tabular_learner` can take in a configuration for hyper-parameters inside our model. These are items like `ps`, `embed_p`, `y_range`, `use_bn`, and `bn_final`"
      ]
    },
    {
      "cell_type": "code",
      "metadata": {
        "id": "M39DsqAILmCv",
        "colab_type": "code",
        "colab": {
          "base_uri": "https://localhost:8080/",
          "height": 34
        },
        "outputId": "414dd765-b99c-4b35-bfce-9aa756119227"
      },
      "source": [
        "config = tabular_config(ps=[0.001, 0.01], embed_p=0.04); config"
      ],
      "execution_count": 24,
      "outputs": [
        {
          "output_type": "execute_result",
          "data": {
            "text/plain": [
              "{'embed_p': 0.04, 'ps': [0.001, 0.01]}"
            ]
          },
          "metadata": {
            "tags": []
          },
          "execution_count": 24
        }
      ]
    },
    {
      "cell_type": "markdown",
      "metadata": {
        "id": "OOVQe69xL-hl",
        "colab_type": "text"
      },
      "source": [
        "For now, we also need to include our loss function, in our case this is `MSELossFlat`"
      ]
    },
    {
      "cell_type": "code",
      "metadata": {
        "id": "0O2d31T7xH62",
        "colab_type": "code",
        "colab": {}
      },
      "source": [
        "learn = tabular_learner(dbunch, layers=[1000,500], metrics=exp_rmspe, config=config,\n",
        "                        loss_func=MSELossFlat())"
      ],
      "execution_count": 0,
      "outputs": []
    },
    {
      "cell_type": "markdown",
      "metadata": {
        "id": "BTX1yP07xSgf",
        "colab_type": "text"
      },
      "source": [
        "So we have a lot going on right there. ps is dropout (helps with overfitting), emb_drop is dropout on the embedding weights, exp_rmspe is Root Mean Square Percentage Error"
      ]
    },
    {
      "cell_type": "code",
      "metadata": {
        "id": "zqGjs5S0xp-O",
        "colab_type": "code",
        "colab": {}
      },
      "source": [
        "exp_rmspe??"
      ],
      "execution_count": 0,
      "outputs": []
    },
    {
      "cell_type": "code",
      "metadata": {
        "id": "Tua2H_xvxyT_",
        "colab_type": "code",
        "outputId": "1bb7aa75-2eff-4c2d-d1f9-7f1f4b940ccd",
        "colab": {
          "base_uri": "https://localhost:8080/",
          "height": 1000
        }
      },
      "source": [
        "learn.model"
      ],
      "execution_count": 31,
      "outputs": [
        {
          "output_type": "execute_result",
          "data": {
            "text/plain": [
              "TabularModel(\n",
              "  (embeds): ModuleList(\n",
              "    (0): Embedding(1116, 81)\n",
              "    (1): Embedding(8, 5)\n",
              "    (2): Embedding(4, 3)\n",
              "    (3): Embedding(13, 7)\n",
              "    (4): Embedding(32, 11)\n",
              "    (5): Embedding(3, 3)\n",
              "    (6): Embedding(26, 10)\n",
              "    (7): Embedding(27, 10)\n",
              "    (8): Embedding(5, 4)\n",
              "    (9): Embedding(4, 3)\n",
              "    (10): Embedding(4, 3)\n",
              "    (11): Embedding(24, 9)\n",
              "    (12): Embedding(9, 5)\n",
              "    (13): Embedding(13, 7)\n",
              "    (14): Embedding(53, 15)\n",
              "    (15): Embedding(22, 9)\n",
              "    (16): Embedding(7, 5)\n",
              "    (17): Embedding(7, 5)\n",
              "    (18): Embedding(4, 3)\n",
              "    (19): Embedding(4, 3)\n",
              "    (20): Embedding(9, 5)\n",
              "    (21): Embedding(9, 5)\n",
              "    (22): Embedding(3, 3)\n",
              "    (23): Embedding(3, 3)\n",
              "    (24): Embedding(3, 3)\n",
              "    (25): Embedding(2, 2)\n",
              "    (26): Embedding(2, 2)\n",
              "    (27): Embedding(2, 2)\n",
              "    (28): Embedding(2, 2)\n",
              "    (29): Embedding(2, 2)\n",
              "    (30): Embedding(2, 2)\n",
              "    (31): Embedding(2, 2)\n",
              "    (32): Embedding(2, 2)\n",
              "    (33): Embedding(3, 3)\n",
              "    (34): Embedding(2, 2)\n",
              "    (35): Embedding(2, 2)\n",
              "    (36): Embedding(2, 2)\n",
              "    (37): Embedding(2, 2)\n",
              "  )\n",
              "  (emb_drop): Dropout(p=0.04, inplace=False)\n",
              "  (bn_cont): BatchNorm1d(14, eps=1e-05, momentum=0.1, affine=True, track_running_stats=True)\n",
              "  (layers): Sequential(\n",
              "    (0): LinBnDrop(\n",
              "      (0): BatchNorm1d(261, eps=1e-05, momentum=0.1, affine=True, track_running_stats=True)\n",
              "      (1): Dropout(p=0.001, inplace=False)\n",
              "      (2): Linear(in_features=261, out_features=1000, bias=False)\n",
              "      (3): ReLU(inplace=True)\n",
              "    )\n",
              "    (1): LinBnDrop(\n",
              "      (0): BatchNorm1d(1000, eps=1e-05, momentum=0.1, affine=True, track_running_stats=True)\n",
              "      (1): Dropout(p=0.01, inplace=False)\n",
              "      (2): Linear(in_features=1000, out_features=500, bias=False)\n",
              "      (3): ReLU(inplace=True)\n",
              "    )\n",
              "    (2): LinBnDrop(\n",
              "      (0): Linear(in_features=500, out_features=1, bias=True)\n",
              "    )\n",
              "  )\n",
              ")"
            ]
          },
          "metadata": {
            "tags": []
          },
          "execution_count": 31
        }
      ]
    },
    {
      "cell_type": "code",
      "metadata": {
        "id": "IaIp_g6Ex2YJ",
        "colab_type": "code",
        "outputId": "05f28680-4ef5-45db-f1ce-fe46d9bbc797",
        "colab": {
          "base_uri": "https://localhost:8080/",
          "height": 283
        }
      },
      "source": [
        "learn.lr_find()"
      ],
      "execution_count": 40,
      "outputs": [
        {
          "output_type": "display_data",
          "data": {
            "text/html": [
              ""
            ],
            "text/plain": [
              "<IPython.core.display.HTML object>"
            ]
          },
          "metadata": {
            "tags": []
          }
        },
        {
          "output_type": "display_data",
          "data": {
            "image/png": "[encoded data removed]",
            "text/plain": [
              "<Figure size 432x288 with 1 Axes>"
            ]
          },
          "metadata": {
            "tags": []
          }
        }
      ]
    },
    {
      "cell_type": "code",
      "metadata": {
        "id": "4ov6MXXWyNX4",
        "colab_type": "code",
        "outputId": "77f6fbd2-2261-4804-eda2-247ad18b1d99",
        "colab": {
          "base_uri": "https://localhost:8080/",
          "height": 204
        }
      },
      "source": [
        "learn.fit_one_cycle(5, 3e-3, wd=0.2)"
      ],
      "execution_count": 41,
      "outputs": [
        {
          "output_type": "display_data",
          "data": {
            "text/html": [
              "<table border=\"1\" class=\"dataframe\">\n",
              "  <thead>\n",
              "    <tr style=\"text-align: left;\">\n",
              "      <th>epoch</th>\n",
              "      <th>train_loss</th>\n",
              "      <th>valid_loss</th>\n",
              "      <th>_exp_rmspe</th>\n",
              "      <th>time</th>\n",
              "    </tr>\n",
              "  </thead>\n",
              "  <tbody>\n",
              "    <tr>\n",
              "      <td>0</td>\n",
              "      <td>0.078117</td>\n",
              "      <td>0.074262</td>\n",
              "      <td>0.328815</td>\n",
              "      <td>01:01</td>\n",
              "    </tr>\n",
              "    <tr>\n",
              "      <td>1</td>\n",
              "      <td>0.041591</td>\n",
              "      <td>0.013518</td>\n",
              "      <td>0.111638</td>\n",
              "      <td>01:01</td>\n",
              "    </tr>\n",
              "    <tr>\n",
              "      <td>2</td>\n",
              "      <td>0.026212</td>\n",
              "      <td>0.018064</td>\n",
              "      <td>0.145526</td>\n",
              "      <td>01:01</td>\n",
              "    </tr>\n",
              "    <tr>\n",
              "      <td>3</td>\n",
              "      <td>0.015085</td>\n",
              "      <td>0.017072</td>\n",
              "      <td>0.143891</td>\n",
              "      <td>01:01</td>\n",
              "    </tr>\n",
              "    <tr>\n",
              "      <td>4</td>\n",
              "      <td>0.011016</td>\n",
              "      <td>0.017971</td>\n",
              "      <td>0.147311</td>\n",
              "      <td>01:01</td>\n",
              "    </tr>\n",
              "  </tbody>\n",
              "</table>"
            ],
            "text/plain": [
              "<IPython.core.display.HTML object>"
            ]
          },
          "metadata": {
            "tags": []
          }
        }
      ]
    },
    {
      "cell_type": "markdown",
      "metadata": {
        "id": "j-obuKQDDMpf",
        "colab_type": "text"
      },
      "source": [
        "# Test Predictions (Kaggle Competition)"
      ]
    },
    {
      "cell_type": "markdown",
      "metadata": {
        "id": "019rY4J2KTOI",
        "colab_type": "text"
      },
      "source": [
        "Now that we have a model, we want to make our final competitions that would be submitted to a competition, as such, we can only make the predictions and submit them as a CSV."
      ]
    },
    {
      "cell_type": "markdown",
      "metadata": {
        "id": "vdvtzMEoR64N",
        "colab_type": "text"
      },
      "source": [
        "First, we need to tell the learner to return the predictions for the test set we added"
      ]
    },
    {
      "cell_type": "code",
      "metadata": {
        "id": "lUnzDMmjJ91d",
        "colab_type": "code",
        "outputId": "82d9b28f-de5b-487d-d79f-50fdaf0a535b",
        "colab": {
          "base_uri": "https://localhost:8080/",
          "height": 148
        }
      },
      "source": [
        "raw_test_preds=learn.get_preds(DatasetType.Test)\n",
        "raw_test_preds[0].data"
      ],
      "execution_count": 0,
      "outputs": [
        {
          "output_type": "execute_result",
          "data": {
            "text/plain": [
              "tensor([[ 8.3466],\n",
              "        [ 8.8626],\n",
              "        [ 9.1010],\n",
              "        ...,\n",
              "        [ 8.8481],\n",
              "        [10.0674],\n",
              "        [ 8.9271]])"
            ]
          },
          "metadata": {
            "tags": []
          },
          "execution_count": 185
        }
      ]
    },
    {
      "cell_type": "markdown",
      "metadata": {
        "id": "v47klCk8SDkM",
        "colab_type": "text"
      },
      "source": [
        "Now that we have the raw predicted values, we need to convert them into usable numbers since we predicted on natural logged values.<br>\n",
        "prediction = e^(raw_prediction)"
      ]
    },
    {
      "cell_type": "code",
      "metadata": {
        "id": "FxM3GaH8Gu8_",
        "colab_type": "code",
        "outputId": "f7924193-b5ca-41c4-c517-5f2a7aee9154",
        "colab": {
          "base_uri": "https://localhost:8080/",
          "height": 54
        }
      },
      "source": [
        "test_preds = np.exp(raw_test_preds[0].data).numpy().T[0]\n",
        "test_preds"
      ],
      "execution_count": 0,
      "outputs": [
        {
          "output_type": "execute_result",
          "data": {
            "text/plain": [
              "array([ 4215.7764,  7062.9995,  8964.55  ,  6536.999 , ...,  7465.181 ,  6961.467 , 23561.684 ,  7533.5103],\n",
              "      dtype=float32)"
            ]
          },
          "metadata": {
            "tags": []
          },
          "execution_count": 172
        }
      ]
    },
    {
      "cell_type": "markdown",
      "metadata": {
        "id": "-aVAF1yIfdlB",
        "colab_type": "text"
      },
      "source": [
        "Because test sets should be representative of the train set, the predicted ranges should be roughly similar<br>and because of the max log y, the max of the test should only be a bit larger than the train set. (note that the test max is 1.2 times larger, just like we set)"
      ]
    },
    {
      "cell_type": "code",
      "metadata": {
        "colab_type": "code",
        "outputId": "7cf554bf-83bb-4c98-e1c1-8817a644b191",
        "id": "XqfDi_HqexRK",
        "colab": {
          "base_uri": "https://localhost:8080/",
          "height": 36
        }
      },
      "source": [
        "train_df['Sales'].min(), train_df['Sales'].max()"
      ],
      "execution_count": 0,
      "outputs": [
        {
          "output_type": "execute_result",
          "data": {
            "text/plain": [
              "(46, 41551)"
            ]
          },
          "metadata": {
            "tags": []
          },
          "execution_count": 184
        }
      ]
    },
    {
      "cell_type": "code",
      "metadata": {
        "id": "D73WN-F7eHRf",
        "colab_type": "code",
        "outputId": "f76ffbeb-f909-4263-e0ff-1d6cd17b31fd",
        "colab": {
          "base_uri": "https://localhost:8080/",
          "height": 36
        }
      },
      "source": [
        "test_preds.min(), test_preds.max()"
      ],
      "execution_count": 0,
      "outputs": [
        {
          "output_type": "execute_result",
          "data": {
            "text/plain": [
              "(1.0001862, 49861.156)"
            ]
          },
          "metadata": {
            "tags": []
          },
          "execution_count": 183
        }
      ]
    },
    {
      "cell_type": "markdown",
      "metadata": {
        "id": "FcE9dYSKdOlp",
        "colab_type": "text"
      },
      "source": [
        "With our new predictions, we want to put the new predictions with the data rounded to an integer and made into a CSV for competition submission.\n",
        "\n",
        "The Kaggle submission just contains the ID and the sales prediction"
      ]
    },
    {
      "cell_type": "code",
      "metadata": {
        "id": "f7OMhpcpDMKB",
        "colab_type": "code",
        "colab": {}
      },
      "source": [
        "test_df[\"Sales\"]=test_preds\n",
        "test_df[[\"Id\",\"Sales\"]]=test_df[[\"Id\",\"Sales\"]].astype(\"int\")\n",
        "test_df[[\"Id\",\"Sales\"]].to_csv(\"rossmann_submission.csv\",index=False)"
      ],
      "execution_count": 0,
      "outputs": []
    },
    {
      "cell_type": "markdown",
      "metadata": {
        "id": "NiTUWZEyq3-a",
        "colab_type": "text"
      },
      "source": [
        "# Data cleaning and Feature Engineering"
      ]
    },
    {
      "cell_type": "markdown",
      "metadata": {
        "id": "aipb1xIUsxFY",
        "colab_type": "text"
      },
      "source": [
        "I won't go over this in class, but I follow this notebook:\n",
        "\n",
        "https://github.com/fastai/course-v3/blob/master/nbs/dl1/rossman_data_clean.ipynb"
      ]
    },
    {
      "cell_type": "code",
      "metadata": {
        "id": "Bjiv-rRgqdN_",
        "colab_type": "code",
        "colab": {}
      },
      "source": [
        "dPath = Path('gdrive/My Drive/AIRG Officer Folder/2018-19/Coursework/Fast.AI/Week 4/Rossmann_Data')"
      ],
      "execution_count": 0,
      "outputs": []
    },
    {
      "cell_type": "code",
      "metadata": {
        "id": "Es3NQQE2rXLQ",
        "colab_type": "code",
        "colab": {}
      },
      "source": [
        "from fastai.basics import *\n",
        "import tarfile"
      ],
      "execution_count": 0,
      "outputs": []
    },
    {
      "cell_type": "markdown",
      "metadata": {
        "id": "H19zkoRSr7cb",
        "colab_type": "text"
      },
      "source": [
        "First we need to untar the data"
      ]
    },
    {
      "cell_type": "code",
      "metadata": {
        "id": "HlVxhAFUrZSA",
        "colab_type": "code",
        "colab": {}
      },
      "source": [
        "tar = tarfile.open(dPath/'rossmann.tgz')\n",
        "tar.extractall(path=dPath)\n",
        "tar.close()"
      ],
      "execution_count": 0,
      "outputs": []
    },
    {
      "cell_type": "code",
      "metadata": {
        "id": "qdzQi3R5r35r",
        "colab_type": "code",
        "outputId": "33786491-7df5-4f7b-e2f0-bd1f6d161056",
        "colab": {
          "base_uri": "https://localhost:8080/",
          "height": 34
        }
      },
      "source": [
        "table_names = ['train', 'store', 'store_states', 'state_names', 'googletrend', 'weather', 'test']\n",
        "tables = [pd.read_csv(dPath/f'{fname}.csv', low_memory=False) for fname in table_names]\n",
        "train, store, store_states, state_names, googletrend, weather, test = tables\n",
        "len(train),len(test)"
      ],
      "execution_count": 0,
      "outputs": [
        {
          "output_type": "execute_result",
          "data": {
            "text/plain": [
              "(1017209, 41088)"
            ]
          },
          "metadata": {
            "tags": []
          },
          "execution_count": 13
        }
      ]
    },
    {
      "cell_type": "code",
      "metadata": {
        "id": "8T40pbb7sGSY",
        "colab_type": "code",
        "colab": {}
      },
      "source": [
        "train.StateHoliday = train.StateHoliday!='0'\n",
        "test.StateHoliday = test.StateHoliday!='0'"
      ],
      "execution_count": 0,
      "outputs": []
    },
    {
      "cell_type": "code",
      "metadata": {
        "id": "fmHHfHE5sIwn",
        "colab_type": "code",
        "colab": {}
      },
      "source": [
        "def join_df(left, right, left_on, right_on=None, suffix='_y'):\n",
        "    if right_on is None: right_on = left_on\n",
        "    return left.merge(right, how='left', left_on=left_on, right_on=right_on, \n",
        "                      suffixes=(\"\", suffix))"
      ],
      "execution_count": 0,
      "outputs": []
    },
    {
      "cell_type": "code",
      "metadata": {
        "id": "OKD7kgjbsKqn",
        "colab_type": "code",
        "colab": {}
      },
      "source": [
        "weather = join_df(weather, state_names, \"file\", \"StateName\")"
      ],
      "execution_count": 0,
      "outputs": []
    },
    {
      "cell_type": "code",
      "metadata": {
        "id": "k1kCoaMCsLyo",
        "colab_type": "code",
        "colab": {}
      },
      "source": [
        "googletrend['Date'] = googletrend.week.str.split(' - ', expand=True)[0]\n",
        "googletrend['State'] = googletrend.file.str.split('_', expand=True)[2]\n",
        "googletrend.loc[googletrend.State=='NI', \"State\"] = 'HB,NI'"
      ],
      "execution_count": 0,
      "outputs": []
    },
    {
      "cell_type": "code",
      "metadata": {
        "id": "ohadNm7asNAY",
        "colab_type": "code",
        "colab": {}
      },
      "source": [
        "def add_datepart(df, fldname, drop=True, time=False):\n",
        "    \"Helper function that adds columns relevant to a date.\"\n",
        "    fld = df[fldname]\n",
        "    fld_dtype = fld.dtype\n",
        "    if isinstance(fld_dtype, pd.core.dtypes.dtypes.DatetimeTZDtype):\n",
        "        fld_dtype = np.datetime64\n",
        "\n",
        "    if not np.issubdtype(fld_dtype, np.datetime64):\n",
        "        df[fldname] = fld = pd.to_datetime(fld, infer_datetime_format=True)\n",
        "    targ_pre = re.sub('[Dd]ate$', '', fldname)\n",
        "    attr = ['Year', 'Month', 'Week', 'Day', 'Dayofweek', 'Dayofyear',\n",
        "            'Is_month_end', 'Is_month_start', 'Is_quarter_end', 'Is_quarter_start', 'Is_year_end', 'Is_year_start']\n",
        "    if time: attr = attr + ['Hour', 'Minute', 'Second']\n",
        "    for n in attr: df[targ_pre + n] = getattr(fld.dt, n.lower())\n",
        "    df[targ_pre + 'Elapsed'] = fld.astype(np.int64) // 10 ** 9\n",
        "    if drop: df.drop(fldname, axis=1, inplace=True)"
      ],
      "execution_count": 0,
      "outputs": []
    },
    {
      "cell_type": "code",
      "metadata": {
        "id": "4ZXosOHDsPoh",
        "colab_type": "code",
        "colab": {}
      },
      "source": [
        "add_datepart(weather, \"Date\", drop=False)\n",
        "add_datepart(googletrend, \"Date\", drop=False)\n",
        "add_datepart(train, \"Date\", drop=False)\n",
        "add_datepart(test, \"Date\", drop=False)"
      ],
      "execution_count": 0,
      "outputs": []
    },
    {
      "cell_type": "code",
      "metadata": {
        "id": "YX-yR8EmsQ_B",
        "colab_type": "code",
        "colab": {}
      },
      "source": [
        "trend_de = googletrend[googletrend.file == 'Rossmann_DE']"
      ],
      "execution_count": 0,
      "outputs": []
    },
    {
      "cell_type": "code",
      "metadata": {
        "id": "Henf9S9WsSXB",
        "colab_type": "code",
        "outputId": "1cb33265-1824-4d8d-e4dd-a561151edf46",
        "colab": {
          "base_uri": "https://localhost:8080/",
          "height": 34
        }
      },
      "source": [
        "store = join_df(store, store_states, \"Store\")\n",
        "len(store[store.State.isnull()])"
      ],
      "execution_count": 0,
      "outputs": [
        {
          "output_type": "execute_result",
          "data": {
            "text/plain": [
              "0"
            ]
          },
          "metadata": {
            "tags": []
          },
          "execution_count": 21
        }
      ]
    },
    {
      "cell_type": "code",
      "metadata": {
        "id": "D9-MQGkKsTfh",
        "colab_type": "code",
        "outputId": "ec9e658e-e8ab-423e-c058-642545f31f0c",
        "colab": {
          "base_uri": "https://localhost:8080/",
          "height": 34
        }
      },
      "source": [
        "joined = join_df(train, store, \"Store\")\n",
        "joined_test = join_df(test, store, \"Store\")\n",
        "len(joined[joined.StoreType.isnull()]),len(joined_test[joined_test.StoreType.isnull()])"
      ],
      "execution_count": 0,
      "outputs": [
        {
          "output_type": "execute_result",
          "data": {
            "text/plain": [
              "(0, 0)"
            ]
          },
          "metadata": {
            "tags": []
          },
          "execution_count": 22
        }
      ]
    },
    {
      "cell_type": "code",
      "metadata": {
        "id": "45PUudD8sUyB",
        "colab_type": "code",
        "outputId": "0f81c095-100f-46c0-a027-9b857cde3135",
        "colab": {
          "base_uri": "https://localhost:8080/",
          "height": 34
        }
      },
      "source": [
        "joined = join_df(joined, googletrend, [\"State\",\"Year\", \"Week\"])\n",
        "joined_test = join_df(joined_test, googletrend, [\"State\",\"Year\", \"Week\"])\n",
        "len(joined[joined.trend.isnull()]),len(joined_test[joined_test.trend.isnull()])"
      ],
      "execution_count": 0,
      "outputs": [
        {
          "output_type": "execute_result",
          "data": {
            "text/plain": [
              "(0, 0)"
            ]
          },
          "metadata": {
            "tags": []
          },
          "execution_count": 23
        }
      ]
    },
    {
      "cell_type": "code",
      "metadata": {
        "id": "f27KrvpDsXAB",
        "colab_type": "code",
        "outputId": "dcb843b3-af0e-49e5-802e-7c6a3931b9e4",
        "colab": {
          "base_uri": "https://localhost:8080/",
          "height": 34
        }
      },
      "source": [
        "joined = joined.merge(trend_de, 'left', [\"Year\", \"Week\"], suffixes=('', '_DE'))\n",
        "joined_test = joined_test.merge(trend_de, 'left', [\"Year\", \"Week\"], suffixes=('', '_DE'))\n",
        "len(joined[joined.trend_DE.isnull()]),len(joined_test[joined_test.trend_DE.isnull()])"
      ],
      "execution_count": 0,
      "outputs": [
        {
          "output_type": "execute_result",
          "data": {
            "text/plain": [
              "(0, 0)"
            ]
          },
          "metadata": {
            "tags": []
          },
          "execution_count": 24
        }
      ]
    },
    {
      "cell_type": "code",
      "metadata": {
        "id": "GkUMs-wCsYDx",
        "colab_type": "code",
        "outputId": "4b629ea0-73f6-4306-8122-afa69c87f1ad",
        "colab": {
          "base_uri": "https://localhost:8080/",
          "height": 34
        }
      },
      "source": [
        "joined = join_df(joined, weather, [\"State\",\"Date\"])\n",
        "joined_test = join_df(joined_test, weather, [\"State\",\"Date\"])\n",
        "len(joined[joined.Mean_TemperatureC.isnull()]),len(joined_test[joined_test.Mean_TemperatureC.isnull()])"
      ],
      "execution_count": 0,
      "outputs": [
        {
          "output_type": "execute_result",
          "data": {
            "text/plain": [
              "(0, 0)"
            ]
          },
          "metadata": {
            "tags": []
          },
          "execution_count": 25
        }
      ]
    },
    {
      "cell_type": "code",
      "metadata": {
        "id": "nkNuwmZ_sZnx",
        "colab_type": "code",
        "colab": {}
      },
      "source": [
        "for df in (joined, joined_test):\n",
        "    for c in df.columns:\n",
        "        if c.endswith('_y'):\n",
        "            if c in df.columns: df.drop(c, inplace=True, axis=1)"
      ],
      "execution_count": 0,
      "outputs": []
    },
    {
      "cell_type": "code",
      "metadata": {
        "id": "-FbrjCw-sbWB",
        "colab_type": "code",
        "colab": {}
      },
      "source": [
        "for df in (joined,joined_test):\n",
        "    df['CompetitionOpenSinceYear'] = df.CompetitionOpenSinceYear.fillna(1900).astype(np.int32)\n",
        "    df['CompetitionOpenSinceMonth'] = df.CompetitionOpenSinceMonth.fillna(1).astype(np.int32)\n",
        "    df['Promo2SinceYear'] = df.Promo2SinceYear.fillna(1900).astype(np.int32)\n",
        "    df['Promo2SinceWeek'] = df.Promo2SinceWeek.fillna(1).astype(np.int32)"
      ],
      "execution_count": 0,
      "outputs": []
    },
    {
      "cell_type": "code",
      "metadata": {
        "id": "Gl4qP1_ssdLh",
        "colab_type": "code",
        "colab": {}
      },
      "source": [
        "for df in (joined,joined_test):\n",
        "    df[\"CompetitionOpenSince\"] = pd.to_datetime(dict(year=df.CompetitionOpenSinceYear, \n",
        "                                                     month=df.CompetitionOpenSinceMonth, day=15))\n",
        "    df[\"CompetitionDaysOpen\"] = df.Date.subtract(df.CompetitionOpenSince).dt.days"
      ],
      "execution_count": 0,
      "outputs": []
    },
    {
      "cell_type": "code",
      "metadata": {
        "id": "1kVqkVKLseoB",
        "colab_type": "code",
        "colab": {}
      },
      "source": [
        "for df in (joined,joined_test):\n",
        "    df.loc[df.CompetitionDaysOpen<0, \"CompetitionDaysOpen\"] = 0\n",
        "    df.loc[df.CompetitionOpenSinceYear<1990, \"CompetitionDaysOpen\"] = 0"
      ],
      "execution_count": 0,
      "outputs": []
    },
    {
      "cell_type": "code",
      "metadata": {
        "id": "liA7kr0VsgCS",
        "colab_type": "code",
        "outputId": "96d9d377-43f2-4789-f56d-19d48b67d920",
        "colab": {
          "base_uri": "https://localhost:8080/",
          "height": 34
        }
      },
      "source": [
        "for df in (joined,joined_test):\n",
        "    df[\"CompetitionMonthsOpen\"] = df[\"CompetitionDaysOpen\"]//30\n",
        "    df.loc[df.CompetitionMonthsOpen>24, \"CompetitionMonthsOpen\"] = 24\n",
        "joined.CompetitionMonthsOpen.unique()"
      ],
      "execution_count": 0,
      "outputs": [
        {
          "output_type": "execute_result",
          "data": {
            "text/plain": [
              "array([24,  3, 19,  9,  0, 16, 17,  7, 15, 22, 11, 13,  2, 23, 12,  4, 10,  1, 14, 20,  8, 18,  6, 21,  5])"
            ]
          },
          "metadata": {
            "tags": []
          },
          "execution_count": 30
        }
      ]
    },
    {
      "cell_type": "code",
      "metadata": {
        "id": "Z-AfLvr6shbR",
        "colab_type": "code",
        "colab": {}
      },
      "source": [
        "!pip install isoweek"
      ],
      "execution_count": 0,
      "outputs": []
    },
    {
      "cell_type": "code",
      "metadata": {
        "id": "PV2kF7gwsjJw",
        "colab_type": "code",
        "colab": {}
      },
      "source": [
        "from isoweek import Week\n",
        "for df in (joined,joined_test):\n",
        "    df[\"Promo2Since\"] = pd.to_datetime(df.apply(lambda x: Week(\n",
        "        x.Promo2SinceYear, x.Promo2SinceWeek).Tuesday(), axis=1))\n",
        "    df[\"Promo2Days\"] = df.Date.subtract(df[\"Promo2Since\"]).dt.days"
      ],
      "execution_count": 0,
      "outputs": []
    },
    {
      "cell_type": "code",
      "metadata": {
        "id": "eKUOfigyslCh",
        "colab_type": "code",
        "colab": {}
      },
      "source": [
        "for df in (joined,joined_test):\n",
        "    df.loc[df.Promo2Days<0, \"Promo2Days\"] = 0\n",
        "    df.loc[df.Promo2SinceYear<1990, \"Promo2Days\"] = 0\n",
        "    df[\"Promo2Weeks\"] = df[\"Promo2Days\"]//7\n",
        "    df.loc[df.Promo2Weeks<0, \"Promo2Weeks\"] = 0\n",
        "    df.loc[df.Promo2Weeks>25, \"Promo2Weeks\"] = 25\n",
        "    df.Promo2Weeks.unique()"
      ],
      "execution_count": 0,
      "outputs": []
    },
    {
      "cell_type": "code",
      "metadata": {
        "id": "EjxVRaxDsqrZ",
        "colab_type": "code",
        "colab": {}
      },
      "source": [
        "PATH = dPath"
      ],
      "execution_count": 0,
      "outputs": []
    },
    {
      "cell_type": "code",
      "metadata": {
        "id": "ze0R0KQGs5QQ",
        "colab_type": "code",
        "colab": {}
      },
      "source": [
        "joined.to_pickle(PATH/'joined')\n",
        "joined_test.to_pickle(PATH/'joined_test')"
      ],
      "execution_count": 0,
      "outputs": []
    },
    {
      "cell_type": "code",
      "metadata": {
        "id": "ySkStNeSs-0p",
        "colab_type": "code",
        "colab": {}
      },
      "source": [
        "def get_elapsed(fld, pre):\n",
        "    day1 = np.timedelta64(1, 'D')\n",
        "    last_date = np.datetime64()\n",
        "    last_store = 0\n",
        "    res = []\n",
        "\n",
        "    for s,v,d in zip(df.Store.values,df[fld].values, df.Date.values):\n",
        "        if s != last_store:\n",
        "            last_date = np.datetime64()\n",
        "            last_store = s\n",
        "        if v: last_date = d\n",
        "        res.append(((d-last_date).astype('timedelta64[D]') / day1))\n",
        "    df[pre+fld] = res"
      ],
      "execution_count": 0,
      "outputs": []
    },
    {
      "cell_type": "code",
      "metadata": {
        "id": "t_qyIzrttEkJ",
        "colab_type": "code",
        "colab": {}
      },
      "source": [
        "columns = [\"Date\", \"Store\", \"Promo\", \"StateHoliday\", \"SchoolHoliday\"]"
      ],
      "execution_count": 0,
      "outputs": []
    },
    {
      "cell_type": "code",
      "metadata": {
        "id": "X7TPe5mFtGE5",
        "colab_type": "code",
        "colab": {}
      },
      "source": [
        "df = train[columns].append(test[columns])"
      ],
      "execution_count": 0,
      "outputs": []
    },
    {
      "cell_type": "code",
      "metadata": {
        "id": "xVOUatkxtHiq",
        "colab_type": "code",
        "colab": {}
      },
      "source": [
        "fld = 'SchoolHoliday'\n",
        "df = df.sort_values(['Store', 'Date'])\n",
        "get_elapsed(fld, 'After')\n",
        "df = df.sort_values(['Store', 'Date'], ascending=[True, False])\n",
        "get_elapsed(fld, 'Before')"
      ],
      "execution_count": 0,
      "outputs": []
    },
    {
      "cell_type": "code",
      "metadata": {
        "id": "SM1zF1SetJkZ",
        "colab_type": "code",
        "colab": {}
      },
      "source": [
        "fld = 'StateHoliday'\n",
        "df = df.sort_values(['Store', 'Date'])\n",
        "get_elapsed(fld, 'After')\n",
        "df = df.sort_values(['Store', 'Date'], ascending=[True, False])\n",
        "get_elapsed(fld, 'Before')"
      ],
      "execution_count": 0,
      "outputs": []
    },
    {
      "cell_type": "code",
      "metadata": {
        "id": "yyT23rN1tKwh",
        "colab_type": "code",
        "colab": {}
      },
      "source": [
        "fld = 'Promo'\n",
        "df = df.sort_values(['Store', 'Date'])\n",
        "get_elapsed(fld, 'After')\n",
        "df = df.sort_values(['Store', 'Date'], ascending=[True, False])\n",
        "get_elapsed(fld, 'Before')"
      ],
      "execution_count": 0,
      "outputs": []
    },
    {
      "cell_type": "code",
      "metadata": {
        "id": "hYloCKWktM0B",
        "colab_type": "code",
        "colab": {}
      },
      "source": [
        "df = df.set_index(\"Date\")"
      ],
      "execution_count": 0,
      "outputs": []
    },
    {
      "cell_type": "code",
      "metadata": {
        "id": "r9R07pXQtODB",
        "colab_type": "code",
        "colab": {}
      },
      "source": [
        "columns = ['SchoolHoliday', 'StateHoliday', 'Promo']"
      ],
      "execution_count": 0,
      "outputs": []
    },
    {
      "cell_type": "code",
      "metadata": {
        "id": "VCzGeiU1tPLx",
        "colab_type": "code",
        "colab": {}
      },
      "source": [
        "for o in ['Before', 'After']:\n",
        "    for p in columns:\n",
        "        a = o+p\n",
        "        df[a] = df[a].fillna(0).astype(int)"
      ],
      "execution_count": 0,
      "outputs": []
    },
    {
      "cell_type": "code",
      "metadata": {
        "id": "MQahgLS_tQex",
        "colab_type": "code",
        "colab": {}
      },
      "source": [
        "bwd = df[['Store']+columns].sort_index().groupby(\"Store\").rolling(7, min_periods=1).sum()"
      ],
      "execution_count": 0,
      "outputs": []
    },
    {
      "cell_type": "code",
      "metadata": {
        "id": "Q7pe5I35tSPA",
        "colab_type": "code",
        "colab": {}
      },
      "source": [
        "fwd = df[['Store']+columns].sort_index(ascending=False\n",
        "                                      ).groupby(\"Store\").rolling(7, min_periods=1).sum()"
      ],
      "execution_count": 0,
      "outputs": []
    },
    {
      "cell_type": "code",
      "metadata": {
        "id": "te4c0Wz5tTwR",
        "colab_type": "code",
        "colab": {}
      },
      "source": [
        "bwd.drop('Store',1,inplace=True)\n",
        "bwd.reset_index(inplace=True)"
      ],
      "execution_count": 0,
      "outputs": []
    },
    {
      "cell_type": "code",
      "metadata": {
        "id": "AdSj5HmstVMQ",
        "colab_type": "code",
        "colab": {}
      },
      "source": [
        "fwd.drop('Store',1,inplace=True)\n",
        "fwd.reset_index(inplace=True)"
      ],
      "execution_count": 0,
      "outputs": []
    },
    {
      "cell_type": "code",
      "metadata": {
        "id": "EwkAAWzDtWZy",
        "colab_type": "code",
        "colab": {}
      },
      "source": [
        "df.reset_index(inplace=True)"
      ],
      "execution_count": 0,
      "outputs": []
    },
    {
      "cell_type": "code",
      "metadata": {
        "id": "ifj8p_RItXtQ",
        "colab_type": "code",
        "colab": {}
      },
      "source": [
        "df = df.merge(bwd, 'left', ['Date', 'Store'], suffixes=['', '_bw'])\n",
        "df = df.merge(fwd, 'left', ['Date', 'Store'], suffixes=['', '_fw'])"
      ],
      "execution_count": 0,
      "outputs": []
    },
    {
      "cell_type": "code",
      "metadata": {
        "id": "g4ajnGEktZHi",
        "colab_type": "code",
        "colab": {}
      },
      "source": [
        "df.drop(columns,1,inplace=True)"
      ],
      "execution_count": 0,
      "outputs": []
    },
    {
      "cell_type": "code",
      "metadata": {
        "id": "yokR0eh1tbRQ",
        "colab_type": "code",
        "outputId": "2effe66a-8267-450f-dc2b-341c7351062d",
        "colab": {
          "base_uri": "https://localhost:8080/",
          "height": 309
        }
      },
      "source": [
        "df.head()"
      ],
      "execution_count": 0,
      "outputs": [
        {
          "output_type": "execute_result",
          "data": {
            "text/html": [
              "<div>\n",
              "<style scoped>\n",
              "    .dataframe tbody tr th:only-of-type {\n",
              "        vertical-align: middle;\n",
              "    }\n",
              "\n",
              "    .dataframe tbody tr th {\n",
              "        vertical-align: top;\n",
              "    }\n",
              "\n",
              "    .dataframe thead th {\n",
              "        text-align: right;\n",
              "    }\n",
              "</style>\n",
              "<table border=\"1\" class=\"dataframe\">\n",
              "  <thead>\n",
              "    <tr style=\"text-align: right;\">\n",
              "      <th></th>\n",
              "      <th>Date</th>\n",
              "      <th>Store</th>\n",
              "      <th>AfterSchoolHoliday</th>\n",
              "      <th>BeforeSchoolHoliday</th>\n",
              "      <th>AfterStateHoliday</th>\n",
              "      <th>BeforeStateHoliday</th>\n",
              "      <th>AfterPromo</th>\n",
              "      <th>BeforePromo</th>\n",
              "      <th>SchoolHoliday_bw</th>\n",
              "      <th>StateHoliday_bw</th>\n",
              "      <th>Promo_bw</th>\n",
              "      <th>SchoolHoliday_fw</th>\n",
              "      <th>StateHoliday_fw</th>\n",
              "      <th>Promo_fw</th>\n",
              "    </tr>\n",
              "  </thead>\n",
              "  <tbody>\n",
              "    <tr>\n",
              "      <th>0</th>\n",
              "      <td>2015-09-17</td>\n",
              "      <td>1</td>\n",
              "      <td>13</td>\n",
              "      <td>0</td>\n",
              "      <td>105</td>\n",
              "      <td>0</td>\n",
              "      <td>0</td>\n",
              "      <td>0</td>\n",
              "      <td>0.0</td>\n",
              "      <td>0.0</td>\n",
              "      <td>4.0</td>\n",
              "      <td>0.0</td>\n",
              "      <td>0.0</td>\n",
              "      <td>1.0</td>\n",
              "    </tr>\n",
              "    <tr>\n",
              "      <th>1</th>\n",
              "      <td>2015-09-16</td>\n",
              "      <td>1</td>\n",
              "      <td>12</td>\n",
              "      <td>0</td>\n",
              "      <td>104</td>\n",
              "      <td>0</td>\n",
              "      <td>0</td>\n",
              "      <td>0</td>\n",
              "      <td>0.0</td>\n",
              "      <td>0.0</td>\n",
              "      <td>3.0</td>\n",
              "      <td>0.0</td>\n",
              "      <td>0.0</td>\n",
              "      <td>2.0</td>\n",
              "    </tr>\n",
              "    <tr>\n",
              "      <th>2</th>\n",
              "      <td>2015-09-15</td>\n",
              "      <td>1</td>\n",
              "      <td>11</td>\n",
              "      <td>0</td>\n",
              "      <td>103</td>\n",
              "      <td>0</td>\n",
              "      <td>0</td>\n",
              "      <td>0</td>\n",
              "      <td>0.0</td>\n",
              "      <td>0.0</td>\n",
              "      <td>2.0</td>\n",
              "      <td>0.0</td>\n",
              "      <td>0.0</td>\n",
              "      <td>3.0</td>\n",
              "    </tr>\n",
              "    <tr>\n",
              "      <th>3</th>\n",
              "      <td>2015-09-14</td>\n",
              "      <td>1</td>\n",
              "      <td>10</td>\n",
              "      <td>0</td>\n",
              "      <td>102</td>\n",
              "      <td>0</td>\n",
              "      <td>0</td>\n",
              "      <td>0</td>\n",
              "      <td>0.0</td>\n",
              "      <td>0.0</td>\n",
              "      <td>1.0</td>\n",
              "      <td>0.0</td>\n",
              "      <td>0.0</td>\n",
              "      <td>4.0</td>\n",
              "    </tr>\n",
              "    <tr>\n",
              "      <th>4</th>\n",
              "      <td>2015-09-13</td>\n",
              "      <td>1</td>\n",
              "      <td>9</td>\n",
              "      <td>0</td>\n",
              "      <td>101</td>\n",
              "      <td>0</td>\n",
              "      <td>9</td>\n",
              "      <td>-1</td>\n",
              "      <td>0.0</td>\n",
              "      <td>0.0</td>\n",
              "      <td>0.0</td>\n",
              "      <td>0.0</td>\n",
              "      <td>0.0</td>\n",
              "      <td>4.0</td>\n",
              "    </tr>\n",
              "  </tbody>\n",
              "</table>\n",
              "</div>"
            ],
            "text/plain": [
              "        Date  Store  ...  StateHoliday_fw  Promo_fw\n",
              "0 2015-09-17      1  ...              0.0       1.0\n",
              "1 2015-09-16      1  ...              0.0       2.0\n",
              "2 2015-09-15      1  ...              0.0       3.0\n",
              "3 2015-09-14      1  ...              0.0       4.0\n",
              "4 2015-09-13      1  ...              0.0       4.0\n",
              "\n",
              "[5 rows x 14 columns]"
            ]
          },
          "metadata": {
            "tags": []
          },
          "execution_count": 52
        }
      ]
    },
    {
      "cell_type": "code",
      "metadata": {
        "id": "yqyx27AxtdDB",
        "colab_type": "code",
        "colab": {}
      },
      "source": [
        "df.to_pickle(PATH/'df')"
      ],
      "execution_count": 0,
      "outputs": []
    },
    {
      "cell_type": "code",
      "metadata": {
        "id": "G5Kbg0JAtgow",
        "colab_type": "code",
        "colab": {}
      },
      "source": [
        "df[\"Date\"] = pd.to_datetime(df.Date)"
      ],
      "execution_count": 0,
      "outputs": []
    },
    {
      "cell_type": "code",
      "metadata": {
        "id": "-xTah1vStilx",
        "colab_type": "code",
        "outputId": "071b491a-4358-4dad-b193-85561c10df56",
        "colab": {
          "base_uri": "https://localhost:8080/",
          "height": 102
        }
      },
      "source": [
        "df.columns"
      ],
      "execution_count": 0,
      "outputs": [
        {
          "output_type": "execute_result",
          "data": {
            "text/plain": [
              "Index(['Date', 'Store', 'AfterSchoolHoliday', 'BeforeSchoolHoliday',\n",
              "       'AfterStateHoliday', 'BeforeStateHoliday', 'AfterPromo', 'BeforePromo',\n",
              "       'SchoolHoliday_bw', 'StateHoliday_bw', 'Promo_bw', 'SchoolHoliday_fw',\n",
              "       'StateHoliday_fw', 'Promo_fw'],\n",
              "      dtype='object')"
            ]
          },
          "metadata": {
            "tags": []
          },
          "execution_count": 55
        }
      ]
    },
    {
      "cell_type": "code",
      "metadata": {
        "id": "sl3-xSY8tjtR",
        "colab_type": "code",
        "colab": {}
      },
      "source": [
        "joined = pd.read_pickle(PATH/'joined')\n",
        "joined_test = pd.read_pickle(PATH/f'joined_test')"
      ],
      "execution_count": 0,
      "outputs": []
    },
    {
      "cell_type": "code",
      "metadata": {
        "id": "esWH_95utlOx",
        "colab_type": "code",
        "colab": {}
      },
      "source": [
        "joined = join_df(joined, df, ['Store', 'Date'])"
      ],
      "execution_count": 0,
      "outputs": []
    },
    {
      "cell_type": "code",
      "metadata": {
        "id": "saLwF9EQtnDR",
        "colab_type": "code",
        "colab": {}
      },
      "source": [
        "joined_test = join_df(joined_test, df, ['Store', 'Date'])"
      ],
      "execution_count": 0,
      "outputs": []
    },
    {
      "cell_type": "code",
      "metadata": {
        "id": "sJpHxsIbto4Q",
        "colab_type": "code",
        "colab": {}
      },
      "source": [
        "joined = joined[joined.Sales!=0]"
      ],
      "execution_count": 0,
      "outputs": []
    },
    {
      "cell_type": "code",
      "metadata": {
        "id": "HS8hMIintqYx",
        "colab_type": "code",
        "colab": {}
      },
      "source": [
        "joined.reset_index(inplace=True)\n",
        "joined_test.reset_index(inplace=True)"
      ],
      "execution_count": 0,
      "outputs": []
    },
    {
      "cell_type": "code",
      "metadata": {
        "id": "WkzO-UBstrRB",
        "colab_type": "code",
        "colab": {}
      },
      "source": [
        "joined.to_pickle(savePath/'train_clean')\n",
        "joined_test.to_pickle(savePath/'test_clean')"
      ],
      "execution_count": 0,
      "outputs": []
    },
    {
      "cell_type": "code",
      "metadata": {
        "id": "b8_KXMqEuMRl",
        "colab_type": "code",
        "colab": {}
      },
      "source": [
        ""
      ],
      "execution_count": 0,
      "outputs": []
    }
  ]
}
