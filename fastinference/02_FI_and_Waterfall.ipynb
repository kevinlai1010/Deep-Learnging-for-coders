{
  "nbformat": 4,
  "nbformat_minor": 0,
  "metadata": {
    "colab": {
      "name": "02_FI_and_Waterfall.ipynb",
      "provenance": []
    },
    "kernelspec": {
      "name": "python3",
      "display_name": "Python 3"
    },
    "accelerator": "GPU"
  },
  "cells": [
    {
      "cell_type": "markdown",
      "metadata": {
        "id": "PdMOXyYvC7xa",
        "colab_type": "text"
      },
      "source": [
        "# 02: Feature Importance and Waterfall Plots\n",
        "\n",
        "> WaterFall plots were originally by Pak on the forums:"
      ]
    },
    {
      "cell_type": "code",
      "metadata": {
        "id": "ehedWmkzC399",
        "colab_type": "code",
        "colab": {
          "base_uri": "https://localhost:8080/",
          "height": 101
        },
        "outputId": "5f03232a-4c94-41d7-e8ee-13b593f0fe4b"
      },
      "source": [
        "!pip install fastinference --quiet"
      ],
      "execution_count": 2,
      "outputs": [
        {
          "output_type": "stream",
          "text": [
            "\u001b[K     |████████████████████████████████| 21.9MB 61.4MB/s \n",
            "\u001b[K     |████████████████████████████████| 194kB 56.8MB/s \n",
            "\u001b[K     |████████████████████████████████| 276kB 57.7MB/s \n",
            "\u001b[K     |████████████████████████████████| 7.4MB 23.8MB/s \n",
            "\u001b[?25h  Building wheel for shap (setup.py) ... \u001b[?25l\u001b[?25hdone\n"
          ],
          "name": "stdout"
        }
      ]
    },
    {
      "cell_type": "code",
      "metadata": {
        "id": "dbqysUxb4df8",
        "colab_type": "code",
        "colab": {}
      },
      "source": [
        "from fastinference.tabular import *\n",
        "from fastai2.tabular.all import *"
      ],
      "execution_count": 3,
      "outputs": []
    },
    {
      "cell_type": "markdown",
      "metadata": {
        "id": "WYP9y1xh42dt",
        "colab_type": "text"
      },
      "source": [
        "## Initial Training"
      ]
    },
    {
      "cell_type": "markdown",
      "metadata": {
        "id": "L3Bua3YE4h0X",
        "colab_type": "text"
      },
      "source": [
        "First let's start with tabular. Let's train a model real quick:"
      ]
    },
    {
      "cell_type": "code",
      "metadata": {
        "id": "UouTYGrd4hah",
        "colab_type": "code",
        "colab": {
          "base_uri": "https://localhost:8080/",
          "height": 17
        },
        "outputId": "cd13eeb9-f167-44bd-d57d-8081a1d36d6f"
      },
      "source": [
        "path = untar_data(URLs.ADULT_SAMPLE)\n",
        "df = pd.read_csv(path/'adult.csv')\n",
        "splits = RandomSplitter()(range_of(df))\n",
        "cat_names = ['workclass', 'education', 'marital-status', 'occupation', 'relationship', 'race']\n",
        "cont_names = ['age', 'fnlwgt', 'education-num']\n",
        "procs = [Categorify, FillMissing, Normalize]\n",
        "y_names = 'salary'"
      ],
      "execution_count": 4,
      "outputs": [
        {
          "output_type": "display_data",
          "data": {
            "text/html": [
              ""
            ],
            "text/plain": [
              "<IPython.core.display.HTML object>"
            ]
          },
          "metadata": {
            "tags": []
          }
        }
      ]
    },
    {
      "cell_type": "code",
      "metadata": {
        "id": "GRnKVOs14nfL",
        "colab_type": "code",
        "colab": {}
      },
      "source": [
        "to = TabularPandas(df, procs=procs, cat_names=cat_names, cont_names=cont_names,\n",
        "                   y_names=y_names, splits=splits)"
      ],
      "execution_count": 5,
      "outputs": []
    },
    {
      "cell_type": "code",
      "metadata": {
        "id": "8PI8MAMd4sHc",
        "colab_type": "code",
        "colab": {}
      },
      "source": [
        "dls = to.dataloaders()"
      ],
      "execution_count": 6,
      "outputs": []
    },
    {
      "cell_type": "code",
      "metadata": {
        "id": "BFEM86e34syS",
        "colab_type": "code",
        "colab": {}
      },
      "source": [
        "learn = tabular_learner(dls, layers=[200,100], metrics=accuracy)"
      ],
      "execution_count": 7,
      "outputs": []
    },
    {
      "cell_type": "code",
      "metadata": {
        "id": "Z1tZ0IeN4tbi",
        "colab_type": "code",
        "colab": {
          "base_uri": "https://localhost:8080/",
          "height": 77
        },
        "outputId": "9196e23e-4f2f-405c-86f5-84a19eef6c12"
      },
      "source": [
        "learn.fit(1)"
      ],
      "execution_count": 8,
      "outputs": [
        {
          "output_type": "display_data",
          "data": {
            "text/html": [
              "<table border=\"1\" class=\"dataframe\">\n",
              "  <thead>\n",
              "    <tr style=\"text-align: left;\">\n",
              "      <th>epoch</th>\n",
              "      <th>train_loss</th>\n",
              "      <th>valid_loss</th>\n",
              "      <th>accuracy</th>\n",
              "      <th>time</th>\n",
              "    </tr>\n",
              "  </thead>\n",
              "  <tbody>\n",
              "    <tr>\n",
              "      <td>0</td>\n",
              "      <td>0.364216</td>\n",
              "      <td>0.351531</td>\n",
              "      <td>0.835534</td>\n",
              "      <td>00:05</td>\n",
              "    </tr>\n",
              "  </tbody>\n",
              "</table>"
            ],
            "text/plain": [
              "<IPython.core.display.HTML object>"
            ]
          },
          "metadata": {
            "tags": []
          }
        }
      ]
    },
    {
      "cell_type": "markdown",
      "metadata": {
        "id": "FJk1KUfF4yD2",
        "colab_type": "text"
      },
      "source": [
        "Now we can get into looking at the results! \n",
        "\n",
        "So what's new?"
      ]
    },
    {
      "cell_type": "markdown",
      "metadata": {
        "id": "3hlLOa8TDIcd",
        "colab_type": "text"
      },
      "source": [
        "## Feature Importance\n",
        "\n",
        "* Permutation-based approach\n",
        "\n",
        "Take one column, shuffle it's innards, then measure the amount of change from your baseline:"
      ]
    },
    {
      "cell_type": "code",
      "metadata": {
        "id": "c3Qqu10xEBGA",
        "colab_type": "code",
        "colab": {}
      },
      "source": [
        "!pip install nbdev --quiet"
      ],
      "execution_count": null,
      "outputs": []
    },
    {
      "cell_type": "code",
      "metadata": {
        "id": "wyoAnHniD_WJ",
        "colab_type": "code",
        "colab": {
          "base_uri": "https://localhost:8080/",
          "height": 143
        },
        "outputId": "febf1120-04e9-4bdc-c549-8272a5020361"
      },
      "source": [
        "doc(learn.feature_importance)"
      ],
      "execution_count": 24,
      "outputs": [
        {
          "output_type": "display_data",
          "data": {
            "text/html": [
              "<h4 id=\"TabularLearner.feature_importance\" class=\"doc_header\"><code>TabularLearner.feature_importance</code><a href=\"https://github.com/muellerzr/fastinference/tree/master/fastinference/tabular/interpretation.py#L14\" class=\"source_link\" style=\"float:right\">[source]</a></h4><blockquote><p><code>TabularLearner.feature_importance</code>(<strong><code>x</code></strong>:<code>TabularLearner</code>, <strong><code>df</code></strong>=<em><code>None</code></em>, <strong><code>dl</code></strong>=<em><code>None</code></em>, <strong><code>perm_func</code></strong>=<em><code>'base_error'</code></em>, <strong><code>metric</code></strong>=<em><code>'accuracy'</code></em>, <strong><code>bs</code></strong>=<em><code>None</code></em>, <strong><code>reverse</code></strong>=<em><code>True</code></em>, <strong><code>plot</code></strong>=<em><code>True</code></em>)</p>\n",
              "</blockquote>\n",
              "<p>Calculate and plot the Feature Importance based on <code>df</code></p>\n",
              "<p><a href=\"https://muellerzr.github.io/fastinference/tabular.interpretation#TabularLearner.feature_importance\" target=\"_blank\" rel=\"noreferrer noopener\">Show in docs</a></p>\n"
            ],
            "text/plain": [
              "<IPython.core.display.HTML object>"
            ]
          },
          "metadata": {
            "tags": []
          }
        }
      ]
    },
    {
      "cell_type": "code",
      "metadata": {
        "id": "tIA_xKr0DIFt",
        "colab_type": "code",
        "colab": {
          "base_uri": "https://localhost:8080/",
          "height": 302
        },
        "outputId": "0cf32f25-ab33-4c4d-b93c-431f74e623ad"
      },
      "source": [
        "fi = learn.feature_importance()"
      ],
      "execution_count": 12,
      "outputs": [
        {
          "output_type": "stream",
          "text": [
            "Calculating Permutation Importance\n"
          ],
          "name": "stdout"
        },
        {
          "output_type": "display_data",
          "data": {
            "text/html": [
              "\n",
              "    <div>\n",
              "        <style>\n",
              "            /* Turns off some styling */\n",
              "            progress {\n",
              "                /* gets rid of default border in Firefox and Opera. */\n",
              "                border: none;\n",
              "                /* Needs to be in here for Safari polyfill so background images work as expected. */\n",
              "                background-size: auto;\n",
              "            }\n",
              "            .progress-bar-interrupted, .progress-bar-interrupted::-webkit-progress-bar {\n",
              "                background: #F44336;\n",
              "            }\n",
              "        </style>\n",
              "      <progress value='9' class='' max='9' style='width:300px; height:20px; vertical-align: middle;'></progress>\n",
              "      100.00% [9/9 00:05<00:00]\n",
              "    </div>\n",
              "    "
            ],
            "text/plain": [
              "<IPython.core.display.HTML object>"
            ]
          },
          "metadata": {
            "tags": []
          }
        },
        {
          "output_type": "display_data",
          "data": {
            "image/png": "[encoded data removed]",
            "text/plain": [
              "<Figure size 432x288 with 1 Axes>"
            ]
          },
          "metadata": {
            "tags": [],
            "needs_background": "light"
          }
        }
      ]
    },
    {
      "cell_type": "code",
      "metadata": {
        "id": "vtZlcjIcDiEN",
        "colab_type": "code",
        "colab": {
          "base_uri": "https://localhost:8080/",
          "height": 168
        },
        "outputId": "59cd3fbb-8df1-496a-a797-94ebc225dc91"
      },
      "source": [
        "fi"
      ],
      "execution_count": 13,
      "outputs": [
        {
          "output_type": "execute_result",
          "data": {
            "text/plain": [
              "OrderedDict([('marital-status', 1.2578713225525318),\n",
              "             ('education', 1.2194756852675324),\n",
              "             ('occupation', 1.2158327107618543),\n",
              "             ('age', 1.2140193734070588),\n",
              "             ('education-num', 1.2090604934679),\n",
              "             ('workclass', 1.2054794756774279),\n",
              "             ('fnlwgt', 1.1994842362832698),\n",
              "             ('relationship', 1.1990424935989235),\n",
              "             ('race', 1.1955204865193385)])"
            ]
          },
          "metadata": {
            "tags": []
          },
          "execution_count": 13
        }
      ]
    },
    {
      "cell_type": "markdown",
      "metadata": {
        "id": "BLQU09dqDYeK",
        "colab_type": "text"
      },
      "source": [
        "If nothing is passed in, it will only work on the validation set:"
      ]
    },
    {
      "cell_type": "code",
      "metadata": {
        "id": "pFP33O7iDX5u",
        "colab_type": "code",
        "colab": {
          "base_uri": "https://localhost:8080/",
          "height": 302
        },
        "outputId": "e8f3cf3e-97de-4f31-d6e1-60fbc8132f76"
      },
      "source": [
        "fi = learn.feature_importance(metric=CrossEntropyLossFlat())"
      ],
      "execution_count": 14,
      "outputs": [
        {
          "output_type": "stream",
          "text": [
            "Calculating Permutation Importance\n"
          ],
          "name": "stdout"
        },
        {
          "output_type": "display_data",
          "data": {
            "text/html": [
              "\n",
              "    <div>\n",
              "        <style>\n",
              "            /* Turns off some styling */\n",
              "            progress {\n",
              "                /* gets rid of default border in Firefox and Opera. */\n",
              "                border: none;\n",
              "                /* Needs to be in here for Safari polyfill so background images work as expected. */\n",
              "                background-size: auto;\n",
              "            }\n",
              "            .progress-bar-interrupted, .progress-bar-interrupted::-webkit-progress-bar {\n",
              "                background: #F44336;\n",
              "            }\n",
              "        </style>\n",
              "      <progress value='9' class='' max='9' style='width:300px; height:20px; vertical-align: middle;'></progress>\n",
              "      100.00% [9/9 00:05<00:00]\n",
              "    </div>\n",
              "    "
            ],
            "text/plain": [
              "<IPython.core.display.HTML object>"
            ]
          },
          "metadata": {
            "tags": []
          }
        },
        {
          "output_type": "display_data",
          "data": {
            "image/png": "[encoded data removed]",
            "text/plain": [
              "<Figure size 432x288 with 1 Axes>"
            ]
          },
          "metadata": {
            "tags": [],
            "needs_background": "light"
          }
        }
      ]
    },
    {
      "cell_type": "code",
      "metadata": {
        "id": "cvmhfUynDddZ",
        "colab_type": "code",
        "colab": {
          "base_uri": "https://localhost:8080/",
          "height": 168
        },
        "outputId": "37f349a9-50da-4048-fbff-091510332d9a"
      },
      "source": [
        "fi"
      ],
      "execution_count": 15,
      "outputs": [
        {
          "output_type": "execute_result",
          "data": {
            "text/plain": [
              "OrderedDict([('fnlwgt', 2.8423698591031497),\n",
              "             ('race', 2.8411482107872152),\n",
              "             ('workclass', 2.7559236935834064),\n",
              "             ('education-num', 2.697999747683906),\n",
              "             ('relationship', 2.6960493751374965),\n",
              "             ('education', 2.6759744783236816),\n",
              "             ('occupation', 2.660025329926414),\n",
              "             ('age', 2.54867899780797),\n",
              "             ('marital-status', 2.2933272240695515)])"
            ]
          },
          "metadata": {
            "tags": []
          },
          "execution_count": 15
        }
      ]
    },
    {
      "cell_type": "markdown",
      "metadata": {
        "id": "noVHMgO2DnsZ",
        "colab_type": "text"
      },
      "source": [
        "So we can see based on what we want on our *metric* to be, our attention changes"
      ]
    },
    {
      "cell_type": "code",
      "metadata": {
        "id": "pcvmgLIeDjr8",
        "colab_type": "code",
        "colab": {}
      },
      "source": [
        "test_dl = learn.dls.test_dl(df.iloc[:100])"
      ],
      "execution_count": 16,
      "outputs": []
    },
    {
      "cell_type": "code",
      "metadata": {
        "id": "OGNBtBJvDugq",
        "colab_type": "code",
        "colab": {
          "base_uri": "https://localhost:8080/",
          "height": 302
        },
        "outputId": "1dc6d167-1843-4b49-9cfc-ee8b7e34ea23"
      },
      "source": [
        "fi = learn.feature_importance(metric=RocAuc(), dl=test_dl)"
      ],
      "execution_count": 20,
      "outputs": [
        {
          "output_type": "stream",
          "text": [
            "Calculating Permutation Importance\n"
          ],
          "name": "stdout"
        },
        {
          "output_type": "display_data",
          "data": {
            "text/html": [
              "\n",
              "    <div>\n",
              "        <style>\n",
              "            /* Turns off some styling */\n",
              "            progress {\n",
              "                /* gets rid of default border in Firefox and Opera. */\n",
              "                border: none;\n",
              "                /* Needs to be in here for Safari polyfill so background images work as expected. */\n",
              "                background-size: auto;\n",
              "            }\n",
              "            .progress-bar-interrupted, .progress-bar-interrupted::-webkit-progress-bar {\n",
              "                background: #F44336;\n",
              "            }\n",
              "        </style>\n",
              "      <progress value='9' class='' max='9' style='width:300px; height:20px; vertical-align: middle;'></progress>\n",
              "      100.00% [9/9 00:04<00:00]\n",
              "    </div>\n",
              "    "
            ],
            "text/plain": [
              "<IPython.core.display.HTML object>"
            ]
          },
          "metadata": {
            "tags": []
          }
        },
        {
          "output_type": "display_data",
          "data": {
            "image/png": "[encoded data removed]",
            "text/plain": [
              "<Figure size 432x288 with 1 Axes>"
            ]
          },
          "metadata": {
            "tags": [],
            "needs_background": "light"
          }
        }
      ]
    },
    {
      "cell_type": "code",
      "metadata": {
        "id": "NA5sVBwJD9kn",
        "colab_type": "code",
        "colab": {
          "base_uri": "https://localhost:8080/",
          "height": 302
        },
        "outputId": "605c44aa-db3b-47a3-d74f-ad174415f5c9"
      },
      "source": [
        "fi = learn.feature_importance(metric=RocAuc())"
      ],
      "execution_count": 25,
      "outputs": [
        {
          "output_type": "stream",
          "text": [
            "Calculating Permutation Importance\n"
          ],
          "name": "stdout"
        },
        {
          "output_type": "display_data",
          "data": {
            "text/html": [
              "\n",
              "    <div>\n",
              "        <style>\n",
              "            /* Turns off some styling */\n",
              "            progress {\n",
              "                /* gets rid of default border in Firefox and Opera. */\n",
              "                border: none;\n",
              "                /* Needs to be in here for Safari polyfill so background images work as expected. */\n",
              "                background-size: auto;\n",
              "            }\n",
              "            .progress-bar-interrupted, .progress-bar-interrupted::-webkit-progress-bar {\n",
              "                background: #F44336;\n",
              "            }\n",
              "        </style>\n",
              "      <progress value='9' class='' max='9' style='width:300px; height:20px; vertical-align: middle;'></progress>\n",
              "      100.00% [9/9 00:05<00:00]\n",
              "    </div>\n",
              "    "
            ],
            "text/plain": [
              "<IPython.core.display.HTML object>"
            ]
          },
          "metadata": {
            "tags": []
          }
        },
        {
          "output_type": "display_data",
          "data": {
            "image/png": "[encoded data removed]",
            "text/plain": [
              "<Figure size 432x288 with 1 Axes>"
            ]
          },
          "metadata": {
            "tags": [],
            "needs_background": "light"
          }
        }
      ]
    },
    {
      "cell_type": "code",
      "metadata": {
        "id": "8CA7QsL7Dw8b",
        "colab_type": "code",
        "colab": {
          "base_uri": "https://localhost:8080/",
          "height": 168
        },
        "outputId": "c3684ba1-54b8-4e83-db08-299ec33c2eff"
      },
      "source": [
        "fi"
      ],
      "execution_count": 26,
      "outputs": [
        {
          "output_type": "execute_result",
          "data": {
            "text/plain": [
              "OrderedDict([('marital-status', 1.525008927317592),\n",
              "             ('occupation', 1.4453061514727585),\n",
              "             ('age', 1.4323259691930847),\n",
              "             ('education', 1.4260336603217458),\n",
              "             ('education-num', 1.4192831918912956),\n",
              "             ('relationship', 1.404225841763872),\n",
              "             ('workclass', 1.3962565241924108),\n",
              "             ('fnlwgt', 1.3844008788237283),\n",
              "             ('race', 1.3795449398073136)])"
            ]
          },
          "metadata": {
            "tags": []
          },
          "execution_count": 26
        }
      ]
    },
    {
      "cell_type": "markdown",
      "metadata": {
        "id": "Y2GvBAyFERTm",
        "colab_type": "text"
      },
      "source": [
        "## Dendrogram Plots and Correlation:"
      ]
    },
    {
      "cell_type": "markdown",
      "metadata": {
        "id": "vH1U_JCbEqt2",
        "colab_type": "text"
      },
      "source": [
        "We can calculate how similar two variables are to each other by calculating what is known as the \"correlation matrix\""
      ]
    },
    {
      "cell_type": "code",
      "metadata": {
        "id": "qLB-yOI3EwJ7",
        "colab_type": "code",
        "colab": {
          "base_uri": "https://localhost:8080/",
          "height": 143
        },
        "outputId": "0c9ab825-cba4-4227-f39e-7044819b6245"
      },
      "source": [
        "doc(learn.get_top_corr_dict)"
      ],
      "execution_count": 31,
      "outputs": [
        {
          "output_type": "display_data",
          "data": {
            "text/html": [
              "<h4 id=\"TabularLearner.get_top_corr_dict\" class=\"doc_header\"><code>TabularLearner.get_top_corr_dict</code><a href=\"https://github.com/muellerzr/fastinference/tree/master/fastinference/tabular/interpretation.py#L124\" class=\"source_link\" style=\"float:right\">[source]</a></h4><blockquote><p><code>TabularLearner.get_top_corr_dict</code>(<strong><code>x</code></strong>:<code>TabularLearner</code>, <strong><code>df</code></strong>:<code>DataFrame</code>, <strong><code>thresh</code></strong>:<code>float</code>=<em><code>0.8</code></em>)</p>\n",
              "</blockquote>\n",
              "<p>Grabs top pairs of correlation with a given correlation matrix on <code>df</code> filtered by <code>thresh</code></p>\n",
              "<p><a href=\"https://muellerzr.github.io/fastinference/tabular.interpretation#TabularLearner.get_top_corr_dict\" target=\"_blank\" rel=\"noreferrer noopener\">Show in docs</a></p>\n"
            ],
            "text/plain": [
              "<IPython.core.display.HTML object>"
            ]
          },
          "metadata": {
            "tags": []
          }
        }
      ]
    },
    {
      "cell_type": "code",
      "metadata": {
        "id": "ZDmPbQInEkyF",
        "colab_type": "code",
        "colab": {
          "base_uri": "https://localhost:8080/",
          "height": 154
        },
        "outputId": "3775671b-7733-4bd4-8c97-228cb35140a4"
      },
      "source": [
        "corr_dict = learn.get_top_corr_dict(df, thresh=0.3); corr_dict"
      ],
      "execution_count": 30,
      "outputs": [
        {
          "output_type": "display_data",
          "data": {
            "text/html": [
              "\n",
              "    <div>\n",
              "        <style>\n",
              "            /* Turns off some styling */\n",
              "            progress {\n",
              "                /* gets rid of default border in Firefox and Opera. */\n",
              "                border: none;\n",
              "                /* Needs to be in here for Safari polyfill so background images work as expected. */\n",
              "                background-size: auto;\n",
              "            }\n",
              "            .progress-bar-interrupted, .progress-bar-interrupted::-webkit-progress-bar {\n",
              "                background: #F44336;\n",
              "            }\n",
              "        </style>\n",
              "      <progress value='45' class='' max='45' style='width:300px; height:20px; vertical-align: middle;'></progress>\n",
              "      100.00% [45/45 00:33<00:00]\n",
              "    </div>\n",
              "    "
            ],
            "text/plain": [
              "<IPython.core.display.HTML object>"
            ]
          },
          "metadata": {
            "tags": []
          }
        },
        {
          "output_type": "execute_result",
          "data": {
            "text/plain": [
              "OrderedDict([('workclass vs sex', 0.991),\n",
              "             ('marital-status vs race', 0.506),\n",
              "             ('education vs occupation', 0.493),\n",
              "             ('fnlwgt vs education-num', 0.488),\n",
              "             ('age vs education', 0.397),\n",
              "             ('relationship vs race', 0.363),\n",
              "             ('education-num vs race', 0.305)])"
            ]
          },
          "metadata": {
            "tags": []
          },
          "execution_count": 30
        }
      ]
    },
    {
      "cell_type": "markdown",
      "metadata": {
        "id": "bqicUkT0E3gA",
        "colab_type": "text"
      },
      "source": [
        "While this gives us a window, we can also plot the entire dendrogram and see the family:"
      ]
    },
    {
      "cell_type": "code",
      "metadata": {
        "id": "EWWoTNFnFJ1U",
        "colab_type": "code",
        "colab": {
          "base_uri": "https://localhost:8080/",
          "height": 143
        },
        "outputId": "19f5304e-b3ad-4f40-f177-565d547d80a0"
      },
      "source": [
        "doc(learn.plot_dendrogram)"
      ],
      "execution_count": 33,
      "outputs": [
        {
          "output_type": "display_data",
          "data": {
            "text/html": [
              "<h4 id=\"TabularLearner.plot_dendrogram\" class=\"doc_header\"><code>TabularLearner.plot_dendrogram</code><a href=\"https://github.com/muellerzr/fastinference/tree/master/fastinference/tabular/interpretation.py#L133\" class=\"source_link\" style=\"float:right\">[source]</a></h4><blockquote><p><code>TabularLearner.plot_dendrogram</code>(<strong><code>x</code></strong>:<code>TabularLearner</code>, <strong><code>df</code></strong>:<code>DataFrame</code>, <strong><code>figsize</code></strong>=<em><code>None</code></em>, <strong><code>leaf_font_size</code></strong>=<em><code>16</code></em>)</p>\n",
              "</blockquote>\n",
              "<p>Plots dendrogram for a calculated correlation matrix</p>\n",
              "<p><a href=\"https://muellerzr.github.io/fastinference/tabular.interpretation#TabularLearner.plot_dendrogram\" target=\"_blank\" rel=\"noreferrer noopener\">Show in docs</a></p>\n"
            ],
            "text/plain": [
              "<IPython.core.display.HTML object>"
            ]
          },
          "metadata": {
            "tags": []
          }
        }
      ]
    },
    {
      "cell_type": "code",
      "metadata": {
        "id": "6csS9hzkDy3Y",
        "colab_type": "code",
        "colab": {
          "base_uri": "https://localhost:8080/",
          "height": 242
        },
        "outputId": "3de613d7-05ab-4ff2-d5c2-b1d85eb2d6eb"
      },
      "source": [
        "learn.plot_dendrogram(df)"
      ],
      "execution_count": 32,
      "outputs": [
        {
          "output_type": "display_data",
          "data": {
            "text/html": [
              "\n",
              "    <div>\n",
              "        <style>\n",
              "            /* Turns off some styling */\n",
              "            progress {\n",
              "                /* gets rid of default border in Firefox and Opera. */\n",
              "                border: none;\n",
              "                /* Needs to be in here for Safari polyfill so background images work as expected. */\n",
              "                background-size: auto;\n",
              "            }\n",
              "            .progress-bar-interrupted, .progress-bar-interrupted::-webkit-progress-bar {\n",
              "                background: #F44336;\n",
              "            }\n",
              "        </style>\n",
              "      <progress value='45' class='' max='45' style='width:300px; height:20px; vertical-align: middle;'></progress>\n",
              "      100.00% [45/45 00:33<00:00]\n",
              "    </div>\n",
              "    "
            ],
            "text/plain": [
              "<IPython.core.display.HTML object>"
            ]
          },
          "metadata": {
            "tags": []
          }
        },
        {
          "output_type": "display_data",
          "data": {
            "image/png": "[encoded data removed]",
            "text/plain": [
              "<Figure size 1080x230.4 with 1 Axes>"
            ]
          },
          "metadata": {
            "tags": [],
            "needs_background": "light"
          }
        }
      ]
    },
    {
      "cell_type": "markdown",
      "metadata": {
        "id": "JsNjFzCfFNBs",
        "colab_type": "text"
      },
      "source": [
        "## Waterfall Plots\n",
        "\n",
        "Finally we can generate waterfall plots as well:"
      ]
    },
    {
      "cell_type": "code",
      "metadata": {
        "id": "gjgbxb8MFZpT",
        "colab_type": "code",
        "colab": {}
      },
      "source": [
        "from fastinference.tabular.waterfall import *"
      ],
      "execution_count": 34,
      "outputs": []
    },
    {
      "cell_type": "code",
      "metadata": {
        "id": "ZsCWhKvTFWqV",
        "colab_type": "code",
        "colab": {
          "base_uri": "https://localhost:8080/",
          "height": 129
        },
        "outputId": "cf0e8a41-4ae5-4033-9830-2143ff632380"
      },
      "source": [
        "doc(InterpretWaterfall)"
      ],
      "execution_count": 35,
      "outputs": [
        {
          "output_type": "display_data",
          "data": {
            "text/html": [
              "<h2 id=\"InterpretWaterfall\" class=\"doc_header\"><code>class</code> <code>InterpretWaterfall</code><a href=\"https://github.com/muellerzr/fastinference/tree/master/fastinference/tabular/waterfall.py#L16\" class=\"source_link\" style=\"float:right\">[source]</a></h2><blockquote><p><code>InterpretWaterfall</code>(<strong><code>learn</code></strong>, <strong><code>df</code></strong>, <strong><code>fields</code></strong>, <strong><code>sampl_row</code></strong>, <strong><code>max_row_used</code></strong>=<em><code>None</code></em>, <strong><code>use_log</code></strong>=<em><code>False</code></em>, <strong><code>use_int</code></strong>=<em><code>False</code></em>, <strong><code>num_tests</code></strong>=<em><code>1</code></em>) :: <code>Interpret</code></p>\n",
              "</blockquote>\n",
              "<p><a href=\"https://muellerzr.github.io/fastinference/tabular.waterfall#InterpretWaterfall\" target=\"_blank\" rel=\"noreferrer noopener\">Show in docs</a></p>\n"
            ],
            "text/plain": [
              "<IPython.core.display.HTML object>"
            ]
          },
          "metadata": {
            "tags": []
          }
        }
      ]
    },
    {
      "cell_type": "code",
      "metadata": {
        "id": "buvzfFliFfug",
        "colab_type": "code",
        "colab": {
          "base_uri": "https://localhost:8080/",
          "height": 151
        },
        "outputId": "0f47ad4a-3e79-4add-dcf9-12733cfed1e4"
      },
      "source": [
        "cat_names, cont_names"
      ],
      "execution_count": 36,
      "outputs": [
        {
          "output_type": "execute_result",
          "data": {
            "text/plain": [
              "(['workclass',\n",
              "  'education',\n",
              "  'marital-status',\n",
              "  'occupation',\n",
              "  'relationship',\n",
              "  'race',\n",
              "  'education-num_na'],\n",
              " ['age', 'fnlwgt', 'education-num'])"
            ]
          },
          "metadata": {
            "tags": []
          },
          "execution_count": 36
        }
      ]
    },
    {
      "cell_type": "code",
      "metadata": {
        "id": "zE1IiRk-FeRC",
        "colab_type": "code",
        "colab": {}
      },
      "source": [
        "fields = cat_names[:-1] + cont_names"
      ],
      "execution_count": 37,
      "outputs": []
    },
    {
      "cell_type": "code",
      "metadata": {
        "id": "YrW_gVP6FlNE",
        "colab_type": "code",
        "colab": {
          "base_uri": "https://localhost:8080/",
          "height": 77
        },
        "outputId": "a05f120c-d90a-4bb8-afd6-d2a3b86df92c"
      },
      "source": [
        "df.iloc[5:6]"
      ],
      "execution_count": 40,
      "outputs": [
        {
          "output_type": "execute_result",
          "data": {
            "text/html": [
              "<div>\n",
              "<style scoped>\n",
              "    .dataframe tbody tr th:only-of-type {\n",
              "        vertical-align: middle;\n",
              "    }\n",
              "\n",
              "    .dataframe tbody tr th {\n",
              "        vertical-align: top;\n",
              "    }\n",
              "\n",
              "    .dataframe thead th {\n",
              "        text-align: right;\n",
              "    }\n",
              "</style>\n",
              "<table border=\"1\" class=\"dataframe\">\n",
              "  <thead>\n",
              "    <tr style=\"text-align: right;\">\n",
              "      <th></th>\n",
              "      <th>age</th>\n",
              "      <th>workclass</th>\n",
              "      <th>fnlwgt</th>\n",
              "      <th>education</th>\n",
              "      <th>education-num</th>\n",
              "      <th>marital-status</th>\n",
              "      <th>occupation</th>\n",
              "      <th>relationship</th>\n",
              "      <th>race</th>\n",
              "      <th>sex</th>\n",
              "      <th>capital-gain</th>\n",
              "      <th>capital-loss</th>\n",
              "      <th>hours-per-week</th>\n",
              "      <th>native-country</th>\n",
              "      <th>salary</th>\n",
              "    </tr>\n",
              "  </thead>\n",
              "  <tbody>\n",
              "    <tr>\n",
              "      <th>5</th>\n",
              "      <td>20</td>\n",
              "      <td>Private</td>\n",
              "      <td>63210</td>\n",
              "      <td>HS-grad</td>\n",
              "      <td>9.0</td>\n",
              "      <td>Never-married</td>\n",
              "      <td>Handlers-cleaners</td>\n",
              "      <td>Own-child</td>\n",
              "      <td>White</td>\n",
              "      <td>Male</td>\n",
              "      <td>0</td>\n",
              "      <td>0</td>\n",
              "      <td>15</td>\n",
              "      <td>United-States</td>\n",
              "      <td>&lt;50k</td>\n",
              "    </tr>\n",
              "  </tbody>\n",
              "</table>\n",
              "</div>"
            ],
            "text/plain": [
              "   age workclass  fnlwgt  ... hours-per-week  native-country salary\n",
              "5   20   Private   63210  ...             15   United-States   <50k\n",
              "\n",
              "[1 rows x 15 columns]"
            ]
          },
          "metadata": {
            "tags": []
          },
          "execution_count": 40
        }
      ]
    },
    {
      "cell_type": "code",
      "metadata": {
        "id": "_wlePLn-Ed4w",
        "colab_type": "code",
        "colab": {}
      },
      "source": [
        "wf = InterpretWaterfall(learn=learn, df=df, fields=fields, \n",
        "                        sampl_row=df.iloc[6], max_row_used=0.1)"
      ],
      "execution_count": 41,
      "outputs": []
    },
    {
      "cell_type": "code",
      "metadata": {
        "id": "E8DGK0eQFqyB",
        "colab_type": "code",
        "colab": {
          "base_uri": "https://localhost:8080/",
          "height": 168
        },
        "outputId": "954af17b-4ac4-4bbd-f753-28ff4cf9e87b"
      },
      "source": [
        "wf.get_forces()"
      ],
      "execution_count": 42,
      "outputs": [
        {
          "output_type": "execute_result",
          "data": {
            "text/plain": [
              "OrderedDict([('marital-status ( Divorced)', 0.10256808996200562),\n",
              "             ('age (49)', -0.0391007661819458),\n",
              "             ('relationship ( Other-relative)', 0.034265220165252686),\n",
              "             ('occupation (nan)', -0.007673799991607666),\n",
              "             ('education ( Some-college)', 0.007212460041046143),\n",
              "             ('fnlwgt (44434)', -0.005041182041168213),\n",
              "             ('education-num (10.0)', 0.003907203674316406),\n",
              "             ('workclass ( Private)', 0.003746211528778076),\n",
              "             ('race ( White)', -0.003280460834503174)])"
            ]
          },
          "metadata": {
            "tags": []
          },
          "execution_count": 42
        }
      ]
    },
    {
      "cell_type": "code",
      "metadata": {
        "id": "nu4axFbnFum9",
        "colab_type": "code",
        "colab": {
          "base_uri": "https://localhost:8080/",
          "height": 617
        },
        "outputId": "9658624d-3f1b-4e73-c5a8-369e1cb374ad"
      },
      "source": [
        "wf.plot_forces()"
      ],
      "execution_count": 43,
      "outputs": [
        {
          "output_type": "display_data",
          "data": {
            "text/html": [
              "<html>\n",
              "<head><meta charset=\"utf-8\" /></head>\n",
              "<body>\n",
              "    <div>\n",
              "            <script src=\"https://cdnjs.cloudflare.com/ajax/libs/mathjax/2.7.5/MathJax.js?config=TeX-AMS-MML_SVG\"></script><script type=\"text/javascript\">if (window.MathJax) {MathJax.Hub.Config({SVG: {font: \"STIX-Web\"}});}</script>\n",
              "                <script type=\"text/javascript\">window.PlotlyConfig = {MathJaxConfig: 'local'};</script>\n",
              "        <script src=\"https://cdn.plot.ly/plotly-latest.min.js\"></script>    \n",
              "            <div id=\"2bef07f6-f9f3-42c4-be47-e88acad49e90\" class=\"plotly-graph-div\" style=\"height:600px; width:100%;\"></div>\n",
              "            <script type=\"text/javascript\">\n",
              "                \n",
              "                    window.PLOTLYENV=window.PLOTLYENV || {};\n",
              "                    \n",
              "                if (document.getElementById(\"2bef07f6-f9f3-42c4-be47-e88acad49e90\")) {\n",
              "                    Plotly.newPlot(\n",
              "                        '2bef07f6-f9f3-42c4-be47-e88acad49e90',\n",
              "                        [{\"connector\": {\"line\": {\"color\": \"rgb(63, 63, 63)\"}}, \"measure\": [\"relative\", \"relative\", \"relative\", \"relative\", \"relative\", \"relative\", \"relative\", \"relative\", \"relative\", \"relative\", \"relative\"], \"name\": \"20\", \"orientation\": \"h\", \"text\": [\"0.759070634841919 (+0.00%)\", \"0.8369270600039016 (+10.26%)\", \"0.8042025707193458 (-3.91%)\", \"0.8317587488625063 (+3.43%)\", \"0.8253759985824657 (-0.77%)\", \"0.8313289899910803 (+0.72%)\", \"0.8271381092164347 (-0.50%)\", \"0.8303699062759323 (+0.39%)\", \"0.8334806475919736 (+0.37%)\", \"0.8307464469712318 (-0.33%)\", \"0.9032912850379944 (+8.73%)\"], \"textposition\": \"outside\", \"type\": \"waterfall\", \"x\": [0.759070634841919, 0.07785642516198266, -0.03272448928455585, 0.02755617814316058, -0.00638275028004065, 0.005952991408614605, -0.004190880774645578, 0.0032317970594976098, 0.0031107413160412767, -0.0027342006207418112, 0.0725448380667626], \"y\": [\"model_mean\", \"marital-status ( Divorced)\", \"age (49)\", \"relationship ( Other-relative)\", \"occupation (nan)\", \"education ( Some-college)\", \"fnlwgt (44434)\", \"education-num (10.0)\", \"workclass ( Private)\", \"race ( White)\", \"others and interconnections\"]}],\n",
              "                        {\"height\": 600, \"showlegend\": false, \"template\": {\"data\": {\"bar\": [{\"error_x\": {\"color\": \"#2a3f5f\"}, \"error_y\": {\"color\": \"#2a3f5f\"}, \"marker\": {\"line\": {\"color\": \"#E5ECF6\", \"width\": 0.5}}, \"type\": \"bar\"}], \"barpolar\": [{\"marker\": {\"line\": {\"color\": \"#E5ECF6\", \"width\": 0.5}}, \"type\": \"barpolar\"}], \"carpet\": [{\"aaxis\": {\"endlinecolor\": \"#2a3f5f\", \"gridcolor\": \"white\", \"linecolor\": \"white\", \"minorgridcolor\": \"white\", \"startlinecolor\": \"#2a3f5f\"}, \"baxis\": {\"endlinecolor\": \"#2a3f5f\", \"gridcolor\": \"white\", \"linecolor\": \"white\", \"minorgridcolor\": \"white\", \"startlinecolor\": \"#2a3f5f\"}, \"type\": \"carpet\"}], \"choropleth\": [{\"colorbar\": {\"outlinewidth\": 0, \"ticks\": \"\"}, \"type\": \"choropleth\"}], \"contour\": [{\"colorbar\": {\"outlinewidth\": 0, \"ticks\": \"\"}, \"colorscale\": [[0.0, \"#0d0887\"], [0.1111111111111111, \"#46039f\"], [0.2222222222222222, \"#7201a8\"], [0.3333333333333333, \"#9c179e\"], [0.4444444444444444, \"#bd3786\"], [0.5555555555555556, \"#d8576b\"], [0.6666666666666666, \"#ed7953\"], [0.7777777777777778, \"#fb9f3a\"], [0.8888888888888888, \"#fdca26\"], [1.0, \"#f0f921\"]], \"type\": \"contour\"}], \"contourcarpet\": [{\"colorbar\": {\"outlinewidth\": 0, \"ticks\": \"\"}, \"type\": \"contourcarpet\"}], \"heatmap\": [{\"colorbar\": {\"outlinewidth\": 0, \"ticks\": \"\"}, \"colorscale\": [[0.0, \"#0d0887\"], [0.1111111111111111, \"#46039f\"], [0.2222222222222222, \"#7201a8\"], [0.3333333333333333, \"#9c179e\"], [0.4444444444444444, \"#bd3786\"], [0.5555555555555556, \"#d8576b\"], [0.6666666666666666, \"#ed7953\"], [0.7777777777777778, \"#fb9f3a\"], [0.8888888888888888, \"#fdca26\"], [1.0, \"#f0f921\"]], \"type\": \"heatmap\"}], \"heatmapgl\": [{\"colorbar\": {\"outlinewidth\": 0, \"ticks\": \"\"}, \"colorscale\": [[0.0, \"#0d0887\"], [0.1111111111111111, \"#46039f\"], [0.2222222222222222, \"#7201a8\"], [0.3333333333333333, \"#9c179e\"], [0.4444444444444444, \"#bd3786\"], [0.5555555555555556, \"#d8576b\"], [0.6666666666666666, \"#ed7953\"], [0.7777777777777778, \"#fb9f3a\"], [0.8888888888888888, \"#fdca26\"], [1.0, \"#f0f921\"]], \"type\": \"heatmapgl\"}], \"histogram\": [{\"marker\": {\"colorbar\": {\"outlinewidth\": 0, \"ticks\": \"\"}}, \"type\": \"histogram\"}], \"histogram2d\": [{\"colorbar\": {\"outlinewidth\": 0, \"ticks\": \"\"}, \"colorscale\": [[0.0, \"#0d0887\"], [0.1111111111111111, \"#46039f\"], [0.2222222222222222, \"#7201a8\"], [0.3333333333333333, \"#9c179e\"], [0.4444444444444444, \"#bd3786\"], [0.5555555555555556, \"#d8576b\"], [0.6666666666666666, \"#ed7953\"], [0.7777777777777778, \"#fb9f3a\"], [0.8888888888888888, \"#fdca26\"], [1.0, \"#f0f921\"]], \"type\": \"histogram2d\"}], \"histogram2dcontour\": [{\"colorbar\": {\"outlinewidth\": 0, \"ticks\": \"\"}, \"colorscale\": [[0.0, \"#0d0887\"], [0.1111111111111111, \"#46039f\"], [0.2222222222222222, \"#7201a8\"], [0.3333333333333333, \"#9c179e\"], [0.4444444444444444, \"#bd3786\"], [0.5555555555555556, \"#d8576b\"], [0.6666666666666666, \"#ed7953\"], [0.7777777777777778, \"#fb9f3a\"], [0.8888888888888888, \"#fdca26\"], [1.0, \"#f0f921\"]], \"type\": \"histogram2dcontour\"}], \"mesh3d\": [{\"colorbar\": {\"outlinewidth\": 0, \"ticks\": \"\"}, \"type\": \"mesh3d\"}], \"parcoords\": [{\"line\": {\"colorbar\": {\"outlinewidth\": 0, \"ticks\": \"\"}}, \"type\": \"parcoords\"}], \"pie\": [{\"automargin\": true, \"type\": \"pie\"}], \"scatter\": [{\"marker\": {\"colorbar\": {\"outlinewidth\": 0, \"ticks\": \"\"}}, \"type\": \"scatter\"}], \"scatter3d\": [{\"line\": {\"colorbar\": {\"outlinewidth\": 0, \"ticks\": \"\"}}, \"marker\": {\"colorbar\": {\"outlinewidth\": 0, \"ticks\": \"\"}}, \"type\": \"scatter3d\"}], \"scattercarpet\": [{\"marker\": {\"colorbar\": {\"outlinewidth\": 0, \"ticks\": \"\"}}, \"type\": \"scattercarpet\"}], \"scattergeo\": [{\"marker\": {\"colorbar\": {\"outlinewidth\": 0, \"ticks\": \"\"}}, \"type\": \"scattergeo\"}], \"scattergl\": [{\"marker\": {\"colorbar\": {\"outlinewidth\": 0, \"ticks\": \"\"}}, \"type\": \"scattergl\"}], \"scattermapbox\": [{\"marker\": {\"colorbar\": {\"outlinewidth\": 0, \"ticks\": \"\"}}, \"type\": \"scattermapbox\"}], \"scatterpolar\": [{\"marker\": {\"colorbar\": {\"outlinewidth\": 0, \"ticks\": \"\"}}, \"type\": \"scatterpolar\"}], \"scatterpolargl\": [{\"marker\": {\"colorbar\": {\"outlinewidth\": 0, \"ticks\": \"\"}}, \"type\": \"scatterpolargl\"}], \"scatterternary\": [{\"marker\": {\"colorbar\": {\"outlinewidth\": 0, \"ticks\": \"\"}}, \"type\": \"scatterternary\"}], \"surface\": [{\"colorbar\": {\"outlinewidth\": 0, \"ticks\": \"\"}, \"colorscale\": [[0.0, \"#0d0887\"], [0.1111111111111111, \"#46039f\"], [0.2222222222222222, \"#7201a8\"], [0.3333333333333333, \"#9c179e\"], [0.4444444444444444, \"#bd3786\"], [0.5555555555555556, \"#d8576b\"], [0.6666666666666666, \"#ed7953\"], [0.7777777777777778, \"#fb9f3a\"], [0.8888888888888888, \"#fdca26\"], [1.0, \"#f0f921\"]], \"type\": \"surface\"}], \"table\": [{\"cells\": {\"fill\": {\"color\": \"#EBF0F8\"}, \"line\": {\"color\": \"white\"}}, \"header\": {\"fill\": {\"color\": \"#C8D4E3\"}, \"line\": {\"color\": \"white\"}}, \"type\": \"table\"}]}, \"layout\": {\"annotationdefaults\": {\"arrowcolor\": \"#2a3f5f\", \"arrowhead\": 0, \"arrowwidth\": 1}, \"coloraxis\": {\"colorbar\": {\"outlinewidth\": 0, \"ticks\": \"\"}}, \"colorscale\": {\"diverging\": [[0, \"#8e0152\"], [0.1, \"#c51b7d\"], [0.2, \"#de77ae\"], [0.3, \"#f1b6da\"], [0.4, \"#fde0ef\"], [0.5, \"#f7f7f7\"], [0.6, \"#e6f5d0\"], [0.7, \"#b8e186\"], [0.8, \"#7fbc41\"], [0.9, \"#4d9221\"], [1, \"#276419\"]], \"sequential\": [[0.0, \"#0d0887\"], [0.1111111111111111, \"#46039f\"], [0.2222222222222222, \"#7201a8\"], [0.3333333333333333, \"#9c179e\"], [0.4444444444444444, \"#bd3786\"], [0.5555555555555556, \"#d8576b\"], [0.6666666666666666, \"#ed7953\"], [0.7777777777777778, \"#fb9f3a\"], [0.8888888888888888, \"#fdca26\"], [1.0, \"#f0f921\"]], \"sequentialminus\": [[0.0, \"#0d0887\"], [0.1111111111111111, \"#46039f\"], [0.2222222222222222, \"#7201a8\"], [0.3333333333333333, \"#9c179e\"], [0.4444444444444444, \"#bd3786\"], [0.5555555555555556, \"#d8576b\"], [0.6666666666666666, \"#ed7953\"], [0.7777777777777778, \"#fb9f3a\"], [0.8888888888888888, \"#fdca26\"], [1.0, \"#f0f921\"]]}, \"colorway\": [\"#636efa\", \"#EF553B\", \"#00cc96\", \"#ab63fa\", \"#FFA15A\", \"#19d3f3\", \"#FF6692\", \"#B6E880\", \"#FF97FF\", \"#FECB52\"], \"font\": {\"color\": \"#2a3f5f\"}, \"geo\": {\"bgcolor\": \"white\", \"lakecolor\": \"white\", \"landcolor\": \"#E5ECF6\", \"showlakes\": true, \"showland\": true, \"subunitcolor\": \"white\"}, \"hoverlabel\": {\"align\": \"left\"}, \"hovermode\": \"closest\", \"mapbox\": {\"style\": \"light\"}, \"paper_bgcolor\": \"white\", \"plot_bgcolor\": \"#E5ECF6\", \"polar\": {\"angularaxis\": {\"gridcolor\": \"white\", \"linecolor\": \"white\", \"ticks\": \"\"}, \"bgcolor\": \"#E5ECF6\", \"radialaxis\": {\"gridcolor\": \"white\", \"linecolor\": \"white\", \"ticks\": \"\"}}, \"scene\": {\"xaxis\": {\"backgroundcolor\": \"#E5ECF6\", \"gridcolor\": \"white\", \"gridwidth\": 2, \"linecolor\": \"white\", \"showbackground\": true, \"ticks\": \"\", \"zerolinecolor\": \"white\"}, \"yaxis\": {\"backgroundcolor\": \"#E5ECF6\", \"gridcolor\": \"white\", \"gridwidth\": 2, \"linecolor\": \"white\", \"showbackground\": true, \"ticks\": \"\", \"zerolinecolor\": \"white\"}, \"zaxis\": {\"backgroundcolor\": \"#E5ECF6\", \"gridcolor\": \"white\", \"gridwidth\": 2, \"linecolor\": \"white\", \"showbackground\": true, \"ticks\": \"\", \"zerolinecolor\": \"white\"}}, \"shapedefaults\": {\"line\": {\"color\": \"#2a3f5f\"}}, \"ternary\": {\"aaxis\": {\"gridcolor\": \"white\", \"linecolor\": \"white\", \"ticks\": \"\"}, \"baxis\": {\"gridcolor\": \"white\", \"linecolor\": \"white\", \"ticks\": \"\"}, \"bgcolor\": \"#E5ECF6\", \"caxis\": {\"gridcolor\": \"white\", \"linecolor\": \"white\", \"ticks\": \"\"}}, \"title\": {\"x\": 0.05}, \"xaxis\": {\"automargin\": true, \"gridcolor\": \"white\", \"linecolor\": \"white\", \"ticks\": \"\", \"title\": {\"standoff\": 15}, \"zerolinecolor\": \"white\", \"zerolinewidth\": 2}, \"yaxis\": {\"automargin\": true, \"gridcolor\": \"white\", \"linecolor\": \"white\", \"ticks\": \"\", \"title\": {\"standoff\": 15}, \"zerolinecolor\": \"white\", \"zerolinewidth\": 2}}}, \"title\": {\"text\": \"Analysis \"}, \"yaxis\": {\"showticklabels\": false}},\n",
              "                        {\"responsive\": true}\n",
              "                    ).then(function(){\n",
              "                            \n",
              "var gd = document.getElementById('2bef07f6-f9f3-42c4-be47-e88acad49e90');\n",
              "var x = new MutationObserver(function (mutations, observer) {{\n",
              "        var display = window.getComputedStyle(gd).display;\n",
              "        if (!display || display === 'none') {{\n",
              "            console.log([gd, 'removed!']);\n",
              "            Plotly.purge(gd);\n",
              "            observer.disconnect();\n",
              "        }}\n",
              "}});\n",
              "\n",
              "// Listen for the removal of the full notebook cells\n",
              "var notebookContainer = gd.closest('#notebook-container');\n",
              "if (notebookContainer) {{\n",
              "    x.observe(notebookContainer, {childList: true});\n",
              "}}\n",
              "\n",
              "// Listen for the clearing of the current output cell\n",
              "var outputEl = gd.closest('.output');\n",
              "if (outputEl) {{\n",
              "    x.observe(outputEl, {childList: true});\n",
              "}}\n",
              "\n",
              "                        })\n",
              "                };\n",
              "                \n",
              "            </script>\n",
              "        </div>\n",
              "</body>\n",
              "</html>"
            ]
          },
          "metadata": {
            "tags": []
          }
        }
      ]
    },
    {
      "cell_type": "markdown",
      "metadata": {
        "id": "7QcYntQiF4JF",
        "colab_type": "text"
      },
      "source": [
        "We'll see how the work class affects this particular row:"
      ]
    },
    {
      "cell_type": "code",
      "metadata": {
        "id": "xqfni49-FxMI",
        "colab_type": "code",
        "colab": {
          "base_uri": "https://localhost:8080/",
          "height": 592
        },
        "outputId": "fbb8031d-465e-4296-ca3f-26b70515e00e"
      },
      "source": [
        "wf.plot_variants(fields=['workclass'])"
      ],
      "execution_count": 45,
      "outputs": [
        {
          "output_type": "display_data",
          "data": {
            "text/html": [
              ""
            ],
            "text/plain": [
              "<IPython.core.display.HTML object>"
            ]
          },
          "metadata": {
            "tags": []
          }
        },
        {
          "output_type": "display_data",
          "data": {
            "image/png": "[encoded data removed]",
            "text/plain": [
              "<Figure size 720x720 with 1 Axes>"
            ]
          },
          "metadata": {
            "tags": [],
            "needs_background": "light"
          }
        }
      ]
    },
    {
      "cell_type": "code",
      "metadata": {
        "id": "vbF9YH0kGFq2",
        "colab_type": "code",
        "colab": {
          "base_uri": "https://localhost:8080/",
          "height": 143
        },
        "outputId": "b8385029-a29e-4446-820b-038b1133c7c2"
      },
      "source": [
        "doc(wf.get_variants_pd)"
      ],
      "execution_count": 47,
      "outputs": [
        {
          "output_type": "display_data",
          "data": {
            "text/html": [
              "<h4 id=\"InterpretWaterfall.get_variants_pd\" class=\"doc_header\"><code>InterpretWaterfall.get_variants_pd</code><a href=\"https://github.com/muellerzr/fastinference/tree/master/fastinference/tabular/waterfall.py#L272\" class=\"source_link\" style=\"float:right\">[source]</a></h4><blockquote><p><code>InterpretWaterfall.get_variants_pd</code>(<strong><code>fields</code></strong>)</p>\n",
              "</blockquote>\n",
              "<p>returns df with all the values of dep_var for every variant of fields\n",
              "helps to determine best value of fields for particular item</p>\n",
              "<p><a href=\"https://muellerzr.github.io/fastinference/tabular.waterfall#InterpretWaterfall.get_variants_pd\" target=\"_blank\" rel=\"noreferrer noopener\">Show in docs</a></p>\n"
            ],
            "text/plain": [
              "<IPython.core.display.HTML object>"
            ]
          },
          "metadata": {
            "tags": []
          }
        }
      ]
    },
    {
      "cell_type": "code",
      "metadata": {
        "id": "KD7WEid5F6Vu",
        "colab_type": "code",
        "colab": {
          "base_uri": "https://localhost:8080/",
          "height": 402
        },
        "outputId": "67046272-a05c-4bc1-bb6a-0c2fd1218a4c"
      },
      "source": [
        "wf.get_variants_pd(fields=['age'])"
      ],
      "execution_count": 46,
      "outputs": [
        {
          "output_type": "display_data",
          "data": {
            "text/html": [
              ""
            ],
            "text/plain": [
              "<IPython.core.display.HTML object>"
            ]
          },
          "metadata": {
            "tags": []
          }
        },
        {
          "output_type": "execute_result",
          "data": {
            "text/html": [
              "<div>\n",
              "<style scoped>\n",
              "    .dataframe tbody tr th:only-of-type {\n",
              "        vertical-align: middle;\n",
              "    }\n",
              "\n",
              "    .dataframe tbody tr th {\n",
              "        vertical-align: top;\n",
              "    }\n",
              "\n",
              "    .dataframe thead th {\n",
              "        text-align: right;\n",
              "    }\n",
              "</style>\n",
              "<table border=\"1\" class=\"dataframe\">\n",
              "  <thead>\n",
              "    <tr style=\"text-align: right;\">\n",
              "      <th></th>\n",
              "      <th>feature</th>\n",
              "      <th>salary</th>\n",
              "      <th>times</th>\n",
              "    </tr>\n",
              "  </thead>\n",
              "  <tbody>\n",
              "    <tr>\n",
              "      <th>38</th>\n",
              "      <td>17.0</td>\n",
              "      <td>0.992132</td>\n",
              "      <td>395.0</td>\n",
              "    </tr>\n",
              "    <tr>\n",
              "      <th>32</th>\n",
              "      <td>18.0</td>\n",
              "      <td>0.991050</td>\n",
              "      <td>550.0</td>\n",
              "    </tr>\n",
              "    <tr>\n",
              "      <th>27</th>\n",
              "      <td>19.0</td>\n",
              "      <td>0.989888</td>\n",
              "      <td>712.0</td>\n",
              "    </tr>\n",
              "    <tr>\n",
              "      <th>22</th>\n",
              "      <td>20.0</td>\n",
              "      <td>0.988543</td>\n",
              "      <td>753.0</td>\n",
              "    </tr>\n",
              "    <tr>\n",
              "      <th>26</th>\n",
              "      <td>21.0</td>\n",
              "      <td>0.987075</td>\n",
              "      <td>720.0</td>\n",
              "    </tr>\n",
              "    <tr>\n",
              "      <th>...</th>\n",
              "      <td>...</td>\n",
              "      <td>...</td>\n",
              "      <td>...</td>\n",
              "    </tr>\n",
              "    <tr>\n",
              "      <th>35</th>\n",
              "      <td>53.0</td>\n",
              "      <td>0.903851</td>\n",
              "      <td>464.0</td>\n",
              "    </tr>\n",
              "    <tr>\n",
              "      <th>34</th>\n",
              "      <td>52.0</td>\n",
              "      <td>0.903466</td>\n",
              "      <td>478.0</td>\n",
              "    </tr>\n",
              "    <tr>\n",
              "      <th>31</th>\n",
              "      <td>49.0</td>\n",
              "      <td>0.903291</td>\n",
              "      <td>577.0</td>\n",
              "    </tr>\n",
              "    <tr>\n",
              "      <th>30</th>\n",
              "      <td>51.0</td>\n",
              "      <td>0.903195</td>\n",
              "      <td>595.0</td>\n",
              "    </tr>\n",
              "    <tr>\n",
              "      <th>29</th>\n",
              "      <td>50.0</td>\n",
              "      <td>0.903144</td>\n",
              "      <td>602.0</td>\n",
              "    </tr>\n",
              "  </tbody>\n",
              "</table>\n",
              "<p>73 rows × 3 columns</p>\n",
              "</div>"
            ],
            "text/plain": [
              "   feature    salary  times\n",
              "38    17.0  0.992132  395.0\n",
              "32    18.0  0.991050  550.0\n",
              "27    19.0  0.989888  712.0\n",
              "22    20.0  0.988543  753.0\n",
              "26    21.0  0.987075  720.0\n",
              "..     ...       ...    ...\n",
              "35    53.0  0.903851  464.0\n",
              "34    52.0  0.903466  478.0\n",
              "31    49.0  0.903291  577.0\n",
              "30    51.0  0.903195  595.0\n",
              "29    50.0  0.903144  602.0\n",
              "\n",
              "[73 rows x 3 columns]"
            ]
          },
          "metadata": {
            "tags": []
          },
          "execution_count": 46
        }
      ]
    },
    {
      "cell_type": "code",
      "metadata": {
        "id": "JHl4dhfMGEFN",
        "colab_type": "code",
        "colab": {}
      },
      "source": [
        ""
      ],
      "execution_count": null,
      "outputs": []
    }
  ]
}