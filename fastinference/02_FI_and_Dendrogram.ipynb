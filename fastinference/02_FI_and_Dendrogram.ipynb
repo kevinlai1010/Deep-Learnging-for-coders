{
  "nbformat": 4,
  "nbformat_minor": 0,
  "metadata": {
    "colab": {
      "name": "02_FI_and_Waterfall.ipynb",
      "provenance": []
    },
    "kernelspec": {
      "name": "python3",
      "display_name": "Python 3"
    },
    "accelerator": "GPU"
  },
  "cells": [
    {
      "cell_type": "markdown",
      "metadata": {
        "id": "PdMOXyYvC7xa",
        "colab_type": "text"
      },
      "source": [
        "# 02: Feature Importance and Dendrograms:\n",
        "\n",
        "> Dendrograms were originally by Pak on the forums"
      ]
    },
    {
      "cell_type": "code",
      "metadata": {
        "id": "ehedWmkzC399",
        "colab_type": "code",
        "colab": {
          "base_uri": "https://localhost:8080/",
          "height": 101
        },
        "outputId": "5f03232a-4c94-41d7-e8ee-13b593f0fe4b"
      },
      "source": [
        "!pip install fastinference --quiet"
      ],
      "execution_count": 2,
      "outputs": [
        {
          "output_type": "stream",
          "text": [
            "\u001b[K     |████████████████████████████████| 21.9MB 61.4MB/s \n",
            "\u001b[K     |████████████████████████████████| 194kB 56.8MB/s \n",
            "\u001b[K     |████████████████████████████████| 276kB 57.7MB/s \n",
            "\u001b[K     |████████████████████████████████| 7.4MB 23.8MB/s \n",
            "\u001b[?25h  Building wheel for shap (setup.py) ... \u001b[?25l\u001b[?25hdone\n"
          ],
          "name": "stdout"
        }
      ]
    },
    {
      "cell_type": "code",
      "metadata": {
        "id": "dbqysUxb4df8",
        "colab_type": "code",
        "colab": {}
      },
      "source": [
        "from fastinference.tabular import *\n",
        "from fastai2.tabular.all import *"
      ],
      "execution_count": 3,
      "outputs": []
    },
    {
      "cell_type": "markdown",
      "metadata": {
        "id": "WYP9y1xh42dt",
        "colab_type": "text"
      },
      "source": [
        "## Initial Training"
      ]
    },
    {
      "cell_type": "markdown",
      "metadata": {
        "id": "L3Bua3YE4h0X",
        "colab_type": "text"
      },
      "source": [
        "First let's start with tabular. Let's train a model real quick:"
      ]
    },
    {
      "cell_type": "code",
      "metadata": {
        "id": "UouTYGrd4hah",
        "colab_type": "code",
        "colab": {
          "base_uri": "https://localhost:8080/",
          "height": 17
        },
        "outputId": "cd13eeb9-f167-44bd-d57d-8081a1d36d6f"
      },
      "source": [
        "path = untar_data(URLs.ADULT_SAMPLE)\n",
        "df = pd.read_csv(path/'adult.csv')\n",
        "splits = RandomSplitter()(range_of(df))\n",
        "cat_names = ['workclass', 'education', 'marital-status', 'occupation', 'relationship', 'race']\n",
        "cont_names = ['age', 'fnlwgt', 'education-num']\n",
        "procs = [Categorify, FillMissing, Normalize]\n",
        "y_names = 'salary'"
      ],
      "execution_count": 4,
      "outputs": [
        {
          "output_type": "display_data",
          "data": {
            "text/html": [
              ""
            ],
            "text/plain": [
              "<IPython.core.display.HTML object>"
            ]
          },
          "metadata": {
            "tags": []
          }
        }
      ]
    },
    {
      "cell_type": "code",
      "metadata": {
        "id": "GRnKVOs14nfL",
        "colab_type": "code",
        "colab": {}
      },
      "source": [
        "to = TabularPandas(df, procs=procs, cat_names=cat_names, cont_names=cont_names,\n",
        "                   y_names=y_names, splits=splits)"
      ],
      "execution_count": 5,
      "outputs": []
    },
    {
      "cell_type": "code",
      "metadata": {
        "id": "8PI8MAMd4sHc",
        "colab_type": "code",
        "colab": {}
      },
      "source": [
        "dls = to.dataloaders()"
      ],
      "execution_count": 6,
      "outputs": []
    },
    {
      "cell_type": "code",
      "metadata": {
        "id": "BFEM86e34syS",
        "colab_type": "code",
        "colab": {}
      },
      "source": [
        "learn = tabular_learner(dls, layers=[200,100], metrics=accuracy)"
      ],
      "execution_count": 7,
      "outputs": []
    },
    {
      "cell_type": "code",
      "metadata": {
        "id": "Z1tZ0IeN4tbi",
        "colab_type": "code",
        "colab": {
          "base_uri": "https://localhost:8080/",
          "height": 77
        },
        "outputId": "9196e23e-4f2f-405c-86f5-84a19eef6c12"
      },
      "source": [
        "learn.fit(1)"
      ],
      "execution_count": 8,
      "outputs": [
        {
          "output_type": "display_data",
          "data": {
            "text/html": [
              "<table border=\"1\" class=\"dataframe\">\n",
              "  <thead>\n",
              "    <tr style=\"text-align: left;\">\n",
              "      <th>epoch</th>\n",
              "      <th>train_loss</th>\n",
              "      <th>valid_loss</th>\n",
              "      <th>accuracy</th>\n",
              "      <th>time</th>\n",
              "    </tr>\n",
              "  </thead>\n",
              "  <tbody>\n",
              "    <tr>\n",
              "      <td>0</td>\n",
              "      <td>0.364216</td>\n",
              "      <td>0.351531</td>\n",
              "      <td>0.835534</td>\n",
              "      <td>00:05</td>\n",
              "    </tr>\n",
              "  </tbody>\n",
              "</table>"
            ],
            "text/plain": [
              "<IPython.core.display.HTML object>"
            ]
          },
          "metadata": {
            "tags": []
          }
        }
      ]
    },
    {
      "cell_type": "markdown",
      "metadata": {
        "id": "FJk1KUfF4yD2",
        "colab_type": "text"
      },
      "source": [
        "Now we can get into looking at the results! \n",
        "\n",
        "So what's new?"
      ]
    },
    {
      "cell_type": "markdown",
      "metadata": {
        "id": "3hlLOa8TDIcd",
        "colab_type": "text"
      },
      "source": [
        "## Feature Importance\n",
        "\n",
        "* Permutation-based approach\n",
        "\n",
        "Take one column, shuffle it's innards, then measure the amount of change from your baseline:"
      ]
    },
    {
      "cell_type": "code",
      "metadata": {
        "id": "c3Qqu10xEBGA",
        "colab_type": "code",
        "colab": {}
      },
      "source": [
        "!pip install nbdev --quiet"
      ],
      "execution_count": null,
      "outputs": []
    },
    {
      "cell_type": "code",
      "metadata": {
        "id": "wyoAnHniD_WJ",
        "colab_type": "code",
        "colab": {
          "base_uri": "https://localhost:8080/",
          "height": 143
        },
        "outputId": "febf1120-04e9-4bdc-c549-8272a5020361"
      },
      "source": [
        "doc(learn.feature_importance)"
      ],
      "execution_count": 24,
      "outputs": [
        {
          "output_type": "display_data",
          "data": {
            "text/html": [
              "<h4 id=\"TabularLearner.feature_importance\" class=\"doc_header\"><code>TabularLearner.feature_importance</code><a href=\"https://github.com/muellerzr/fastinference/tree/master/fastinference/tabular/interpretation.py#L14\" class=\"source_link\" style=\"float:right\">[source]</a></h4><blockquote><p><code>TabularLearner.feature_importance</code>(<strong><code>x</code></strong>:<code>TabularLearner</code>, <strong><code>df</code></strong>=<em><code>None</code></em>, <strong><code>dl</code></strong>=<em><code>None</code></em>, <strong><code>perm_func</code></strong>=<em><code>'base_error'</code></em>, <strong><code>metric</code></strong>=<em><code>'accuracy'</code></em>, <strong><code>bs</code></strong>=<em><code>None</code></em>, <strong><code>reverse</code></strong>=<em><code>True</code></em>, <strong><code>plot</code></strong>=<em><code>True</code></em>)</p>\n",
              "</blockquote>\n",
              "<p>Calculate and plot the Feature Importance based on <code>df</code></p>\n",
              "<p><a href=\"https://muellerzr.github.io/fastinference/tabular.interpretation#TabularLearner.feature_importance\" target=\"_blank\" rel=\"noreferrer noopener\">Show in docs</a></p>\n"
            ],
            "text/plain": [
              "<IPython.core.display.HTML object>"
            ]
          },
          "metadata": {
            "tags": []
          }
        }
      ]
    },
    {
      "cell_type": "code",
      "metadata": {
        "id": "tIA_xKr0DIFt",
        "colab_type": "code",
        "colab": {
          "base_uri": "https://localhost:8080/",
          "height": 302
        },
        "outputId": "0cf32f25-ab33-4c4d-b93c-431f74e623ad"
      },
      "source": [
        "fi = learn.feature_importance()"
      ],
      "execution_count": 12,
      "outputs": [
        {
          "output_type": "stream",
          "text": [
            "Calculating Permutation Importance\n"
          ],
          "name": "stdout"
        },
        {
          "output_type": "display_data",
          "data": {
            "text/html": [
              "\n",
              "    <div>\n",
              "        <style>\n",
              "            /* Turns off some styling */\n",
              "            progress {\n",
              "                /* gets rid of default border in Firefox and Opera. */\n",
              "                border: none;\n",
              "                /* Needs to be in here for Safari polyfill so background images work as expected. */\n",
              "                background-size: auto;\n",
              "            }\n",
              "            .progress-bar-interrupted, .progress-bar-interrupted::-webkit-progress-bar {\n",
              "                background: #F44336;\n",
              "            }\n",
              "        </style>\n",
              "      <progress value='9' class='' max='9' style='width:300px; height:20px; vertical-align: middle;'></progress>\n",
              "      100.00% [9/9 00:05<00:00]\n",
              "    </div>\n",
              "    "
            ],
            "text/plain": [
              "<IPython.core.display.HTML object>"
            ]
          },
          "metadata": {
            "tags": []
          }
        },
        {
          "output_type": "display_data",
          "data": {
            "image/png": "[encoded data removed]",
            "text/plain": [
              "<Figure size 432x288 with 1 Axes>"
            ]
          },
          "metadata": {
            "tags": [],
            "needs_background": "light"
          }
        }
      ]
    },
    {
      "cell_type": "code",
      "metadata": {
        "id": "vtZlcjIcDiEN",
        "colab_type": "code",
        "colab": {
          "base_uri": "https://localhost:8080/",
          "height": 168
        },
        "outputId": "59cd3fbb-8df1-496a-a797-94ebc225dc91"
      },
      "source": [
        "fi"
      ],
      "execution_count": 13,
      "outputs": [
        {
          "output_type": "execute_result",
          "data": {
            "text/plain": [
              "OrderedDict([('marital-status', 1.2578713225525318),\n",
              "             ('education', 1.2194756852675324),\n",
              "             ('occupation', 1.2158327107618543),\n",
              "             ('age', 1.2140193734070588),\n",
              "             ('education-num', 1.2090604934679),\n",
              "             ('workclass', 1.2054794756774279),\n",
              "             ('fnlwgt', 1.1994842362832698),\n",
              "             ('relationship', 1.1990424935989235),\n",
              "             ('race', 1.1955204865193385)])"
            ]
          },
          "metadata": {
            "tags": []
          },
          "execution_count": 13
        }
      ]
    },
    {
      "cell_type": "markdown",
      "metadata": {
        "id": "BLQU09dqDYeK",
        "colab_type": "text"
      },
      "source": [
        "If nothing is passed in, it will only work on the validation set:"
      ]
    },
    {
      "cell_type": "code",
      "metadata": {
        "id": "pFP33O7iDX5u",
        "colab_type": "code",
        "colab": {
          "base_uri": "https://localhost:8080/",
          "height": 302
        },
        "outputId": "e8f3cf3e-97de-4f31-d6e1-60fbc8132f76"
      },
      "source": [
        "fi = learn.feature_importance(metric=CrossEntropyLossFlat())"
      ],
      "execution_count": 14,
      "outputs": [
        {
          "output_type": "stream",
          "text": [
            "Calculating Permutation Importance\n"
          ],
          "name": "stdout"
        },
        {
          "output_type": "display_data",
          "data": {
            "text/html": [
              "\n",
              "    <div>\n",
              "        <style>\n",
              "            /* Turns off some styling */\n",
              "            progress {\n",
              "                /* gets rid of default border in Firefox and Opera. */\n",
              "                border: none;\n",
              "                /* Needs to be in here for Safari polyfill so background images work as expected. */\n",
              "                background-size: auto;\n",
              "            }\n",
              "            .progress-bar-interrupted, .progress-bar-interrupted::-webkit-progress-bar {\n",
              "                background: #F44336;\n",
              "            }\n",
              "        </style>\n",
              "      <progress value='9' class='' max='9' style='width:300px; height:20px; vertical-align: middle;'></progress>\n",
              "      100.00% [9/9 00:05<00:00]\n",
              "    </div>\n",
              "    "
            ],
            "text/plain": [
              "<IPython.core.display.HTML object>"
            ]
          },
          "metadata": {
            "tags": []
          }
        },
        {
          "output_type": "display_data",
          "data": {
            "image/png": "[encoded data removed]",
            "text/plain": [
              "<Figure size 432x288 with 1 Axes>"
            ]
          },
          "metadata": {
            "tags": [],
            "needs_background": "light"
          }
        }
      ]
    },
    {
      "cell_type": "code",
      "metadata": {
        "id": "cvmhfUynDddZ",
        "colab_type": "code",
        "colab": {
          "base_uri": "https://localhost:8080/",
          "height": 168
        },
        "outputId": "37f349a9-50da-4048-fbff-091510332d9a"
      },
      "source": [
        "fi"
      ],
      "execution_count": 15,
      "outputs": [
        {
          "output_type": "execute_result",
          "data": {
            "text/plain": [
              "OrderedDict([('fnlwgt', 2.8423698591031497),\n",
              "             ('race', 2.8411482107872152),\n",
              "             ('workclass', 2.7559236935834064),\n",
              "             ('education-num', 2.697999747683906),\n",
              "             ('relationship', 2.6960493751374965),\n",
              "             ('education', 2.6759744783236816),\n",
              "             ('occupation', 2.660025329926414),\n",
              "             ('age', 2.54867899780797),\n",
              "             ('marital-status', 2.2933272240695515)])"
            ]
          },
          "metadata": {
            "tags": []
          },
          "execution_count": 15
        }
      ]
    },
    {
      "cell_type": "markdown",
      "metadata": {
        "id": "noVHMgO2DnsZ",
        "colab_type": "text"
      },
      "source": [
        "So we can see based on what we want on our *metric* to be, our attention changes"
      ]
    },
    {
      "cell_type": "code",
      "metadata": {
        "id": "pcvmgLIeDjr8",
        "colab_type": "code",
        "colab": {}
      },
      "source": [
        "test_dl = learn.dls.test_dl(df.iloc[:100])"
      ],
      "execution_count": 16,
      "outputs": []
    },
    {
      "cell_type": "code",
      "metadata": {
        "id": "OGNBtBJvDugq",
        "colab_type": "code",
        "colab": {
          "base_uri": "https://localhost:8080/",
          "height": 302
        },
        "outputId": "1dc6d167-1843-4b49-9cfc-ee8b7e34ea23"
      },
      "source": [
        "fi = learn.feature_importance(metric=RocAuc(), dl=test_dl)"
      ],
      "execution_count": 20,
      "outputs": [
        {
          "output_type": "stream",
          "text": [
            "Calculating Permutation Importance\n"
          ],
          "name": "stdout"
        },
        {
          "output_type": "display_data",
          "data": {
            "text/html": [
              "\n",
              "    <div>\n",
              "        <style>\n",
              "            /* Turns off some styling */\n",
              "            progress {\n",
              "                /* gets rid of default border in Firefox and Opera. */\n",
              "                border: none;\n",
              "                /* Needs to be in here for Safari polyfill so background images work as expected. */\n",
              "                background-size: auto;\n",
              "            }\n",
              "            .progress-bar-interrupted, .progress-bar-interrupted::-webkit-progress-bar {\n",
              "                background: #F44336;\n",
              "            }\n",
              "        </style>\n",
              "      <progress value='9' class='' max='9' style='width:300px; height:20px; vertical-align: middle;'></progress>\n",
              "      100.00% [9/9 00:04<00:00]\n",
              "    </div>\n",
              "    "
            ],
            "text/plain": [
              "<IPython.core.display.HTML object>"
            ]
          },
          "metadata": {
            "tags": []
          }
        },
        {
          "output_type": "display_data",
          "data": {
            "image/png": "[encoded data removed]",
            "text/plain": [
              "<Figure size 432x288 with 1 Axes>"
            ]
          },
          "metadata": {
            "tags": [],
            "needs_background": "light"
          }
        }
      ]
    },
    {
      "cell_type": "code",
      "metadata": {
        "id": "NA5sVBwJD9kn",
        "colab_type": "code",
        "colab": {
          "base_uri": "https://localhost:8080/",
          "height": 302
        },
        "outputId": "605c44aa-db3b-47a3-d74f-ad174415f5c9"
      },
      "source": [
        "fi = learn.feature_importance(metric=RocAuc())"
      ],
      "execution_count": 25,
      "outputs": [
        {
          "output_type": "stream",
          "text": [
            "Calculating Permutation Importance\n"
          ],
          "name": "stdout"
        },
        {
          "output_type": "display_data",
          "data": {
            "text/html": [
              "\n",
              "    <div>\n",
              "        <style>\n",
              "            /* Turns off some styling */\n",
              "            progress {\n",
              "                /* gets rid of default border in Firefox and Opera. */\n",
              "                border: none;\n",
              "                /* Needs to be in here for Safari polyfill so background images work as expected. */\n",
              "                background-size: auto;\n",
              "            }\n",
              "            .progress-bar-interrupted, .progress-bar-interrupted::-webkit-progress-bar {\n",
              "                background: #F44336;\n",
              "            }\n",
              "        </style>\n",
              "      <progress value='9' class='' max='9' style='width:300px; height:20px; vertical-align: middle;'></progress>\n",
              "      100.00% [9/9 00:05<00:00]\n",
              "    </div>\n",
              "    "
            ],
            "text/plain": [
              "<IPython.core.display.HTML object>"
            ]
          },
          "metadata": {
            "tags": []
          }
        },
        {
          "output_type": "display_data",
          "data": {
            "image/png": "[encoded data removed]",
            "text/plain": [
              "<Figure size 432x288 with 1 Axes>"
            ]
          },
          "metadata": {
            "tags": [],
            "needs_background": "light"
          }
        }
      ]
    },
    {
      "cell_type": "code",
      "metadata": {
        "id": "8CA7QsL7Dw8b",
        "colab_type": "code",
        "colab": {
          "base_uri": "https://localhost:8080/",
          "height": 168
        },
        "outputId": "c3684ba1-54b8-4e83-db08-299ec33c2eff"
      },
      "source": [
        "fi"
      ],
      "execution_count": 26,
      "outputs": [
        {
          "output_type": "execute_result",
          "data": {
            "text/plain": [
              "OrderedDict([('marital-status', 1.525008927317592),\n",
              "             ('occupation', 1.4453061514727585),\n",
              "             ('age', 1.4323259691930847),\n",
              "             ('education', 1.4260336603217458),\n",
              "             ('education-num', 1.4192831918912956),\n",
              "             ('relationship', 1.404225841763872),\n",
              "             ('workclass', 1.3962565241924108),\n",
              "             ('fnlwgt', 1.3844008788237283),\n",
              "             ('race', 1.3795449398073136)])"
            ]
          },
          "metadata": {
            "tags": []
          },
          "execution_count": 26
        }
      ]
    },
    {
      "cell_type": "markdown",
      "metadata": {
        "id": "Y2GvBAyFERTm",
        "colab_type": "text"
      },
      "source": [
        "## Dendrogram Plots and Correlation:"
      ]
    },
    {
      "cell_type": "markdown",
      "metadata": {
        "id": "vH1U_JCbEqt2",
        "colab_type": "text"
      },
      "source": [
        "We can calculate how similar two variables are to each other by calculating what is known as the \"correlation matrix\""
      ]
    },
    {
      "cell_type": "code",
      "metadata": {
        "id": "qLB-yOI3EwJ7",
        "colab_type": "code",
        "colab": {
          "base_uri": "https://localhost:8080/",
          "height": 143
        },
        "outputId": "0c9ab825-cba4-4227-f39e-7044819b6245"
      },
      "source": [
        "doc(learn.get_top_corr_dict)"
      ],
      "execution_count": 31,
      "outputs": [
        {
          "output_type": "display_data",
          "data": {
            "text/html": [
              "<h4 id=\"TabularLearner.get_top_corr_dict\" class=\"doc_header\"><code>TabularLearner.get_top_corr_dict</code><a href=\"https://github.com/muellerzr/fastinference/tree/master/fastinference/tabular/interpretation.py#L124\" class=\"source_link\" style=\"float:right\">[source]</a></h4><blockquote><p><code>TabularLearner.get_top_corr_dict</code>(<strong><code>x</code></strong>:<code>TabularLearner</code>, <strong><code>df</code></strong>:<code>DataFrame</code>, <strong><code>thresh</code></strong>:<code>float</code>=<em><code>0.8</code></em>)</p>\n",
              "</blockquote>\n",
              "<p>Grabs top pairs of correlation with a given correlation matrix on <code>df</code> filtered by <code>thresh</code></p>\n",
              "<p><a href=\"https://muellerzr.github.io/fastinference/tabular.interpretation#TabularLearner.get_top_corr_dict\" target=\"_blank\" rel=\"noreferrer noopener\">Show in docs</a></p>\n"
            ],
            "text/plain": [
              "<IPython.core.display.HTML object>"
            ]
          },
          "metadata": {
            "tags": []
          }
        }
      ]
    },
    {
      "cell_type": "code",
      "metadata": {
        "id": "ZDmPbQInEkyF",
        "colab_type": "code",
        "colab": {
          "base_uri": "https://localhost:8080/",
          "height": 154
        },
        "outputId": "3775671b-7733-4bd4-8c97-228cb35140a4"
      },
      "source": [
        "corr_dict = learn.get_top_corr_dict(df, thresh=0.3); corr_dict"
      ],
      "execution_count": 30,
      "outputs": [
        {
          "output_type": "display_data",
          "data": {
            "text/html": [
              "\n",
              "    <div>\n",
              "        <style>\n",
              "            /* Turns off some styling */\n",
              "            progress {\n",
              "                /* gets rid of default border in Firefox and Opera. */\n",
              "                border: none;\n",
              "                /* Needs to be in here for Safari polyfill so background images work as expected. */\n",
              "                background-size: auto;\n",
              "            }\n",
              "            .progress-bar-interrupted, .progress-bar-interrupted::-webkit-progress-bar {\n",
              "                background: #F44336;\n",
              "            }\n",
              "        </style>\n",
              "      <progress value='45' class='' max='45' style='width:300px; height:20px; vertical-align: middle;'></progress>\n",
              "      100.00% [45/45 00:33<00:00]\n",
              "    </div>\n",
              "    "
            ],
            "text/plain": [
              "<IPython.core.display.HTML object>"
            ]
          },
          "metadata": {
            "tags": []
          }
        },
        {
          "output_type": "execute_result",
          "data": {
            "text/plain": [
              "OrderedDict([('workclass vs sex', 0.991),\n",
              "             ('marital-status vs race', 0.506),\n",
              "             ('education vs occupation', 0.493),\n",
              "             ('fnlwgt vs education-num', 0.488),\n",
              "             ('age vs education', 0.397),\n",
              "             ('relationship vs race', 0.363),\n",
              "             ('education-num vs race', 0.305)])"
            ]
          },
          "metadata": {
            "tags": []
          },
          "execution_count": 30
        }
      ]
    },
    {
      "cell_type": "markdown",
      "metadata": {
        "id": "bqicUkT0E3gA",
        "colab_type": "text"
      },
      "source": [
        "While this gives us a window, we can also plot the entire dendrogram and see the family:"
      ]
    },
    {
      "cell_type": "code",
      "metadata": {
        "id": "EWWoTNFnFJ1U",
        "colab_type": "code",
        "colab": {
          "base_uri": "https://localhost:8080/",
          "height": 143
        },
        "outputId": "19f5304e-b3ad-4f40-f177-565d547d80a0"
      },
      "source": [
        "doc(learn.plot_dendrogram)"
      ],
      "execution_count": 33,
      "outputs": [
        {
          "output_type": "display_data",
          "data": {
            "text/html": [
              "<h4 id=\"TabularLearner.plot_dendrogram\" class=\"doc_header\"><code>TabularLearner.plot_dendrogram</code><a href=\"https://github.com/muellerzr/fastinference/tree/master/fastinference/tabular/interpretation.py#L133\" class=\"source_link\" style=\"float:right\">[source]</a></h4><blockquote><p><code>TabularLearner.plot_dendrogram</code>(<strong><code>x</code></strong>:<code>TabularLearner</code>, <strong><code>df</code></strong>:<code>DataFrame</code>, <strong><code>figsize</code></strong>=<em><code>None</code></em>, <strong><code>leaf_font_size</code></strong>=<em><code>16</code></em>)</p>\n",
              "</blockquote>\n",
              "<p>Plots dendrogram for a calculated correlation matrix</p>\n",
              "<p><a href=\"https://muellerzr.github.io/fastinference/tabular.interpretation#TabularLearner.plot_dendrogram\" target=\"_blank\" rel=\"noreferrer noopener\">Show in docs</a></p>\n"
            ],
            "text/plain": [
              "<IPython.core.display.HTML object>"
            ]
          },
          "metadata": {
            "tags": []
          }
        }
      ]
    },
    {
      "cell_type": "code",
      "metadata": {
        "id": "6csS9hzkDy3Y",
        "colab_type": "code",
        "colab": {
          "base_uri": "https://localhost:8080/",
          "height": 242
        },
        "outputId": "3de613d7-05ab-4ff2-d5c2-b1d85eb2d6eb"
      },
      "source": [
        "learn.plot_dendrogram(df)"
      ],
      "execution_count": 32,
      "outputs": [
        {
          "output_type": "display_data",
          "data": {
            "text/html": [
              "\n",
              "    <div>\n",
              "        <style>\n",
              "            /* Turns off some styling */\n",
              "            progress {\n",
              "                /* gets rid of default border in Firefox and Opera. */\n",
              "                border: none;\n",
              "                /* Needs to be in here for Safari polyfill so background images work as expected. */\n",
              "                background-size: auto;\n",
              "            }\n",
              "            .progress-bar-interrupted, .progress-bar-interrupted::-webkit-progress-bar {\n",
              "                background: #F44336;\n",
              "            }\n",
              "        </style>\n",
              "      <progress value='45' class='' max='45' style='width:300px; height:20px; vertical-align: middle;'></progress>\n",
              "      100.00% [45/45 00:33<00:00]\n",
              "    </div>\n",
              "    "
            ],
            "text/plain": [
              "<IPython.core.display.HTML object>"
            ]
          },
          "metadata": {
            "tags": []
          }
        },
        {
          "output_type": "display_data",
          "data": {
            "image/png": "[encoded data removed]",
            "text/plain": [
              "<Figure size 1080x230.4 with 1 Axes>"
            ]
          },
          "metadata": {
            "tags": [],
            "needs_background": "light"
          }
        }
      ]
    }
  ]
}